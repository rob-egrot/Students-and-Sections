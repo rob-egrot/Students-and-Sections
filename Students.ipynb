{
 "cells": [
  {
   "cell_type": "markdown",
   "id": "9ee9988e",
   "metadata": {},
   "source": [
    "# Students and Sections\n",
    "\n",
    "[1. Introduction](#introduction)\n",
    "\n",
    "[2. Preliminary data processing](#prelim)\n",
    "\n",
    "[3. Summarizing the data](#sum)\n",
    "\n",
    "[4. Standardizing the exam scores](#stand)\n",
    "\n",
    "[5. The lead of Section 1 students in years 1 - 5 (a classical analysis)](#lead)\n",
    "\n",
    "[6. A classical analysis for years 6 - 9](#6-9)\n",
    "\n",
    "[7. Head to head of section 2 against section 3, all years except year 6](#head)\n",
    "\n",
    "[8. Digression: Examining online vs onsite](#digr)\n",
    "\n",
    "[9. A Bayesian approach](#bayes)\n",
    "\n",
    "[10. Conclusions](#conc)\n"
   ]
  },
  {
   "cell_type": "markdown",
   "id": "278e6135",
   "metadata": {},
   "source": [
    "<a id='introduction'></a>\n",
    "## 1. Introduction\n",
    "We have data from exams for 9 years of 2nd year undergraduates taking a compulsory computational mathematics course. In every year except year 6, students were divided into 3 sections (formally named 1,2 and 3). In year 6 there were only 2 sections, due to an unusually small cohort. All sections were taught by the same teacher. During years 1 to 5, section 1 was academically selected using admission data (so streaming took place upon entry to the faculty, but academic performance while at the faculty did not affect it), while the other sections were randomized using the remaining students. As we will see, this policy was changed to pure randomization for all sections in year 6. \n",
    "\n",
    "The primary question we will investigate here is whether section numbering makes any noticeable difference to student performance (after accounting for academic selection of course). The motivation here is that student self-image is supposed to be associated with improved academic performance. During the period where academic selection was taking place for section 1, the policy of randomization for the other 2 sections was not well known. From personal experience, even some faculty members believed that sections 2 and 3 were also streamed (presumably in descending order). It seems likely that many students also shared this false belief. From here it seems at least plausible that section 3 students could have believed themselves to have been put in the 'bottom stream' based on ability, and that this false belief could affect their attainment in the course. \n",
    "\n",
    "Similarly, the end of the streaming policy was not well communicated (I only discovered it by seeing the change clearly manifested in this data!), so it seems likely that many students were not aware of the change. So again it seems at least plausible that section 1 students retained some residual pride in having been put in the 'top stream', and that this confidence could potentially improve their attainment. "
   ]
  },
  {
   "cell_type": "markdown",
   "id": "63c202b9",
   "metadata": {},
   "source": [
    "<a id='prelim'></a>\n",
    "## 2. Preliminary data processing\n",
    "We load the data into a dataframe. We create a new column with scores from 'Total' converted to floats. This creates some NAs due to some students leaving the course for various reasons."
   ]
  },
  {
   "cell_type": "code",
   "execution_count": 2,
   "id": "299d4891",
   "metadata": {},
   "outputs": [
    {
     "name": "stderr",
     "output_type": "stream",
     "text": [
      "Warning message in eval(expr, envir, enclos):\n",
      "\"NAs introduced by coercion\"\n"
     ]
    },
    {
     "name": "stdout",
     "output_type": "stream",
     "text": [
      "'data.frame':\t1627 obs. of  5 variables:\n",
      " $ Section: int  1 2 1 1 1 1 1 1 1 2 ...\n",
      " $ Total  : chr  \"97.78\" \"95.56\" \"95.56\" \"94.44\" ...\n",
      " $ Year   : int  1 1 1 1 1 1 1 1 1 1 ...\n",
      " $ Repeat : int  0 0 0 0 0 0 0 0 0 0 ...\n",
      " $ Score  : num  97.8 95.6 95.6 94.4 93.3 ...\n"
     ]
    }
   ],
   "source": [
    "data <- read.csv(\"students_anon.csv\", header=TRUE, stringsAsFactors=FALSE)\n",
    "\n",
    "num_years <- 9\n",
    "\n",
    "df_base <- data.frame(data)\n",
    "df_base$Score <- as.numeric(df_base$Total)\n",
    "str(df_base)"
   ]
  },
  {
   "cell_type": "markdown",
   "id": "3f41ffd6",
   "metadata": {},
   "source": [
    "For a first pass we will simply drop the NAs. This is crude, and it loses information as absent students are mostly those who have struggled with the class. Note that this is a compulsory class, so students who leave must retake it later to get their degree. This means students cannot drop it just because they would prefer to take a different subject. Fortunately, there are not many such students in the data, so dropping them altogether should be fairly safe (we will come back to this later).\n",
    "\n"
   ]
  },
  {
   "cell_type": "code",
   "execution_count": 3,
   "id": "46ce4f6a",
   "metadata": {},
   "outputs": [
    {
     "name": "stdout",
     "output_type": "stream",
     "text": [
      "'data.frame':\t1613 obs. of  5 variables:\n",
      " $ Section: int  1 2 1 1 1 1 1 1 1 2 ...\n",
      " $ Total  : chr  \"97.78\" \"95.56\" \"95.56\" \"94.44\" ...\n",
      " $ Year   : int  1 1 1 1 1 1 1 1 1 1 ...\n",
      " $ Repeat : int  0 0 0 0 0 0 0 0 0 0 ...\n",
      " $ Score  : num  97.8 95.6 95.6 94.4 93.3 ...\n"
     ]
    }
   ],
   "source": [
    "df <- df_base[ complete.cases(df_base$Score) , ]\n",
    "str(df)"
   ]
  },
  {
   "cell_type": "markdown",
   "id": "8e183c59",
   "metadata": {},
   "source": [
    "In addition, some students are taking the course for the 2nd (or 3rd) time. These students are assigned a section based only on their class schedule (as they usually also have the other courses for their current year to take). We choose to keep only the first instance of a student taking the course."
   ]
  },
  {
   "cell_type": "code",
   "execution_count": 4,
   "id": "ad7b865a",
   "metadata": {},
   "outputs": [
    {
     "name": "stdout",
     "output_type": "stream",
     "text": [
      "'data.frame':\t1571 obs. of  5 variables:\n",
      " $ Section: int  1 2 1 1 1 1 1 1 1 2 ...\n",
      " $ Total  : chr  \"97.78\" \"95.56\" \"95.56\" \"94.44\" ...\n",
      " $ Year   : int  1 1 1 1 1 1 1 1 1 1 ...\n",
      " $ Repeat : int  0 0 0 0 0 0 0 0 0 0 ...\n",
      " $ Score  : num  97.8 95.6 95.6 94.4 93.3 ...\n"
     ]
    }
   ],
   "source": [
    "df <- df[!df$Repeat == 1,]\n",
    "str(df)"
   ]
  },
  {
   "cell_type": "markdown",
   "id": "7949063c",
   "metadata": {},
   "source": [
    "<a id='sum'></a>\n",
    "## 3. Summarizing the data\n",
    "Lets take a moment to summarize the data. Here we will simply look at the total remaining students and average scores for each section and each year. This is just to get a feel for the numbers."
   ]
  },
  {
   "cell_type": "code",
   "execution_count": 5,
   "id": "5ec96407",
   "metadata": {},
   "outputs": [
    {
     "name": "stderr",
     "output_type": "stream",
     "text": [
      "\n",
      "Attaching package: 'dplyr'\n",
      "\n",
      "\n",
      "The following objects are masked from 'package:stats':\n",
      "\n",
      "    filter, lag\n",
      "\n",
      "\n",
      "The following objects are masked from 'package:base':\n",
      "\n",
      "    intersect, setdiff, setequal, union\n",
      "\n",
      "\n"
     ]
    },
    {
     "data": {
      "text/html": [
       "<table class=\"dataframe\">\n",
       "<caption>A tibble: 9 × 9</caption>\n",
       "<thead>\n",
       "\t<tr><th scope=col>Year</th><th scope=col>total_students</th><th scope=col>total_S1</th><th scope=col>total_S2</th><th scope=col>total_S3</th><th scope=col>overall_average</th><th scope=col>mean_S1</th><th scope=col>mean_S2</th><th scope=col>mean_S3</th></tr>\n",
       "\t<tr><th scope=col>&lt;int&gt;</th><th scope=col>&lt;int&gt;</th><th scope=col>&lt;int&gt;</th><th scope=col>&lt;int&gt;</th><th scope=col>&lt;int&gt;</th><th scope=col>&lt;dbl&gt;</th><th scope=col>&lt;dbl&gt;</th><th scope=col>&lt;dbl&gt;</th><th scope=col>&lt;dbl&gt;</th></tr>\n",
       "</thead>\n",
       "<tbody>\n",
       "\t<tr><td>1</td><td>199</td><td>69</td><td>63</td><td>67</td><td>54.80714</td><td>66.34406</td><td>50.88190</td><td>46.61672</td></tr>\n",
       "\t<tr><td>2</td><td>227</td><td>72</td><td>78</td><td>77</td><td>59.47577</td><td>72.43056</td><td>51.26923</td><td>55.67532</td></tr>\n",
       "\t<tr><td>3</td><td>175</td><td>62</td><td>59</td><td>54</td><td>54.64000</td><td>68.12903</td><td>48.25424</td><td>46.12963</td></tr>\n",
       "\t<tr><td>4</td><td>195</td><td>59</td><td>64</td><td>72</td><td>49.50872</td><td>57.20508</td><td>46.21094</td><td>46.13333</td></tr>\n",
       "\t<tr><td>5</td><td>148</td><td>54</td><td>45</td><td>49</td><td>54.85811</td><td>65.37037</td><td>47.53333</td><td>50.00000</td></tr>\n",
       "\t<tr><td>6</td><td>115</td><td>63</td><td>52</td><td> 0</td><td>51.66957</td><td>49.58730</td><td>54.19231</td><td>     NaN</td></tr>\n",
       "\t<tr><td>7</td><td>175</td><td>64</td><td>56</td><td>55</td><td>47.64886</td><td>47.86812</td><td>47.14232</td><td>47.90945</td></tr>\n",
       "\t<tr><td>8</td><td>162</td><td>49</td><td>52</td><td>61</td><td>49.02648</td><td>52.03265</td><td>51.21692</td><td>44.74443</td></tr>\n",
       "\t<tr><td>9</td><td>175</td><td>57</td><td>57</td><td>61</td><td>44.49371</td><td>46.98018</td><td>44.43561</td><td>42.22459</td></tr>\n",
       "</tbody>\n",
       "</table>\n"
      ],
      "text/latex": [
       "A tibble: 9 × 9\n",
       "\\begin{tabular}{lllllllll}\n",
       " Year & total\\_students & total\\_S1 & total\\_S2 & total\\_S3 & overall\\_average & mean\\_S1 & mean\\_S2 & mean\\_S3\\\\\n",
       " <int> & <int> & <int> & <int> & <int> & <dbl> & <dbl> & <dbl> & <dbl>\\\\\n",
       "\\hline\n",
       "\t 1 & 199 & 69 & 63 & 67 & 54.80714 & 66.34406 & 50.88190 & 46.61672\\\\\n",
       "\t 2 & 227 & 72 & 78 & 77 & 59.47577 & 72.43056 & 51.26923 & 55.67532\\\\\n",
       "\t 3 & 175 & 62 & 59 & 54 & 54.64000 & 68.12903 & 48.25424 & 46.12963\\\\\n",
       "\t 4 & 195 & 59 & 64 & 72 & 49.50872 & 57.20508 & 46.21094 & 46.13333\\\\\n",
       "\t 5 & 148 & 54 & 45 & 49 & 54.85811 & 65.37037 & 47.53333 & 50.00000\\\\\n",
       "\t 6 & 115 & 63 & 52 &  0 & 51.66957 & 49.58730 & 54.19231 &      NaN\\\\\n",
       "\t 7 & 175 & 64 & 56 & 55 & 47.64886 & 47.86812 & 47.14232 & 47.90945\\\\\n",
       "\t 8 & 162 & 49 & 52 & 61 & 49.02648 & 52.03265 & 51.21692 & 44.74443\\\\\n",
       "\t 9 & 175 & 57 & 57 & 61 & 44.49371 & 46.98018 & 44.43561 & 42.22459\\\\\n",
       "\\end{tabular}\n"
      ],
      "text/markdown": [
       "\n",
       "A tibble: 9 × 9\n",
       "\n",
       "| Year &lt;int&gt; | total_students &lt;int&gt; | total_S1 &lt;int&gt; | total_S2 &lt;int&gt; | total_S3 &lt;int&gt; | overall_average &lt;dbl&gt; | mean_S1 &lt;dbl&gt; | mean_S2 &lt;dbl&gt; | mean_S3 &lt;dbl&gt; |\n",
       "|---|---|---|---|---|---|---|---|---|\n",
       "| 1 | 199 | 69 | 63 | 67 | 54.80714 | 66.34406 | 50.88190 | 46.61672 |\n",
       "| 2 | 227 | 72 | 78 | 77 | 59.47577 | 72.43056 | 51.26923 | 55.67532 |\n",
       "| 3 | 175 | 62 | 59 | 54 | 54.64000 | 68.12903 | 48.25424 | 46.12963 |\n",
       "| 4 | 195 | 59 | 64 | 72 | 49.50872 | 57.20508 | 46.21094 | 46.13333 |\n",
       "| 5 | 148 | 54 | 45 | 49 | 54.85811 | 65.37037 | 47.53333 | 50.00000 |\n",
       "| 6 | 115 | 63 | 52 |  0 | 51.66957 | 49.58730 | 54.19231 |      NaN |\n",
       "| 7 | 175 | 64 | 56 | 55 | 47.64886 | 47.86812 | 47.14232 | 47.90945 |\n",
       "| 8 | 162 | 49 | 52 | 61 | 49.02648 | 52.03265 | 51.21692 | 44.74443 |\n",
       "| 9 | 175 | 57 | 57 | 61 | 44.49371 | 46.98018 | 44.43561 | 42.22459 |\n",
       "\n"
      ],
      "text/plain": [
       "  Year total_students total_S1 total_S2 total_S3 overall_average mean_S1 \n",
       "1 1    199            69       63       67       54.80714        66.34406\n",
       "2 2    227            72       78       77       59.47577        72.43056\n",
       "3 3    175            62       59       54       54.64000        68.12903\n",
       "4 4    195            59       64       72       49.50872        57.20508\n",
       "5 5    148            54       45       49       54.85811        65.37037\n",
       "6 6    115            63       52        0       51.66957        49.58730\n",
       "7 7    175            64       56       55       47.64886        47.86812\n",
       "8 8    162            49       52       61       49.02648        52.03265\n",
       "9 9    175            57       57       61       44.49371        46.98018\n",
       "  mean_S2  mean_S3 \n",
       "1 50.88190 46.61672\n",
       "2 51.26923 55.67532\n",
       "3 48.25424 46.12963\n",
       "4 46.21094 46.13333\n",
       "5 47.53333 50.00000\n",
       "6 54.19231      NaN\n",
       "7 47.14232 47.90945\n",
       "8 51.21692 44.74443\n",
       "9 44.43561 42.22459"
      ]
     },
     "metadata": {},
     "output_type": "display_data"
    }
   ],
   "source": [
    "library(dplyr)\n",
    "d = df %>% group_by(Year) %>% summarise(total_students = length(Section), \n",
    "                                            total_S1 = sum(Section == 1),\n",
    "                                            total_S2 = sum(Section == 2),\n",
    "                                            total_S3 = sum(Section == 3),\n",
    "                                            overall_average = mean(Score),\n",
    "                                            mean_S1 = mean(Score[Section == 1]),\n",
    "                                            mean_S2 = mean(Score[Section == 2]),\n",
    "                                            mean_S3 = mean(Score[Section == 3]))\n",
    "\n",
    "d"
   ]
  },
  {
   "cell_type": "markdown",
   "id": "98f70800",
   "metadata": {},
   "source": [
    "Some things leap out. First, in years 1 - 5, section 1 has a clear lead in average score, with sections 2 and 3 ambiguously trading 2nd and 3rd places. Second, in year 6 there is no section 3. In this year due to a small total number, students were assigned to section 1 or 2 randomly. Finally, when the three section system returns in year 7, section 1 has lost most if its lead in average score, though a potentially interesting small lead remains.\n",
    "\n",
    "I emailed my faculty administration about this. Apparently the current policy is that all sections are purely randomized. The person I communicated with was not sure exactly when the switch took place, but unless something weird is going on in the background to create a false impression, we can clearly see from the data that it took place in year 6.\n",
    "\n",
    "We can also plot this."
   ]
  },
  {
   "cell_type": "code",
   "execution_count": 6,
   "id": "af0edb69",
   "metadata": {},
   "outputs": [
    {
     "data": {
      "image/png": "[encoded data removed]",
      "text/plain": [
       "plot without title"
      ]
     },
     "metadata": {
      "image/png": {
       "height": 420,
       "width": 420
      }
     },
     "output_type": "display_data"
    }
   ],
   "source": [
    "sections = list(d$mean_S1, d$mean_S2, d$mean_S3)\n",
    "colours = c('black', 'red', 'blue')\n",
    "i = 1\n",
    "for (section in sections)\n",
    "{\n",
    "    plot(d$Year, section, ylim=c(40,75), ylab = \"score\", xlab = 'year', pch = 15, col = colours[i])\n",
    "    lines(d$Year, section, ylim=c(40,75), ylab = \"\", col = colours[i])\n",
    "    par(new = TRUE)\n",
    "    i = i + 1\n",
    "}\n",
    "legend(6,75,c(\"section 1\",\"section 2\", \"section 3\"), lwd=c(2,2,2), col=c(\"black\",\"red\", \"blue\"), y.intersp=1.5)"
   ]
  },
  {
   "cell_type": "markdown",
   "id": "a5306df9",
   "metadata": {},
   "source": [
    "### The top and bottom 10 students each year, by section\n",
    "It's also interesting to see how the make up of the top and bottom ten students has changed over the years"
   ]
  },
  {
   "cell_type": "code",
   "execution_count": 7,
   "id": "0556783b",
   "metadata": {},
   "outputs": [
    {
     "data": {
      "text/html": [
       "<table class=\"dataframe\">\n",
       "<caption>A data.frame: 10 × 10</caption>\n",
       "<thead>\n",
       "\t<tr><th scope=col>Rank</th><th scope=col>Year 1</th><th scope=col>Year 2</th><th scope=col>Year 3</th><th scope=col>Year 4</th><th scope=col>Year 5</th><th scope=col>Year 6</th><th scope=col>Year 7</th><th scope=col>Year 8</th><th scope=col>Year 9</th></tr>\n",
       "\t<tr><th scope=col>&lt;dbl&gt;</th><th scope=col>&lt;int&gt;</th><th scope=col>&lt;int&gt;</th><th scope=col>&lt;int&gt;</th><th scope=col>&lt;int&gt;</th><th scope=col>&lt;int&gt;</th><th scope=col>&lt;int&gt;</th><th scope=col>&lt;int&gt;</th><th scope=col>&lt;int&gt;</th><th scope=col>&lt;int&gt;</th></tr>\n",
       "</thead>\n",
       "<tbody>\n",
       "\t<tr><td> 1</td><td>1</td><td>1</td><td>1</td><td>1</td><td>1</td><td>1</td><td>3</td><td>2</td><td>1</td></tr>\n",
       "\t<tr><td> 2</td><td>2</td><td>1</td><td>1</td><td>1</td><td>1</td><td>2</td><td>3</td><td>3</td><td>2</td></tr>\n",
       "\t<tr><td> 3</td><td>1</td><td>1</td><td>1</td><td>1</td><td>1</td><td>2</td><td>1</td><td>2</td><td>3</td></tr>\n",
       "\t<tr><td> 4</td><td>1</td><td>1</td><td>1</td><td>3</td><td>1</td><td>2</td><td>3</td><td>3</td><td>1</td></tr>\n",
       "\t<tr><td> 5</td><td>1</td><td>1</td><td>1</td><td>1</td><td>3</td><td>2</td><td>1</td><td>1</td><td>1</td></tr>\n",
       "\t<tr><td> 6</td><td>1</td><td>1</td><td>1</td><td>1</td><td>1</td><td>1</td><td>3</td><td>2</td><td>2</td></tr>\n",
       "\t<tr><td> 7</td><td>1</td><td>2</td><td>1</td><td>3</td><td>3</td><td>2</td><td>2</td><td>3</td><td>1</td></tr>\n",
       "\t<tr><td> 8</td><td>1</td><td>1</td><td>1</td><td>1</td><td>1</td><td>1</td><td>2</td><td>1</td><td>1</td></tr>\n",
       "\t<tr><td> 9</td><td>1</td><td>1</td><td>1</td><td>1</td><td>1</td><td>1</td><td>1</td><td>2</td><td>1</td></tr>\n",
       "\t<tr><td>10</td><td>2</td><td>1</td><td>1</td><td>1</td><td>1</td><td>1</td><td>2</td><td>3</td><td>1</td></tr>\n",
       "</tbody>\n",
       "</table>\n"
      ],
      "text/latex": [
       "A data.frame: 10 × 10\n",
       "\\begin{tabular}{llllllllll}\n",
       " Rank & Year 1 & Year 2 & Year 3 & Year 4 & Year 5 & Year 6 & Year 7 & Year 8 & Year 9\\\\\n",
       " <dbl> & <int> & <int> & <int> & <int> & <int> & <int> & <int> & <int> & <int>\\\\\n",
       "\\hline\n",
       "\t  1 & 1 & 1 & 1 & 1 & 1 & 1 & 3 & 2 & 1\\\\\n",
       "\t  2 & 2 & 1 & 1 & 1 & 1 & 2 & 3 & 3 & 2\\\\\n",
       "\t  3 & 1 & 1 & 1 & 1 & 1 & 2 & 1 & 2 & 3\\\\\n",
       "\t  4 & 1 & 1 & 1 & 3 & 1 & 2 & 3 & 3 & 1\\\\\n",
       "\t  5 & 1 & 1 & 1 & 1 & 3 & 2 & 1 & 1 & 1\\\\\n",
       "\t  6 & 1 & 1 & 1 & 1 & 1 & 1 & 3 & 2 & 2\\\\\n",
       "\t  7 & 1 & 2 & 1 & 3 & 3 & 2 & 2 & 3 & 1\\\\\n",
       "\t  8 & 1 & 1 & 1 & 1 & 1 & 1 & 2 & 1 & 1\\\\\n",
       "\t  9 & 1 & 1 & 1 & 1 & 1 & 1 & 1 & 2 & 1\\\\\n",
       "\t 10 & 2 & 1 & 1 & 1 & 1 & 1 & 2 & 3 & 1\\\\\n",
       "\\end{tabular}\n"
      ],
      "text/markdown": [
       "\n",
       "A data.frame: 10 × 10\n",
       "\n",
       "| Rank &lt;dbl&gt; | Year 1 &lt;int&gt; | Year 2 &lt;int&gt; | Year 3 &lt;int&gt; | Year 4 &lt;int&gt; | Year 5 &lt;int&gt; | Year 6 &lt;int&gt; | Year 7 &lt;int&gt; | Year 8 &lt;int&gt; | Year 9 &lt;int&gt; |\n",
       "|---|---|---|---|---|---|---|---|---|---|\n",
       "|  1 | 1 | 1 | 1 | 1 | 1 | 1 | 3 | 2 | 1 |\n",
       "|  2 | 2 | 1 | 1 | 1 | 1 | 2 | 3 | 3 | 2 |\n",
       "|  3 | 1 | 1 | 1 | 1 | 1 | 2 | 1 | 2 | 3 |\n",
       "|  4 | 1 | 1 | 1 | 3 | 1 | 2 | 3 | 3 | 1 |\n",
       "|  5 | 1 | 1 | 1 | 1 | 3 | 2 | 1 | 1 | 1 |\n",
       "|  6 | 1 | 1 | 1 | 1 | 1 | 1 | 3 | 2 | 2 |\n",
       "|  7 | 1 | 2 | 1 | 3 | 3 | 2 | 2 | 3 | 1 |\n",
       "|  8 | 1 | 1 | 1 | 1 | 1 | 1 | 2 | 1 | 1 |\n",
       "|  9 | 1 | 1 | 1 | 1 | 1 | 1 | 1 | 2 | 1 |\n",
       "| 10 | 2 | 1 | 1 | 1 | 1 | 1 | 2 | 3 | 1 |\n",
       "\n"
      ],
      "text/plain": [
       "   Rank Year 1 Year 2 Year 3 Year 4 Year 5 Year 6 Year 7 Year 8 Year 9\n",
       "1   1   1      1      1      1      1      1      3      2      1     \n",
       "2   2   2      1      1      1      1      2      3      3      2     \n",
       "3   3   1      1      1      1      1      2      1      2      3     \n",
       "4   4   1      1      1      3      1      2      3      3      1     \n",
       "5   5   1      1      1      1      3      2      1      1      1     \n",
       "6   6   1      1      1      1      1      1      3      2      2     \n",
       "7   7   1      2      1      3      3      2      2      3      1     \n",
       "8   8   1      1      1      1      1      1      2      1      1     \n",
       "9   9   1      1      1      1      1      1      1      2      1     \n",
       "10 10   2      1      1      1      1      1      2      3      1     "
      ]
     },
     "metadata": {},
     "output_type": "display_data"
    },
    {
     "data": {
      "text/html": [
       "<table class=\"dataframe\">\n",
       "<caption>A data.frame: 10 × 10</caption>\n",
       "<thead>\n",
       "\t<tr><th scope=col>Rank</th><th scope=col>Year 1</th><th scope=col>Year 2</th><th scope=col>Year 3</th><th scope=col>Year 4</th><th scope=col>Year 5</th><th scope=col>Year 6</th><th scope=col>Year 7</th><th scope=col>Year 8</th><th scope=col>Year 9</th></tr>\n",
       "\t<tr><th scope=col>&lt;dbl&gt;</th><th scope=col>&lt;int&gt;</th><th scope=col>&lt;int&gt;</th><th scope=col>&lt;int&gt;</th><th scope=col>&lt;int&gt;</th><th scope=col>&lt;int&gt;</th><th scope=col>&lt;int&gt;</th><th scope=col>&lt;int&gt;</th><th scope=col>&lt;int&gt;</th><th scope=col>&lt;int&gt;</th></tr>\n",
       "</thead>\n",
       "<tbody>\n",
       "\t<tr><td> -1</td><td>3</td><td>2</td><td>3</td><td>2</td><td>3</td><td>1</td><td>1</td><td>2</td><td>3</td></tr>\n",
       "\t<tr><td> -2</td><td>1</td><td>2</td><td>3</td><td>3</td><td>1</td><td>2</td><td>1</td><td>3</td><td>2</td></tr>\n",
       "\t<tr><td> -3</td><td>1</td><td>3</td><td>3</td><td>2</td><td>3</td><td>2</td><td>3</td><td>3</td><td>1</td></tr>\n",
       "\t<tr><td> -4</td><td>3</td><td>2</td><td>3</td><td>1</td><td>1</td><td>1</td><td>1</td><td>2</td><td>3</td></tr>\n",
       "\t<tr><td> -5</td><td>3</td><td>2</td><td>2</td><td>3</td><td>2</td><td>2</td><td>2</td><td>1</td><td>1</td></tr>\n",
       "\t<tr><td> -6</td><td>3</td><td>3</td><td>2</td><td>2</td><td>3</td><td>2</td><td>1</td><td>2</td><td>3</td></tr>\n",
       "\t<tr><td> -7</td><td>2</td><td>2</td><td>2</td><td>3</td><td>3</td><td>1</td><td>3</td><td>3</td><td>3</td></tr>\n",
       "\t<tr><td> -8</td><td>3</td><td>3</td><td>2</td><td>3</td><td>3</td><td>1</td><td>2</td><td>3</td><td>1</td></tr>\n",
       "\t<tr><td> -9</td><td>3</td><td>2</td><td>3</td><td>1</td><td>2</td><td>1</td><td>1</td><td>2</td><td>1</td></tr>\n",
       "\t<tr><td>-10</td><td>1</td><td>3</td><td>3</td><td>3</td><td>2</td><td>1</td><td>3</td><td>3</td><td>2</td></tr>\n",
       "</tbody>\n",
       "</table>\n"
      ],
      "text/latex": [
       "A data.frame: 10 × 10\n",
       "\\begin{tabular}{llllllllll}\n",
       " Rank & Year 1 & Year 2 & Year 3 & Year 4 & Year 5 & Year 6 & Year 7 & Year 8 & Year 9\\\\\n",
       " <dbl> & <int> & <int> & <int> & <int> & <int> & <int> & <int> & <int> & <int>\\\\\n",
       "\\hline\n",
       "\t  -1 & 3 & 2 & 3 & 2 & 3 & 1 & 1 & 2 & 3\\\\\n",
       "\t  -2 & 1 & 2 & 3 & 3 & 1 & 2 & 1 & 3 & 2\\\\\n",
       "\t  -3 & 1 & 3 & 3 & 2 & 3 & 2 & 3 & 3 & 1\\\\\n",
       "\t  -4 & 3 & 2 & 3 & 1 & 1 & 1 & 1 & 2 & 3\\\\\n",
       "\t  -5 & 3 & 2 & 2 & 3 & 2 & 2 & 2 & 1 & 1\\\\\n",
       "\t  -6 & 3 & 3 & 2 & 2 & 3 & 2 & 1 & 2 & 3\\\\\n",
       "\t  -7 & 2 & 2 & 2 & 3 & 3 & 1 & 3 & 3 & 3\\\\\n",
       "\t  -8 & 3 & 3 & 2 & 3 & 3 & 1 & 2 & 3 & 1\\\\\n",
       "\t  -9 & 3 & 2 & 3 & 1 & 2 & 1 & 1 & 2 & 1\\\\\n",
       "\t -10 & 1 & 3 & 3 & 3 & 2 & 1 & 3 & 3 & 2\\\\\n",
       "\\end{tabular}\n"
      ],
      "text/markdown": [
       "\n",
       "A data.frame: 10 × 10\n",
       "\n",
       "| Rank &lt;dbl&gt; | Year 1 &lt;int&gt; | Year 2 &lt;int&gt; | Year 3 &lt;int&gt; | Year 4 &lt;int&gt; | Year 5 &lt;int&gt; | Year 6 &lt;int&gt; | Year 7 &lt;int&gt; | Year 8 &lt;int&gt; | Year 9 &lt;int&gt; |\n",
       "|---|---|---|---|---|---|---|---|---|---|\n",
       "|  -1 | 3 | 2 | 3 | 2 | 3 | 1 | 1 | 2 | 3 |\n",
       "|  -2 | 1 | 2 | 3 | 3 | 1 | 2 | 1 | 3 | 2 |\n",
       "|  -3 | 1 | 3 | 3 | 2 | 3 | 2 | 3 | 3 | 1 |\n",
       "|  -4 | 3 | 2 | 3 | 1 | 1 | 1 | 1 | 2 | 3 |\n",
       "|  -5 | 3 | 2 | 2 | 3 | 2 | 2 | 2 | 1 | 1 |\n",
       "|  -6 | 3 | 3 | 2 | 2 | 3 | 2 | 1 | 2 | 3 |\n",
       "|  -7 | 2 | 2 | 2 | 3 | 3 | 1 | 3 | 3 | 3 |\n",
       "|  -8 | 3 | 3 | 2 | 3 | 3 | 1 | 2 | 3 | 1 |\n",
       "|  -9 | 3 | 2 | 3 | 1 | 2 | 1 | 1 | 2 | 1 |\n",
       "| -10 | 1 | 3 | 3 | 3 | 2 | 1 | 3 | 3 | 2 |\n",
       "\n"
      ],
      "text/plain": [
       "   Rank Year 1 Year 2 Year 3 Year 4 Year 5 Year 6 Year 7 Year 8 Year 9\n",
       "1   -1  3      2      3      2      3      1      1      2      3     \n",
       "2   -2  1      2      3      3      1      2      1      3      2     \n",
       "3   -3  1      3      3      2      3      2      3      3      1     \n",
       "4   -4  3      2      3      1      1      1      1      2      3     \n",
       "5   -5  3      2      2      3      2      2      2      1      1     \n",
       "6   -6  3      3      2      2      3      2      1      2      3     \n",
       "7   -7  2      2      2      3      3      1      3      3      3     \n",
       "8   -8  3      3      2      3      3      1      2      3      1     \n",
       "9   -9  3      2      3      1      2      1      1      2      1     \n",
       "10 -10  1      3      3      3      2      1      3      3      2     "
      ]
     },
     "metadata": {},
     "output_type": "display_data"
    }
   ],
   "source": [
    "rank <- seq (1,10,1)\n",
    "top_students <- data.frame(Rank = rank)\n",
    "\n",
    "bot_rank <- seq(-1,-10,-1)\n",
    "bot_students <- data.frame(Rank = bot_rank)\n",
    "\n",
    "for (i in 1:num_years){\n",
    "    index <- df$Year == i\n",
    "    \n",
    "    d_t <- df[index,]\n",
    "    sorted <- d_t[order(d_t$Score, decreasing = TRUE), ]\n",
    "    top_ten <- c(sorted$Section[1:10])\n",
    "    top_students <- cbind(top_students, top_ten)\n",
    "    \n",
    "    d_b <- df[index,]\n",
    "    sorted_bot <- d_b[order(d_b$Score, decreasing = FALSE), ]\n",
    "    bot_ten <- c(sorted_bot$Section[1:10])\n",
    "    bot_students <- cbind(bot_students, bot_ten)\n",
    "}\n",
    "\n",
    "col_names = c('Rank','Year 1', 'Year 2','Year 3', 'Year 4', 'Year 5', 'Year 6', 'Year 7', 'Year 8', 'Year 9')\n",
    "colnames(top_students) <- col_names\n",
    "colnames(bot_students) <- col_names\n",
    "top_students\n",
    "bot_students"
   ]
  },
  {
   "cell_type": "markdown",
   "id": "479f1aea",
   "metadata": {},
   "source": [
    "Just by eye we see the proportion of section 1 students in the top 10 dropping, and similarly increasing for the bottom 10. "
   ]
  },
  {
   "cell_type": "markdown",
   "id": "a9976c2e",
   "metadata": {},
   "source": [
    "<a id='stand'></a>\n",
    "\n",
    "## 4. Standardizing the exam scores\n",
    "We will first drop some now redundant columns from the table to reduce clutter."
   ]
  },
  {
   "cell_type": "code",
   "execution_count": 8,
   "id": "98449aaf",
   "metadata": {},
   "outputs": [
    {
     "name": "stdout",
     "output_type": "stream",
     "text": [
      "'data.frame':\t1571 obs. of  3 variables:\n",
      " $ Section: int  1 2 1 1 1 1 1 1 1 2 ...\n",
      " $ Year   : int  1 1 1 1 1 1 1 1 1 1 ...\n",
      " $ Score  : num  97.8 95.6 95.6 94.4 93.3 ...\n"
     ]
    }
   ],
   "source": [
    "drops <- c(\"Total\",\"Repeat\")\n",
    "df <- df[ , !(names(df) %in% drops)]\n",
    "str(df)"
   ]
  },
  {
   "cell_type": "markdown",
   "id": "3bd71d06",
   "metadata": {},
   "source": [
    "We calculate standardized scores based on year (to account for variations in the difficulty of the exams and so on)."
   ]
  },
  {
   "cell_type": "code",
   "execution_count": 9,
   "id": "464e9560",
   "metadata": {},
   "outputs": [
    {
     "name": "stdout",
     "output_type": "stream",
     "text": [
      "'data.frame':\t1571 obs. of  4 variables:\n",
      " $ Section  : int  1 2 1 1 1 1 1 1 1 2 ...\n",
      " $ Year     : int  1 1 1 1 1 1 1 1 1 1 ...\n",
      " $ Score    : num  97.8 95.6 95.6 94.4 93.3 ...\n",
      " $ Score_std: num  2.07 1.96 1.96 1.91 1.86 ...\n"
     ]
    }
   ],
   "source": [
    "for (y in 1 : num_years){\n",
    "  index <- df$Year == y\n",
    "  m <- mean(df$Score[index])\n",
    "  s <- sd(df$Score[index])\n",
    "  df$Score_std[index] <- ( df$Score[index] - m )/s\n",
    "    }\n",
    "\n",
    "str(df)"
   ]
  },
  {
   "cell_type": "markdown",
   "id": "3f2c1fd4",
   "metadata": {},
   "source": [
    "<a id='lead'></a>\n",
    "\n",
    "## 5. The lead of Section 1 students in years 1 - 5 (a classical analysis).\n",
    "\n",
    "Here we will examine the lead of section 1 students during the years where they are academically selected. This is significant enough to be obvious without any statistical tests, but we will perform a t-test and run ANOVA, partly as a kind of sanity check, and also to to help calibrate our expectations for plausible effect sizes. "
   ]
  },
  {
   "cell_type": "code",
   "execution_count": 10,
   "id": "4fe690aa",
   "metadata": {},
   "outputs": [
    {
     "name": "stdout",
     "output_type": "stream",
     "text": [
      "'data.frame':\t944 obs. of  4 variables:\n",
      " $ Section  : int  1 2 1 1 1 1 1 1 1 2 ...\n",
      " $ Year     : int  1 1 1 1 1 1 1 1 1 1 ...\n",
      " $ Score    : num  97.8 95.6 95.6 94.4 93.3 ...\n",
      " $ Score_std: num  2.07 1.96 1.96 1.91 1.86 ...\n"
     ]
    }
   ],
   "source": [
    "index <- df$Year == 6 | df$Year == 7 | df$Year == 8 | df$Year == 9\n",
    "\n",
    "df_trimmed <- df[!index,]\n",
    "\n",
    "str(df_trimmed)"
   ]
  },
  {
   "cell_type": "markdown",
   "id": "d075970d",
   "metadata": {},
   "source": [
    "First some simple box plots."
   ]
  },
  {
   "cell_type": "code",
   "execution_count": 11,
   "id": "6f1e36fe",
   "metadata": {},
   "outputs": [
    {
     "data": {
      "image/png": "[encoded data removed]",
      "text/plain": [
       "plot without title"
      ]
     },
     "metadata": {
      "image/png": {
       "height": 420,
       "width": 420
      }
     },
     "output_type": "display_data"
    }
   ],
   "source": [
    "boxplot(Score_std ~ Section,\n",
    "  data = df_trimmed\n",
    ")"
   ]
  },
  {
   "cell_type": "markdown",
   "id": "420b0928",
   "metadata": {},
   "source": [
    "Now some histograms."
   ]
  },
  {
   "cell_type": "code",
   "execution_count": 12,
   "id": "8014c291",
   "metadata": {},
   "outputs": [
    {
     "data": {
      "image/png": "[encoded data removed]",
      "text/plain": [
       "Plot with title \"Histogram of scores for Section 1\""
      ]
     },
     "metadata": {
      "image/png": {
       "height": 420,
       "width": 420
      }
     },
     "output_type": "display_data"
    },
    {
     "data": {
      "image/png": "[encoded data removed]",
      "text/plain": [
       "Plot with title \"Histogram of scores for Section 2\""
      ]
     },
     "metadata": {
      "image/png": {
       "height": 420,
       "width": 420
      }
     },
     "output_type": "display_data"
    },
    {
     "data": {
      "image/png": "[encoded data removed]",
      "text/plain": [
       "Plot with title \"Histogram of scores for Section 3\""
      ]
     },
     "metadata": {
      "image/png": {
       "height": 420,
       "width": 420
      }
     },
     "output_type": "display_data"
    }
   ],
   "source": [
    "for (i in 1:3){ \n",
    "    index = df_trimmed$Section == i\n",
    "    scores = df_trimmed$Score_std[index]\n",
    "    hist(scores, main = paste(\"Histogram of scores for Section\", i))\n",
    "    }"
   ]
  },
  {
   "cell_type": "markdown",
   "id": "c7e2d195",
   "metadata": {},
   "source": [
    "### Examining the normality assumptions\n",
    "The histogram for section 1 looks quite skewed. We will analyze our data with a t-test and then ANOVA. Both these tests assume the underlying populations are normal, but fortunately are generally considered to be quite robust against violation of this assumption.\n",
    "\n",
    "We can perform Shapiro-Wilk test to test the compatibility of our data with the normality assumption. However, this test is known to be extremely sensitive with reasonably large sample sizes like ours, so the fact that we can see a clear departure from normality for section 1 just by looking at it means our test is certain to come back positive in this case."
   ]
  },
  {
   "cell_type": "code",
   "execution_count": 13,
   "id": "ef7c5c3f",
   "metadata": {},
   "outputs": [
    {
     "name": "stdout",
     "output_type": "stream",
     "text": [
      "[1] \"Section 1   p = 5.69000381322183e-09\"\n",
      "[1] \"Section 2   p = 0.597456875996041\"\n",
      "[1] \"Section 3   p = 0.0124653951434874\"\n"
     ]
    }
   ],
   "source": [
    "for (i in 1:3){ \n",
    "    index <- df_trimmed$Section == i\n",
    "    scores <- df_trimmed$Score_std[index]\n",
    "    print(paste(\"Section\", i, \"  p =\", shapiro.test(scores))[2])\n",
    "    }\n"
   ]
  },
  {
   "cell_type": "markdown",
   "id": "fedbe4b9",
   "metadata": {},
   "source": [
    "Sure enough, our test indicates departure from normality for section 1 with extremely high confidence. It is also quite confident that the data for section 3 is incompatibility with a normality assumption. \n",
    "\n",
    "More useful information can be gained from the corresponding Q-Q plots. Again we see the strong left skew for section 1."
   ]
  },
  {
   "cell_type": "code",
   "execution_count": 15,
   "id": "8b0b1958",
   "metadata": {},
   "outputs": [
    {
     "data": {
      "image/png": "[encoded data removed]",
      "text/plain": [
       "Plot with title \"Section 1 Normal Q-Q plot\""
      ]
     },
     "metadata": {
      "image/png": {
       "height": 420,
       "width": 420
      }
     },
     "output_type": "display_data"
    },
    {
     "data": {
      "image/png": "[encoded data removed]",
      "text/plain": [
       "Plot with title \"Section 2 Normal Q-Q plot\""
      ]
     },
     "metadata": {
      "image/png": {
       "height": 420,
       "width": 420
      }
     },
     "output_type": "display_data"
    },
    {
     "data": {
      "image/png": "[encoded data removed]",
      "text/plain": [
       "Plot with title \"Section 3 Normal Q-Q plot\""
      ]
     },
     "metadata": {
      "image/png": {
       "height": 420,
       "width": 420
      }
     },
     "output_type": "display_data"
    }
   ],
   "source": [
    "for (i in 1:3){ \n",
    "    index <- df_trimmed$Section == i\n",
    "    scores <- df_trimmed$Score_std[index]\n",
    "    text <- paste(\"Section\", i, \"Normal Q-Q plot\")\n",
    "    qqnorm(scores, main = text, pch = 1, frame = FALSE)\n",
    "    qqline(scores, col = \"steelblue\", lwd = 2)\n",
    "    }\n",
    "\n"
   ]
  },
  {
   "cell_type": "markdown",
   "id": "002608d1",
   "metadata": {},
   "source": [
    "Having established that our data for section 1 almost certainly does not follow a normal distribution, and that the section 3 data has a statistically significant deviation from normality too (according to the sensitive Shapiro-Wilk test), the question is how to proceed. \n",
    "\n",
    "As mentioned above, we intend to perform a t-test and also run ANOVA. Both these tests make theoretical normality assumptions. There is some debate about how sensitive these tests are to violation of the normality assumption (see e.g. the discussion [here](https://stats.stackexchange.com/questions/38967/how-robust-is-the-independent-samples-t-test-when-the-distributions-of-the-sampl)). However, I think the main problem for us would be reduced power, but, as we will see shortly, the distinction between section 1 and the others is easily picked up anyway.\n",
    "\n",
    "Note that there are non-parametric tests we could theoretically use here too. For example, the Kruskal-Wallis test is an analog of ANOVA that can be used when the underlying distributions are not normal. Unfortunately, this test makes the assumption that the different groups have the same (not necessarily normal) distribution, and our analysis above reveals the distribution of section 1 scores is most likely different from that of the others.\n",
    "\n"
   ]
  },
  {
   "cell_type": "markdown",
   "id": "eecc0062",
   "metadata": {},
   "source": [
    "### The t-test for years 1 - 5\n",
    "For our t-test we will test the hypothesis that the standardized scores of section 1 students are on average higher than those of students from the other sections (which we will pool together). So $H_A$ is that $\\mu_1 - \\mu_{23} >0$, and $H_0$ is that $\\mu_1 = \\mu_{23}$.  \n",
    "\n",
    "We will use a standard t-test, assuming equal population variances (we will examine this assumption later, though it does not make a difference to the conclusion in this case, as can be seen by setting var.equal to FALSE)."
   ]
  },
  {
   "cell_type": "code",
   "execution_count": 14,
   "id": "650ab1ec",
   "metadata": {},
   "outputs": [
    {
     "name": "stdout",
     "output_type": "stream",
     "text": [
      " num [1:316] 2.07 1.96 1.91 1.86 1.86 ...\n",
      " num [1:628] 1.96 1.75 1.54 1.48 1.32 ...\n"
     ]
    }
   ],
   "source": [
    "index <- df_trimmed$Section == 1\n",
    "scores_1 <- df_trimmed$Score_std[index] \n",
    "\n",
    "index <- df_trimmed$Section == 2 | df_trimmed$Section == 3\n",
    "scores_23 <- df_trimmed$Score_std[index]\n",
    "\n",
    "str(scores_1)\n",
    "str(scores_23)"
   ]
  },
  {
   "cell_type": "markdown",
   "id": "cdafc5a4",
   "metadata": {},
   "source": [
    "Now for the actual test. We see high confidence that the null hypothesis is false, which is what we would expect given that we know that academic selection took place."
   ]
  },
  {
   "cell_type": "code",
   "execution_count": 15,
   "id": "129df99a",
   "metadata": {},
   "outputs": [
    {
     "data": {
      "text/plain": [
       "\n",
       "\tTwo Sample t-test\n",
       "\n",
       "data:  scores_1 and scores_23\n",
       "t = 13.702, df = 942, p-value < 2.2e-16\n",
       "alternative hypothesis: true difference in means is greater than 0\n",
       "95 percent confidence interval:\n",
       " 0.7580229       Inf\n",
       "sample estimates:\n",
       " mean of x  mean of y \n",
       " 0.5731509 -0.2884008 \n"
      ]
     },
     "metadata": {},
     "output_type": "display_data"
    }
   ],
   "source": [
    "t.test(x = scores_1, y = scores_23,\n",
    "       alternative = \"greater\", paired = FALSE, var.equal = TRUE,\n",
    "       conf.level = 0.95)"
   ]
  },
  {
   "cell_type": "markdown",
   "id": "8065d91b",
   "metadata": {},
   "source": [
    "The test above provides extremely strong evidence of a difference (on average) between section 1 students and students from other sections. Note that this difference does not necessarily hold for individual students. Every year there are students from sections 2 and 3 placing close to the top of the exam scores, and also students from section 1 placing close to the bottom.\n",
    "\n",
    "We will now calculate the effect size using Cohen's d. To avoid installing extra packages we will work through the simple calculation ourselves."
   ]
  },
  {
   "cell_type": "code",
   "execution_count": 16,
   "id": "b135123b",
   "metadata": {},
   "outputs": [
    {
     "data": {
      "text/html": [
       "'n_1: 316'"
      ],
      "text/latex": [
       "'n\\_1: 316'"
      ],
      "text/markdown": [
       "'n_1: 316'"
      ],
      "text/plain": [
       "[1] \"n_1: 316\""
      ]
     },
     "metadata": {},
     "output_type": "display_data"
    },
    {
     "data": {
      "text/html": [
       "'n_23: 628'"
      ],
      "text/latex": [
       "'n\\_23: 628'"
      ],
      "text/markdown": [
       "'n_23: 628'"
      ],
      "text/plain": [
       "[1] \"n_23: 628\""
      ]
     },
     "metadata": {},
     "output_type": "display_data"
    },
    {
     "data": {
      "text/html": [
       "'var_1: 0.931072307015554'"
      ],
      "text/latex": [
       "'var\\_1: 0.931072307015554'"
      ],
      "text/markdown": [
       "'var_1: 0.931072307015554'"
      ],
      "text/plain": [
       "[1] \"var_1: 0.931072307015554\""
      ]
     },
     "metadata": {},
     "output_type": "display_data"
    },
    {
     "data": {
      "text/html": [
       "'var_23: 0.780975578517804'"
      ],
      "text/latex": [
       "'var\\_23: 0.780975578517804'"
      ],
      "text/markdown": [
       "'var_23: 0.780975578517804'"
      ],
      "text/plain": [
       "[1] \"var_23: 0.780975578517804\""
      ]
     },
     "metadata": {},
     "output_type": "display_data"
    },
    {
     "data": {
      "text/html": [
       "'pooled_var: 0.831167159703357'"
      ],
      "text/latex": [
       "'pooled\\_var: 0.831167159703357'"
      ],
      "text/markdown": [
       "'pooled_var: 0.831167159703357'"
      ],
      "text/plain": [
       "[1] \"pooled_var: 0.831167159703357\""
      ]
     },
     "metadata": {},
     "output_type": "display_data"
    },
    {
     "data": {
      "text/html": [
       "'Effect size: 0.945011649734578'"
      ],
      "text/latex": [
       "'Effect size: 0.945011649734578'"
      ],
      "text/markdown": [
       "'Effect size: 0.945011649734578'"
      ],
      "text/plain": [
       "[1] \"Effect size: 0.945011649734578\""
      ]
     },
     "metadata": {},
     "output_type": "display_data"
    }
   ],
   "source": [
    "n_1 = length(scores_1) \n",
    "n_23 = length(scores_23)\n",
    "\n",
    "paste(\"n_1:\", n_1, sep = \" \")\n",
    "paste(\"n_23:\", n_23, sep = \" \")\n",
    "\n",
    "m_1 = mean(scores_1)\n",
    "m_23 = mean(scores_23)\n",
    "\n",
    "var_1 = var(scores_1)\n",
    "var_23 = var(scores_23)\n",
    "\n",
    "paste(\"var_1:\", var_1, sep = \" \")\n",
    "paste(\"var_23:\", var_23, sep = \" \")\n",
    "\n",
    "pooled_var = ((n_1 - 1)*var_1 + (n_23 - 1)*var_23 )/(n_1 + n_23 -2)\n",
    "paste(\"pooled_var:\", pooled_var, sep = \" \")\n",
    "\n",
    "effect_size = ( m_1 - m_23 )/( sqrt(pooled_var))\n",
    "paste(\"Effect size:\", effect_size, sep=\" \")"
   ]
  },
  {
   "cell_type": "markdown",
   "id": "cd5daf5f",
   "metadata": {},
   "source": [
    "This effect size is quite large, so selection procedures seem to be reasonably effective at identifying the most academically able students (on average - again, while the effect is clear in the aggregate data, as we have seen, there are many individual exceptions to the rule).\n",
    "\n",
    "To better understand the significance of the calculated effect size, we will translate its value back into exam scores."
   ]
  },
  {
   "cell_type": "code",
   "execution_count": 17,
   "id": "d4e8aceb",
   "metadata": {},
   "outputs": [
    {
     "data": {
      "text/html": [
       "'Length of one SD: 20.1540722057538'"
      ],
      "text/latex": [
       "'Length of one SD: 20.1540722057538'"
      ],
      "text/markdown": [
       "'Length of one SD: 20.1540722057538'"
      ],
      "text/plain": [
       "[1] \"Length of one SD: 20.1540722057538\""
      ]
     },
     "metadata": {},
     "output_type": "display_data"
    },
    {
     "data": {
      "text/html": [
       "'Effect size on outcome scale: 19.0458330240292'"
      ],
      "text/latex": [
       "'Effect size on outcome scale: 19.0458330240292'"
      ],
      "text/markdown": [
       "'Effect size on outcome scale: 19.0458330240292'"
      ],
      "text/plain": [
       "[1] \"Effect size on outcome scale: 19.0458330240292\""
      ]
     },
     "metadata": {},
     "output_type": "display_data"
    }
   ],
   "source": [
    "s = sd(df_trimmed$Score)\n",
    "paste(\"Length of one SD:\", s, sep = \" \")\n",
    "paste(\"Effect size on outcome scale:\", s * effect_size, sep = \" \")"
   ]
  },
  {
   "cell_type": "markdown",
   "id": "6d5966cf",
   "metadata": {},
   "source": [
    "So, students from section 1 score (roughly) on average 19 points higher in their exam. This is significant, representing more than a whole letter grade.\n",
    "\n",
    "To close out this initial analysis we will test the assumption of equal variances. From above we see that $s_1$ is a little higher than $s_{23}$. Since $s_1$ and $s_{23}$ follow $\\chi^2$ distributions with 315 and 627 degrees of freedom respectively, the ratio $\\frac{s_1}{s_{23}}$ follows an $F$ distribution with $(315, 627)$ d.o.f.\n",
    "\n",
    "$H_A$ here is that $\\sigma_1\\neq\\sigma_{23}$ too. From the output of the cell below we see the associated $p$-value is 0.068. This would not usually be considered enough to reject the null hypothesis of equal variances, though of course the classical 0.05 cutoff for significance is quite arbitrary. Note also that we have not done a power analysis of this test, so it is not clear to what extent this constitutes evidence *for* the null hypothesis. "
   ]
  },
  {
   "cell_type": "code",
   "execution_count": 18,
   "id": "8904e8bb",
   "metadata": {},
   "outputs": [
    {
     "data": {
      "text/plain": [
       "\n",
       "\tF test to compare two variances\n",
       "\n",
       "data:  scores_1 and scores_23\n",
       "F = 1.1922, num df = 315, denom df = 627, p-value = 0.06781\n",
       "alternative hypothesis: true ratio of variances is not equal to 1\n",
       "95 percent confidence interval:\n",
       " 0.9872515 1.4485785\n",
       "sample estimates:\n",
       "ratio of variances \n",
       "          1.192191 \n"
      ]
     },
     "metadata": {},
     "output_type": "display_data"
    }
   ],
   "source": [
    "var.test(scores_1, scores_23, alternative = 'two.sided')"
   ]
  },
  {
   "cell_type": "markdown",
   "id": "c62dbb56",
   "metadata": {},
   "source": [
    "### ANOVA for years 1 - 5\n",
    "\n",
    "We can also compare all sections simultaneously with ANOVA using section as a factor with 3 levels."
   ]
  },
  {
   "cell_type": "code",
   "execution_count": 19,
   "id": "4d066b6d",
   "metadata": {},
   "outputs": [
    {
     "data": {
      "text/plain": [
       "                 Df Sum Sq Mean Sq F value Pr(>F)    \n",
       "factor(Section)   2  156.1   78.04    93.8 <2e-16 ***\n",
       "Residuals       941  782.9    0.83                   \n",
       "---\n",
       "Signif. codes:  0 '***' 0.001 '**' 0.01 '*' 0.05 '.' 0.1 ' ' 1"
      ]
     },
     "metadata": {},
     "output_type": "display_data"
    }
   ],
   "source": [
    "aov_results <- aov(Score_std ~ factor(Section), # need 'factor' here to tell aov that Section is categorical\n",
    "  data = df_trimmed\n",
    ")\n",
    "\n",
    "summary(aov_results)"
   ]
  },
  {
   "cell_type": "markdown",
   "id": "7e565c43",
   "metadata": {},
   "source": [
    "This test confirms what we already knew: that at least one of the population means is different from the others. We know this is section 1, but we can also get this result using a post hoc Tukey test. Note that for the classical Tukey test the sample sizes should be equal, though in the case of unequal sample sizes the reported p-values are apparently higher than they should be (so rejection of $H_0$ using them is conservative, i.e. we would have also rejected had we accounted for unequal sample sizes). I have read that R's TukeyHSD function uses the Tukey-Kramer method that corrects for this anyway, but I have not verified this. "
   ]
  },
  {
   "cell_type": "code",
   "execution_count": 20,
   "id": "00e98c88",
   "metadata": {},
   "outputs": [
    {
     "data": {
      "text/plain": [
       "  Tukey multiple comparisons of means\n",
       "    95% family-wise confidence level\n",
       "\n",
       "Fit: aov(formula = Score_std ~ factor(Section), data = df_trimmed)\n",
       "\n",
       "$`factor(Section)`\n",
       "           diff        lwr        upr     p adj\n",
       "2-1 -0.86926394 -1.0405702 -0.6979577 0.0000000\n",
       "3-1 -0.85408125 -1.0240245 -0.6841380 0.0000000\n",
       "3-2  0.01518268 -0.1557248  0.1860902 0.9763124\n"
      ]
     },
     "metadata": {},
     "output_type": "display_data"
    },
    {
     "data": {
      "image/png": "[encoded data removed]",
      "text/plain": [
       "Plot with title \"95% family-wise confidence level\n",
       "\""
      ]
     },
     "metadata": {
      "image/png": {
       "height": 420,
       "width": 420
      }
     },
     "output_type": "display_data"
    }
   ],
   "source": [
    "TukeyHSD(aov_results, conf.level=.95)\n",
    "\n",
    "plot(TukeyHSD(aov_results, conf.level=.95), las = 1)"
   ]
  },
  {
   "cell_type": "markdown",
   "id": "cc70bfb0",
   "metadata": {},
   "source": [
    "<a id='6-9'></a>\n",
    "\n",
    "## 6. A classical analysis for years 6 - 9\n",
    "Here we will perform a similar classical analysis of the years 6 to 9, where all sections were randomized."
   ]
  },
  {
   "cell_type": "code",
   "execution_count": 21,
   "id": "718eda88",
   "metadata": {},
   "outputs": [
    {
     "name": "stdout",
     "output_type": "stream",
     "text": [
      "'data.frame':\t627 obs. of  4 variables:\n",
      " $ Section  : int  1 2 2 2 2 1 2 1 1 1 ...\n",
      " $ Year     : int  6 6 6 6 6 6 6 6 6 6 ...\n",
      " $ Score    : num  96 93 92 92 91 90 90 89 88 87 ...\n",
      " $ Score_std: num  1.77 1.65 1.61 1.61 1.57 ...\n"
     ]
    }
   ],
   "source": [
    "index <- df$Year == 6 | df$Year == 7 | df$Year == 8 | df$Year == 9\n",
    "\n",
    "df_trimmed2 <- df[index,]\n",
    "\n",
    "str(df_trimmed2)"
   ]
  },
  {
   "cell_type": "code",
   "execution_count": 22,
   "id": "6eb7ed93",
   "metadata": {},
   "outputs": [
    {
     "data": {
      "image/png": "[encoded data removed]",
      "text/plain": [
       "plot without title"
      ]
     },
     "metadata": {
      "image/png": {
       "height": 420,
       "width": 420
      }
     },
     "output_type": "display_data"
    }
   ],
   "source": [
    "boxplot(Score_std ~ Section,\n",
    "  data = df_trimmed2\n",
    ")"
   ]
  },
  {
   "cell_type": "markdown",
   "id": "b80042a0",
   "metadata": {},
   "source": [
    "In this case, running Shapiro-Wilk and looking at the Q-Q plots reveals no significant departure from normality."
   ]
  },
  {
   "cell_type": "code",
   "execution_count": 23,
   "id": "45227abf",
   "metadata": {},
   "outputs": [
    {
     "name": "stdout",
     "output_type": "stream",
     "text": [
      "[1] \"Section 1   p = 0.737781068412014\"\n",
      "[1] \"Section 2   p = 0.493404026759293\"\n",
      "[1] \"Section 3   p = 0.216299962216237\"\n"
     ]
    },
    {
     "data": {
      "image/png": "[encoded data removed]",
      "text/plain": [
       "Plot with title \"Section 1 Normal Q-Q plot\""
      ]
     },
     "metadata": {
      "image/png": {
       "height": 420,
       "width": 420
      }
     },
     "output_type": "display_data"
    },
    {
     "data": {
      "image/png": "[encoded data removed]",
      "text/plain": [
       "Plot with title \"Section 2 Normal Q-Q plot\""
      ]
     },
     "metadata": {
      "image/png": {
       "height": 420,
       "width": 420
      }
     },
     "output_type": "display_data"
    },
    {
     "data": {
      "image/png": "[encoded data removed]",
      "text/plain": [
       "Plot with title \"Section 3 Normal Q-Q plot\""
      ]
     },
     "metadata": {
      "image/png": {
       "height": 420,
       "width": 420
      }
     },
     "output_type": "display_data"
    }
   ],
   "source": [
    "for (i in 1:3){ \n",
    "    index = df_trimmed2$Section == i\n",
    "    scores = df_trimmed2$Score_std[index]\n",
    "    print(paste(\"Section\", i, \"  p =\", shapiro.test(scores))[2])\n",
    "    }\n",
    "\n",
    "for (i in 1:3){ \n",
    "    index = df_trimmed2$Section == i\n",
    "    scores = df_trimmed2$Score_std[index]\n",
    "    text <- paste(\"Section\", i, \"Normal Q-Q plot\")\n",
    "    qqnorm(scores, main = text, pch = 1, frame = FALSE)\n",
    "    qqline(scores, col = \"steelblue\", lwd = 2)\n",
    "    }\n"
   ]
  },
  {
   "cell_type": "markdown",
   "id": "1b5447a9",
   "metadata": {},
   "source": [
    "### ANOVA for years 6 - 9\n",
    "Now running ANOVA reveals no significant difference between any section."
   ]
  },
  {
   "cell_type": "code",
   "execution_count": 24,
   "id": "47c52748",
   "metadata": {},
   "outputs": [
    {
     "data": {
      "text/plain": [
       "                 Df Sum Sq Mean Sq F value Pr(>F)\n",
       "factor(Section)   2    2.8  1.4050   1.414  0.244\n",
       "Residuals       624  620.2  0.9939               "
      ]
     },
     "metadata": {},
     "output_type": "display_data"
    },
    {
     "data": {
      "text/plain": [
       "  Tukey multiple comparisons of means\n",
       "    95% family-wise confidence level\n",
       "\n",
       "Fit: aov(formula = Score_std ~ factor(Section), data = df_trimmed2)\n",
       "\n",
       "$`factor(Section)`\n",
       "             diff        lwr        upr     p adj\n",
       "2-1 -0.0007784237 -0.2217366 0.22017971 0.9999622\n",
       "3-1 -0.1491002724 -0.3826282 0.08442769 0.2916302\n",
       "3-2 -0.1483218487 -0.3855374 0.08889371 0.3066252\n"
      ]
     },
     "metadata": {},
     "output_type": "display_data"
    },
    {
     "data": {
      "image/png": "[encoded data removed]",
      "text/plain": [
       "Plot with title \"95% family-wise confidence level\n",
       "\""
      ]
     },
     "metadata": {
      "image/png": {
       "height": 420,
       "width": 420
      }
     },
     "output_type": "display_data"
    }
   ],
   "source": [
    "aov_results <- aov(Score_std ~ factor(Section), # need 'factor' here to tell aov that Section is categorical\n",
    "  data = df_trimmed2\n",
    ")\n",
    "\n",
    "summary(aov_results)\n",
    "\n",
    "TukeyHSD(aov_results, conf.level=.95)\n",
    "\n",
    "plot(TukeyHSD(aov_results, conf.level=.95), las = 1)"
   ]
  },
  {
   "cell_type": "markdown",
   "id": "37c92fbf",
   "metadata": {},
   "source": [
    "### t-test for section 1 against the rest, years 6 - 9.\n",
    "Now we will do a 2-sample t-test for section 1 against all other students. Note that the Shapiro-Wilk test does not detect a significant departure from normality for either of these populations."
   ]
  },
  {
   "cell_type": "code",
   "execution_count": 25,
   "id": "6cfd4837",
   "metadata": {},
   "outputs": [
    {
     "data": {
      "text/plain": [
       "\n",
       "\tShapiro-Wilk normality test\n",
       "\n",
       "data:  scores_1\n",
       "W = 0.99554, p-value = 0.7378\n"
      ]
     },
     "metadata": {},
     "output_type": "display_data"
    },
    {
     "data": {
      "text/plain": [
       "\n",
       "\tShapiro-Wilk normality test\n",
       "\n",
       "data:  scores_23\n",
       "W = 0.99396, p-value = 0.1197\n"
      ]
     },
     "metadata": {},
     "output_type": "display_data"
    },
    {
     "name": "stdout",
     "output_type": "stream",
     "text": [
      " num [1:233] 1.77 1.53 1.49 1.45 1.41 ...\n",
      " num [1:394] 1.65 1.61 1.61 1.57 1.53 ...\n"
     ]
    }
   ],
   "source": [
    "index <- df_trimmed2$Section == 1\n",
    "scores_1 <- df_trimmed2$Score_std[index] \n",
    "shapiro.test(scores_1)\n",
    "\n",
    "\n",
    "index <- df_trimmed2$Section == 2 | df_trimmed2$Section == 3\n",
    "scores_23 <- df_trimmed2$Score_std[index]\n",
    "shapiro.test(scores_23)\n",
    "\n",
    "str(scores_1)\n",
    "str(scores_23)"
   ]
  },
  {
   "cell_type": "code",
   "execution_count": 26,
   "id": "b4001fe2",
   "metadata": {},
   "outputs": [
    {
     "data": {
      "text/html": [
       "<span style=white-space:pre-wrap>'n1  =  233  n2  =  394  significance level  =  0.05'</span>"
      ],
      "text/latex": [
       "'n1  =  233  n2  =  394  significance level  =  0.05'"
      ],
      "text/markdown": [
       "<span style=white-space:pre-wrap>'n1  =  233  n2  =  394  significance level  =  0.05'</span>"
      ],
      "text/plain": [
       "[1] \"n1  =  233  n2  =  394  significance level  =  0.05\""
      ]
     },
     "metadata": {},
     "output_type": "display_data"
    },
    {
     "data": {
      "text/html": [
       "<style>\n",
       ".list-inline {list-style: none; margin:0; padding: 0}\n",
       ".list-inline>li {display: inline-block}\n",
       ".list-inline>li:not(:last-child)::after {content: \"\\00b7\"; padding: 0 .5ex}\n",
       "</style>\n",
       "<ol class=list-inline><li><span style=white-space:pre-wrap>'when d =  0.1  , power =   0.331366179423766'</span></li><li><span style=white-space:pre-wrap>'when d =  0.2  , power =   0.780109926588793'</span></li><li><span style=white-space:pre-wrap>'when d =  0.3  , power =   0.976219583502416'</span></li></ol>\n"
      ],
      "text/latex": [
       "\\begin{enumerate*}\n",
       "\\item 'when d =  0.1  , power =   0.331366179423766'\n",
       "\\item 'when d =  0.2  , power =   0.780109926588793'\n",
       "\\item 'when d =  0.3  , power =   0.976219583502416'\n",
       "\\end{enumerate*}\n"
      ],
      "text/markdown": [
       "1. <span style=white-space:pre-wrap>'when d =  0.1  , power =   0.331366179423766'</span>\n",
       "2. <span style=white-space:pre-wrap>'when d =  0.2  , power =   0.780109926588793'</span>\n",
       "3. <span style=white-space:pre-wrap>'when d =  0.3  , power =   0.976219583502416'</span>\n",
       "\n",
       "\n"
      ],
      "text/plain": [
       "[1] \"when d =  0.1  , power =   0.331366179423766\"\n",
       "[2] \"when d =  0.2  , power =   0.780109926588793\"\n",
       "[3] \"when d =  0.3  , power =   0.976219583502416\""
      ]
     },
     "metadata": {},
     "output_type": "display_data"
    }
   ],
   "source": [
    "library(pwr)\n",
    "\n",
    "effect_sizes = c(0.1,0.2,0.3)\n",
    "powers = rep(NA, length(effect_sizes))\n",
    "k = 1\n",
    "for (d in effect_sizes){   \n",
    "    h_object <-  pwr.t2n.test(n1 = length(scores_1), \n",
    "                     n2 = length(scores_23), \n",
    "                     d = d, \n",
    "                     sig.level = 0.05, \n",
    "                     power = NULL,\n",
    "                     alternative = \"greater\")\n",
    "    powers[k] <- paste(\"when d =\", d, \", power = \", h_object[5], sep = \"  \") \n",
    "    k = k + 1\n",
    "}\n",
    "\n",
    "paste('n1  =', h_object[1], 'n2  =', h_object[2], 'significance level  =', h_object[4], sep = \"  \")\n",
    "\n",
    "powers"
   ]
  },
  {
   "cell_type": "code",
   "execution_count": 27,
   "id": "4f9f0ec1",
   "metadata": {},
   "outputs": [
    {
     "data": {
      "text/plain": [
       "\n",
       "\tTwo Sample t-test\n",
       "\n",
       "data:  scores_1 and scores_23\n",
       "t = 0.81742, df = 625, p-value = 0.207\n",
       "alternative hypothesis: true difference in means is greater than 0\n",
       "95 percent confidence interval:\n",
       " -0.06843702         Inf\n",
       "sample estimates:\n",
       "  mean of x   mean of y \n",
       " 0.04235991 -0.02505041 \n"
      ]
     },
     "metadata": {},
     "output_type": "display_data"
    }
   ],
   "source": [
    "t.test(x = scores_1, y = scores_23,\n",
    "       alternative = \"greater\", paired = FALSE, var.equal = TRUE,\n",
    "       conf.level = 0.95)"
   ]
  },
  {
   "cell_type": "markdown",
   "id": "92e46bfa",
   "metadata": {},
   "source": [
    "<a id='head'></a>\n",
    "## 7. Head to head of section 2 against section 3, all years except year 6\n",
    "Now we will compare sections 2 and 3 with classical methods in every year except year 6, when there was no section 3. Since sections 2 and 3 were both randomized during all these years it makes sense to do this. Here the Shapiro-Wilk test sees no departure from normality for the section 2 scores, but does detect a statistically significant departure for section 3. As before, I suspect this will primarily negatively affect the statistical power."
   ]
  },
  {
   "cell_type": "code",
   "execution_count": 28,
   "id": "7023c78d",
   "metadata": {},
   "outputs": [
    {
     "name": "stdout",
     "output_type": "stream",
     "text": [
      "'data.frame':\t1456 obs. of  4 variables:\n",
      " $ Section  : int  1 2 1 1 1 1 1 1 1 2 ...\n",
      " $ Year     : int  1 1 1 1 1 1 1 1 1 1 ...\n",
      " $ Score    : num  97.8 95.6 95.6 94.4 93.3 ...\n",
      " $ Score_std: num  2.07 1.96 1.96 1.91 1.86 ...\n"
     ]
    }
   ],
   "source": [
    "index <- df$Year == 6\n",
    "\n",
    "df_trimmed3 <- df[!index,]\n",
    "\n",
    "str(df_trimmed3)"
   ]
  },
  {
   "cell_type": "code",
   "execution_count": 29,
   "id": "8a4569a2",
   "metadata": {},
   "outputs": [
    {
     "data": {
      "text/plain": [
       "\n",
       "\tShapiro-Wilk normality test\n",
       "\n",
       "data:  scores_2\n",
       "W = 0.99819, p-value = 0.9036\n"
      ]
     },
     "metadata": {},
     "output_type": "display_data"
    },
    {
     "data": {
      "text/plain": [
       "\n",
       "\tShapiro-Wilk normality test\n",
       "\n",
       "data:  scores_3\n",
       "W = 0.99298, p-value = 0.02022\n"
      ]
     },
     "metadata": {},
     "output_type": "display_data"
    },
    {
     "name": "stdout",
     "output_type": "stream",
     "text": [
      " num [1:474] 1.96 1.75 1.54 1.32 1.05 ...\n",
      " num [1:496] 1.48 1.21 1.11 1.11 1.11 ...\n"
     ]
    }
   ],
   "source": [
    "index <- df_trimmed3$Section == 2\n",
    "scores_2 <- df_trimmed3$Score_std[index]\n",
    "shapiro.test(scores_2)\n",
    "\n",
    "index <- df_trimmed3$Section == 3\n",
    "scores_3 <- df_trimmed3$Score_std[index]\n",
    "shapiro.test(scores_3)\n",
    "\n",
    "str(scores_2)\n",
    "str(scores_3)"
   ]
  },
  {
   "cell_type": "code",
   "execution_count": 30,
   "id": "a81c45c9",
   "metadata": {},
   "outputs": [
    {
     "data": {
      "text/html": [
       "<span style=white-space:pre-wrap>'n1  =  474  n2  =  496  significance level  =  0.05'</span>"
      ],
      "text/latex": [
       "'n1  =  474  n2  =  496  significance level  =  0.05'"
      ],
      "text/markdown": [
       "<span style=white-space:pre-wrap>'n1  =  474  n2  =  496  significance level  =  0.05'</span>"
      ],
      "text/plain": [
       "[1] \"n1  =  474  n2  =  496  significance level  =  0.05\""
      ]
     },
     "metadata": {},
     "output_type": "display_data"
    },
    {
     "data": {
      "text/html": [
       "<style>\n",
       ".list-inline {list-style: none; margin:0; padding: 0}\n",
       ".list-inline>li {display: inline-block}\n",
       ".list-inline>li:not(:last-child)::after {content: \"\\00b7\"; padding: 0 .5ex}\n",
       "</style>\n",
       "<ol class=list-inline><li><span style=white-space:pre-wrap>'when d = 0.1 , power =  0.46450081588444'</span></li><li><span style=white-space:pre-wrap>'when d = 0.2 , power =  0.928764441693027'</span></li><li><span style=white-space:pre-wrap>'when d = 0.3 , power =  0.998746110905561'</span></li></ol>\n"
      ],
      "text/latex": [
       "\\begin{enumerate*}\n",
       "\\item 'when d = 0.1 , power =  0.46450081588444'\n",
       "\\item 'when d = 0.2 , power =  0.928764441693027'\n",
       "\\item 'when d = 0.3 , power =  0.998746110905561'\n",
       "\\end{enumerate*}\n"
      ],
      "text/markdown": [
       "1. <span style=white-space:pre-wrap>'when d = 0.1 , power =  0.46450081588444'</span>\n",
       "2. <span style=white-space:pre-wrap>'when d = 0.2 , power =  0.928764441693027'</span>\n",
       "3. <span style=white-space:pre-wrap>'when d = 0.3 , power =  0.998746110905561'</span>\n",
       "\n",
       "\n"
      ],
      "text/plain": [
       "[1] \"when d = 0.1 , power =  0.46450081588444\" \n",
       "[2] \"when d = 0.2 , power =  0.928764441693027\"\n",
       "[3] \"when d = 0.3 , power =  0.998746110905561\""
      ]
     },
     "metadata": {},
     "output_type": "display_data"
    }
   ],
   "source": [
    "library(pwr)\n",
    "\n",
    "effect_sizes = c(0.1,0.2,0.3)\n",
    "powers = rep(NA, length(effect_sizes))\n",
    "k = 1\n",
    "for (d in effect_sizes){   \n",
    "    h_object <-  pwr.t2n.test(n1 = length(scores_2), \n",
    "                     n2 = length(scores_3), \n",
    "                     d = d, \n",
    "                     sig.level = 0.05, \n",
    "                     power = NULL,\n",
    "                     alternative = \"greater\")\n",
    "    powers[k] <- paste(\"when d =\", d, \", power = \", h_object[5], sep = \" \") \n",
    "    k = k + 1\n",
    "}\n",
    "\n",
    "paste('n1  =', h_object[1], 'n2  =', h_object[2], 'significance level  =', h_object[4], sep = \"  \")\n",
    "\n",
    "powers"
   ]
  },
  {
   "cell_type": "code",
   "execution_count": 31,
   "id": "03442317",
   "metadata": {},
   "outputs": [
    {
     "data": {
      "text/plain": [
       "\n",
       "\tTwo Sample t-test\n",
       "\n",
       "data:  scores_2 and scores_3\n",
       "t = 0.56136, df = 968, p-value = 0.2873\n",
       "alternative hypothesis: true difference in means is greater than 0\n",
       "95 percent confidence interval:\n",
       " -0.06516953         Inf\n",
       "sample estimates:\n",
       " mean of x  mean of y \n",
       "-0.1850544 -0.2187698 \n"
      ]
     },
     "metadata": {},
     "output_type": "display_data"
    }
   ],
   "source": [
    "t.test(x = scores_2, y = scores_3,\n",
    "       alternative = \"greater\", paired = FALSE, var.equal = TRUE,\n",
    "       conf.level = 0.95)"
   ]
  },
  {
   "cell_type": "markdown",
   "id": "9c1cd917",
   "metadata": {},
   "source": [
    "Again we do not detect any significant difference between the two sections, and as before our power is not high enough that this gives us strong evidence against a small effect either. According to our power analysis, our results do give us good reason to believe there is no effect with $d\\geq 0.3$, but we should not take the exact number produced by the power analysis too seriously, due to the departure from normality mentioned above."
   ]
  },
  {
   "cell_type": "markdown",
   "id": "fffb2e2e",
   "metadata": {},
   "source": [
    "### Revisiting the dropping of NAs\n",
    "In the above analysis, we simply dropped students who did not take the final exam for whatever reason. This may confound the analysis, because students quitting the course are most likely students who are not finding success in it. If there were, hypothetically, many more students in section 3 quitting than in section 2, and we omitted them from the data, this could mask the true effect. In our case, there are not actually many NAs (only 14), so it should not make much difference, but for good practice it would be better to deal with them in a more sophisticated way.\n",
    "\n",
    "So what exactly should we do? Without going more deeply into each individual student's reason for quitting the course, it seems reasonably safe to assume that most students who quit are academically struggling and on a path to failing. If we want to include them in the data, what score should we assign them? Clearly we should not assign them an average score calculated using their whole section, as this would likely significantly overestimate the score they would have got if they had taken the exam.\n",
    "\n",
    "We could alternatively calculate an average taken over failing scores, or something like that. However, I have decided to just score them with 0. This likely underestimates their hypothetical exam scores, as even very poorly prepared students can usually (but not always!) scrape a few marks here and there. However, quitting the course altogether is a drastic step, and it seems reasonable to me that this should be reflected in the data somehow. Also, this represents an opposite extreme to dropping the students from the data completely, so if the two approaches yield similar results this should reinforce our confidence in them.\n",
    "\n",
    "Below we replace NAs with 0, then repeat the rest of the previous data manipulation steps. I will just repeat the analysis of sections 2 against section 3 for years other than 6 here, but we could also do similar for our other tests. \n"
   ]
  },
  {
   "cell_type": "code",
   "execution_count": 32,
   "id": "407a6546",
   "metadata": {},
   "outputs": [
    {
     "name": "stdout",
     "output_type": "stream",
     "text": [
      "'data.frame':\t1470 obs. of  4 variables:\n",
      " $ Section  : int  1 2 1 1 1 1 1 1 1 2 ...\n",
      " $ Year     : int  1 1 1 1 1 1 1 1 1 1 ...\n",
      " $ Score    : num  97.8 95.6 95.6 94.4 93.3 ...\n",
      " $ Score_std: num  2.04 1.93 1.93 1.88 1.83 ...\n"
     ]
    }
   ],
   "source": [
    "df_0 <- df_base\n",
    "\n",
    "# NA <- 0\n",
    "df_0[is.na(df_0)] <- 0\n",
    "\n",
    "# drop repeats\n",
    "df_0 <- df_0[!df_0$Repeat == 1,]\n",
    "\n",
    "# drop redundant columns\n",
    "drops <- c(\"Total\",\"Repeat\")\n",
    "df_0 <- df_0[ , !(names(df_0) %in% drops)]\n",
    "\n",
    "# standardized scores\n",
    "for (y in 1 : num_years){\n",
    "  index <- df_0$Year == y\n",
    "  m <- mean(df_0$Score[index])\n",
    "  s <- sd(df_0$Score[index])\n",
    "  df_0$Score_std[index] <- ( df_0$Score[index] - m )/s\n",
    "    }\n",
    "\n",
    "# drop year 6\n",
    "index <- (df_0$Year == 6)\n",
    "df_trimmed4 <- df_0[!index, ]\n",
    "\n",
    "str(df_trimmed4)"
   ]
  },
  {
   "cell_type": "code",
   "execution_count": 33,
   "id": "3310c033",
   "metadata": {},
   "outputs": [
    {
     "data": {
      "text/plain": [
       "\n",
       "\tShapiro-Wilk normality test\n",
       "\n",
       "data:  scores_2\n",
       "W = 0.99812, p-value = 0.8787\n"
      ]
     },
     "metadata": {},
     "output_type": "display_data"
    },
    {
     "data": {
      "text/plain": [
       "\n",
       "\tShapiro-Wilk normality test\n",
       "\n",
       "data:  scores_3\n",
       "W = 0.99424, p-value = 0.05623\n"
      ]
     },
     "metadata": {},
     "output_type": "display_data"
    }
   ],
   "source": [
    "index <- df_trimmed4$Section == 2\n",
    "scores_2 <- df_trimmed4$Score_std[index]\n",
    "shapiro.test(scores_2)\n",
    "\n",
    "index <- df_trimmed4$Section == 3\n",
    "scores_3 <- df_trimmed4$Score_std[index] \n",
    "shapiro.test(scores_3)"
   ]
  },
  {
   "cell_type": "code",
   "execution_count": 34,
   "id": "95ce8e55",
   "metadata": {
    "scrolled": true
   },
   "outputs": [
    {
     "data": {
      "text/html": [
       "'mean_2: -0.20178908160182'"
      ],
      "text/latex": [
       "'mean\\_2: -0.20178908160182'"
      ],
      "text/markdown": [
       "'mean_2: -0.20178908160182'"
      ],
      "text/plain": [
       "[1] \"mean_2: -0.20178908160182\""
      ]
     },
     "metadata": {},
     "output_type": "display_data"
    },
    {
     "data": {
      "text/html": [
       "'mean_3: -0.203223636497073'"
      ],
      "text/latex": [
       "'mean\\_3: -0.203223636497073'"
      ],
      "text/markdown": [
       "'mean_3: -0.203223636497073'"
      ],
      "text/plain": [
       "[1] \"mean_3: -0.203223636497073\""
      ]
     },
     "metadata": {},
     "output_type": "display_data"
    }
   ],
   "source": [
    "m_2 = mean(scores_2)\n",
    "m_3 = mean(scores_3)\n",
    "\n",
    "paste(\"mean_2:\", m_2, sep = \" \")\n",
    "paste(\"mean_3:\", m_3, sep = \" \")"
   ]
  },
  {
   "cell_type": "code",
   "execution_count": 35,
   "id": "124782bb",
   "metadata": {},
   "outputs": [
    {
     "data": {
      "text/html": [
       "<span style=white-space:pre-wrap>'n1  =  483  n2  =  499  significance level  =  0.05'</span>"
      ],
      "text/latex": [
       "'n1  =  483  n2  =  499  significance level  =  0.05'"
      ],
      "text/markdown": [
       "<span style=white-space:pre-wrap>'n1  =  483  n2  =  499  significance level  =  0.05'</span>"
      ],
      "text/plain": [
       "[1] \"n1  =  483  n2  =  499  significance level  =  0.05\""
      ]
     },
     "metadata": {},
     "output_type": "display_data"
    },
    {
     "data": {
      "text/html": [
       "<style>\n",
       ".list-inline {list-style: none; margin:0; padding: 0}\n",
       ".list-inline>li {display: inline-block}\n",
       ".list-inline>li:not(:last-child)::after {content: \"\\00b7\"; padding: 0 .5ex}\n",
       "</style>\n",
       "<ol class=list-inline><li><span style=white-space:pre-wrap>'when d = 0.1  power = 0.468397377759018'</span></li><li><span style=white-space:pre-wrap>'when d = 0.2  power = 0.931394099984644'</span></li><li><span style=white-space:pre-wrap>'when d = 0.3  power = 0.998862659369958'</span></li></ol>\n"
      ],
      "text/latex": [
       "\\begin{enumerate*}\n",
       "\\item 'when d = 0.1  power = 0.468397377759018'\n",
       "\\item 'when d = 0.2  power = 0.931394099984644'\n",
       "\\item 'when d = 0.3  power = 0.998862659369958'\n",
       "\\end{enumerate*}\n"
      ],
      "text/markdown": [
       "1. <span style=white-space:pre-wrap>'when d = 0.1  power = 0.468397377759018'</span>\n",
       "2. <span style=white-space:pre-wrap>'when d = 0.2  power = 0.931394099984644'</span>\n",
       "3. <span style=white-space:pre-wrap>'when d = 0.3  power = 0.998862659369958'</span>\n",
       "\n",
       "\n"
      ],
      "text/plain": [
       "[1] \"when d = 0.1  power = 0.468397377759018\"\n",
       "[2] \"when d = 0.2  power = 0.931394099984644\"\n",
       "[3] \"when d = 0.3  power = 0.998862659369958\""
      ]
     },
     "metadata": {},
     "output_type": "display_data"
    }
   ],
   "source": [
    "effect_sizes = c(0.1,0.2,0.3)\n",
    "powers = rep(NA, length(effect_sizes))\n",
    "k = 1\n",
    "for (d in effect_sizes){   \n",
    "    h_object <-  pwr.t2n.test(n1 = length(scores_2), \n",
    "                     n2 = length(scores_3), \n",
    "                     d = d, \n",
    "                     sig.level = 0.05, \n",
    "                     power = NULL,\n",
    "                     alternative = \"greater\")\n",
    "    powers[k] <- paste(\"when d =\", d, \" power =\", h_object[5], sep = \" \") \n",
    "    k = k + 1\n",
    "}\n",
    "\n",
    "paste('n1  =', h_object[1], 'n2  =', h_object[2], 'significance level  =', h_object[4], sep = \"  \")\n",
    "\n",
    "powers"
   ]
  },
  {
   "cell_type": "code",
   "execution_count": 36,
   "id": "baafb58d",
   "metadata": {},
   "outputs": [
    {
     "data": {
      "text/plain": [
       "\n",
       "\tTwo Sample t-test\n",
       "\n",
       "data:  scores_2 and scores_3\n",
       "t = 0.023899, df = 980, p-value = 0.4905\n",
       "alternative hypothesis: true difference in means is greater than 0\n",
       "95 percent confidence interval:\n",
       " -0.09739116         Inf\n",
       "sample estimates:\n",
       " mean of x  mean of y \n",
       "-0.2017891 -0.2032236 \n"
      ]
     },
     "metadata": {},
     "output_type": "display_data"
    }
   ],
   "source": [
    "t.test(x = scores_2, y = scores_3,\n",
    "       alternative = \"greater\", paired = FALSE, var.equal = TRUE,\n",
    "       conf.level = 0.95)"
   ]
  },
  {
   "cell_type": "markdown",
   "id": "96603590",
   "metadata": {},
   "source": [
    "As before, the low power of the test for d = 0.1 means we cannot use this as evidence that there is no small effect, but our null result does provide some evidence against larger effect sizes."
   ]
  },
  {
   "cell_type": "markdown",
   "id": "98ca9a81",
   "metadata": {},
   "source": [
    "<a id='digr'></a>\n",
    "## 8. Digression: Examining online vs onsite\n",
    "While we are here, our data gives us an opportunity to ask an interesting question. The last 3 years the students took the exam, it was computer based. Actually the basic exam was the same with minor variations each time (there was significant randomization with questions as an attempt to ward off cheating). In years 7 and 8 the exam was taken with students at home, proctored via Webex, while in year 9 the students took the exam in a lab with in-person proctors. Did the difference in exam conditions significantly affect performance?"
   ]
  },
  {
   "cell_type": "code",
   "execution_count": 37,
   "id": "25c0515a",
   "metadata": {},
   "outputs": [
    {
     "name": "stdout",
     "output_type": "stream",
     "text": [
      "'data.frame':\t1613 obs. of  6 variables:\n",
      " $ Section  : int  1 2 1 1 1 1 1 1 1 2 ...\n",
      " $ Total    : chr  \"97.78\" \"95.56\" \"95.56\" \"94.44\" ...\n",
      " $ Year     : int  1 1 1 1 1 1 1 1 1 1 ...\n",
      " $ Repeat   : int  0 0 0 0 0 0 0 0 0 0 ...\n",
      " $ Score    : num  97.8 95.6 95.6 94.4 93.3 ...\n",
      " $ Score_std: num  2.07 1.96 1.96 1.91 1.86 ...\n",
      "'data.frame':\t344 obs. of  6 variables:\n",
      " $ Section  : int  3 3 1 3 1 3 2 2 1 2 ...\n",
      " $ Total    : chr  \"94.29\" \"91.43\" \"90.71\" \"90.71\" ...\n",
      " $ Year     : int  7 7 7 7 7 7 7 7 7 7 ...\n",
      " $ Repeat   : int  0 0 0 0 0 0 0 0 0 0 ...\n",
      " $ Score    : num  94.3 91.4 90.7 90.7 87.1 ...\n",
      " $ Score_std: num  1.001 0.966 0.93 0.93 0.93 ...\n",
      "'data.frame':\t184 obs. of  6 variables:\n",
      " $ Section  : int  3 2 3 2 1 3 1 1 1 1 ...\n",
      " $ Total    : chr  \"61.43\" \"45\" \"35.71\" \"37.86\" ...\n",
      " $ Year     : int  9 9 9 9 9 9 9 9 9 9 ...\n",
      " $ Repeat   : int  0 0 0 0 0 0 0 0 0 0 ...\n",
      " $ Score    : num  61.4 45 35.7 37.9 10 ...\n",
      " $ Score_std: num  -0.9364 -0.3506 1.0038 -0.3875 0.0521 ...\n"
     ]
    }
   ],
   "source": [
    "df_2 <- df_base[ complete.cases(df_base$Score) , ]\n",
    "\n",
    "for (y in 1 : num_years){\n",
    "  index <- df_2$Year == y\n",
    "  m <- mean(df_2$Score[index])\n",
    "  s <- sd(df_2$Score[index])\n",
    "  df_2$Score_std[index] <- ( df$Score[index] - m )/s\n",
    "    }\n",
    "\n",
    "str(df_2)\n",
    "\n",
    "index <- df_2$Year == 7 | df_2$Year == 8\n",
    "df_online <- df_2[index,]\n",
    "\n",
    "index <- df_2$Year == 9\n",
    "df_onsite <- df_2[index,]\n",
    "\n",
    "str(df_online)\n",
    "str(df_onsite)"
   ]
  },
  {
   "cell_type": "code",
   "execution_count": 38,
   "id": "5e67bcd5",
   "metadata": {},
   "outputs": [
    {
     "data": {
      "text/plain": [
       "\n",
       "\tShapiro-Wilk normality test\n",
       "\n",
       "data:  scores_online\n",
       "W = 0.99314, p-value = 0.1183\n"
      ]
     },
     "metadata": {},
     "output_type": "display_data"
    },
    {
     "data": {
      "text/plain": [
       "\n",
       "\tShapiro-Wilk normality test\n",
       "\n",
       "data:  scores_onsite\n",
       "W = 0.9867, p-value = 0.189\n"
      ]
     },
     "metadata": {},
     "output_type": "display_data"
    },
    {
     "data": {
      "text/plain": [
       "\n",
       "\tTwo Sample t-test\n",
       "\n",
       "data:  scores_online and scores_onsite\n",
       "t = -1.506, df = 484, p-value = 0.1327\n",
       "alternative hypothesis: true difference in means is not equal to 0\n",
       "95 percent confidence interval:\n",
       " -0.32542161  0.04302378\n",
       "sample estimates:\n",
       "  mean of x   mean of y \n",
       "-0.08954027  0.05165865 \n"
      ]
     },
     "metadata": {},
     "output_type": "display_data"
    }
   ],
   "source": [
    "scores_online <- df_online$Score_std\n",
    "shapiro.test(scores_online)\n",
    "scores_onsite <- df_onsite$Score_std\n",
    "shapiro.test(scores_onsite)\n",
    "\n",
    "t.test(x = scores_online, y = scores_onsite,\n",
    "       alternative = \"two.sided\", paired = FALSE, var.equal = TRUE,\n",
    "       conf.level = 0.95)"
   ]
  },
  {
   "cell_type": "code",
   "execution_count": 39,
   "id": "e33d5a3e",
   "metadata": {},
   "outputs": [
    {
     "data": {
      "text/html": [
       "<span style=white-space:pre-wrap>'n1  =  344  n2  =  184  significance level  =  0.05'</span>"
      ],
      "text/latex": [
       "'n1  =  344  n2  =  184  significance level  =  0.05'"
      ],
      "text/markdown": [
       "<span style=white-space:pre-wrap>'n1  =  344  n2  =  184  significance level  =  0.05'</span>"
      ],
      "text/plain": [
       "[1] \"n1  =  344  n2  =  184  significance level  =  0.05\""
      ]
     },
     "metadata": {},
     "output_type": "display_data"
    },
    {
     "data": {
      "text/html": [
       "<style>\n",
       ".list-inline {list-style: none; margin:0; padding: 0}\n",
       ".list-inline>li {display: inline-block}\n",
       ".list-inline>li:not(:last-child)::after {content: \"\\00b7\"; padding: 0 .5ex}\n",
       "</style>\n",
       "<ol class=list-inline><li><span style=white-space:pre-wrap>'when d =  0.1  , power =   0.194085030767687'</span></li><li><span style=white-space:pre-wrap>'when d =  0.2  , power =   0.589346276575281'</span></li><li><span style=white-space:pre-wrap>'when d =  0.3  , power =   0.906366726098518'</span></li><li><span style=white-space:pre-wrap>'when d =  0.4  , power =   0.992058508546005'</span></li><li><span style=white-space:pre-wrap>'when d =  0.5  , power =   0.999771246565992'</span></li></ol>\n"
      ],
      "text/latex": [
       "\\begin{enumerate*}\n",
       "\\item 'when d =  0.1  , power =   0.194085030767687'\n",
       "\\item 'when d =  0.2  , power =   0.589346276575281'\n",
       "\\item 'when d =  0.3  , power =   0.906366726098518'\n",
       "\\item 'when d =  0.4  , power =   0.992058508546005'\n",
       "\\item 'when d =  0.5  , power =   0.999771246565992'\n",
       "\\end{enumerate*}\n"
      ],
      "text/markdown": [
       "1. <span style=white-space:pre-wrap>'when d =  0.1  , power =   0.194085030767687'</span>\n",
       "2. <span style=white-space:pre-wrap>'when d =  0.2  , power =   0.589346276575281'</span>\n",
       "3. <span style=white-space:pre-wrap>'when d =  0.3  , power =   0.906366726098518'</span>\n",
       "4. <span style=white-space:pre-wrap>'when d =  0.4  , power =   0.992058508546005'</span>\n",
       "5. <span style=white-space:pre-wrap>'when d =  0.5  , power =   0.999771246565992'</span>\n",
       "\n",
       "\n"
      ],
      "text/plain": [
       "[1] \"when d =  0.1  , power =   0.194085030767687\"\n",
       "[2] \"when d =  0.2  , power =   0.589346276575281\"\n",
       "[3] \"when d =  0.3  , power =   0.906366726098518\"\n",
       "[4] \"when d =  0.4  , power =   0.992058508546005\"\n",
       "[5] \"when d =  0.5  , power =   0.999771246565992\""
      ]
     },
     "metadata": {},
     "output_type": "display_data"
    }
   ],
   "source": [
    "effect_sizes = c(0.1,0.2,0.3,0.4,0.5)\n",
    "powers = rep(NA, length(effect_sizes))\n",
    "k = 1\n",
    "for (d in effect_sizes){   \n",
    "    h_object <-  pwr.t2n.test(n1 = length(scores_online), \n",
    "                     n2 = length(scores_onsite), \n",
    "                     d = d, \n",
    "                     sig.level = 0.05, \n",
    "                     power = NULL,\n",
    "                     alternative = \"two.sided\")\n",
    "    powers[k] <- paste(\"when d =\", d, \", power = \", h_object[5], sep = \"  \") \n",
    "    k = k + 1\n",
    "}\n",
    "\n",
    "paste('n1  =', h_object[1], 'n2  =', h_object[2], 'significance level  =', h_object[4], sep = \"  \")\n",
    "\n",
    "powers"
   ]
  },
  {
   "cell_type": "markdown",
   "id": "575c522a",
   "metadata": {},
   "source": [
    "From the analysis above we see that while average performance decreased for the onsite exam, it did not decrease by enough to be statistically significant (using the traditional threshold of 0.05). The power analysis indicates that our sample sizes are not large enough for us to be confident of detecting small effects, but we can be reasonably confident that we have not missed an effect of d = 0.4 or greater. "
   ]
  },
  {
   "cell_type": "markdown",
   "id": "48c7bb3e",
   "metadata": {},
   "source": [
    "<a id='bayes'></a>\n",
    "## 9. A Bayesian approach\n",
    "Rather than split our data into subsets to work around the fact that section 1 students were randomized during years 1-5, with a Bayesian approach we can easily use the whole dataset in one pass.\n",
    "\n",
    "For our model we will incorporate information about academic streaming as an ordered categorical variable. This is modeled as a variable with 3 levels. Level 3 indicates that students have been academically selected. This applies to section 1 students in years 1-5. Level 1 indicates that students were subject to academic selection but were not assigned to section 1. This is for students in years 1-5 not in section 1. Finally, level 2 is for everyone else. I.e. students for years 6-8, as these students were not subject to streaming at all. \n",
    "\n",
    "We will also include section as an ordered categorical variable. The background assumption here is that section affects performance in an ordered fashion. I.e. the effect of being in section 2 lies between the effect of being in section 1 or 3. We make no assumption about the size or direction of the effect. It could be positive, negative or zero.\n",
    "\n",
    "The variables here are ordered categorical, which allows the effect of e.g. the difference between section 1 and section 2 to be different from the difference between section 2 and section 3."
   ]
  },
  {
   "cell_type": "markdown",
   "id": "ad0cc47f",
   "metadata": {},
   "source": [
    "### Preparing the data for the Bayesian model"
   ]
  },
  {
   "cell_type": "code",
   "execution_count": 40,
   "id": "c985e368",
   "metadata": {},
   "outputs": [
    {
     "name": "stdout",
     "output_type": "stream",
     "text": [
      "'data.frame':\t1571 obs. of  3 variables:\n",
      " $ Section     : int  1 2 1 1 1 1 1 1 1 2 ...\n",
      " $ Score_std   : num  2.07 1.96 1.96 1.91 1.86 ...\n",
      " $ Stream_level: num  3 1 3 3 3 3 3 3 3 1 ...\n"
     ]
    }
   ],
   "source": [
    "df_full <- df\n",
    "\n",
    "df_full$Stream_level <- ifelse(df_full$Section == 1 & df_full$Year < 6, 3., ifelse(df_full$Year < 6, 1., 2. ))\n",
    "\n",
    "drops <- c(\"Year\",\"Score\")\n",
    "df_full <- df_full[ , !(names(df) %in% drops)]\n",
    "\n",
    "str(df_full)"
   ]
  },
  {
   "cell_type": "markdown",
   "id": "6687d5ef",
   "metadata": {},
   "source": [
    "### The associated DAG\n",
    "We can construct the DAG for our simple model and analyze the adjustment set and implied conditional independences, just to check that what we are doing makes sense. Or rather, that it doesn't fail to make sense in an easily detectable way.\n",
    "\n",
    "Here $A$ stands for 'Academic Streaming', $S$ stands for 'Section' and $E$ stands for 'Exam Score'. "
   ]
  },
  {
   "cell_type": "code",
   "execution_count": 41,
   "id": "fc93a842",
   "metadata": {},
   "outputs": [
    {
     "data": {
      "text/plain": [
       "{ A }"
      ]
     },
     "metadata": {},
     "output_type": "display_data"
    }
   ],
   "source": [
    "library(dagitty)\n",
    "dag <- dagitty( \"dag {\n",
    "A -> S -> E\n",
    "A -> E\n",
    "}\")\n",
    "\n",
    "adjustmentSets( dag , exposure=\"S\" , outcome=\"E\" )\n",
    "impliedConditionalIndependencies(dag)"
   ]
  },
  {
   "cell_type": "markdown",
   "id": "48a49fa4",
   "metadata": {},
   "source": [
    "The adjustment set is $\\{A\\}$, which is good as were will condition on $A$. There are no implied conditional independences, and we can check that our data reflects this."
   ]
  },
  {
   "cell_type": "code",
   "execution_count": 42,
   "id": "ed48a14c",
   "metadata": {},
   "outputs": [
    {
     "data": {
      "text/html": [
       "<table class=\"dataframe\">\n",
       "<caption>A matrix: 3 × 3 of type dbl</caption>\n",
       "<thead>\n",
       "\t<tr><th></th><th scope=col>Section</th><th scope=col>Score_std</th><th scope=col>Stream_level</th></tr>\n",
       "</thead>\n",
       "<tbody>\n",
       "\t<tr><th scope=row>Section</th><td> 1.0000000</td><td>-0.2346191</td><td>-0.6729518</td></tr>\n",
       "\t<tr><th scope=row>Score_std</th><td>-0.2346191</td><td> 1.0000000</td><td> 0.3086044</td></tr>\n",
       "\t<tr><th scope=row>Stream_level</th><td>-0.6729518</td><td> 0.3086044</td><td> 1.0000000</td></tr>\n",
       "</tbody>\n",
       "</table>\n"
      ],
      "text/latex": [
       "A matrix: 3 × 3 of type dbl\n",
       "\\begin{tabular}{r|lll}\n",
       "  & Section & Score\\_std & Stream\\_level\\\\\n",
       "\\hline\n",
       "\tSection &  1.0000000 & -0.2346191 & -0.6729518\\\\\n",
       "\tScore\\_std & -0.2346191 &  1.0000000 &  0.3086044\\\\\n",
       "\tStream\\_level & -0.6729518 &  0.3086044 &  1.0000000\\\\\n",
       "\\end{tabular}\n"
      ],
      "text/markdown": [
       "\n",
       "A matrix: 3 × 3 of type dbl\n",
       "\n",
       "| <!--/--> | Section | Score_std | Stream_level |\n",
       "|---|---|---|---|\n",
       "| Section |  1.0000000 | -0.2346191 | -0.6729518 |\n",
       "| Score_std | -0.2346191 |  1.0000000 |  0.3086044 |\n",
       "| Stream_level | -0.6729518 |  0.3086044 |  1.0000000 |\n",
       "\n"
      ],
      "text/plain": [
       "             Section    Score_std  Stream_level\n",
       "Section       1.0000000 -0.2346191 -0.6729518  \n",
       "Score_std    -0.2346191  1.0000000  0.3086044  \n",
       "Stream_level -0.6729518  0.3086044  1.0000000  "
      ]
     },
     "metadata": {},
     "output_type": "display_data"
    }
   ],
   "source": [
    "cor(df_full)"
   ]
  },
  {
   "cell_type": "markdown",
   "id": "609b8edb",
   "metadata": {},
   "source": [
    "### The first model\n",
    "Now we can run our first model. Mathematically, it is as follows:\n",
    "\n",
    "#### Model\n",
    "\n",
    "$ E \\sim Normal(\\phi, \\sigma)$\n",
    "\n",
    "$\\phi = \\alpha + \\beta_A\\sum_{i=1}^{N_A-1} \\delta_i^A + \\beta_S \\sum_{j=i}^{N_S-1} \\delta_j^B$\n",
    "\n",
    "Here $N_A$ is the academic streaming value, and $N_S$ is the section value, and we have $\\sum_{i=1}^{2} \\delta_i^A = \\sum_{j=i}^{2} \\delta_j^B = 1$. So the parameters $\\beta_A$ and $\\beta_S$ control the maximum possible effect of academic selection and section, respectively, while the individual $\\delta$ values break this contribution down into pieces. E.g. A student with academic selection value of 3 gets the full value of $\\beta_A$, while one with an academic selection value of 2 gets only $\\delta_1^A\\beta_A$, which is smaller, and a student with an academic selection value of 1 gets no contribution at all. \n",
    "\n",
    "#### Priors\n",
    "\n",
    "Our priors are weakly informative. In other words, we do not want to constrain the model, but we do want to make use of some background information. For example, it is implausible that e.g. section numbering could have an effect of multiple standard deviations. Similarly, we know the standard deviation of our standardized scores is around 1, because we standardized the scores! So we know $\\sigma$ will not deviate too far from 1.  \n",
    "\n",
    "$\\alpha, \\beta_A, \\beta_S \\sim Normal(0,1)$\n",
    "\n",
    "$(\\delta^A_1, \\delta^A_2), (\\delta^S_1, \\delta^S_2) \\sim Dirichlet(2,2)$\n",
    "\n",
    "$\\sigma \\sim LogNormal(0,0.25)$\n",
    "\n"
   ]
  },
  {
   "cell_type": "code",
   "execution_count": 43,
   "id": "48395fd7",
   "metadata": {},
   "outputs": [
    {
     "name": "stdout",
     "output_type": "stream",
     "text": [
      "List of 4\n",
      " $ A    : num [1:1571] 3 1 3 3 3 3 3 3 3 1 ...\n",
      " $ S    : int [1:1571] 1 2 1 1 1 1 1 1 1 2 ...\n",
      " $ E    : num [1:1571] 2.07 1.96 1.96 1.91 1.86 ...\n",
      " $ alpha: num [1:2] 2 2\n"
     ]
    }
   ],
   "source": [
    "dat <- list(\n",
    "  A = df_full$Stream_level,\n",
    "  S = df_full$Section,\n",
    "  E = df_full$Score_std,\n",
    "  alpha = rep( 2 , 2 ))\n",
    "\n",
    "str(dat)"
   ]
  },
  {
   "cell_type": "code",
   "execution_count": 44,
   "id": "b3dbacdb",
   "metadata": {},
   "outputs": [
    {
     "name": "stderr",
     "output_type": "stream",
     "text": [
      "Loading required package: StanHeaders\n",
      "\n",
      "\n",
      "rstan version 2.26.11 (Stan version 2.26.1)\n",
      "\n",
      "\n",
      "For execution on a local, multicore CPU with excess RAM we recommend calling\n",
      "options(mc.cores = parallel::detectCores()).\n",
      "To avoid recompilation of unchanged Stan programs, we recommend calling\n",
      "rstan_options(auto_write = TRUE)\n",
      "For within-chain threading using `reduce_sum()` or `map_rect()` Stan functions,\n",
      "change `threads_per_chain` option:\n",
      "rstan_options(threads_per_chain = 1)\n",
      "\n",
      "\n",
      "Do not specify '-march=native' in 'LOCAL_CPPFLAGS' or a Makevars file\n",
      "\n"
     ]
    }
   ],
   "source": [
    "library(rstan)\n",
    "code_1 <- 'data{\n",
    "    vector[1571] E;\n",
    "    int S[1571];\n",
    "    int A[1571];\n",
    "    vector[2] alpha;\n",
    "}\n",
    "parameters{\n",
    "    real sigma;\n",
    "    real bS;\n",
    "    real bA;\n",
    "    real a;\n",
    "    simplex[2] deltaA;\n",
    "    simplex[2] deltaS;\n",
    "}\n",
    "\n",
    "transformed parameters{\n",
    "vector[3] deltaA_j;\n",
    "vector[3] deltaS_j;\n",
    "deltaS_j = append_row(0, deltaS);\n",
    "deltaA_j = append_row(0, deltaA);\n",
    "}\n",
    "\n",
    "model{\n",
    "    vector[1571] phi;\n",
    "    deltaS ~ dirichlet( alpha );\n",
    "    deltaA ~ dirichlet( alpha );\n",
    "    a ~ normal( 0 , 1 );\n",
    "    bA ~ normal( 0 , 1 );\n",
    "    bS ~ normal( 0 , 1 );\n",
    "    sigma ~ lognormal( 0, 0.25 );\n",
    "    for ( i in 1:1571 ) {\n",
    "        phi[i] = a + bA * sum(deltaA_j[1:A[i]]) + bS * sum(deltaS_j[1:S[i]]);\n",
    "    }\n",
    "    E ~ normal( phi , sigma );\n",
    "}\n",
    "generated quantities{\n",
    "  vector[1571] log_lik;\n",
    "  \n",
    "  for (i in 1:1571) log_lik[i] = normal_lpdf(E[i] | a + bA * sum(deltaA_j[1:A[i]]) \n",
    "                                             + bS * sum(deltaS_j[1:S[i]]), sigma);\n",
    "}\n",
    "'"
   ]
  },
  {
   "cell_type": "code",
   "execution_count": 45,
   "id": "60f81d8e",
   "metadata": {},
   "outputs": [],
   "source": [
    "model_1 <- stan( model_code = code_1 , data = dat , chains=4, cores = 4, iter = 10000 )"
   ]
  },
  {
   "cell_type": "markdown",
   "id": "75d894fc",
   "metadata": {},
   "source": [
    "The trace plots look ok, as we see below."
   ]
  },
  {
   "cell_type": "code",
   "execution_count": 46,
   "id": "5627cba1",
   "metadata": {},
   "outputs": [
    {
     "data": {
      "image/png": "[encoded data removed]",
      "text/plain": [
       "plot without title"
      ]
     },
     "metadata": {
      "image/png": {
       "height": 420,
       "width": 420
      }
     },
     "output_type": "display_data"
    }
   ],
   "source": [
    "pars = c('sigma', 'a', 'bA', 'bS', 'deltaS', 'deltaA')\n",
    "\n",
    "stan_trace(model_1, pars = pars)"
   ]
  },
  {
   "cell_type": "markdown",
   "id": "78fb17e3",
   "metadata": {},
   "source": [
    "Now to view the results."
   ]
  },
  {
   "cell_type": "code",
   "execution_count": 47,
   "id": "c21f6b22",
   "metadata": {},
   "outputs": [
    {
     "data": {
      "text/html": [
       "<table class=\"dataframe\">\n",
       "<caption>A matrix: 8 × 7 of type dbl</caption>\n",
       "<thead>\n",
       "\t<tr><th></th><th scope=col>mean</th><th scope=col>se_mean</th><th scope=col>sd</th><th scope=col>2.5%</th><th scope=col>97.5%</th><th scope=col>n_eff</th><th scope=col>Rhat</th></tr>\n",
       "</thead>\n",
       "<tbody>\n",
       "\t<tr><th scope=row>sigma</th><td> 0.94735642</td><td>0.0001200896</td><td>0.01679945</td><td> 0.9148164</td><td> 0.98131941</td><td>19569.473</td><td>1.0001508</td></tr>\n",
       "\t<tr><th scope=row>a</th><td>-0.21179115</td><td>0.0008001846</td><td>0.07334244</td><td>-0.3523257</td><td>-0.06261349</td><td> 8400.986</td><td>1.0001876</td></tr>\n",
       "\t<tr><th scope=row>bA</th><td> 0.77761666</td><td>0.0009241273</td><td>0.09115767</td><td> 0.5953363</td><td> 0.95264604</td><td> 9730.223</td><td>1.0001694</td></tr>\n",
       "\t<tr><th scope=row>bS</th><td>-0.09743945</td><td>0.0008162712</td><td>0.07927581</td><td>-0.2541782</td><td> 0.05370220</td><td> 9432.186</td><td>1.0000042</td></tr>\n",
       "\t<tr><th scope=row>deltaS[1]</th><td> 0.52021555</td><td>0.0015711293</td><td>0.20976669</td><td> 0.1206712</td><td> 0.89452639</td><td>17825.806</td><td>1.0003015</td></tr>\n",
       "\t<tr><th scope=row>deltaS[2]</th><td> 0.47978445</td><td>0.0015711293</td><td>0.20976669</td><td> 0.1054736</td><td> 0.87932879</td><td>17825.806</td><td>1.0003015</td></tr>\n",
       "\t<tr><th scope=row>deltaA[1]</th><td> 0.33459272</td><td>0.0004761555</td><td>0.06241320</td><td> 0.2115528</td><td> 0.45668461</td><td>17181.270</td><td>0.9999385</td></tr>\n",
       "\t<tr><th scope=row>deltaA[2]</th><td> 0.66540728</td><td>0.0004761555</td><td>0.06241320</td><td> 0.5433154</td><td> 0.78844716</td><td>17181.270</td><td>0.9999385</td></tr>\n",
       "</tbody>\n",
       "</table>\n"
      ],
      "text/latex": [
       "A matrix: 8 × 7 of type dbl\n",
       "\\begin{tabular}{r|lllllll}\n",
       "  & mean & se\\_mean & sd & 2.5\\% & 97.5\\% & n\\_eff & Rhat\\\\\n",
       "\\hline\n",
       "\tsigma &  0.94735642 & 0.0001200896 & 0.01679945 &  0.9148164 &  0.98131941 & 19569.473 & 1.0001508\\\\\n",
       "\ta & -0.21179115 & 0.0008001846 & 0.07334244 & -0.3523257 & -0.06261349 &  8400.986 & 1.0001876\\\\\n",
       "\tbA &  0.77761666 & 0.0009241273 & 0.09115767 &  0.5953363 &  0.95264604 &  9730.223 & 1.0001694\\\\\n",
       "\tbS & -0.09743945 & 0.0008162712 & 0.07927581 & -0.2541782 &  0.05370220 &  9432.186 & 1.0000042\\\\\n",
       "\tdeltaS{[}1{]} &  0.52021555 & 0.0015711293 & 0.20976669 &  0.1206712 &  0.89452639 & 17825.806 & 1.0003015\\\\\n",
       "\tdeltaS{[}2{]} &  0.47978445 & 0.0015711293 & 0.20976669 &  0.1054736 &  0.87932879 & 17825.806 & 1.0003015\\\\\n",
       "\tdeltaA{[}1{]} &  0.33459272 & 0.0004761555 & 0.06241320 &  0.2115528 &  0.45668461 & 17181.270 & 0.9999385\\\\\n",
       "\tdeltaA{[}2{]} &  0.66540728 & 0.0004761555 & 0.06241320 &  0.5433154 &  0.78844716 & 17181.270 & 0.9999385\\\\\n",
       "\\end{tabular}\n"
      ],
      "text/markdown": [
       "\n",
       "A matrix: 8 × 7 of type dbl\n",
       "\n",
       "| <!--/--> | mean | se_mean | sd | 2.5% | 97.5% | n_eff | Rhat |\n",
       "|---|---|---|---|---|---|---|---|\n",
       "| sigma |  0.94735642 | 0.0001200896 | 0.01679945 |  0.9148164 |  0.98131941 | 19569.473 | 1.0001508 |\n",
       "| a | -0.21179115 | 0.0008001846 | 0.07334244 | -0.3523257 | -0.06261349 |  8400.986 | 1.0001876 |\n",
       "| bA |  0.77761666 | 0.0009241273 | 0.09115767 |  0.5953363 |  0.95264604 |  9730.223 | 1.0001694 |\n",
       "| bS | -0.09743945 | 0.0008162712 | 0.07927581 | -0.2541782 |  0.05370220 |  9432.186 | 1.0000042 |\n",
       "| deltaS[1] |  0.52021555 | 0.0015711293 | 0.20976669 |  0.1206712 |  0.89452639 | 17825.806 | 1.0003015 |\n",
       "| deltaS[2] |  0.47978445 | 0.0015711293 | 0.20976669 |  0.1054736 |  0.87932879 | 17825.806 | 1.0003015 |\n",
       "| deltaA[1] |  0.33459272 | 0.0004761555 | 0.06241320 |  0.2115528 |  0.45668461 | 17181.270 | 0.9999385 |\n",
       "| deltaA[2] |  0.66540728 | 0.0004761555 | 0.06241320 |  0.5433154 |  0.78844716 | 17181.270 | 0.9999385 |\n",
       "\n"
      ],
      "text/plain": [
       "          mean        se_mean      sd         2.5%       97.5%       n_eff    \n",
       "sigma      0.94735642 0.0001200896 0.01679945  0.9148164  0.98131941 19569.473\n",
       "a         -0.21179115 0.0008001846 0.07334244 -0.3523257 -0.06261349  8400.986\n",
       "bA         0.77761666 0.0009241273 0.09115767  0.5953363  0.95264604  9730.223\n",
       "bS        -0.09743945 0.0008162712 0.07927581 -0.2541782  0.05370220  9432.186\n",
       "deltaS[1]  0.52021555 0.0015711293 0.20976669  0.1206712  0.89452639 17825.806\n",
       "deltaS[2]  0.47978445 0.0015711293 0.20976669  0.1054736  0.87932879 17825.806\n",
       "deltaA[1]  0.33459272 0.0004761555 0.06241320  0.2115528  0.45668461 17181.270\n",
       "deltaA[2]  0.66540728 0.0004761555 0.06241320  0.5433154  0.78844716 17181.270\n",
       "          Rhat     \n",
       "sigma     1.0001508\n",
       "a         1.0001876\n",
       "bA        1.0001694\n",
       "bS        1.0000042\n",
       "deltaS[1] 1.0003015\n",
       "deltaS[2] 1.0003015\n",
       "deltaA[1] 0.9999385\n",
       "deltaA[2] 0.9999385"
      ]
     },
     "metadata": {},
     "output_type": "display_data"
    }
   ],
   "source": [
    "results_1 <- summary(model_1, pars = pars, \n",
    "                     probs = c(0.025, 0.975))$summary\n",
    "results_1"
   ]
  },
  {
   "cell_type": "code",
   "execution_count": 48,
   "id": "4f9e014f",
   "metadata": {},
   "outputs": [
    {
     "name": "stderr",
     "output_type": "stream",
     "text": [
      "Warning message:\n",
      "\"\u001b[1m\u001b[22mThe dot-dot notation (`..density..`) was deprecated in ggplot2 3.4.0.\n",
      "\u001b[36mℹ\u001b[39m Please use `after_stat(density)` instead.\n",
      "\u001b[36mℹ\u001b[39m The deprecated feature was likely used in the \u001b[34mrstan\u001b[39m package.\n",
      "  Please report the issue at \u001b[3m\u001b[34m<https://github.com/stan-dev/rstan/issues/>\u001b[39m\u001b[23m.\"\n",
      "\u001b[1m\u001b[22m`stat_bin()` using `bins = 30`. Pick better value with `binwidth`.\n"
     ]
    },
    {
     "data": {
      "image/png": "[encoded data removed]",
      "text/plain": [
       "plot without title"
      ]
     },
     "metadata": {
      "image/png": {
       "height": 420,
       "width": 420
      }
     },
     "output_type": "display_data"
    }
   ],
   "source": [
    "stan_hist(model_1, pars = pars)"
   ]
  },
  {
   "cell_type": "markdown",
   "id": "cfc2c19c",
   "metadata": {},
   "source": [
    "As we might expect, our model is confident of a reasonably strong positive effect from academic selection. Moreover, it is quite confident that most of this effect comes from being positively selected (the transition from level 2 to level 3, corresponding to $\\delta^A_2$). The model is also reasonably confident of a separate (very) small negative effect for section. I.e. as section increases expected score gets slightly worse, though not confident enough that the 95% credible interval excludes 0. The model is also not very sure at all about the relative sizes of the individual $\\delta^S$ values.\n",
    "\n",
    "Further examining the model's $\\beta_S$ values, we see below that around 72% of the time the model samples a value for $\\beta_S$ less than -0.05. On the other hand around 86% of the samples were below -0.01. This is reasonable confidence of an effect (though not reaching the legendary 95% associated with classical statistical significance). However, it's worth pointing out that an effect magnitude of 0.05 is quite small in this context, representing 5% of a standard deviation, or roughly 1 mark. "
   ]
  },
  {
   "cell_type": "code",
   "execution_count": 49,
   "id": "3fd1871c",
   "metadata": {},
   "outputs": [
    {
     "data": {
      "text/html": [
       "'Proportion less than -0.05: 0.72095'"
      ],
      "text/latex": [
       "'Proportion less than -0.05: 0.72095'"
      ],
      "text/markdown": [
       "'Proportion less than -0.05: 0.72095'"
      ],
      "text/plain": [
       "[1] \"Proportion less than -0.05: 0.72095\""
      ]
     },
     "metadata": {},
     "output_type": "display_data"
    },
    {
     "data": {
      "text/html": [
       "'Proportion less than -0.01: 0.86495'"
      ],
      "text/latex": [
       "'Proportion less than -0.01: 0.86495'"
      ],
      "text/markdown": [
       "'Proportion less than -0.01: 0.86495'"
      ],
      "text/plain": [
       "[1] \"Proportion less than -0.01: 0.86495\""
      ]
     },
     "metadata": {},
     "output_type": "display_data"
    }
   ],
   "source": [
    "samples <- extract(model_1, 'bS') \n",
    "counts <- ifelse(samples$bS < -0.05, 1, 0)\n",
    "p <- sum(counts)/length(counts)\n",
    "paste(\"Proportion less than -0.05:\", p, sep = \" \")\n",
    "\n",
    "samples <- extract(model_1, 'bS') \n",
    "counts <- ifelse(samples$bS < -0.01, 1, 0)\n",
    "p <- sum(counts)/length(counts)\n",
    "paste(\"Proportion less than -0.01:\", p, sep = \" \")"
   ]
  },
  {
   "cell_type": "markdown",
   "id": "7414cdfc",
   "metadata": {},
   "source": [
    "### The second model\n",
    "This second model is simpler. We obtain it from the first by just omitting section information. In other words, we are examining only the effect of academic selection."
   ]
  },
  {
   "cell_type": "code",
   "execution_count": 50,
   "id": "0e2f1663",
   "metadata": {},
   "outputs": [],
   "source": [
    "code_2 <- 'data{\n",
    "    vector[1571] E;\n",
    "    int A[1571];\n",
    "    vector[2] alpha;\n",
    "}\n",
    "parameters{\n",
    "    real sigma;\n",
    "    real bA;\n",
    "    real a;\n",
    "    simplex[2] deltaA;\n",
    "}\n",
    "\n",
    "transformed parameters{\n",
    "vector[3] deltaA_j;\n",
    "deltaA_j = append_row(0, deltaA);\n",
    "}\n",
    "\n",
    "model{\n",
    "    vector[1571] phi;\n",
    "    deltaA ~ dirichlet( alpha );\n",
    "    a ~ normal( 0 , 1 );\n",
    "    bA ~ normal( 0 , 1 );\n",
    "    sigma ~ exponential( 1 );\n",
    "    for ( i in 1:1571 ) {\n",
    "        phi[i] = a + bA * sum(deltaA_j[1:A[i]]);\n",
    "    }\n",
    "    E ~ normal( phi , sigma );\n",
    "}\n",
    "generated quantities{\n",
    "  vector[1571] log_lik;\n",
    "  \n",
    "  for (i in 1:1571) log_lik[i] = normal_lpdf(E[i] | a + bA * sum(deltaA_j[1:A[i]]), sigma);\n",
    "}\n",
    "'"
   ]
  },
  {
   "cell_type": "code",
   "execution_count": 51,
   "id": "0ddd32f9",
   "metadata": {},
   "outputs": [],
   "source": [
    "model_2 <- stan( model_code = code_2 , data = dat , chains=4, cores = 4, iter = 10000 )"
   ]
  },
  {
   "cell_type": "code",
   "execution_count": 52,
   "id": "2276b865",
   "metadata": {},
   "outputs": [
    {
     "data": {
      "image/png": "[encoded data removed]",
      "text/plain": [
       "plot without title"
      ]
     },
     "metadata": {
      "image/png": {
       "height": 420,
       "width": 420
      }
     },
     "output_type": "display_data"
    }
   ],
   "source": [
    "pars = c('sigma', 'a', 'bA', 'deltaA')\n",
    "\n",
    "stan_trace(model_2, pars = pars)"
   ]
  },
  {
   "cell_type": "code",
   "execution_count": 53,
   "id": "7b009df0",
   "metadata": {},
   "outputs": [
    {
     "data": {
      "text/html": [
       "<table class=\"dataframe\">\n",
       "<caption>A matrix: 5 × 7 of type dbl</caption>\n",
       "<thead>\n",
       "\t<tr><th></th><th scope=col>mean</th><th scope=col>se_mean</th><th scope=col>sd</th><th scope=col>2.5%</th><th scope=col>97.5%</th><th scope=col>n_eff</th><th scope=col>Rhat</th></tr>\n",
       "</thead>\n",
       "<tbody>\n",
       "\t<tr><th scope=row>sigma</th><td> 0.9472328</td><td>0.0001263321</td><td>0.01673070</td><td> 0.9152609</td><td> 0.9811132</td><td>17538.83</td><td>1.0000001</td></tr>\n",
       "\t<tr><th scope=row>a</th><td>-0.2861235</td><td>0.0003551966</td><td>0.03757639</td><td>-0.3599035</td><td>-0.2121190</td><td>11191.61</td><td>1.0001827</td></tr>\n",
       "\t<tr><th scope=row>bA</th><td> 0.8520498</td><td>0.0005586546</td><td>0.06509979</td><td> 0.7267120</td><td> 0.9804193</td><td>13579.15</td><td>0.9999018</td></tr>\n",
       "\t<tr><th scope=row>deltaA[1]</th><td> 0.3385262</td><td>0.0004812559</td><td>0.05729380</td><td> 0.2254172</td><td> 0.4518008</td><td>14173.05</td><td>0.9999111</td></tr>\n",
       "\t<tr><th scope=row>deltaA[2]</th><td> 0.6614738</td><td>0.0004812559</td><td>0.05729380</td><td> 0.5481992</td><td> 0.7745828</td><td>14173.05</td><td>0.9999111</td></tr>\n",
       "</tbody>\n",
       "</table>\n"
      ],
      "text/latex": [
       "A matrix: 5 × 7 of type dbl\n",
       "\\begin{tabular}{r|lllllll}\n",
       "  & mean & se\\_mean & sd & 2.5\\% & 97.5\\% & n\\_eff & Rhat\\\\\n",
       "\\hline\n",
       "\tsigma &  0.9472328 & 0.0001263321 & 0.01673070 &  0.9152609 &  0.9811132 & 17538.83 & 1.0000001\\\\\n",
       "\ta & -0.2861235 & 0.0003551966 & 0.03757639 & -0.3599035 & -0.2121190 & 11191.61 & 1.0001827\\\\\n",
       "\tbA &  0.8520498 & 0.0005586546 & 0.06509979 &  0.7267120 &  0.9804193 & 13579.15 & 0.9999018\\\\\n",
       "\tdeltaA{[}1{]} &  0.3385262 & 0.0004812559 & 0.05729380 &  0.2254172 &  0.4518008 & 14173.05 & 0.9999111\\\\\n",
       "\tdeltaA{[}2{]} &  0.6614738 & 0.0004812559 & 0.05729380 &  0.5481992 &  0.7745828 & 14173.05 & 0.9999111\\\\\n",
       "\\end{tabular}\n"
      ],
      "text/markdown": [
       "\n",
       "A matrix: 5 × 7 of type dbl\n",
       "\n",
       "| <!--/--> | mean | se_mean | sd | 2.5% | 97.5% | n_eff | Rhat |\n",
       "|---|---|---|---|---|---|---|---|\n",
       "| sigma |  0.9472328 | 0.0001263321 | 0.01673070 |  0.9152609 |  0.9811132 | 17538.83 | 1.0000001 |\n",
       "| a | -0.2861235 | 0.0003551966 | 0.03757639 | -0.3599035 | -0.2121190 | 11191.61 | 1.0001827 |\n",
       "| bA |  0.8520498 | 0.0005586546 | 0.06509979 |  0.7267120 |  0.9804193 | 13579.15 | 0.9999018 |\n",
       "| deltaA[1] |  0.3385262 | 0.0004812559 | 0.05729380 |  0.2254172 |  0.4518008 | 14173.05 | 0.9999111 |\n",
       "| deltaA[2] |  0.6614738 | 0.0004812559 | 0.05729380 |  0.5481992 |  0.7745828 | 14173.05 | 0.9999111 |\n",
       "\n"
      ],
      "text/plain": [
       "          mean       se_mean      sd         2.5%       97.5%      n_eff   \n",
       "sigma      0.9472328 0.0001263321 0.01673070  0.9152609  0.9811132 17538.83\n",
       "a         -0.2861235 0.0003551966 0.03757639 -0.3599035 -0.2121190 11191.61\n",
       "bA         0.8520498 0.0005586546 0.06509979  0.7267120  0.9804193 13579.15\n",
       "deltaA[1]  0.3385262 0.0004812559 0.05729380  0.2254172  0.4518008 14173.05\n",
       "deltaA[2]  0.6614738 0.0004812559 0.05729380  0.5481992  0.7745828 14173.05\n",
       "          Rhat     \n",
       "sigma     1.0000001\n",
       "a         1.0001827\n",
       "bA        0.9999018\n",
       "deltaA[1] 0.9999111\n",
       "deltaA[2] 0.9999111"
      ]
     },
     "metadata": {},
     "output_type": "display_data"
    }
   ],
   "source": [
    "results_2 <- summary(model_2, pars = pars, \n",
    "                     probs = c(0.025, 0.975))$summary\n",
    "results_2"
   ]
  },
  {
   "cell_type": "code",
   "execution_count": 54,
   "id": "6c3d23e8",
   "metadata": {},
   "outputs": [
    {
     "name": "stderr",
     "output_type": "stream",
     "text": [
      "\u001b[1m\u001b[22m`stat_bin()` using `bins = 30`. Pick better value with `binwidth`.\n"
     ]
    },
    {
     "data": {
      "image/png": "[encoded data removed]",
      "text/plain": [
       "plot without title"
      ]
     },
     "metadata": {
      "image/png": {
       "height": 420,
       "width": 420
      }
     },
     "output_type": "display_data"
    }
   ],
   "source": [
    "stan_hist(model_2, pars = pars)"
   ]
  },
  {
   "cell_type": "markdown",
   "id": "3531c881",
   "metadata": {},
   "source": [
    "### Comparing the models\n",
    "As we see below, the PSIS approximations of leave-one-out cross-validation (provided by the loo package) show a very small preference for the second model. In other words, the analysis expects the model with section information to generalize slightly better. This is another reason for skepticism towards the idea that section number plays a significant role in determining exam performance."
   ]
  },
  {
   "cell_type": "code",
   "execution_count": 55,
   "id": "0460ec43",
   "metadata": {},
   "outputs": [
    {
     "name": "stderr",
     "output_type": "stream",
     "text": [
      "This is loo version 2.5.1\n",
      "\n",
      "- Online documentation and vignettes at mc-stan.org/loo\n",
      "\n",
      "- As of v2.0.0 loo defaults to 1 core but we recommend using as many as possible. Use the 'cores' argument or set options(mc.cores = NUM_CORES) for an entire session. \n",
      "\n",
      "- Windows 10 users: loo may be very slow if 'mc.cores' is set in your .Rprofile file (see https://github.com/stan-dev/loo/issues/94).\n",
      "\n",
      "\n",
      "Attaching package: 'loo'\n",
      "\n",
      "\n",
      "The following object is masked from 'package:rstan':\n",
      "\n",
      "    loo\n",
      "\n",
      "\n"
     ]
    },
    {
     "name": "stdout",
     "output_type": "stream",
     "text": [
      "       elpd_diff se_diff elpd_loo se_elpd_loo p_loo   se_p_loo looic   se_looic\n",
      "model2     0.0       0.0 -2145.9     25.3         3.8     0.2   4291.7    50.6 \n",
      "model1    -0.4       1.2 -2146.3     25.3         5.0     0.2   4292.6    50.6 \n"
     ]
    }
   ],
   "source": [
    "library(loo)\n",
    "\n",
    "loo_1 <- loo(model_1)\n",
    "loo_2 <- loo(model_2)\n",
    "\n",
    "\n",
    "comp <- loo_compare(loo_1, loo_2)\n",
    "print(comp, simplify=FALSE)"
   ]
  },
  {
   "cell_type": "markdown",
   "id": "3eabffb7",
   "metadata": {},
   "source": [
    "<a id='conc'></a>\n",
    "## 10. Conclusions\n",
    "None of our tests produced a statistically significant effect (as classically understood) for section numbering on academic performance, after accounting for academic selection. In addition, PSIS on the two Bayesian models showed a slight preference for the model that did not include section numbering as an explanatory variable. Moreover, in our classical tests the power analyses revealed that we would be very likely to detect effects with $d\\geq 0.3$ during random testing, so we can be reasonably confident that we did not miss anything other than a small (in terms of $d$ value) effect.\n",
    "\n",
    "On the other hand, the Bayesian model that included section numbering was fairly confident that section numbering had a small effect (recall that roughly 71% of the time the sampled value of $\\beta_S$ was less than -0.05), and the PSIS preference for the other model was hardly decisive. An effect of size 0.05 translates to around 1 mark on the outcome scale, so the model is leaning towards the idea that being in section 1 rather than section 3 is worth at least one extra mark come exam time (though no more than around 8 marks as $\\beta_S$ values of less than 0.4 are very rare in the model). This does not sound like a lot, but it can be extremely significant to students when 1 point on the exam may represent transition to a different letter grade.  \n",
    "\n",
    "In situations like this we should consider the relative costs of making an error (type 1 or type 2) before deciding how to act. This is something that traditional significance testing with its 5% threshold does not take into account. Here, the cost of acting on a type 1 error (i.e. believing section numbering makes a difference when actually it does not) is that sections are renamed into something without an implicit ordering. This may involve some irritation for administrators, but it seems unlikely to cause problems beyond that. On the other hand, the cost of a type 2 error here (i.e. believing section numbering makes no difference when actually it does) is students in section 1 getting (on average) a handful of extra marks on their exams relative to section 3 students. Note that this is not to say that the section 1 students would not deserve the extra marks based on their exam performances. In other words, come exam time they would have earned those marks through better exam performance. Rather I mean that being in section 1 would have given them an unearned advantage during the learning process that manifested as a higher exam score. This to me seems like a more significant problem. \n",
    "\n",
    "Since our first model leans in this direction, in lieu of further research it could be a good idea to rethink the numerical section numbering in the faculty, and avoid it elsewhere. This is not to say that we should be confident that numerical section numbering makes a small difference (and we can be highly confident that it doesn't make a big difference), just that there seems to me to be enough evidence to make making a change worth the small amount of effort. The issues associated with error in this direction seem to me to be minimal.\n",
    "\n",
    "Of course, further analysis using data for more exams and/or more students would provide useful information that could settle\n",
    "the question more decisively. \n",
    "\n",
    "Update: I added some extra notebooks extending this analysis to other exams taken by (mostly) the same students."
   ]
  }
 ],
 "metadata": {
  "kernelspec": {
   "display_name": "R",
   "language": "R",
   "name": "ir"
  },
  "language_info": {
   "codemirror_mode": "r",
   "file_extension": ".r",
   "mimetype": "text/x-r-source",
   "name": "R",
   "pygments_lexer": "r",
   "version": "4.2.2"
  }
 },
 "nbformat": 4,
 "nbformat_minor": 5
}
