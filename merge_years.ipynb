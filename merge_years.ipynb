{
 "cells": [
  {
   "cell_type": "code",
   "execution_count": 1,
   "id": "4694df67",
   "metadata": {},
   "outputs": [],
   "source": [
    "import pandas as pd"
   ]
  },
  {
   "cell_type": "code",
   "execution_count": 2,
   "id": "475624c4",
   "metadata": {},
   "outputs": [],
   "source": [
    "file_path_1 = 'students_1_anon_id.csv'\n",
    "file_path_2 = 'students_2_anon_id.csv'\n",
    "\n",
    "df_1 = pd.read_csv(file_path_1)\n",
    "df_2 = pd.read_csv(file_path_2)"
   ]
  },
  {
   "cell_type": "code",
   "execution_count": 3,
   "id": "90cf1357",
   "metadata": {},
   "outputs": [
    {
     "name": "stdout",
     "output_type": "stream",
     "text": [
      "(1627, 5)\n",
      "(1457, 8)\n"
     ]
    }
   ],
   "source": [
    "print(df_1.shape)\n",
    "print(df_2.shape)"
   ]
  },
  {
   "cell_type": "code",
   "execution_count": 4,
   "id": "a34a9167",
   "metadata": {},
   "outputs": [],
   "source": [
    "df_trim_1 = df_1[df_1.Repeat != 1].drop(columns = ['Repeat'])\n",
    "df_trim_2 = df_2[df_2.Repeat != 1].drop(columns = ['Repeat'])"
   ]
  },
  {
   "cell_type": "code",
   "execution_count": 5,
   "id": "7875f64b",
   "metadata": {},
   "outputs": [
    {
     "name": "stdout",
     "output_type": "stream",
     "text": [
      "(1585, 4)\n",
      "(1409, 7)\n"
     ]
    }
   ],
   "source": [
    "print(df_trim_1.shape)\n",
    "print(df_trim_2.shape)"
   ]
  },
  {
   "cell_type": "code",
   "execution_count": 6,
   "id": "ba0359af",
   "metadata": {},
   "outputs": [
    {
     "name": "stdout",
     "output_type": "stream",
     "text": [
      "(1585, 4)\n",
      "(1409, 7)\n"
     ]
    }
   ],
   "source": [
    "print(df_trim_1.drop_duplicates(subset = 'ID').shape)\n",
    "print(df_trim_2.drop_duplicates(subset = 'ID').shape)"
   ]
  },
  {
   "cell_type": "code",
   "execution_count": 7,
   "id": "abb48332",
   "metadata": {},
   "outputs": [],
   "source": [
    "df_trim_1 = df_trim_1.rename(columns={'Year' : 'Cohort', 'Total' : 'Exam Y2'})\n",
    "df_trim_2 = df_trim_2.rename(columns={'Midterm' : 'Midterm Y1', 'Final' : 'Final Y1', \n",
    "                                      'Teacher midterm' : 'Teacher Midterm Y1',\n",
    "                                      'Teacher final' : 'Teacher Final Y1', \n",
    "                                     'Year' : 'Cohort Y1'})"
   ]
  },
  {
   "cell_type": "code",
   "execution_count": 8,
   "id": "a44d9143",
   "metadata": {},
   "outputs": [
    {
     "data": {
      "text/plain": [
       "(1674, 10)"
      ]
     },
     "execution_count": 8,
     "metadata": {},
     "output_type": "execute_result"
    }
   ],
   "source": [
    "df_merged = pd.merge(df_trim_1, df_trim_2, how = 'outer', on = 'ID')\n",
    "df_merged.shape"
   ]
  },
  {
   "cell_type": "code",
   "execution_count": 9,
   "id": "938d863f",
   "metadata": {},
   "outputs": [
    {
     "data": {
      "text/plain": [
       "(1674, 10)"
      ]
     },
     "execution_count": 9,
     "metadata": {},
     "output_type": "execute_result"
    }
   ],
   "source": [
    "df_merged.drop_duplicates(subset = 'ID').shape"
   ]
  },
  {
   "cell_type": "code",
   "execution_count": 10,
   "id": "c6881a96",
   "metadata": {},
   "outputs": [
    {
     "data": {
      "text/plain": [
       "425"
      ]
     },
     "execution_count": 10,
     "metadata": {},
     "output_type": "execute_result"
    }
   ],
   "source": [
    "filter = (df_merged['Section_x'] != df_merged['Section_y'])\n",
    "sum(filter)"
   ]
  },
  {
   "cell_type": "code",
   "execution_count": 11,
   "id": "ee34c24b",
   "metadata": {},
   "outputs": [],
   "source": [
    "df_merged['Section_x'] = df_merged['Section_x'].fillna(df_merged['Section_y'])\n",
    "df_merged['Section_y'] = df_merged['Section_y'].fillna(df_merged['Section_x'])"
   ]
  },
  {
   "cell_type": "code",
   "execution_count": 12,
   "id": "2b802d45",
   "metadata": {},
   "outputs": [
    {
     "data": {
      "text/plain": [
       "71"
      ]
     },
     "execution_count": 12,
     "metadata": {},
     "output_type": "execute_result"
    }
   ],
   "source": [
    "filter = (df_merged['Section_x'] != df_merged['Section_y'])\n",
    "sum(filter)"
   ]
  },
  {
   "cell_type": "code",
   "execution_count": 13,
   "id": "b1c99811",
   "metadata": {},
   "outputs": [],
   "source": [
    "df_merged = df_merged.rename(columns = {'Section_y' : 'Section Y1', 'Section_x' : 'Section Y2'})\n",
    "\n",
    "df_merged = df_merged[['ID','Cohort', 'Cohort Y1', 'Section Y1', 'Midterm Y1', 'Final Y1', \n",
    "                       'Teacher Midterm Y1', 'Teacher Final Y1', 'Section Y2', 'Exam Y2']]\n",
    "\n",
    "df_merged['Cohort'] = df_merged['Cohort'].fillna(df_merged['Cohort Y1'] + 1)"
   ]
  },
  {
   "cell_type": "code",
   "execution_count": 14,
   "id": "b9f11a97",
   "metadata": {},
   "outputs": [
    {
     "data": {
      "text/html": [
       "<div>\n",
       "<style scoped>\n",
       "    .dataframe tbody tr th:only-of-type {\n",
       "        vertical-align: middle;\n",
       "    }\n",
       "\n",
       "    .dataframe tbody tr th {\n",
       "        vertical-align: top;\n",
       "    }\n",
       "\n",
       "    .dataframe thead th {\n",
       "        text-align: right;\n",
       "    }\n",
       "</style>\n",
       "<table border=\"1\" class=\"dataframe\">\n",
       "  <thead>\n",
       "    <tr style=\"text-align: right;\">\n",
       "      <th></th>\n",
       "      <th>ID</th>\n",
       "      <th>Cohort</th>\n",
       "      <th>Cohort Y1</th>\n",
       "      <th>Section Y1</th>\n",
       "      <th>Midterm Y1</th>\n",
       "      <th>Final Y1</th>\n",
       "      <th>Teacher Midterm Y1</th>\n",
       "      <th>Teacher Final Y1</th>\n",
       "      <th>Section Y2</th>\n",
       "      <th>Exam Y2</th>\n",
       "    </tr>\n",
       "  </thead>\n",
       "  <tbody>\n",
       "    <tr>\n",
       "      <th>0</th>\n",
       "      <td>8cb62c08e2695c3e196ce7bf4a8152c344ab73318cdae5...</td>\n",
       "      <td>1.0</td>\n",
       "      <td>NaN</td>\n",
       "      <td>1.0</td>\n",
       "      <td>NaN</td>\n",
       "      <td>NaN</td>\n",
       "      <td>NaN</td>\n",
       "      <td>NaN</td>\n",
       "      <td>1.0</td>\n",
       "      <td>97.78</td>\n",
       "    </tr>\n",
       "    <tr>\n",
       "      <th>1</th>\n",
       "      <td>df8e5c6d0707db0ccbf67c8cc86763fad20aeb4ef6322c...</td>\n",
       "      <td>1.0</td>\n",
       "      <td>NaN</td>\n",
       "      <td>2.0</td>\n",
       "      <td>NaN</td>\n",
       "      <td>NaN</td>\n",
       "      <td>NaN</td>\n",
       "      <td>NaN</td>\n",
       "      <td>2.0</td>\n",
       "      <td>95.56</td>\n",
       "    </tr>\n",
       "    <tr>\n",
       "      <th>2</th>\n",
       "      <td>0e2f5ec7f3639a6efd42afd171278231d7878b7c0e0ebd...</td>\n",
       "      <td>1.0</td>\n",
       "      <td>NaN</td>\n",
       "      <td>1.0</td>\n",
       "      <td>NaN</td>\n",
       "      <td>NaN</td>\n",
       "      <td>NaN</td>\n",
       "      <td>NaN</td>\n",
       "      <td>1.0</td>\n",
       "      <td>95.56</td>\n",
       "    </tr>\n",
       "    <tr>\n",
       "      <th>3</th>\n",
       "      <td>76eb7e409171b6f9a4178e4c9bc11f4fc8f8cfd8e8d0d8...</td>\n",
       "      <td>1.0</td>\n",
       "      <td>NaN</td>\n",
       "      <td>1.0</td>\n",
       "      <td>NaN</td>\n",
       "      <td>NaN</td>\n",
       "      <td>NaN</td>\n",
       "      <td>NaN</td>\n",
       "      <td>1.0</td>\n",
       "      <td>94.44</td>\n",
       "    </tr>\n",
       "    <tr>\n",
       "      <th>4</th>\n",
       "      <td>c7234fee9a45b76f1190bf680ee556b1d00a6d58e665f9...</td>\n",
       "      <td>1.0</td>\n",
       "      <td>NaN</td>\n",
       "      <td>1.0</td>\n",
       "      <td>NaN</td>\n",
       "      <td>NaN</td>\n",
       "      <td>NaN</td>\n",
       "      <td>NaN</td>\n",
       "      <td>1.0</td>\n",
       "      <td>93.33</td>\n",
       "    </tr>\n",
       "    <tr>\n",
       "      <th>...</th>\n",
       "      <td>...</td>\n",
       "      <td>...</td>\n",
       "      <td>...</td>\n",
       "      <td>...</td>\n",
       "      <td>...</td>\n",
       "      <td>...</td>\n",
       "      <td>...</td>\n",
       "      <td>...</td>\n",
       "      <td>...</td>\n",
       "      <td>...</td>\n",
       "    </tr>\n",
       "    <tr>\n",
       "      <th>1669</th>\n",
       "      <td>130c728572ac4b39b49a78d82ef243282ef4f227eb3df3...</td>\n",
       "      <td>9.0</td>\n",
       "      <td>8.0</td>\n",
       "      <td>1.0</td>\n",
       "      <td>54.7</td>\n",
       "      <td>29.1</td>\n",
       "      <td>2.0</td>\n",
       "      <td>2.0</td>\n",
       "      <td>1.0</td>\n",
       "      <td>NaN</td>\n",
       "    </tr>\n",
       "    <tr>\n",
       "      <th>1670</th>\n",
       "      <td>c8155fa62cefe824483e42766e3b9eda5b1eef0d6874eb...</td>\n",
       "      <td>9.0</td>\n",
       "      <td>8.0</td>\n",
       "      <td>1.0</td>\n",
       "      <td>37.9</td>\n",
       "      <td>26.5</td>\n",
       "      <td>2.0</td>\n",
       "      <td>2.0</td>\n",
       "      <td>1.0</td>\n",
       "      <td>NaN</td>\n",
       "    </tr>\n",
       "    <tr>\n",
       "      <th>1671</th>\n",
       "      <td>2e3726d7f39132fb993b21fbe8bb8a3f3c44c6365ba521...</td>\n",
       "      <td>9.0</td>\n",
       "      <td>8.0</td>\n",
       "      <td>1.0</td>\n",
       "      <td>47.9</td>\n",
       "      <td>40.3</td>\n",
       "      <td>2.0</td>\n",
       "      <td>2.0</td>\n",
       "      <td>1.0</td>\n",
       "      <td>NaN</td>\n",
       "    </tr>\n",
       "    <tr>\n",
       "      <th>1672</th>\n",
       "      <td>ba3d37c529ac94b19fcbd76f5eb1bf6c89279b40768c52...</td>\n",
       "      <td>9.0</td>\n",
       "      <td>8.0</td>\n",
       "      <td>2.0</td>\n",
       "      <td>34.7</td>\n",
       "      <td>42</td>\n",
       "      <td>1.0</td>\n",
       "      <td>1.0</td>\n",
       "      <td>2.0</td>\n",
       "      <td>NaN</td>\n",
       "    </tr>\n",
       "    <tr>\n",
       "      <th>1673</th>\n",
       "      <td>c839a17fc07f86d063b57c2a024b411061e9a4da7e63d2...</td>\n",
       "      <td>9.0</td>\n",
       "      <td>8.0</td>\n",
       "      <td>3.0</td>\n",
       "      <td>86.4</td>\n",
       "      <td>81.4</td>\n",
       "      <td>4.0</td>\n",
       "      <td>1.0</td>\n",
       "      <td>3.0</td>\n",
       "      <td>NaN</td>\n",
       "    </tr>\n",
       "  </tbody>\n",
       "</table>\n",
       "<p>1674 rows × 10 columns</p>\n",
       "</div>"
      ],
      "text/plain": [
       "                                                     ID  Cohort  Cohort Y1  \\\n",
       "0     8cb62c08e2695c3e196ce7bf4a8152c344ab73318cdae5...     1.0        NaN   \n",
       "1     df8e5c6d0707db0ccbf67c8cc86763fad20aeb4ef6322c...     1.0        NaN   \n",
       "2     0e2f5ec7f3639a6efd42afd171278231d7878b7c0e0ebd...     1.0        NaN   \n",
       "3     76eb7e409171b6f9a4178e4c9bc11f4fc8f8cfd8e8d0d8...     1.0        NaN   \n",
       "4     c7234fee9a45b76f1190bf680ee556b1d00a6d58e665f9...     1.0        NaN   \n",
       "...                                                 ...     ...        ...   \n",
       "1669  130c728572ac4b39b49a78d82ef243282ef4f227eb3df3...     9.0        8.0   \n",
       "1670  c8155fa62cefe824483e42766e3b9eda5b1eef0d6874eb...     9.0        8.0   \n",
       "1671  2e3726d7f39132fb993b21fbe8bb8a3f3c44c6365ba521...     9.0        8.0   \n",
       "1672  ba3d37c529ac94b19fcbd76f5eb1bf6c89279b40768c52...     9.0        8.0   \n",
       "1673  c839a17fc07f86d063b57c2a024b411061e9a4da7e63d2...     9.0        8.0   \n",
       "\n",
       "      Section Y1 Midterm Y1 Final Y1  Teacher Midterm Y1  Teacher Final Y1  \\\n",
       "0            1.0        NaN      NaN                 NaN               NaN   \n",
       "1            2.0        NaN      NaN                 NaN               NaN   \n",
       "2            1.0        NaN      NaN                 NaN               NaN   \n",
       "3            1.0        NaN      NaN                 NaN               NaN   \n",
       "4            1.0        NaN      NaN                 NaN               NaN   \n",
       "...          ...        ...      ...                 ...               ...   \n",
       "1669         1.0       54.7     29.1                 2.0               2.0   \n",
       "1670         1.0       37.9     26.5                 2.0               2.0   \n",
       "1671         1.0       47.9     40.3                 2.0               2.0   \n",
       "1672         2.0       34.7       42                 1.0               1.0   \n",
       "1673         3.0       86.4     81.4                 4.0               1.0   \n",
       "\n",
       "      Section Y2 Exam Y2  \n",
       "0            1.0   97.78  \n",
       "1            2.0   95.56  \n",
       "2            1.0   95.56  \n",
       "3            1.0   94.44  \n",
       "4            1.0   93.33  \n",
       "...          ...     ...  \n",
       "1669         1.0     NaN  \n",
       "1670         1.0     NaN  \n",
       "1671         1.0     NaN  \n",
       "1672         2.0     NaN  \n",
       "1673         3.0     NaN  \n",
       "\n",
       "[1674 rows x 10 columns]"
      ]
     },
     "execution_count": 14,
     "metadata": {},
     "output_type": "execute_result"
    }
   ],
   "source": [
    "df_merged"
   ]
  },
  {
   "cell_type": "code",
   "execution_count": 15,
   "id": "d83632a9",
   "metadata": {},
   "outputs": [],
   "source": [
    "df_merged = df_merged.drop(columns=['ID', 'Cohort Y1'])\n"
   ]
  },
  {
   "cell_type": "code",
   "execution_count": 16,
   "id": "811552d6",
   "metadata": {},
   "outputs": [],
   "source": [
    "df_merged.to_csv('students_combined.csv', encoding='utf-8', index=False)"
   ]
  }
 ],
 "metadata": {
  "kernelspec": {
   "display_name": "Python 3 (ipykernel)",
   "language": "python",
   "name": "python3"
  },
  "language_info": {
   "codemirror_mode": {
    "name": "ipython",
    "version": 3
   },
   "file_extension": ".py",
   "mimetype": "text/x-python",
   "name": "python",
   "nbconvert_exporter": "python",
   "pygments_lexer": "ipython3",
   "version": "3.10.8"
  }
 },
 "nbformat": 4,
 "nbformat_minor": 5
}
