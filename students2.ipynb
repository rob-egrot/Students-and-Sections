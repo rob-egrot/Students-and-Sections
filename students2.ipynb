{
 "cells": [
  {
   "cell_type": "markdown",
   "id": "7e6245ca",
   "metadata": {},
   "source": [
    "# Students and Sections 2\n",
    "[1. Introduction](#introduction)\n",
    "\n",
    "[2. Preliminary data processing](#prelim)\n",
    "\n",
    "[3. Summarizing the data](#sum)\n",
    "\n",
    "[4. Standardizing the exam scores](#stand)\n",
    "\n",
    "[5. Normality assumptions](#norm)\n",
    "\n",
    "[6. Box plots of standardized scores](#box)\n",
    "\n",
    "[7. Classical investigation of teacher influence](#teach)\n",
    "\n",
    "[8. The influence of section numbering - Classical analysis](#sec)\n",
    "\n",
    "[9. Three Bayseian models](#bayes)\n",
    "\n",
    "[10. Revisiting the dropping of absents](#abs)\n",
    "\n",
    "[11. Dropping year 5](#five)\n",
    "\n",
    "[12. Model without teacher influence](#no_T)\n",
    "\n",
    "[13. A model without section information](#no_sec)\n",
    "\n",
    "[14. Conclusions](#conc)"
   ]
  },
  {
   "cell_type": "markdown",
   "id": "55781b50",
   "metadata": {},
   "source": [
    "<a id='introduction'></a>\n",
    "## 1. Introduction\n",
    "This notebook continues the investigation of student exam results from the previous notebook. The data here is of exam results from two exams in a mathematics course taken in the first year of undergrad. This data partially overlaps with the second year exam data of the previous notebook. The 1st year of the data here is the same cohort as the 2nd year of the data there. In this notebook we will examine only the data from these first year exams. A later notebook will combine the data for a more sophisticated analysis.  \n",
    "\n",
    "A complicating factor for our analysis here is that different sections were taught by different teachers for different exams. Since teachers may in theory have an influence on student performance this needs to be accounted for in some way. Actually it turns out that none of the four teachers involved in this course performed significantly better or worse than the others, and the best (according to loo) Bayesian model we investigate doesn't use the teacher information. "
   ]
  },
  {
   "cell_type": "markdown",
   "id": "04c1ce03",
   "metadata": {},
   "source": [
    "<a id='prelim'></a>\n",
    "## 2. Preliminary data processing\n",
    "This data covers 8 years of a compulsory mathematics course for first year undergraduates. Students are divided into 3 sections (officially numbered 1,2 and 3), except in year 5 when there were only 2 sections due to an unusually small student cohort. Each section was taught by a teacher (4 in total), with most of the teaching being done by two (here unofficially numbered 1 and 2)."
   ]
  },
  {
   "cell_type": "code",
   "execution_count": 1,
   "id": "5ab171e7",
   "metadata": {},
   "outputs": [
    {
     "name": "stderr",
     "output_type": "stream",
     "text": [
      "This is loo version 2.5.1\n",
      "\n",
      "- Online documentation and vignettes at mc-stan.org/loo\n",
      "\n",
      "- As of v2.0.0 loo defaults to 1 core but we recommend using as many as possible. Use the 'cores' argument or set options(mc.cores = NUM_CORES) for an entire session. \n",
      "\n",
      "- Windows 10 users: loo may be very slow if 'mc.cores' is set in your .Rprofile file (see https://github.com/stan-dev/loo/issues/94).\n",
      "\n",
      "Loading required package: StanHeaders\n",
      "\n",
      "\n",
      "rstan version 2.26.13 (Stan version 2.26.1)\n",
      "\n",
      "\n",
      "For execution on a local, multicore CPU with excess RAM we recommend calling\n",
      "options(mc.cores = parallel::detectCores()).\n",
      "To avoid recompilation of unchanged Stan programs, we recommend calling\n",
      "rstan_options(auto_write = TRUE)\n",
      "For within-chain threading using `reduce_sum()` or `map_rect()` Stan functions,\n",
      "change `threads_per_chain` option:\n",
      "rstan_options(threads_per_chain = 1)\n",
      "\n",
      "\n",
      "Do not specify '-march=native' in 'LOCAL_CPPFLAGS' or a Makevars file\n",
      "\n",
      "Warning message in eval(expr, envir, enclos):\n",
      "\"NAs introduced by coercion\"\n",
      "Warning message in eval(expr, envir, enclos):\n",
      "\"NAs introduced by coercion\"\n"
     ]
    },
    {
     "name": "stdout",
     "output_type": "stream",
     "text": [
      "'data.frame':\t1457 obs. of  7 variables:\n",
      " $ Section  : int  1 3 2 3 3 3 2 1 2 3 ...\n",
      " $ Midterm  : num  75 64 32.5 49 43 42.5 72.5 79.5 50.5 53 ...\n",
      " $ Final    : num  62 55 29 55 53 47 58 68 41 9 ...\n",
      " $ Year     : int  1 1 1 1 1 1 1 1 1 1 ...\n",
      " $ Repeat   : int  0 0 0 0 0 0 0 0 0 0 ...\n",
      " $ Teacher_M: int  2 2 2 2 2 2 2 2 2 2 ...\n",
      " $ Teacher_F: int  1 1 1 1 1 1 1 1 1 1 ...\n"
     ]
    }
   ],
   "source": [
    "library(loo)\n",
    "library(rstan)\n",
    "library(pwr)\n",
    "\n",
    "# set number of years\n",
    "num_years <- 8\n",
    "\n",
    "# set number of iterations for Bayesian models\n",
    "num_iters = 5000\n",
    "\n",
    "data <- read.csv(\"students_teachers_anon.csv\", header=TRUE, stringsAsFactors=FALSE)\n",
    "df_base <- data.frame(data)\n",
    "df_base$Midterm <- as.numeric(df_base$Midterm)\n",
    "df_base$Final <- as.numeric(df_base$Final)\n",
    "str(df_base)"
   ]
  },
  {
   "cell_type": "markdown",
   "id": "e928c6ff",
   "metadata": {},
   "source": [
    "We will drop students who did not take both exams (i.e. those who dropped out or withdrew before taking the final). This is not ideal as it throws away some information. Moreover, the chance a student drops out is likely influenced by their teacher. Both directly via the teacher's personality and guidance provided, but also indirectly as it seems plausible that students are more likely to drop out if their scores are expected to be low. Since we cannot predict the dropout risk from the other available data, our missing data here is, in technical terms, *missing not at random*, and thus omitting it is a source of potential bias. We will revisit this later, but for now we will take the simple approach.  "
   ]
  },
  {
   "cell_type": "code",
   "execution_count": 2,
   "id": "ef870479",
   "metadata": {},
   "outputs": [
    {
     "name": "stdout",
     "output_type": "stream",
     "text": [
      "'data.frame':\t1388 obs. of  7 variables:\n",
      " $ Section  : int  1 3 2 3 3 3 2 1 2 3 ...\n",
      " $ Midterm  : num  75 64 32.5 49 43 42.5 72.5 79.5 50.5 53 ...\n",
      " $ Final    : num  62 55 29 55 53 47 58 68 41 9 ...\n",
      " $ Year     : int  1 1 1 1 1 1 1 1 1 1 ...\n",
      " $ Repeat   : int  0 0 0 0 0 0 0 0 0 0 ...\n",
      " $ Teacher_M: int  2 2 2 2 2 2 2 2 2 2 ...\n",
      " $ Teacher_F: int  1 1 1 1 1 1 1 1 1 1 ...\n"
     ]
    }
   ],
   "source": [
    "df <- df_base[ complete.cases(df_base$Midterm, df_base$Final) , ]\n",
    "str(df)"
   ]
  },
  {
   "cell_type": "code",
   "execution_count": 3,
   "id": "bb190f9b",
   "metadata": {},
   "outputs": [
    {
     "name": "stdout",
     "output_type": "stream",
     "text": [
      "'data.frame':\t1359 obs. of  7 variables:\n",
      " $ Section  : int  1 3 2 3 3 3 2 1 2 3 ...\n",
      " $ Midterm  : num  75 64 32.5 49 43 42.5 72.5 79.5 50.5 53 ...\n",
      " $ Final    : num  62 55 29 55 53 47 58 68 41 9 ...\n",
      " $ Year     : int  1 1 1 1 1 1 1 1 1 1 ...\n",
      " $ Repeat   : int  0 0 0 0 0 0 0 0 0 0 ...\n",
      " $ Teacher_M: int  2 2 2 2 2 2 2 2 2 2 ...\n",
      " $ Teacher_F: int  1 1 1 1 1 1 1 1 1 1 ...\n"
     ]
    }
   ],
   "source": [
    "df <- df[!df$Repeat == 1,]\n",
    "str(df)"
   ]
  },
  {
   "cell_type": "markdown",
   "id": "0645fffa",
   "metadata": {},
   "source": [
    "<a id='sum'></a>\n",
    "## 3. Summarizing the data"
   ]
  },
  {
   "cell_type": "code",
   "execution_count": 4,
   "id": "a951187c",
   "metadata": {},
   "outputs": [
    {
     "name": "stderr",
     "output_type": "stream",
     "text": [
      "\n",
      "Attaching package: 'dplyr'\n",
      "\n",
      "\n",
      "The following objects are masked from 'package:stats':\n",
      "\n",
      "    filter, lag\n",
      "\n",
      "\n",
      "The following objects are masked from 'package:base':\n",
      "\n",
      "    intersect, setdiff, setequal, union\n",
      "\n",
      "\n"
     ]
    },
    {
     "data": {
      "text/html": [
       "<table class=\"dataframe\">\n",
       "<caption>A tibble: 8 × 19</caption>\n",
       "<thead>\n",
       "\t<tr><th scope=col>Year</th><th scope=col>total_students</th><th scope=col>total_S1</th><th scope=col>total_S2</th><th scope=col>total_S3</th><th scope=col>teacher_S1_M</th><th scope=col>teacher_S2_M</th><th scope=col>teacher_S3_M</th><th scope=col>overall_average_M</th><th scope=col>mean_M_S1</th><th scope=col>mean_M_S2</th><th scope=col>mean_M_S3</th><th scope=col>teacher_S1_F</th><th scope=col>teacher_S2_F</th><th scope=col>teacher_S3_F</th><th scope=col>overall_average_F</th><th scope=col>mean_F_S1</th><th scope=col>mean_F_S2</th><th scope=col>mean_F_S3</th></tr>\n",
       "\t<tr><th scope=col>&lt;int&gt;</th><th scope=col>&lt;int&gt;</th><th scope=col>&lt;int&gt;</th><th scope=col>&lt;int&gt;</th><th scope=col>&lt;int&gt;</th><th scope=col>&lt;dbl&gt;</th><th scope=col>&lt;dbl&gt;</th><th scope=col>&lt;dbl&gt;</th><th scope=col>&lt;dbl&gt;</th><th scope=col>&lt;dbl&gt;</th><th scope=col>&lt;dbl&gt;</th><th scope=col>&lt;dbl&gt;</th><th scope=col>&lt;dbl&gt;</th><th scope=col>&lt;dbl&gt;</th><th scope=col>&lt;dbl&gt;</th><th scope=col>&lt;dbl&gt;</th><th scope=col>&lt;dbl&gt;</th><th scope=col>&lt;dbl&gt;</th><th scope=col>&lt;dbl&gt;</th></tr>\n",
       "</thead>\n",
       "<tbody>\n",
       "\t<tr><td>1</td><td>245</td><td>77</td><td>84</td><td>84</td><td>2</td><td>2</td><td>  2</td><td>39.77143</td><td>51.11039</td><td>33.21429</td><td>35.93452</td><td>1</td><td>1</td><td>  1</td><td>38.17959</td><td>47.55844</td><td>33.10714</td><td>34.65476</td></tr>\n",
       "\t<tr><td>2</td><td>180</td><td>63</td><td>61</td><td>56</td><td>2</td><td>3</td><td>  1</td><td>44.30278</td><td>58.28571</td><td>37.44262</td><td>36.04464</td><td>2</td><td>3</td><td>  1</td><td>46.06833</td><td>64.04444</td><td>36.45902</td><td>36.31250</td></tr>\n",
       "\t<tr><td>3</td><td>192</td><td>56</td><td>67</td><td>69</td><td>2</td><td>1</td><td>  2</td><td>43.29688</td><td>56.22321</td><td>38.06716</td><td>37.88406</td><td>2</td><td>1</td><td>  2</td><td>48.15104</td><td>60.56250</td><td>39.74627</td><td>46.23913</td></tr>\n",
       "\t<tr><td>4</td><td>140</td><td>53</td><td>41</td><td>46</td><td>2</td><td>1</td><td>  2</td><td>49.87143</td><td>63.46226</td><td>42.57317</td><td>40.71739</td><td>2</td><td>1</td><td>  2</td><td>47.27143</td><td>59.48113</td><td>39.21951</td><td>40.38043</td></tr>\n",
       "\t<tr><td>5</td><td> 87</td><td>49</td><td>38</td><td> 0</td><td>1</td><td>2</td><td>NaN</td><td>53.41954</td><td>64.89796</td><td>38.61842</td><td>     NaN</td><td>1</td><td>2</td><td>NaN</td><td>47.89080</td><td>53.35714</td><td>40.84211</td><td>     NaN</td></tr>\n",
       "\t<tr><td>6</td><td>172</td><td>60</td><td>56</td><td>56</td><td>2</td><td>2</td><td>  1</td><td>40.85756</td><td>43.50000</td><td>38.29464</td><td>40.58929</td><td>1</td><td>2</td><td>  1</td><td>52.54680</td><td>54.52883</td><td>50.80375</td><td>52.16625</td></tr>\n",
       "\t<tr><td>7</td><td>168</td><td>49</td><td>59</td><td>60</td><td>2</td><td>2</td><td>  1</td><td>53.99226</td><td>55.90388</td><td>56.11339</td><td>50.34533</td><td>1</td><td>2</td><td>  1</td><td>57.15417</td><td>58.53673</td><td>60.76949</td><td>52.47000</td></tr>\n",
       "\t<tr><td>8</td><td>175</td><td>59</td><td>56</td><td>60</td><td>2</td><td>1</td><td>  4</td><td>53.83029</td><td>55.69322</td><td>53.94643</td><td>51.89000</td><td>2</td><td>1</td><td>  1</td><td>49.58571</td><td>51.37288</td><td>48.74821</td><td>48.61000</td></tr>\n",
       "</tbody>\n",
       "</table>\n"
      ],
      "text/latex": [
       "A tibble: 8 × 19\n",
       "\\begin{tabular}{lllllllllllllllllll}\n",
       " Year & total\\_students & total\\_S1 & total\\_S2 & total\\_S3 & teacher\\_S1\\_M & teacher\\_S2\\_M & teacher\\_S3\\_M & overall\\_average\\_M & mean\\_M\\_S1 & mean\\_M\\_S2 & mean\\_M\\_S3 & teacher\\_S1\\_F & teacher\\_S2\\_F & teacher\\_S3\\_F & overall\\_average\\_F & mean\\_F\\_S1 & mean\\_F\\_S2 & mean\\_F\\_S3\\\\\n",
       " <int> & <int> & <int> & <int> & <int> & <dbl> & <dbl> & <dbl> & <dbl> & <dbl> & <dbl> & <dbl> & <dbl> & <dbl> & <dbl> & <dbl> & <dbl> & <dbl> & <dbl>\\\\\n",
       "\\hline\n",
       "\t 1 & 245 & 77 & 84 & 84 & 2 & 2 &   2 & 39.77143 & 51.11039 & 33.21429 & 35.93452 & 1 & 1 &   1 & 38.17959 & 47.55844 & 33.10714 & 34.65476\\\\\n",
       "\t 2 & 180 & 63 & 61 & 56 & 2 & 3 &   1 & 44.30278 & 58.28571 & 37.44262 & 36.04464 & 2 & 3 &   1 & 46.06833 & 64.04444 & 36.45902 & 36.31250\\\\\n",
       "\t 3 & 192 & 56 & 67 & 69 & 2 & 1 &   2 & 43.29688 & 56.22321 & 38.06716 & 37.88406 & 2 & 1 &   2 & 48.15104 & 60.56250 & 39.74627 & 46.23913\\\\\n",
       "\t 4 & 140 & 53 & 41 & 46 & 2 & 1 &   2 & 49.87143 & 63.46226 & 42.57317 & 40.71739 & 2 & 1 &   2 & 47.27143 & 59.48113 & 39.21951 & 40.38043\\\\\n",
       "\t 5 &  87 & 49 & 38 &  0 & 1 & 2 & NaN & 53.41954 & 64.89796 & 38.61842 &      NaN & 1 & 2 & NaN & 47.89080 & 53.35714 & 40.84211 &      NaN\\\\\n",
       "\t 6 & 172 & 60 & 56 & 56 & 2 & 2 &   1 & 40.85756 & 43.50000 & 38.29464 & 40.58929 & 1 & 2 &   1 & 52.54680 & 54.52883 & 50.80375 & 52.16625\\\\\n",
       "\t 7 & 168 & 49 & 59 & 60 & 2 & 2 &   1 & 53.99226 & 55.90388 & 56.11339 & 50.34533 & 1 & 2 &   1 & 57.15417 & 58.53673 & 60.76949 & 52.47000\\\\\n",
       "\t 8 & 175 & 59 & 56 & 60 & 2 & 1 &   4 & 53.83029 & 55.69322 & 53.94643 & 51.89000 & 2 & 1 &   1 & 49.58571 & 51.37288 & 48.74821 & 48.61000\\\\\n",
       "\\end{tabular}\n"
      ],
      "text/markdown": [
       "\n",
       "A tibble: 8 × 19\n",
       "\n",
       "| Year &lt;int&gt; | total_students &lt;int&gt; | total_S1 &lt;int&gt; | total_S2 &lt;int&gt; | total_S3 &lt;int&gt; | teacher_S1_M &lt;dbl&gt; | teacher_S2_M &lt;dbl&gt; | teacher_S3_M &lt;dbl&gt; | overall_average_M &lt;dbl&gt; | mean_M_S1 &lt;dbl&gt; | mean_M_S2 &lt;dbl&gt; | mean_M_S3 &lt;dbl&gt; | teacher_S1_F &lt;dbl&gt; | teacher_S2_F &lt;dbl&gt; | teacher_S3_F &lt;dbl&gt; | overall_average_F &lt;dbl&gt; | mean_F_S1 &lt;dbl&gt; | mean_F_S2 &lt;dbl&gt; | mean_F_S3 &lt;dbl&gt; |\n",
       "|---|---|---|---|---|---|---|---|---|---|---|---|---|---|---|---|---|---|---|\n",
       "| 1 | 245 | 77 | 84 | 84 | 2 | 2 |   2 | 39.77143 | 51.11039 | 33.21429 | 35.93452 | 1 | 1 |   1 | 38.17959 | 47.55844 | 33.10714 | 34.65476 |\n",
       "| 2 | 180 | 63 | 61 | 56 | 2 | 3 |   1 | 44.30278 | 58.28571 | 37.44262 | 36.04464 | 2 | 3 |   1 | 46.06833 | 64.04444 | 36.45902 | 36.31250 |\n",
       "| 3 | 192 | 56 | 67 | 69 | 2 | 1 |   2 | 43.29688 | 56.22321 | 38.06716 | 37.88406 | 2 | 1 |   2 | 48.15104 | 60.56250 | 39.74627 | 46.23913 |\n",
       "| 4 | 140 | 53 | 41 | 46 | 2 | 1 |   2 | 49.87143 | 63.46226 | 42.57317 | 40.71739 | 2 | 1 |   2 | 47.27143 | 59.48113 | 39.21951 | 40.38043 |\n",
       "| 5 |  87 | 49 | 38 |  0 | 1 | 2 | NaN | 53.41954 | 64.89796 | 38.61842 |      NaN | 1 | 2 | NaN | 47.89080 | 53.35714 | 40.84211 |      NaN |\n",
       "| 6 | 172 | 60 | 56 | 56 | 2 | 2 |   1 | 40.85756 | 43.50000 | 38.29464 | 40.58929 | 1 | 2 |   1 | 52.54680 | 54.52883 | 50.80375 | 52.16625 |\n",
       "| 7 | 168 | 49 | 59 | 60 | 2 | 2 |   1 | 53.99226 | 55.90388 | 56.11339 | 50.34533 | 1 | 2 |   1 | 57.15417 | 58.53673 | 60.76949 | 52.47000 |\n",
       "| 8 | 175 | 59 | 56 | 60 | 2 | 1 |   4 | 53.83029 | 55.69322 | 53.94643 | 51.89000 | 2 | 1 |   1 | 49.58571 | 51.37288 | 48.74821 | 48.61000 |\n",
       "\n"
      ],
      "text/plain": [
       "  Year total_students total_S1 total_S2 total_S3 teacher_S1_M teacher_S2_M\n",
       "1 1    245            77       84       84       2            2           \n",
       "2 2    180            63       61       56       2            3           \n",
       "3 3    192            56       67       69       2            1           \n",
       "4 4    140            53       41       46       2            1           \n",
       "5 5     87            49       38        0       1            2           \n",
       "6 6    172            60       56       56       2            2           \n",
       "7 7    168            49       59       60       2            2           \n",
       "8 8    175            59       56       60       2            1           \n",
       "  teacher_S3_M overall_average_M mean_M_S1 mean_M_S2 mean_M_S3 teacher_S1_F\n",
       "1   2          39.77143          51.11039  33.21429  35.93452  1           \n",
       "2   1          44.30278          58.28571  37.44262  36.04464  2           \n",
       "3   2          43.29688          56.22321  38.06716  37.88406  2           \n",
       "4   2          49.87143          63.46226  42.57317  40.71739  2           \n",
       "5 NaN          53.41954          64.89796  38.61842       NaN  1           \n",
       "6   1          40.85756          43.50000  38.29464  40.58929  1           \n",
       "7   1          53.99226          55.90388  56.11339  50.34533  1           \n",
       "8   4          53.83029          55.69322  53.94643  51.89000  2           \n",
       "  teacher_S2_F teacher_S3_F overall_average_F mean_F_S1 mean_F_S2 mean_F_S3\n",
       "1 1              1          38.17959          47.55844  33.10714  34.65476 \n",
       "2 3              1          46.06833          64.04444  36.45902  36.31250 \n",
       "3 1              2          48.15104          60.56250  39.74627  46.23913 \n",
       "4 1              2          47.27143          59.48113  39.21951  40.38043 \n",
       "5 2            NaN          47.89080          53.35714  40.84211       NaN \n",
       "6 2              1          52.54680          54.52883  50.80375  52.16625 \n",
       "7 2              1          57.15417          58.53673  60.76949  52.47000 \n",
       "8 1              1          49.58571          51.37288  48.74821  48.61000 "
      ]
     },
     "metadata": {},
     "output_type": "display_data"
    }
   ],
   "source": [
    "library(dplyr)\n",
    "d = df %>% group_by(Year) %>% summarise(total_students = length(Section), \n",
    "                                            total_S1 = sum(Section == 1),\n",
    "                                            total_S2 = sum(Section == 2),\n",
    "                                            total_S3 = sum(Section == 3),\n",
    "                                            teacher_S1_M = mean(Teacher_M[Section==1]),\n",
    "                                            teacher_S2_M = mean(Teacher_M[Section==2]),\n",
    "                                            teacher_S3_M = mean(Teacher_M[Section==3]),\n",
    "                                            overall_average_M = mean(Midterm),\n",
    "                                            mean_M_S1 = mean(Midterm[Section == 1]),\n",
    "                                            mean_M_S2 = mean(Midterm[Section == 2]),\n",
    "                                            mean_M_S3 = mean(Midterm[Section == 3]),\n",
    "                                            teacher_S1_F = mean(Teacher_F[Section==1]),\n",
    "                                            teacher_S2_F = mean(Teacher_F[Section==2]),\n",
    "                                            teacher_S3_F = mean(Teacher_F[Section==3]),\n",
    "                                            overall_average_F = mean(Final),\n",
    "                                            mean_F_S1 = mean(Final[Section == 1]),\n",
    "                                            mean_F_S2 = mean(Final[Section == 2]),\n",
    "                                            mean_F_S3 = mean(Final[Section == 3]))\n",
    "\n",
    "d"
   ]
  },
  {
   "cell_type": "code",
   "execution_count": 5,
   "id": "1e8c805a",
   "metadata": {},
   "outputs": [
    {
     "data": {
      "image/png": "[encoded data removed]",
      "text/plain": [
       "plot without title"
      ]
     },
     "metadata": {
      "image/png": {
       "height": 420,
       "width": 420
      }
     },
     "output_type": "display_data"
    },
    {
     "data": {
      "image/png": "[encoded data removed]",
      "text/plain": [
       "plot without title"
      ]
     },
     "metadata": {
      "image/png": {
       "height": 420,
       "width": 420
      }
     },
     "output_type": "display_data"
    }
   ],
   "source": [
    "sections = list(d$mean_M_S1, d$mean_M_S2, d$mean_M_S3)\n",
    "colours = c('black', 'red', 'blue')\n",
    "\n",
    "d$s1_key_1 <- ifelse(d$teacher_S1_M == 1, 19, ifelse(d$teacher_S1_M == 2 , 15, ifelse(d$teacher_S1_M == 3, 7, 3)))\n",
    "d$s2_key_1 <- ifelse(d$teacher_S2_M == 1, 19, ifelse(d$teacher_S2_M == 2 , 15, ifelse(d$teacher_S2_M == 3, 7, 3)))\n",
    "d$s3_key_1 <- ifelse(d$teacher_S3_M == 1, 19, ifelse(d$teacher_S3_M == 2 , 15, ifelse(d$teacher_S3_M == 3, 7, 3)))\n",
    "icons_1 <- list(d$s1_key_1, d$s2_key_1, d$s3_key_1) \n",
    "\n",
    "i = 1\n",
    "for (section in sections)\n",
    "{\n",
    "    plot(d$Year, section, ylim=c(30,68), ylab = \"score Midterm\", xlab = 'year', pch = icons_1[[i]], col = 'black')\n",
    "    lines(d$Year, section, ylim=c(30,68), ylab = \"\", col = colours[i])\n",
    "    par(new = TRUE)\n",
    "    i = i + 1\n",
    "}\n",
    "\n",
    "legend(6.5,42.1, lty = c(1,1,1,0,0,0,0), pch = c(3,3,3,19,15,7,3), \n",
    "       col = c(\"black\", \"red\", \"blue\", \"black\", \"black\", \"black\", \"black\"),\n",
    "       legend = c(\"section 1\",\"section 2\", \"section 3\",\n",
    "                  \"teacher 1\", \"teacher 2\", \"teacher 3\", \"teacher 4\"))\n",
    "\n",
    "sections = list(d$mean_F_S1, d$mean_F_S2, d$mean_F_S3)\n",
    "\n",
    "d$s1_key_2 <- ifelse(d$teacher_S1_F == 1, 19, ifelse(d$teacher_S1_F == 2 , 15, ifelse(d$teacher_S1_F == 3, 7, 3)))\n",
    "d$s2_key_2 <- ifelse(d$teacher_S2_F == 1, 19, ifelse(d$teacher_S2_F == 2 , 15, ifelse(d$teacher_S2_F == 3, 7, 3)))\n",
    "d$s3_key_2 <- ifelse(d$teacher_S3_F == 1, 19, ifelse(d$teacher_S3_F == 2 , 15, ifelse(d$teacher_S3_F == 3, 7, 3)))\n",
    "icons_2 <- list(d$s1_key_2, d$s2_key_2, d$s3_key_2)\n",
    "\n",
    "i = 1\n",
    "for (section in sections)\n",
    "{\n",
    "    plot(d$Year, section, ylim=c(30,68), ylab = \"score Final\", xlab = 'year', pch = icons_2[[i]], col = 'black')\n",
    "    lines(d$Year, section, ylim=c(30,68), ylab = \"\", col = colours[i])\n",
    "    par(new = TRUE)\n",
    "    i = i + 1\n",
    "}\n",
    "\n",
    "legend(6.5,42.1, lty = c(1,1,1,0,0,0), pch = c(3,3,3,19,15,7), \n",
    "       col = c(\"black\", \"red\", \"blue\", \"black\", \"black\", \"black\"),\n",
    "       legend = c(\"section 1\",\"section 2\", \"section 3\",\n",
    "                  \"teacher 1\", \"teacher 2\", \"teacher 3\"))"
   ]
  },
  {
   "cell_type": "markdown",
   "id": "a82818a7",
   "metadata": {},
   "source": [
    "<a id='chart'></a>The charts above have some interesting features. First, there is a big jump in average scores in the 2nd exam of year 6. This coincides with Covid, with the 1st exam being the last to be taken in person, and the exams after being online. One possible reason for this is that the online exams were open book, but we won't investigate this here.\n",
    "\n",
    "Another interesting thing is the performance of the Section 1 students. In years 1 to 4 Section 1 was academically selected, so their higher performance is understandable. But academic selection was abolished in year 5, but the Section 1 students perform significantly better than the section 2 students (there were only 2 sections this year due to a smaller intake). Even more curious, year 5 in this data corresponds to year 6 in the data I used to compare performance of sections. In that data section 1 performed worse than Section 2. Both courses involved are mathematics based, so what explains extremely high relative performance in this case?\n",
    "\n",
    "The format for exams in this subject during years 1-5 is that they are divided into two halves, with each instructor setting half. While this is not in the publicly available data, it turns out that in year 5 Section one did significantly better in both halves of the exam. This is significant because it rules out the hypothesis that the higher performance of Section 1 was due to being given perhaps overly specific guidance by their instructor on the material that would appear in the corresponding half of the exam. "
   ]
  },
  {
   "cell_type": "markdown",
   "id": "2f7d0b67",
   "metadata": {},
   "source": [
    "## 4. Standardizing scores <a id='stand'></a>\n",
    "For meaningful comparisons across years, exam scores will be standardized to give relative performance within year group. "
   ]
  },
  {
   "cell_type": "code",
   "execution_count": 6,
   "id": "5092ba9c",
   "metadata": {},
   "outputs": [
    {
     "name": "stdout",
     "output_type": "stream",
     "text": [
      "'data.frame':\t1359 obs. of  9 variables:\n",
      " $ Section    : int  1 3 2 3 3 3 2 1 2 3 ...\n",
      " $ Midterm    : num  75 64 32.5 49 43 42.5 72.5 79.5 50.5 53 ...\n",
      " $ Final      : num  62 55 29 55 53 47 58 68 41 9 ...\n",
      " $ Year       : int  1 1 1 1 1 1 1 1 1 1 ...\n",
      " $ Repeat     : int  0 0 0 0 0 0 0 0 0 0 ...\n",
      " $ Teacher_M  : int  2 2 2 2 2 2 2 2 2 2 ...\n",
      " $ Teacher_F  : int  1 1 1 1 1 1 1 1 1 1 ...\n",
      " $ Midterm_std: num  1.932 1.329 -0.399 0.506 0.177 ...\n",
      " $ Final_std  : num  1.355 0.957 -0.522 0.957 0.843 ...\n"
     ]
    }
   ],
   "source": [
    "for (y in 1 : num_years){\n",
    "  index <- df$Year == y\n",
    "  m_1 <- mean(df$Midterm[index])\n",
    "  m_2 <- mean(df$Final[index])  \n",
    "  s_1 <- sd(df$Midterm[index])\n",
    "  s_2 <- sd(df$Final[index])\n",
    "  df$Midterm_std[index] <- ( df$Midterm[index] - m_1 )/s_1\n",
    "  df$Final_std[index] <- ( df$Final[index] - m_2 )/s_2  \n",
    "    }\n",
    "\n",
    "str(df)"
   ]
  },
  {
   "cell_type": "markdown",
   "id": "1cf1c3e1",
   "metadata": {},
   "source": [
    "## 5. Normality assumptions <a id='norm'></a>\n",
    "\n",
    "We will start with some simple t-tests. A background assumption for such tests to be valid is that the distributions are roughly normal. We can test this, first by drawing histograms from our data and looking at them, then by drawing Q-Q plots. Formal tests such as the Shapiro-Wilk test are likely to be unhelpful here, as they are generally regarded as being over-sensitive, in the sense that for reasonably large datasets they will reject normality, even when the deviation from normality does not significantly affect the test for which the assumption of normality is being made (such as, I believe, is the case here).\n",
    "\n",
    "We exclude Section 1 for years 1-4 because these students were academically preselected."
   ]
  },
  {
   "cell_type": "code",
   "execution_count": 7,
   "id": "22bac041",
   "metadata": {},
   "outputs": [
    {
     "name": "stdout",
     "output_type": "stream",
     "text": [
      "'data.frame':\t1110 obs. of  9 variables:\n",
      " $ Section    : int  3 2 3 3 3 2 2 3 2 3 ...\n",
      " $ Midterm    : num  64 32.5 49 43 42.5 72.5 50.5 53 27.5 23.5 ...\n",
      " $ Final      : num  55 29 55 53 47 58 41 9 32 34 ...\n",
      " $ Year       : int  1 1 1 1 1 1 1 1 1 1 ...\n",
      " $ Repeat     : int  0 0 0 0 0 0 0 0 0 0 ...\n",
      " $ Teacher_M  : int  2 2 2 2 2 2 2 2 2 2 ...\n",
      " $ Teacher_F  : int  1 1 1 1 1 1 1 1 1 1 ...\n",
      " $ Midterm_std: num  1.329 -0.399 0.506 0.177 0.15 ...\n",
      " $ Final_std  : num  0.957 -0.522 0.957 0.843 0.502 ...\n"
     ]
    }
   ],
   "source": [
    "index <- df$Section == 1 & (df$Year <= 4)\n",
    "\n",
    "df_trimmed <- df[!index,]\n",
    "\n",
    "str(df_trimmed)"
   ]
  },
  {
   "cell_type": "code",
   "execution_count": 8,
   "id": "0356201b",
   "metadata": {},
   "outputs": [
    {
     "data": {
      "image/png": "[encoded data removed]",
      "text/plain": [
       "Plot with title \"Histogram of scores for Teacher 1 in midterm\""
      ]
     },
     "metadata": {
      "image/png": {
       "height": 420,
       "width": 420
      }
     },
     "output_type": "display_data"
    },
    {
     "data": {
      "image/png": "[encoded data removed]",
      "text/plain": [
       "Plot with title \"Histogram of scores for Teacher 2 in midterm\""
      ]
     },
     "metadata": {
      "image/png": {
       "height": 420,
       "width": 420
      }
     },
     "output_type": "display_data"
    },
    {
     "data": {
      "image/png": "[encoded data removed]",
      "text/plain": [
       "Plot with title \"Histogram of scores for Teacher 3 in midterm\""
      ]
     },
     "metadata": {
      "image/png": {
       "height": 420,
       "width": 420
      }
     },
     "output_type": "display_data"
    },
    {
     "data": {
      "image/png": "[encoded data removed]",
      "text/plain": [
       "Plot with title \"Histogram of scores for Teacher 4 in midterm\""
      ]
     },
     "metadata": {
      "image/png": {
       "height": 420,
       "width": 420
      }
     },
     "output_type": "display_data"
    },
    {
     "data": {
      "image/png": "[encoded data removed]",
      "text/plain": [
       "Plot with title \"Histogram of scores for Teacher 1 in final\""
      ]
     },
     "metadata": {
      "image/png": {
       "height": 420,
       "width": 420
      }
     },
     "output_type": "display_data"
    },
    {
     "data": {
      "image/png": "[encoded data removed]",
      "text/plain": [
       "Plot with title \"Histogram of scores for Teacher 2 in final\""
      ]
     },
     "metadata": {
      "image/png": {
       "height": 420,
       "width": 420
      }
     },
     "output_type": "display_data"
    },
    {
     "data": {
      "image/png": "[encoded data removed]",
      "text/plain": [
       "Plot with title \"Histogram of scores for Teacher 3 in final\""
      ]
     },
     "metadata": {
      "image/png": {
       "height": 420,
       "width": 420
      }
     },
     "output_type": "display_data"
    }
   ],
   "source": [
    "for (i in 1:4){ \n",
    "    index = df_trimmed$Teacher_M == i\n",
    "    scores = df_trimmed$Midterm_std[index]\n",
    "    hist(scores, main = paste(\"Histogram of scores for Teacher\", i, \"in midterm\"))\n",
    "    }\n",
    "\n",
    "for (i in 1:3){ \n",
    "    index = df_trimmed$Teacher_F == i\n",
    "    scores = df_trimmed$Final_std[index]\n",
    "    hist(scores, main = paste(\"Histogram of scores for Teacher\", i, \"in final\"))\n",
    "    }"
   ]
  },
  {
   "cell_type": "code",
   "execution_count": 9,
   "id": "a7f8f2d1",
   "metadata": {},
   "outputs": [
    {
     "data": {
      "image/png": "[encoded data removed]",
      "text/plain": [
       "Plot with title \"Teacher 1 Midterm Normal Q-Q plot\""
      ]
     },
     "metadata": {
      "image/png": {
       "height": 420,
       "width": 420
      }
     },
     "output_type": "display_data"
    },
    {
     "data": {
      "image/png": "[encoded data removed]",
      "text/plain": [
       "Plot with title \"Teacher 2 Midterm Normal Q-Q plot\""
      ]
     },
     "metadata": {
      "image/png": {
       "height": 420,
       "width": 420
      }
     },
     "output_type": "display_data"
    },
    {
     "data": {
      "image/png": "[encoded data removed]",
      "text/plain": [
       "Plot with title \"Teacher 3 Midterm Normal Q-Q plot\""
      ]
     },
     "metadata": {
      "image/png": {
       "height": 420,
       "width": 420
      }
     },
     "output_type": "display_data"
    },
    {
     "data": {
      "image/png": "[encoded data removed]",
      "text/plain": [
       "Plot with title \"Teacher 4 Midterm Normal Q-Q plot\""
      ]
     },
     "metadata": {
      "image/png": {
       "height": 420,
       "width": 420
      }
     },
     "output_type": "display_data"
    },
    {
     "data": {
      "image/png": "[encoded data removed]",
      "text/plain": [
       "Plot with title \"Teacher 1 Final Normal Q-Q plot\""
      ]
     },
     "metadata": {
      "image/png": {
       "height": 420,
       "width": 420
      }
     },
     "output_type": "display_data"
    },
    {
     "data": {
      "image/png": "[encoded data removed]",
      "text/plain": [
       "Plot with title \"Teacher 2 Final Normal Q-Q plot\""
      ]
     },
     "metadata": {
      "image/png": {
       "height": 420,
       "width": 420
      }
     },
     "output_type": "display_data"
    },
    {
     "data": {
      "image/png": "[encoded data removed]",
      "text/plain": [
       "Plot with title \"Teacher 3 Final Normal Q-Q plot\""
      ]
     },
     "metadata": {
      "image/png": {
       "height": 420,
       "width": 420
      }
     },
     "output_type": "display_data"
    },
    {
     "data": {
      "image/png": "[encoded data removed]",
      "text/plain": [
       "Plot with title \"Section 1 Midterm Normal Q-Q plot\""
      ]
     },
     "metadata": {
      "image/png": {
       "height": 420,
       "width": 420
      }
     },
     "output_type": "display_data"
    },
    {
     "data": {
      "image/png": "[encoded data removed]",
      "text/plain": [
       "Plot with title \"Section 2 Midterm Normal Q-Q plot\""
      ]
     },
     "metadata": {
      "image/png": {
       "height": 420,
       "width": 420
      }
     },
     "output_type": "display_data"
    },
    {
     "data": {
      "image/png": "[encoded data removed]",
      "text/plain": [
       "Plot with title \"Section 3 Midterm Normal Q-Q plot\""
      ]
     },
     "metadata": {
      "image/png": {
       "height": 420,
       "width": 420
      }
     },
     "output_type": "display_data"
    },
    {
     "data": {
      "image/png": "[encoded data removed]",
      "text/plain": [
       "Plot with title \"Section 1 Final Normal Q-Q plot\""
      ]
     },
     "metadata": {
      "image/png": {
       "height": 420,
       "width": 420
      }
     },
     "output_type": "display_data"
    },
    {
     "data": {
      "image/png": "[encoded data removed]",
      "text/plain": [
       "Plot with title \"Section 2 Final Normal Q-Q plot\""
      ]
     },
     "metadata": {
      "image/png": {
       "height": 420,
       "width": 420
      }
     },
     "output_type": "display_data"
    },
    {
     "data": {
      "image/png": "[encoded data removed]",
      "text/plain": [
       "Plot with title \"Section 3 Final Normal Q-Q plot\""
      ]
     },
     "metadata": {
      "image/png": {
       "height": 420,
       "width": 420
      }
     },
     "output_type": "display_data"
    }
   ],
   "source": [
    "for (i in 1:4){ \n",
    "    index = df_trimmed$Teacher_M == i\n",
    "    scores = df_trimmed$Midterm_std[index]\n",
    "    text <- paste(\"Teacher\", i, \"Midterm\", \"Normal Q-Q plot\")\n",
    "    qqnorm(scores, main = text, pch = 1, frame = FALSE)\n",
    "    qqline(scores, col = \"steelblue\", lwd = 2)\n",
    "    }\n",
    "\n",
    "for (i in 1:3){ \n",
    "    index = df_trimmed$Teacher_F == i\n",
    "    scores = df_trimmed$Final_std[index]\n",
    "    text <- paste(\"Teacher\", i, \"Final\", \"Normal Q-Q plot\")\n",
    "    qqnorm(scores, main = text, pch = 1, frame = FALSE)\n",
    "    qqline(scores, col = \"steelblue\", lwd = 2)\n",
    "    }\n",
    "\n",
    "for (i in 1:3){ \n",
    "    index = df_trimmed$Section == i\n",
    "    scores = df_trimmed$Midterm_std[index]\n",
    "    text <- paste(\"Section\", i, \"Midterm\", \"Normal Q-Q plot\")\n",
    "    qqnorm(scores, main = text, pch = 1, frame = FALSE)\n",
    "    qqline(scores, col = \"steelblue\", lwd = 2)\n",
    "    }\n",
    "\n",
    "for (i in 1:3){ \n",
    "    index = df_trimmed$Section == i\n",
    "    scores = df_trimmed$Final_std[index]\n",
    "    text <- paste(\"Section\", i, \"Final\", \"Normal Q-Q plot\")\n",
    "    qqnorm(scores, main = text, pch = 1, frame = FALSE)\n",
    "    qqline(scores, col = \"steelblue\", lwd = 2)\n",
    "    }"
   ]
  },
  {
   "cell_type": "code",
   "execution_count": 10,
   "id": "c282e568",
   "metadata": {},
   "outputs": [
    {
     "name": "stdout",
     "output_type": "stream",
     "text": [
      "[1] \"Teacher 1 Midterm  p = 1.15167265338288e-06\"\n",
      "[1] \"Teacher 2 Midterm  p = 5.36338199379194e-09\"\n",
      "[1] \"Teacher 3 Midterm  p = 0.0555769531850325\"\n",
      "[1] \"Teacher 4 Midterm  p = 0.489187171323628\"\n",
      "[1] \"Teacher 1 Midterm  p = 1.48886037311939e-05\"\n",
      "[1] \"Teacher 2 Midterm  p = 0.00211409844754116\"\n",
      "[1] \"Teacher 3 Midterm  p = 0.0135997098392331\"\n",
      "[1] \"Section 1 Midterm  p = 0.246392605781721\"\n",
      "[1] \"Section 2 Midterm  p = 4.30641358960506e-10\"\n",
      "[1] \"Section 3 Midterm  p = 1.8728187186455e-05\"\n",
      "[1] \"Section 1 Final  p = 0.0795015293422712\"\n",
      "[1] \"Section 2 Final  p = 9.64701783957719e-05\"\n",
      "[1] \"Section 3 Final  p = 0.000391865376406047\"\n"
     ]
    }
   ],
   "source": [
    "for (i in 1:4){ \n",
    "    index <- df_trimmed$Teacher_M == i\n",
    "    scores <- df_trimmed$Midterm_std[index]\n",
    "    print(paste(\"Teacher\", i, \"Midterm  p =\", shapiro.test(scores))[2])\n",
    "    }\n",
    "\n",
    "for (i in 1:3){ \n",
    "    index <- df_trimmed$Teacher_F == i\n",
    "    scores <- df_trimmed$Final_std[index]\n",
    "    print(paste(\"Teacher\", i, \"Midterm  p =\", shapiro.test(scores))[2])\n",
    "    }\n",
    "\n",
    "for (i in 1:3){ \n",
    "    index <- df_trimmed$Section == i\n",
    "    scores <- df_trimmed$Midterm_std[index]\n",
    "    print(paste(\"Section\", i, \"Midterm  p =\", shapiro.test(scores))[2])\n",
    "    }\n",
    "\n",
    "for (i in 1:3){ \n",
    "    index <- df_trimmed$Section == i\n",
    "    scores <- df_trimmed$Final_std[index]\n",
    "    print(paste(\"Section\", i, \"Final  p =\", shapiro.test(scores))[2])\n",
    "    }"
   ]
  },
  {
   "cell_type": "markdown",
   "id": "6986e77b",
   "metadata": {},
   "source": [
    "The Q-Q plots reveal thin tails and some skew. Shapiro-Wilk tests indicate departures from normality almost everywhere, though this is unsurprising due to the generally fairly large sample sizes.  "
   ]
  },
  {
   "cell_type": "markdown",
   "id": "1010c97d",
   "metadata": {},
   "source": [
    "## 6. Box plots of standardized scores <a id='box'></a>\n",
    "\n",
    "We can compare the mean standardized scores for each teacher in each exam. "
   ]
  },
  {
   "cell_type": "code",
   "execution_count": 11,
   "id": "eac96dd0",
   "metadata": {
    "scrolled": true
   },
   "outputs": [
    {
     "data": {
      "image/png": "[encoded data removed]",
      "text/plain": [
       "plot without title"
      ]
     },
     "metadata": {
      "image/png": {
       "height": 420,
       "width": 420
      }
     },
     "output_type": "display_data"
    },
    {
     "data": {
      "image/png": "[encoded data removed]",
      "text/plain": [
       "plot without title"
      ]
     },
     "metadata": {
      "image/png": {
       "height": 420,
       "width": 420
      }
     },
     "output_type": "display_data"
    }
   ],
   "source": [
    "boxplot(Midterm_std ~ Teacher_M,\n",
    "  data = df_trimmed\n",
    ")\n",
    "\n",
    "boxplot(Final_std ~ Teacher_F,\n",
    "  data = df_trimmed\n",
    ")"
   ]
  },
  {
   "cell_type": "markdown",
   "id": "03cfe2fc",
   "metadata": {},
   "source": [
    "Now we do similar for each section."
   ]
  },
  {
   "cell_type": "code",
   "execution_count": 12,
   "id": "8b2351d4",
   "metadata": {},
   "outputs": [
    {
     "data": {
      "image/png": "[encoded data removed]",
      "text/plain": [
       "plot without title"
      ]
     },
     "metadata": {
      "image/png": {
       "height": 420,
       "width": 420
      }
     },
     "output_type": "display_data"
    },
    {
     "data": {
      "image/png": "[encoded data removed]",
      "text/plain": [
       "plot without title"
      ]
     },
     "metadata": {
      "image/png": {
       "height": 420,
       "width": 420
      }
     },
     "output_type": "display_data"
    }
   ],
   "source": [
    "boxplot(Midterm_std ~ Section,\n",
    "  data = df_trimmed\n",
    ")\n",
    "\n",
    "boxplot(Final_std ~ Section,\n",
    "  data = df_trimmed\n",
    ")"
   ]
  },
  {
   "cell_type": "markdown",
   "id": "ec3f1a1d",
   "metadata": {},
   "source": [
    "There is a clear difference between section 1 students and the rest here. Remember that we are excluding the section 1 students from the years with academic selection, so it academic selection does not account for this."
   ]
  },
  {
   "cell_type": "markdown",
   "id": "2942441e",
   "metadata": {},
   "source": [
    "## 7. Classical investigation of teacher influence <a id='teach'></a>\n",
    "### ANOVA on teacher influence\n",
    "We can check if ANOVA detects any significant difference in outcomes for students taught by different teachers. Note that for this analysis we have dropped students from section 1 in years 1-4, as they were academically selected. \n",
    "\n",
    "We will do a separate analysis for each exam. This could be problematic if one test were to pick up a significant effect, because while the test corrects for multiple comparisons *within* a test, it does not correct *across* tests. Another issue is that these populations are the same students assessed at different times, so are obviously not independent, which would make accounting for the comparisons more difficult. Fortunately for us however, no significant difference is detected in either test, as we see below."
   ]
  },
  {
   "cell_type": "code",
   "execution_count": 13,
   "id": "9dc3d8b4",
   "metadata": {},
   "outputs": [
    {
     "data": {
      "text/plain": [
       "                    Df Sum Sq Mean Sq F value Pr(>F)\n",
       "factor(Teacher_M)    3    3.2  1.0702   1.221  0.301\n",
       "Residuals         1106  969.8  0.8768               "
      ]
     },
     "metadata": {},
     "output_type": "display_data"
    },
    {
     "data": {
      "text/plain": [
       "  Tukey multiple comparisons of means\n",
       "    95% family-wise confidence level\n",
       "\n",
       "Fit: aov(formula = Midterm_std ~ factor(Teacher_M), data = df_trimmed)\n",
       "\n",
       "$`factor(Teacher_M)`\n",
       "            diff        lwr        upr     p adj\n",
       "2-1 -0.057880081 -0.2150038 0.09924367 0.7789854\n",
       "3-1 -0.236364268 -0.5683846 0.09565606 0.2589497\n",
       "4-1 -0.004778702 -0.3391789 0.32962151 0.9999821\n",
       "3-2 -0.178484187 -0.5021672 0.14519887 0.4878125\n",
       "4-2  0.053101379 -0.2730224 0.37922516 0.9752484\n",
       "4-3  0.231585566 -0.2064856 0.66965673 0.5247332\n"
      ]
     },
     "metadata": {},
     "output_type": "display_data"
    },
    {
     "data": {
      "image/png": "[encoded data removed]",
      "text/plain": [
       "Plot with title \"95% family-wise confidence level\n",
       "\""
      ]
     },
     "metadata": {
      "image/png": {
       "height": 420,
       "width": 420
      }
     },
     "output_type": "display_data"
    }
   ],
   "source": [
    "aov_results <- aov(Midterm_std ~ factor(Teacher_M), # need 'factor' here to tell aov that Teacher_M is categorical\n",
    "  data = df_trimmed\n",
    ")\n",
    "\n",
    "summary(aov_results)\n",
    "\n",
    "TukeyHSD(aov_results, conf.level=.95)\n",
    "\n",
    "plot(TukeyHSD(aov_results, conf.level=.95), las = 1)"
   ]
  },
  {
   "cell_type": "code",
   "execution_count": 14,
   "id": "00eaff61",
   "metadata": {},
   "outputs": [
    {
     "data": {
      "text/plain": [
       "                    Df Sum Sq Mean Sq F value Pr(>F)  \n",
       "factor(Teacher_F)    2    4.4  2.2222    2.43 0.0885 .\n",
       "Residuals         1107 1012.2  0.9144                 \n",
       "---\n",
       "Signif. codes:  0 '***' 0.001 '**' 0.01 '*' 0.05 '.' 0.1 ' ' 1"
      ]
     },
     "metadata": {},
     "output_type": "display_data"
    },
    {
     "data": {
      "text/plain": [
       "  Tukey multiple comparisons of means\n",
       "    95% family-wise confidence level\n",
       "\n",
       "Fit: aov(formula = Final_std ~ factor(Teacher_F), data = df_trimmed)\n",
       "\n",
       "$`factor(Teacher_F)`\n",
       "           diff         lwr        upr     p adj\n",
       "2-1  0.05292503 -0.09666239 0.20251246 0.6842457\n",
       "3-1 -0.24071565 -0.53994017 0.05850888 0.1426113\n",
       "3-2 -0.29364068 -0.60662810 0.01934675 0.0712994\n"
      ]
     },
     "metadata": {},
     "output_type": "display_data"
    },
    {
     "data": {
      "image/png": "[encoded data removed]",
      "text/plain": [
       "Plot with title \"95% family-wise confidence level\n",
       "\""
      ]
     },
     "metadata": {
      "image/png": {
       "height": 420,
       "width": 420
      }
     },
     "output_type": "display_data"
    }
   ],
   "source": [
    "aov_results <- aov(Final_std ~ factor(Teacher_F),\n",
    "  data = df_trimmed\n",
    ")\n",
    "\n",
    "summary(aov_results)\n",
    "\n",
    "TukeyHSD(aov_results, conf.level=.95)\n",
    "\n",
    "plot(TukeyHSD(aov_results, conf.level=.95), las = 1)"
   ]
  },
  {
   "cell_type": "markdown",
   "id": "5753a435",
   "metadata": {},
   "source": [
    "### Some t-tests\n",
    "We can also perform basic t-tests comparing students taught by teacher 1 to those taught by teacher 2 directly, as these teachers did the bulk of the teaching. Again we have a potential multiple comparisons issue if one test detects a significant effect and the other does not, but in this case that does not arise as neither test detects any significant difference (as conventionally understood)."
   ]
  },
  {
   "cell_type": "code",
   "execution_count": 15,
   "id": "4e7a9a01",
   "metadata": {},
   "outputs": [
    {
     "data": {
      "text/plain": [
       "\n",
       "\tWelch Two Sample t-test\n",
       "\n",
       "data:  scores_t1_m and scores_t2_m\n",
       "t = 0.9477, df = 820.31, p-value = 0.3436\n",
       "alternative hypothesis: true difference in means is not equal to 0\n",
       "95 percent confidence interval:\n",
       " -0.06200029  0.17776045\n",
       "sample estimates:\n",
       " mean of x  mean of y \n",
       "-0.1064873 -0.1643674 \n"
      ]
     },
     "metadata": {},
     "output_type": "display_data"
    },
    {
     "data": {
      "text/plain": [
       "\n",
       "\tWelch Two Sample t-test\n",
       "\n",
       "data:  scores_t1_f and scores_t2_f\n",
       "t = -0.82193, df = 627.69, p-value = 0.4114\n",
       "alternative hypothesis: true difference in means is not equal to 0\n",
       "95 percent confidence interval:\n",
       " -0.17937289  0.07352283\n",
       "sample estimates:\n",
       "  mean of x   mean of y \n",
       "-0.13710351 -0.08417848 \n"
      ]
     },
     "metadata": {},
     "output_type": "display_data"
    }
   ],
   "source": [
    "index <- df_trimmed$Teacher_M == 1\n",
    "scores_t1_m <- df_trimmed$Midterm_std[index]\n",
    "\n",
    "index <- df_trimmed$Teacher_M == 2\n",
    "scores_t2_m <- df_trimmed$Midterm_std[index]\n",
    "\n",
    "index <- df_trimmed$Teacher_F == 1\n",
    "scores_t1_f <- df_trimmed$Final_std[index]\n",
    "\n",
    "index <- df_trimmed$Teacher_F == 2\n",
    "scores_t2_f <- df_trimmed$Final_std[index]\n",
    "\n",
    "t.test(x = scores_t1_m, y = scores_t2_m,\n",
    "       alternative = \"two.sided\", paired = FALSE, var.equal = FALSE,\n",
    "       conf.level = 0.95)\n",
    "\n",
    "t.test(x = scores_t1_f, y = scores_t2_f,\n",
    "       alternative = \"two.sided\", paired = FALSE, var.equal = FALSE,\n",
    "       conf.level = 0.95)"
   ]
  },
  {
   "cell_type": "markdown",
   "id": "faeea4e3",
   "metadata": {},
   "source": [
    "Power analysis indicates our tests would have a high chance of detecting an effect of size 0.3 or greater (Cohen's d), and a pretty good chance of detecting an effect of size 0.2. So our data gives us some reason to believe that any difference between the effectiveness of the two teachers should be quite small, if it exists at all. "
   ]
  },
  {
   "cell_type": "code",
   "execution_count": 16,
   "id": "ead563a5",
   "metadata": {},
   "outputs": [
    {
     "data": {
      "text/html": [
       "<style>\n",
       ".list-inline {list-style: none; margin:0; padding: 0}\n",
       ".list-inline>li {display: inline-block}\n",
       ".list-inline>li:not(:last-child)::after {content: \"\\00b7\"; padding: 0 .5ex}\n",
       "</style>\n",
       "<ol class=list-inline><li><span style=white-space:pre-wrap>'when d = 0.1  power = 0.482201005639022'</span></li><li><span style=white-space:pre-wrap>'when d = 0.2  power = 0.940097467967087'</span></li><li><span style=white-space:pre-wrap>'when d = 0.3  power = 0.999199746054519'</span></li></ol>\n"
      ],
      "text/latex": [
       "\\begin{enumerate*}\n",
       "\\item 'when d = 0.1  power = 0.482201005639022'\n",
       "\\item 'when d = 0.2  power = 0.940097467967087'\n",
       "\\item 'when d = 0.3  power = 0.999199746054519'\n",
       "\\end{enumerate*}\n"
      ],
      "text/markdown": [
       "1. <span style=white-space:pre-wrap>'when d = 0.1  power = 0.482201005639022'</span>\n",
       "2. <span style=white-space:pre-wrap>'when d = 0.2  power = 0.940097467967087'</span>\n",
       "3. <span style=white-space:pre-wrap>'when d = 0.3  power = 0.999199746054519'</span>\n",
       "\n",
       "\n"
      ],
      "text/plain": [
       "[1] \"when d = 0.1  power = 0.482201005639022\"\n",
       "[2] \"when d = 0.2  power = 0.940097467967087\"\n",
       "[3] \"when d = 0.3  power = 0.999199746054519\""
      ]
     },
     "metadata": {},
     "output_type": "display_data"
    }
   ],
   "source": [
    "effect_sizes = c(0.1,0.2,0.3)\n",
    "powers = rep(NA, length(effect_sizes))\n",
    "k = 1\n",
    "for (d in effect_sizes){   \n",
    "    h_object <-  pwr.t2n.test(n1 = length(scores_t1_e1), \n",
    "                     n2 = length(scores_t2_e1), \n",
    "                     d = d, \n",
    "                     sig.level = 0.05, \n",
    "                     power = NULL,\n",
    "                     alternative = \"greater\")\n",
    "    powers[k] <- paste(\"when d =\", d, \" power =\", h_object[5], sep = \" \") \n",
    "    k = k + 1\n",
    "}\n",
    "\n",
    "powers"
   ]
  },
  {
   "cell_type": "markdown",
   "id": "89070971",
   "metadata": {},
   "source": [
    "## 8. The influence of section numbering - Classical analysis <a id='sec'></a>\n",
    "Here we repeat some of the classical analysis on the effect of section numbering on our new data. Note that since these are largely the same students transposed by a year, this data is not independent of the data from the previous notebook.\n",
    "### t-tests for section number using sections 2 and 3"
   ]
  },
  {
   "cell_type": "code",
   "execution_count": 17,
   "id": "0d455775",
   "metadata": {},
   "outputs": [
    {
     "data": {
      "text/plain": [
       "\n",
       "\tWelch Two Sample t-test\n",
       "\n",
       "data:  scores_M2 and scores_M3\n",
       "t = -0.13033, df = 880.31, p-value = 0.8963\n",
       "alternative hypothesis: true difference in means is not equal to 0\n",
       "95 percent confidence interval:\n",
       " -0.1293414  0.1132334\n",
       "sample estimates:\n",
       " mean of x  mean of y \n",
       "-0.2472692 -0.2392152 \n"
      ]
     },
     "metadata": {},
     "output_type": "display_data"
    },
    {
     "data": {
      "text/plain": [
       "\n",
       "\tWelch Two Sample t-test\n",
       "\n",
       "data:  scores_F2 and scores_F3\n",
       "t = -0.68027, df = 880.36, p-value = 0.4965\n",
       "alternative hypothesis: true difference in means is not equal to 0\n",
       "95 percent confidence interval:\n",
       " -0.16612582  0.08060715\n",
       "sample estimates:\n",
       " mean of x  mean of y \n",
       "-0.2234632 -0.1807039 \n"
      ]
     },
     "metadata": {},
     "output_type": "display_data"
    }
   ],
   "source": [
    "index <- df_trimmed$Section == 2\n",
    "scores_M2 <- df_trimmed$Midterm_std[index]\n",
    "\n",
    "index <- df_trimmed$Section == 3\n",
    "scores_M3 <- df_trimmed$Midterm_std[index]\n",
    "\n",
    "index <- df_trimmed$Section == 2\n",
    "scores_F2 <- df_trimmed$Final_std[index]\n",
    "\n",
    "index <- df_trimmed$Section == 3\n",
    "scores_F3 <- df_trimmed$Final_std[index]\n",
    "\n",
    "t.test(x = scores_M2, y = scores_M3,\n",
    "       alternative = \"two.sided\", paired = FALSE, var.equal = FALSE,\n",
    "       conf.level = 0.95)\n",
    "\n",
    "t.test(x = scores_F2, y = scores_F3,\n",
    "       alternative = \"two.sided\", paired = FALSE, var.equal = FALSE,\n",
    "       conf.level = 0.95)"
   ]
  },
  {
   "cell_type": "code",
   "execution_count": 18,
   "id": "001e6122",
   "metadata": {},
   "outputs": [
    {
     "data": {
      "text/html": [
       "<style>\n",
       ".list-inline {list-style: none; margin:0; padding: 0}\n",
       ".list-inline>li {display: inline-block}\n",
       ".list-inline>li:not(:last-child)::after {content: \"\\00b7\"; padding: 0 .5ex}\n",
       "</style>\n",
       "<ol class=list-inline><li><span style=white-space:pre-wrap>'when d = 0.1  power = 0.43930457027749'</span></li><li><span style=white-space:pre-wrap>'when d = 0.2  power = 0.909777698684432'</span></li><li><span style=white-space:pre-wrap>'when d = 0.3  power = 0.997683533879219'</span></li></ol>\n"
      ],
      "text/latex": [
       "\\begin{enumerate*}\n",
       "\\item 'when d = 0.1  power = 0.43930457027749'\n",
       "\\item 'when d = 0.2  power = 0.909777698684432'\n",
       "\\item 'when d = 0.3  power = 0.997683533879219'\n",
       "\\end{enumerate*}\n"
      ],
      "text/markdown": [
       "1. <span style=white-space:pre-wrap>'when d = 0.1  power = 0.43930457027749'</span>\n",
       "2. <span style=white-space:pre-wrap>'when d = 0.2  power = 0.909777698684432'</span>\n",
       "3. <span style=white-space:pre-wrap>'when d = 0.3  power = 0.997683533879219'</span>\n",
       "\n",
       "\n"
      ],
      "text/plain": [
       "[1] \"when d = 0.1  power = 0.43930457027749\" \n",
       "[2] \"when d = 0.2  power = 0.909777698684432\"\n",
       "[3] \"when d = 0.3  power = 0.997683533879219\""
      ]
     },
     "metadata": {},
     "output_type": "display_data"
    }
   ],
   "source": [
    "effect_sizes = c(0.1,0.2,0.3)\n",
    "powers = rep(NA, length(effect_sizes))\n",
    "k = 1\n",
    "for (d in effect_sizes){   \n",
    "    h_object <-  pwr.t2n.test(n1 = length(scores_M2), \n",
    "                     n2 = length(scores_M3), \n",
    "                     d = d, \n",
    "                     sig.level = 0.05, \n",
    "                     power = NULL,\n",
    "                     alternative = \"greater\")\n",
    "    powers[k] <- paste(\"when d =\", d, \" power =\", h_object[5], sep = \" \") \n",
    "    k = k + 1\n",
    "}\n",
    "\n",
    "powers\n"
   ]
  },
  {
   "cell_type": "markdown",
   "id": "98433720",
   "metadata": {},
   "source": [
    "Though the mean for section 3 is lower than the mean for section 2, none of our (not independent) t-tests produce statistical significance. Power analysis indicates that this does not rule out a small effect, but provides strong evidence against $d=0.3$ or higher."
   ]
  },
  {
   "cell_type": "markdown",
   "id": "3bf1d195",
   "metadata": {},
   "source": [
    "### ANOVA for sections on years 5-8."
   ]
  },
  {
   "cell_type": "code",
   "execution_count": 19,
   "id": "c83289db",
   "metadata": {},
   "outputs": [
    {
     "data": {
      "text/plain": [
       "                  Df Sum Sq Mean Sq F value   Pr(>F)    \n",
       "factor(Section)    2   38.8  19.402   22.99 1.65e-10 ***\n",
       "Residuals       1107  934.2   0.844                     \n",
       "---\n",
       "Signif. codes:  0 '***' 0.001 '**' 0.01 '*' 0.05 '.' 0.1 ' ' 1"
      ]
     },
     "metadata": {},
     "output_type": "display_data"
    },
    {
     "data": {
      "text/plain": [
       "  Tukey multiple comparisons of means\n",
       "    95% family-wise confidence level\n",
       "\n",
       "Fit: aov(formula = Midterm_std ~ factor(Section), data = df_trimmed)\n",
       "\n",
       "$`factor(Section)`\n",
       "          diff        lwr        upr     p adj\n",
       "2-1 -0.4752631 -0.6526895 -0.2978366 0.0000000\n",
       "3-1 -0.4672091 -0.6466632 -0.2877550 0.0000000\n",
       "3-2  0.0080540 -0.1363238  0.1524318 0.9905954\n"
      ]
     },
     "metadata": {},
     "output_type": "display_data"
    },
    {
     "data": {
      "image/png": "[encoded data removed]",
      "text/plain": [
       "Plot with title \"95% family-wise confidence level\n",
       "\""
      ]
     },
     "metadata": {
      "image/png": {
       "height": 420,
       "width": 420
      }
     },
     "output_type": "display_data"
    }
   ],
   "source": [
    "aov_results <- aov(Midterm_std ~ factor(Section),\n",
    "  data = df_trimmed\n",
    ")\n",
    "\n",
    "summary(aov_results)\n",
    "\n",
    "TukeyHSD(aov_results, conf.level=.95)\n",
    "\n",
    "plot(TukeyHSD(aov_results, conf.level=.95), las = 1)"
   ]
  },
  {
   "cell_type": "code",
   "execution_count": 20,
   "id": "40b8e56e",
   "metadata": {},
   "outputs": [
    {
     "data": {
      "text/plain": [
       "                  Df Sum Sq Mean Sq F value   Pr(>F)    \n",
       "factor(Section)    2   21.6  10.791   12.01 6.95e-06 ***\n",
       "Residuals       1107  995.1   0.899                     \n",
       "---\n",
       "Signif. codes:  0 '***' 0.001 '**' 0.01 '*' 0.05 '.' 0.1 ' ' 1"
      ]
     },
     "metadata": {},
     "output_type": "display_data"
    },
    {
     "data": {
      "text/plain": [
       "  Tukey multiple comparisons of means\n",
       "    95% family-wise confidence level\n",
       "\n",
       "Fit: aov(formula = Final_std ~ factor(Section), data = df_trimmed)\n",
       "\n",
       "$`factor(Section)`\n",
       "           diff        lwr        upr     p adj\n",
       "2-1 -0.36890716 -0.5520229 -0.1857914 0.0000076\n",
       "3-1 -0.32614782 -0.5113562 -0.1409394 0.0001141\n",
       "3-2  0.04275934 -0.1062481  0.1917667 0.7789891\n"
      ]
     },
     "metadata": {},
     "output_type": "display_data"
    },
    {
     "data": {
      "image/png": "[encoded data removed]",
      "text/plain": [
       "Plot with title \"95% family-wise confidence level\n",
       "\""
      ]
     },
     "metadata": {
      "image/png": {
       "height": 420,
       "width": 420
      }
     },
     "output_type": "display_data"
    }
   ],
   "source": [
    "aov_results <- aov(Final_std ~ factor(Section),\n",
    "  data = df_trimmed\n",
    ")\n",
    "\n",
    "summary(aov_results)\n",
    "\n",
    "TukeyHSD(aov_results, conf.level=.95)\n",
    "\n",
    "plot(TukeyHSD(aov_results, conf.level=.95), las = 1)"
   ]
  },
  {
   "cell_type": "markdown",
   "id": "69a80792",
   "metadata": {},
   "source": [
    "The results of ANOVA on the years without academic selection are interesting. Here we see an apparently significant effect for section 1 relative to the others. This is not what we saw in the previous notebook, though their is significant overlap between the two sets of students involved. Clearly the unusually high performance of section 1 relative to section 2 in year 5, despite the lack of academic selection, is involved here. We will return to this point during the course of a Bayesian analysis, conducted below. "
   ]
  },
  {
   "cell_type": "markdown",
   "id": "dea4f936",
   "metadata": {},
   "source": [
    "## 9. Three Bayesian models <a id='bayes'></a>\n",
    "A Bayesian approach allows us to deal with all years, teachers and exams simultaneously.\n",
    "### The first model\n",
    "This is similar to the model comparing sections for the 2nd year exam from the other notebook. The only difference is we now have two exams, which we initially treat as independent for simplicity, and we also add indicator variables and associated coefficients for each teacher. One assumption here is that teacher influence is the same across exams. We will remove this assumption in the next model for comparison."
   ]
  },
  {
   "cell_type": "markdown",
   "id": "3cea27e3",
   "metadata": {},
   "source": [
    "$i\\in\\{1,\\ldots,N\\}$ ($N$ is number of students) and $k\\in\\{M,F\\}$ (exams)\n",
    "\n",
    "#### Model\n",
    "\n",
    "$E_k \\sim Normal(\\mu_k, \\sigma_k)$ ...   ($E_k$ is score in exam $k\\in\\{M,F\\}$).\n",
    "\n",
    "$\\mu_k = \\alpha_k  + \\sum^4_{i=1}\\beta_{T_i}T_{i,k} + \\beta_A\\sum_{i=1}^{N_A-1} \\delta_i^A + \\beta_S \\sum_{j=i}^{N_S-1} \\delta_j^B$\n",
    "\n",
    "Here $N_A$ is the academic streaming value, and $N_S$ is the section value, and we have $\\sum_{i=1}^{2} \\delta_i^A = \\sum_{j=i}^{2} \\delta_j^B = 1$. So the parameters $\\beta_A$ and $\\beta_S$ control the maximum possible effect of academic selection and section, respectively, while the individual $\\delta$ values break this contribution down into pieces. E.g. A student with academic selection value of 3 gets the full value of $\\beta_A$, while one with an academic selection value of 2 gets only $\\delta_1^A\\beta_A$, which is smaller, and a student with an academic selection value of 1 gets no contribution at all.\n",
    "\n",
    "$T_{i,k}$ is indicator variable for whether student was or was not taught by teacher $i$ for exam $k$. \n",
    "\n",
    "#### Priors\n",
    "\n",
    "$\\sigma_k \\sim LogNorm(0,0.25)$\n",
    "\n",
    "$(\\delta^A_1, \\delta^A_2), (\\delta^S_1, \\delta^S_2) \\sim Dirichlet(2,2)$\n",
    "\n",
    "$a_k, \\beta_{T_i}, \\beta_A, \\beta_S \\sim Norm(0,1)$"
   ]
  },
  {
   "cell_type": "code",
   "execution_count": 21,
   "id": "e4ce6600",
   "metadata": {},
   "outputs": [
    {
     "name": "stdout",
     "output_type": "stream",
     "text": [
      "'data.frame':\t1359 obs. of  18 variables:\n",
      " $ Section     : int  1 3 2 3 3 3 2 1 2 3 ...\n",
      " $ Midterm     : num  75 64 32.5 49 43 42.5 72.5 79.5 50.5 53 ...\n",
      " $ Final       : num  62 55 29 55 53 47 58 68 41 9 ...\n",
      " $ Year        : int  1 1 1 1 1 1 1 1 1 1 ...\n",
      " $ Repeat      : int  0 0 0 0 0 0 0 0 0 0 ...\n",
      " $ Teacher_M   : int  2 2 2 2 2 2 2 2 2 2 ...\n",
      " $ Teacher_F   : int  1 1 1 1 1 1 1 1 1 1 ...\n",
      " $ Midterm_std : num  1.932 1.329 -0.399 0.506 0.177 ...\n",
      " $ Final_std   : num  1.355 0.957 -0.522 0.957 0.843 ...\n",
      " $ M_t1        : num  0 0 0 0 0 0 0 0 0 0 ...\n",
      " $ M_t2        : num  1 1 1 1 1 1 1 1 1 1 ...\n",
      " $ M_t3        : num  0 0 0 0 0 0 0 0 0 0 ...\n",
      " $ M_t4        : num  0 0 0 0 0 0 0 0 0 0 ...\n",
      " $ F_t1        : num  1 1 1 1 1 1 1 1 1 1 ...\n",
      " $ F_t2        : num  0 0 0 0 0 0 0 0 0 0 ...\n",
      " $ F_t3        : num  0 0 0 0 0 0 0 0 0 0 ...\n",
      " $ F_t4        : num  0 0 0 0 0 0 0 0 0 0 ...\n",
      " $ Stream_level: num  3 1 1 1 1 1 1 3 1 1 ...\n"
     ]
    }
   ],
   "source": [
    "df_full <- df\n",
    "\n",
    "df_full$M_t1 <- ifelse(df_full$Teacher_M == 1, 1., 0.)\n",
    "df_full$M_t2 <- ifelse(df_full$Teacher_M == 2, 1., 0.)\n",
    "df_full$M_t3 <- ifelse(df_full$Teacher_M == 3, 1., 0.)\n",
    "df_full$M_t4 <- ifelse(df_full$Teacher_M == 4, 1., 0.)\n",
    "\n",
    "df_full$F_t1 <- ifelse(df_full$Teacher_F == 1, 1., 0.)\n",
    "df_full$F_t2 <- ifelse(df_full$Teacher_F == 2, 1., 0.)\n",
    "df_full$F_t3 <- ifelse(df_full$Teacher_F == 3, 1., 0.)\n",
    "df_full$F_t4 <- ifelse(df_full$Teacher_F == 4, 1., 0.)\n",
    "\n",
    "df_full$Stream_level <- ifelse(df_full$Section == 1 & df_full$Year < 5, 3., ifelse(df_full$Year < 5, 1., 2. ))\n",
    "\n",
    "str(df_full)"
   ]
  },
  {
   "cell_type": "code",
   "execution_count": 22,
   "id": "8d3b8648",
   "metadata": {},
   "outputs": [],
   "source": [
    "dat <- list(\n",
    "  N = 1359,\n",
    "  M = df_full$Midterm_std, # scores for midterm\n",
    "  F = df_full$Final_std, # scores for final\n",
    "  \n",
    "  # indicator variables for teachers in midterm\n",
    "  M_t1 = df_full$M_t1, \n",
    "  M_t2 = df_full$M_t2,\n",
    "  M_t3 = df_full$M_t3, \n",
    "  M_t4 = df_full$M_t4,  \n",
    "  \n",
    "  # indicator variables for teachers in final\n",
    "  F_t1 = df_full$F_t1, \n",
    "  F_t2 = df_full$F_t2,\n",
    "  F_t3 = df_full$F_t3, \n",
    "  F_t4 = df_full$F_t4,\n",
    "    \n",
    "  A = df_full$Stream_level, # discrete ordered predictor for 3 levels of streaming\n",
    "  S = df_full$Section, # section number\n",
    "  alpha = rep( 2 , 2 ) # parameters for Dirichlet priors\n",
    ")"
   ]
  },
  {
   "cell_type": "code",
   "execution_count": 23,
   "id": "b2c3abe6",
   "metadata": {},
   "outputs": [],
   "source": [
    "code_1 <- 'data{\n",
    "    int N;\n",
    "    vector[N] M;\n",
    "    vector[N] F;\n",
    "    int M_t1[N];\n",
    "    int M_t2[N];\n",
    "    int M_t3[N];\n",
    "    int M_t4[N];\n",
    "    int F_t1[N];\n",
    "    int F_t2[N];\n",
    "    int F_t3[N];\n",
    "    int F_t4[N];\n",
    "    int S[N];\n",
    "    int A[N];\n",
    "    vector[2] alpha;\n",
    "}\n",
    "parameters{\n",
    "    real bt1;\n",
    "    real bt2;\n",
    "    real bt3;\n",
    "    real bt4;\n",
    "    real a_F;\n",
    "    real a_M;\n",
    "    real bS;\n",
    "    real bA;\n",
    "    real<lower=0> sigma_M;\n",
    "    real<lower=0> sigma_F;\n",
    "    simplex[2] deltaA;\n",
    "    simplex[2] deltaS;\n",
    "    \n",
    "}\n",
    "\n",
    "transformed parameters{\n",
    "vector[3] deltaA_j;\n",
    "vector[3] deltaS_j;\n",
    "deltaS_j = append_row(0, deltaS);\n",
    "deltaA_j = append_row(0, deltaA);\n",
    "}\n",
    "\n",
    "model{\n",
    "    vector[N] mu_M;\n",
    "    vector[N] mu_F;\n",
    "    a_M ~ normal( 0 , 1 );\n",
    "    a_F ~ normal( 0 , 1 );\n",
    "    bt1 ~ normal( 0 , 1 );\n",
    "    bt2 ~ normal( 0 , 1 );\n",
    "    bt3 ~ normal( 0 , 1 );\n",
    "    bt4 ~ normal( 0 , 1 );\n",
    "    sigma_F ~ lognormal( 0, 0.25 );\n",
    "    sigma_M ~ lognormal( 0,  0.25 );\n",
    "    bA ~ normal( 0 , 1 );\n",
    "    bS ~ normal( 0 , 1 );\n",
    "    deltaS ~ dirichlet( alpha );\n",
    "    deltaA ~ dirichlet( alpha );\n",
    "    for ( i in 1:N ) {\n",
    "        mu_F[i] = a_F + bt1*F_t1[i] + bt2*F_t2[i] + bt3*F_t3[i] + bt4*F_t4[i] \n",
    "                  + bA*sum(deltaA_j[1:A[i]]) + bS*sum(deltaS_j[1:S[i]]);\n",
    "        mu_M[i] = a_M + bt1*M_t1[i] + bt2*M_t2[i] + bt3*M_t3[i] + bt4*M_t4[i] \n",
    "                  + bA*sum(deltaA_j[1:A[i]]) + bS*sum(deltaS_j[1:S[i]]);\n",
    "    }\n",
    "    F ~ normal( mu_F , sigma_F );\n",
    "    M ~ normal( mu_M , sigma_M );\n",
    "}\n",
    "generated quantities{\n",
    "vector[N] log_lik;\n",
    "\n",
    "for (i in 1:N) log_lik[i] = normal_lpdf(F[i] | a_F + bt1*F_t1[i] + bt2*F_t2[i] + bt3*F_t3[i] + bt4*F_t4[i] \n",
    "                                  + bA*sum(deltaA_j[1:A[i]]) + bS*sum(deltaS_j[1:S[i]]), \n",
    "                                    sigma_F)\n",
    "\n",
    "                             + normal_lpdf(M[i] | a_M + bt1*M_t1[i] + bt2*M_t2[i] + bt3*M_t3[i] + bt4*M_t4[i] \n",
    "                                  + bA*sum(deltaA_j[1:A[i]]) + bS*sum(deltaS_j[1:S[i]]), \n",
    "                                    sigma_M);\n",
    "                              \n",
    "}'"
   ]
  },
  {
   "cell_type": "code",
   "execution_count": 24,
   "id": "114f19d0",
   "metadata": {},
   "outputs": [],
   "source": [
    "model_1 <- stan( model_code = code_1 , data = dat , chains=4, \n",
    "                 cores = 4, iter = num_iters )"
   ]
  },
  {
   "cell_type": "code",
   "execution_count": 25,
   "id": "f1c84a01",
   "metadata": {},
   "outputs": [
    {
     "data": {
      "text/html": [
       "<table class=\"dataframe\">\n",
       "<caption>A matrix: 14 × 7 of type dbl</caption>\n",
       "<thead>\n",
       "\t<tr><th></th><th scope=col>mean</th><th scope=col>se_mean</th><th scope=col>sd</th><th scope=col>5%</th><th scope=col>95%</th><th scope=col>n_eff</th><th scope=col>Rhat</th></tr>\n",
       "</thead>\n",
       "<tbody>\n",
       "\t<tr><th scope=row>sigma_M</th><td> 0.928900972</td><td>0.0001818485</td><td>0.01766356</td><td> 0.90001802</td><td> 0.9586110</td><td>9434.892</td><td>1.000056</td></tr>\n",
       "\t<tr><th scope=row>sigma_F</th><td> 0.946444205</td><td>0.0001947371</td><td>0.01813428</td><td> 0.91746384</td><td> 0.9766704</td><td>8671.672</td><td>1.000256</td></tr>\n",
       "\t<tr><th scope=row>bt1</th><td> 0.005960483</td><td>0.0078517415</td><td>0.41162791</td><td>-0.66765827</td><td> 0.6899771</td><td>2748.386</td><td>1.000556</td></tr>\n",
       "\t<tr><th scope=row>bt2</th><td>-0.010742350</td><td>0.0078346630</td><td>0.41133495</td><td>-0.68873990</td><td> 0.6750451</td><td>2756.453</td><td>1.000550</td></tr>\n",
       "\t<tr><th scope=row>bt3</th><td>-0.078645315</td><td>0.0079341078</td><td>0.41811110</td><td>-0.75720075</td><td> 0.6198190</td><td>2777.072</td><td>1.000686</td></tr>\n",
       "\t<tr><th scope=row>bt4</th><td> 0.006908557</td><td>0.0078756295</td><td>0.42561548</td><td>-0.69058101</td><td> 0.7102048</td><td>2920.548</td><td>1.000339</td></tr>\n",
       "\t<tr><th scope=row>a_M</th><td>-0.017498138</td><td>0.0078985360</td><td>0.41257486</td><td>-0.70693685</td><td> 0.6601582</td><td>2728.427</td><td>1.000947</td></tr>\n",
       "\t<tr><th scope=row>a_F</th><td>-0.022264338</td><td>0.0078886328</td><td>0.41238467</td><td>-0.70620905</td><td> 0.6554419</td><td>2732.760</td><td>1.000974</td></tr>\n",
       "\t<tr><th scope=row>bS</th><td>-0.303885415</td><td>0.0007879526</td><td>0.06214948</td><td>-0.40522212</td><td>-0.2013339</td><td>6221.208</td><td>1.001163</td></tr>\n",
       "\t<tr><th scope=row>bA</th><td> 0.661401985</td><td>0.0010202450</td><td>0.08084062</td><td> 0.52821290</td><td> 0.7946661</td><td>6278.419</td><td>1.000738</td></tr>\n",
       "\t<tr><th scope=row>deltaA[1]</th><td> 0.306301003</td><td>0.0006086635</td><td>0.05635217</td><td> 0.21223341</td><td> 0.3969207</td><td>8571.699</td><td>1.000197</td></tr>\n",
       "\t<tr><th scope=row>deltaA[2]</th><td> 0.693698997</td><td>0.0006086635</td><td>0.05635217</td><td> 0.60307927</td><td> 0.7877666</td><td>8571.699</td><td>1.000197</td></tr>\n",
       "\t<tr><th scope=row>deltaS[1]</th><td> 0.856599844</td><td>0.0008958751</td><td>0.08083123</td><td> 0.70464939</td><td> 0.9651997</td><td>8140.733</td><td>0.999832</td></tr>\n",
       "\t<tr><th scope=row>deltaS[2]</th><td> 0.143400156</td><td>0.0008958751</td><td>0.08083123</td><td> 0.03480031</td><td> 0.2953506</td><td>8140.733</td><td>0.999832</td></tr>\n",
       "</tbody>\n",
       "</table>\n"
      ],
      "text/latex": [
       "A matrix: 14 × 7 of type dbl\n",
       "\\begin{tabular}{r|lllllll}\n",
       "  & mean & se\\_mean & sd & 5\\% & 95\\% & n\\_eff & Rhat\\\\\n",
       "\\hline\n",
       "\tsigma\\_M &  0.928900972 & 0.0001818485 & 0.01766356 &  0.90001802 &  0.9586110 & 9434.892 & 1.000056\\\\\n",
       "\tsigma\\_F &  0.946444205 & 0.0001947371 & 0.01813428 &  0.91746384 &  0.9766704 & 8671.672 & 1.000256\\\\\n",
       "\tbt1 &  0.005960483 & 0.0078517415 & 0.41162791 & -0.66765827 &  0.6899771 & 2748.386 & 1.000556\\\\\n",
       "\tbt2 & -0.010742350 & 0.0078346630 & 0.41133495 & -0.68873990 &  0.6750451 & 2756.453 & 1.000550\\\\\n",
       "\tbt3 & -0.078645315 & 0.0079341078 & 0.41811110 & -0.75720075 &  0.6198190 & 2777.072 & 1.000686\\\\\n",
       "\tbt4 &  0.006908557 & 0.0078756295 & 0.42561548 & -0.69058101 &  0.7102048 & 2920.548 & 1.000339\\\\\n",
       "\ta\\_M & -0.017498138 & 0.0078985360 & 0.41257486 & -0.70693685 &  0.6601582 & 2728.427 & 1.000947\\\\\n",
       "\ta\\_F & -0.022264338 & 0.0078886328 & 0.41238467 & -0.70620905 &  0.6554419 & 2732.760 & 1.000974\\\\\n",
       "\tbS & -0.303885415 & 0.0007879526 & 0.06214948 & -0.40522212 & -0.2013339 & 6221.208 & 1.001163\\\\\n",
       "\tbA &  0.661401985 & 0.0010202450 & 0.08084062 &  0.52821290 &  0.7946661 & 6278.419 & 1.000738\\\\\n",
       "\tdeltaA{[}1{]} &  0.306301003 & 0.0006086635 & 0.05635217 &  0.21223341 &  0.3969207 & 8571.699 & 1.000197\\\\\n",
       "\tdeltaA{[}2{]} &  0.693698997 & 0.0006086635 & 0.05635217 &  0.60307927 &  0.7877666 & 8571.699 & 1.000197\\\\\n",
       "\tdeltaS{[}1{]} &  0.856599844 & 0.0008958751 & 0.08083123 &  0.70464939 &  0.9651997 & 8140.733 & 0.999832\\\\\n",
       "\tdeltaS{[}2{]} &  0.143400156 & 0.0008958751 & 0.08083123 &  0.03480031 &  0.2953506 & 8140.733 & 0.999832\\\\\n",
       "\\end{tabular}\n"
      ],
      "text/markdown": [
       "\n",
       "A matrix: 14 × 7 of type dbl\n",
       "\n",
       "| <!--/--> | mean | se_mean | sd | 5% | 95% | n_eff | Rhat |\n",
       "|---|---|---|---|---|---|---|---|\n",
       "| sigma_M |  0.928900972 | 0.0001818485 | 0.01766356 |  0.90001802 |  0.9586110 | 9434.892 | 1.000056 |\n",
       "| sigma_F |  0.946444205 | 0.0001947371 | 0.01813428 |  0.91746384 |  0.9766704 | 8671.672 | 1.000256 |\n",
       "| bt1 |  0.005960483 | 0.0078517415 | 0.41162791 | -0.66765827 |  0.6899771 | 2748.386 | 1.000556 |\n",
       "| bt2 | -0.010742350 | 0.0078346630 | 0.41133495 | -0.68873990 |  0.6750451 | 2756.453 | 1.000550 |\n",
       "| bt3 | -0.078645315 | 0.0079341078 | 0.41811110 | -0.75720075 |  0.6198190 | 2777.072 | 1.000686 |\n",
       "| bt4 |  0.006908557 | 0.0078756295 | 0.42561548 | -0.69058101 |  0.7102048 | 2920.548 | 1.000339 |\n",
       "| a_M | -0.017498138 | 0.0078985360 | 0.41257486 | -0.70693685 |  0.6601582 | 2728.427 | 1.000947 |\n",
       "| a_F | -0.022264338 | 0.0078886328 | 0.41238467 | -0.70620905 |  0.6554419 | 2732.760 | 1.000974 |\n",
       "| bS | -0.303885415 | 0.0007879526 | 0.06214948 | -0.40522212 | -0.2013339 | 6221.208 | 1.001163 |\n",
       "| bA |  0.661401985 | 0.0010202450 | 0.08084062 |  0.52821290 |  0.7946661 | 6278.419 | 1.000738 |\n",
       "| deltaA[1] |  0.306301003 | 0.0006086635 | 0.05635217 |  0.21223341 |  0.3969207 | 8571.699 | 1.000197 |\n",
       "| deltaA[2] |  0.693698997 | 0.0006086635 | 0.05635217 |  0.60307927 |  0.7877666 | 8571.699 | 1.000197 |\n",
       "| deltaS[1] |  0.856599844 | 0.0008958751 | 0.08083123 |  0.70464939 |  0.9651997 | 8140.733 | 0.999832 |\n",
       "| deltaS[2] |  0.143400156 | 0.0008958751 | 0.08083123 |  0.03480031 |  0.2953506 | 8140.733 | 0.999832 |\n",
       "\n"
      ],
      "text/plain": [
       "          mean         se_mean      sd         5%          95%        n_eff   \n",
       "sigma_M    0.928900972 0.0001818485 0.01766356  0.90001802  0.9586110 9434.892\n",
       "sigma_F    0.946444205 0.0001947371 0.01813428  0.91746384  0.9766704 8671.672\n",
       "bt1        0.005960483 0.0078517415 0.41162791 -0.66765827  0.6899771 2748.386\n",
       "bt2       -0.010742350 0.0078346630 0.41133495 -0.68873990  0.6750451 2756.453\n",
       "bt3       -0.078645315 0.0079341078 0.41811110 -0.75720075  0.6198190 2777.072\n",
       "bt4        0.006908557 0.0078756295 0.42561548 -0.69058101  0.7102048 2920.548\n",
       "a_M       -0.017498138 0.0078985360 0.41257486 -0.70693685  0.6601582 2728.427\n",
       "a_F       -0.022264338 0.0078886328 0.41238467 -0.70620905  0.6554419 2732.760\n",
       "bS        -0.303885415 0.0007879526 0.06214948 -0.40522212 -0.2013339 6221.208\n",
       "bA         0.661401985 0.0010202450 0.08084062  0.52821290  0.7946661 6278.419\n",
       "deltaA[1]  0.306301003 0.0006086635 0.05635217  0.21223341  0.3969207 8571.699\n",
       "deltaA[2]  0.693698997 0.0006086635 0.05635217  0.60307927  0.7877666 8571.699\n",
       "deltaS[1]  0.856599844 0.0008958751 0.08083123  0.70464939  0.9651997 8140.733\n",
       "deltaS[2]  0.143400156 0.0008958751 0.08083123  0.03480031  0.2953506 8140.733\n",
       "          Rhat    \n",
       "sigma_M   1.000056\n",
       "sigma_F   1.000256\n",
       "bt1       1.000556\n",
       "bt2       1.000550\n",
       "bt3       1.000686\n",
       "bt4       1.000339\n",
       "a_M       1.000947\n",
       "a_F       1.000974\n",
       "bS        1.001163\n",
       "bA        1.000738\n",
       "deltaA[1] 1.000197\n",
       "deltaA[2] 1.000197\n",
       "deltaS[1] 0.999832\n",
       "deltaS[2] 0.999832"
      ]
     },
     "metadata": {},
     "output_type": "display_data"
    }
   ],
   "source": [
    "results_1 <- summary(model_1, probs = c(0.05, 0.95), \n",
    "                     pars = c('sigma_M', 'sigma_F', 'bt1', 'bt2', \n",
    "                              'bt3', 'bt4', 'a_M', 'a_F', \n",
    "                              'bS', 'bA', 'deltaA', 'deltaS'))$summary\n",
    "results_1"
   ]
  },
  {
   "cell_type": "code",
   "execution_count": 26,
   "id": "6a1a6581",
   "metadata": {},
   "outputs": [
    {
     "data": {
      "image/png": "[encoded data removed]",
      "text/plain": [
       "plot without title"
      ]
     },
     "metadata": {
      "image/png": {
       "height": 420,
       "width": 420
      }
     },
     "output_type": "display_data"
    }
   ],
   "source": [
    "pars = c('sigma_M', 'sigma_F', 'bt1', 'bt2', \n",
    "                              'bt3', 'bt4', 'a_M', 'a_F', \n",
    "                              'bS', 'bA', 'deltaA', 'deltaS')\n",
    "\n",
    "stan_trace(model_1, pars = pars)"
   ]
  },
  {
   "cell_type": "code",
   "execution_count": 27,
   "id": "6554cd55",
   "metadata": {},
   "outputs": [
    {
     "name": "stderr",
     "output_type": "stream",
     "text": [
      "Warning message:\n",
      "\"\u001b[1m\u001b[22mThe dot-dot notation (`..density..`) was deprecated in ggplot2 3.4.0.\n",
      "\u001b[36mℹ\u001b[39m Please use `after_stat(density)` instead.\n",
      "\u001b[36mℹ\u001b[39m The deprecated feature was likely used in the \u001b[34mrstan\u001b[39m package.\n",
      "  Please report the issue at \u001b[3m\u001b[34m<https://github.com/stan-dev/rstan/issues/>\u001b[39m\u001b[23m.\"\n",
      "\u001b[1m\u001b[22m`stat_bin()` using `bins = 30`. Pick better value with `binwidth`.\n"
     ]
    },
    {
     "data": {
      "image/png": "[encoded data removed]",
      "text/plain": [
       "plot without title"
      ]
     },
     "metadata": {
      "image/png": {
       "height": 420,
       "width": 420
      }
     },
     "output_type": "display_data"
    }
   ],
   "source": [
    "stan_hist(model_1, pars = pars)"
   ]
  },
  {
   "cell_type": "code",
   "execution_count": 28,
   "id": "c35c6794",
   "metadata": {},
   "outputs": [
    {
     "data": {
      "text/html": [
       "'Proportion less than -0.2: 0.9524'"
      ],
      "text/latex": [
       "'Proportion less than -0.2: 0.9524'"
      ],
      "text/markdown": [
       "'Proportion less than -0.2: 0.9524'"
      ],
      "text/plain": [
       "[1] \"Proportion less than -0.2: 0.9524\""
      ]
     },
     "metadata": {},
     "output_type": "display_data"
    },
    {
     "data": {
      "text/html": [
       "'Proportion less than -0.1: 0.9994'"
      ],
      "text/latex": [
       "'Proportion less than -0.1: 0.9994'"
      ],
      "text/markdown": [
       "'Proportion less than -0.1: 0.9994'"
      ],
      "text/plain": [
       "[1] \"Proportion less than -0.1: 0.9994\""
      ]
     },
     "metadata": {},
     "output_type": "display_data"
    },
    {
     "data": {
      "text/html": [
       "'Proportion less than -0.05: 1'"
      ],
      "text/latex": [
       "'Proportion less than -0.05: 1'"
      ],
      "text/markdown": [
       "'Proportion less than -0.05: 1'"
      ],
      "text/plain": [
       "[1] \"Proportion less than -0.05: 1\""
      ]
     },
     "metadata": {},
     "output_type": "display_data"
    }
   ],
   "source": [
    "samples <- extract(model_1, 'bS') \n",
    "counts <- ifelse(samples$bS < -0.2, 1, 0)\n",
    "p <- sum(counts)/length(counts)\n",
    "paste(\"Proportion less than -0.2:\", p, sep = \" \")\n",
    "\n",
    "samples <- extract(model_1, 'bS') \n",
    "counts <- ifelse(samples$bS < -0.1, 1, 0)\n",
    "p <- sum(counts)/length(counts)\n",
    "paste(\"Proportion less than -0.1:\", p, sep = \" \")\n",
    "\n",
    "samples <- extract(model_1, 'bS') \n",
    "counts <- ifelse(samples$bS < -0.05, 1, 0)\n",
    "p <- sum(counts)/length(counts)\n",
    "paste(\"Proportion less than -0.05:\", p, sep = \" \")"
   ]
  },
  {
   "cell_type": "markdown",
   "id": "f8f6cfe8",
   "metadata": {},
   "source": [
    "### The second model\n",
    "In this model we modify the previous one to allow teachers to have different influences in different exams. So in place of the coefficients $\\beta_{T_i}$ we know have coefficients $\\beta_{T_{i,k}}$ for each $i\\in\\{1,2,3,4\\}$ and $k\\in\\{M,F\\}$. These have the same Normal priors as the $\\beta_{T_i}$.\n",
    "\n",
    "As we will see this doesn't make much difference."
   ]
  },
  {
   "cell_type": "code",
   "execution_count": 29,
   "id": "d0b2ea20",
   "metadata": {},
   "outputs": [],
   "source": [
    "code_2 <- 'data{\n",
    "    int N;\n",
    "    vector[N] M;\n",
    "    vector[N] F;\n",
    "    int M_t1[N];\n",
    "    int M_t2[N];\n",
    "    int M_t3[N];\n",
    "    int M_t4[N];\n",
    "    int F_t1[N];\n",
    "    int F_t2[N];\n",
    "    int F_t3[N];\n",
    "    int F_t4[N];\n",
    "    int S[N];\n",
    "    int A[N];\n",
    "    vector[2] alpha;\n",
    "}\n",
    "parameters{\n",
    "    real bM_t1;\n",
    "    real bM_t2;\n",
    "    real bM_t3;\n",
    "    real bM_t4;\n",
    "    real bF_t1;\n",
    "    real bF_t2;\n",
    "    real bF_t3;\n",
    "    real bF_t4;\n",
    "    real a_F;\n",
    "    real a_M;\n",
    "    real bS;\n",
    "    real bA;\n",
    "    real<lower=0> sigma_M;\n",
    "    real<lower=0> sigma_F;\n",
    "    simplex[2] deltaA;\n",
    "    simplex[2] deltaS;\n",
    "    \n",
    "}\n",
    "\n",
    "transformed parameters{\n",
    "vector[3] deltaA_j;\n",
    "vector[3] deltaS_j;\n",
    "deltaS_j = append_row(0, deltaS);\n",
    "deltaA_j = append_row(0, deltaA);\n",
    "}\n",
    "\n",
    "model{\n",
    "    vector[N] mu_M;\n",
    "    vector[N] mu_F;\n",
    "    a_M ~ normal( 0 , 1 );\n",
    "    a_F ~ normal( 0 , 1 );\n",
    "    bM_t1 ~ normal( 0 , 1 );\n",
    "    bF_t1 ~ normal( 0 , 1 );\n",
    "    bM_t2 ~ normal( 0 , 1 );\n",
    "    bF_t2 ~ normal( 0 , 1 );\n",
    "    bM_t3 ~ normal( 0 , 1 );\n",
    "    bF_t3 ~ normal( 0 , 1 );\n",
    "    bM_t4 ~ normal( 0 , 1 );\n",
    "    bF_t4 ~ normal( 0 , 1 );\n",
    "    sigma_F ~ lognormal( 0, 0.25 );\n",
    "    sigma_M ~ lognormal( 0,  0.25 );\n",
    "    bA ~ normal( 0 , 1 );\n",
    "    bS ~ normal( 0 , 1 );\n",
    "    deltaS ~ dirichlet( alpha );\n",
    "    deltaA ~ dirichlet( alpha );\n",
    "    for ( i in 1:N ) {\n",
    "        mu_F[i] = a_F + bF_t1*F_t1[i] + bF_t2*F_t2[i] + bF_t3*F_t3[i] + bF_t4*F_t4[i] \n",
    "                  + bA*sum(deltaA_j[1:A[i]]) + bS*sum(deltaS_j[1:S[i]]);\n",
    "        mu_M[i] = a_M + bM_t1*M_t1[i] + bM_t2*M_t2[i] + bM_t3*M_t3[i] + bM_t4*M_t4[i] \n",
    "                  + bA*sum(deltaA_j[1:A[i]]) + bS*sum(deltaS_j[1:S[i]]);\n",
    "    }\n",
    "    F ~ normal( mu_F , sigma_F );\n",
    "    M ~ normal( mu_M , sigma_M );\n",
    "}\n",
    "generated quantities{\n",
    "vector[N] log_lik;\n",
    "\n",
    "for (i in 1:N) log_lik[i] = normal_lpdf(F[i] | a_F + bF_t1*F_t1[i] + bF_t2*F_t2[i] + bF_t3*F_t3[i] + bF_t4*F_t4[i] \n",
    "                                  + bA*sum(deltaA_j[1:A[i]]) + bS*sum(deltaS_j[1:S[i]]), \n",
    "                                    sigma_F)\n",
    "\n",
    "                             + normal_lpdf(M[i] | a_M + bM_t1*M_t1[i] + bM_t2*M_t2[i] + bM_t3*M_t3[i] + bM_t4*M_t4[i] \n",
    "                                  + bA*sum(deltaA_j[1:A[i]]) + bS*sum(deltaS_j[1:S[i]]), \n",
    "                                    sigma_M);\n",
    "                              \n",
    "}'"
   ]
  },
  {
   "cell_type": "code",
   "execution_count": 30,
   "id": "ce4f02b4",
   "metadata": {},
   "outputs": [],
   "source": [
    "model_2 <- stan( model_code = code_2 , data = dat , chains=4, \n",
    "                 cores = 4, iter = num_iters )"
   ]
  },
  {
   "cell_type": "code",
   "execution_count": 31,
   "id": "9efd54a8",
   "metadata": {},
   "outputs": [
    {
     "data": {
      "text/html": [
       "<table class=\"dataframe\">\n",
       "<caption>A matrix: 18 × 7 of type dbl</caption>\n",
       "<thead>\n",
       "\t<tr><th></th><th scope=col>mean</th><th scope=col>se_mean</th><th scope=col>sd</th><th scope=col>2.5%</th><th scope=col>97.5%</th><th scope=col>n_eff</th><th scope=col>Rhat</th></tr>\n",
       "</thead>\n",
       "<tbody>\n",
       "\t<tr><th scope=row>sigma_M</th><td> 0.928720954</td><td>0.0001526906</td><td>0.01744290</td><td> 0.8953530</td><td> 0.9635215</td><td>13050.068</td><td>0.9998776</td></tr>\n",
       "\t<tr><th scope=row>sigma_F</th><td> 0.946830870</td><td>0.0001609759</td><td>0.01792057</td><td> 0.9128232</td><td> 0.9828539</td><td>12393.153</td><td>0.9998358</td></tr>\n",
       "\t<tr><th scope=row>bM_t1</th><td> 0.042981941</td><td>0.0077690120</td><td>0.45926131</td><td>-0.8491224</td><td> 0.9549673</td><td> 3494.525</td><td>1.0006879</td></tr>\n",
       "\t<tr><th scope=row>bM_t2</th><td>-0.029189754</td><td>0.0077362297</td><td>0.45754119</td><td>-0.9169162</td><td> 0.8772139</td><td> 3497.854</td><td>1.0007132</td></tr>\n",
       "\t<tr><th scope=row>bM_t3</th><td>-0.066590202</td><td>0.0077982348</td><td>0.46928084</td><td>-0.9861478</td><td> 0.8598089</td><td> 3621.371</td><td>1.0008076</td></tr>\n",
       "\t<tr><th scope=row>bM_t4</th><td> 0.014261356</td><td>0.0077783667</td><td>0.46708791</td><td>-0.8985544</td><td> 0.9284673</td><td> 3605.956</td><td>1.0006662</td></tr>\n",
       "\t<tr><th scope=row>bF_t1</th><td> 0.006520974</td><td>0.0078520316</td><td>0.50516420</td><td>-0.9911663</td><td> 1.0004453</td><td> 4139.054</td><td>1.0003617</td></tr>\n",
       "\t<tr><th scope=row>bF_t2</th><td> 0.040171685</td><td>0.0078217167</td><td>0.50609669</td><td>-0.9641382</td><td> 1.0384796</td><td> 4186.613</td><td>1.0003722</td></tr>\n",
       "\t<tr><th scope=row>bF_t3</th><td>-0.077724447</td><td>0.0077320414</td><td>0.51306981</td><td>-1.0917529</td><td> 0.9276081</td><td> 4403.161</td><td>1.0002225</td></tr>\n",
       "\t<tr><th scope=row>bF_t4</th><td> 0.010489134</td><td>0.0094644284</td><td>1.00425275</td><td>-1.9314277</td><td> 1.9897455</td><td>11258.934</td><td>0.9997165</td></tr>\n",
       "\t<tr><th scope=row>a_M</th><td>-0.002732245</td><td>0.0077441816</td><td>0.46016010</td><td>-0.9150315</td><td> 0.8927364</td><td> 3530.749</td><td>1.0006384</td></tr>\n",
       "\t<tr><th scope=row>a_F</th><td>-0.026032336</td><td>0.0078234887</td><td>0.50679354</td><td>-1.0211430</td><td> 0.9721567</td><td> 4196.249</td><td>1.0002686</td></tr>\n",
       "\t<tr><th scope=row>bS</th><td>-0.316976100</td><td>0.0006639216</td><td>0.06091278</td><td>-0.4354662</td><td>-0.1959161</td><td> 8417.502</td><td>1.0001032</td></tr>\n",
       "\t<tr><th scope=row>bA</th><td> 0.646587819</td><td>0.0008577772</td><td>0.08028951</td><td> 0.4878189</td><td> 0.8031188</td><td> 8761.302</td><td>0.9999578</td></tr>\n",
       "\t<tr><th scope=row>deltaA[1]</th><td> 0.299359853</td><td>0.0005619885</td><td>0.05765782</td><td> 0.1846501</td><td> 0.4104385</td><td>10525.958</td><td>0.9999314</td></tr>\n",
       "\t<tr><th scope=row>deltaA[2]</th><td> 0.700640147</td><td>0.0005619885</td><td>0.05765782</td><td> 0.5895615</td><td> 0.8153499</td><td>10525.958</td><td>0.9999314</td></tr>\n",
       "\t<tr><th scope=row>deltaS[1]</th><td> 0.863175984</td><td>0.0007137170</td><td>0.07690429</td><td> 0.6858497</td><td> 0.9775989</td><td>11610.450</td><td>0.9997696</td></tr>\n",
       "\t<tr><th scope=row>deltaS[2]</th><td> 0.136824016</td><td>0.0007137170</td><td>0.07690429</td><td> 0.0224011</td><td> 0.3141503</td><td>11610.450</td><td>0.9997696</td></tr>\n",
       "</tbody>\n",
       "</table>\n"
      ],
      "text/latex": [
       "A matrix: 18 × 7 of type dbl\n",
       "\\begin{tabular}{r|lllllll}\n",
       "  & mean & se\\_mean & sd & 2.5\\% & 97.5\\% & n\\_eff & Rhat\\\\\n",
       "\\hline\n",
       "\tsigma\\_M &  0.928720954 & 0.0001526906 & 0.01744290 &  0.8953530 &  0.9635215 & 13050.068 & 0.9998776\\\\\n",
       "\tsigma\\_F &  0.946830870 & 0.0001609759 & 0.01792057 &  0.9128232 &  0.9828539 & 12393.153 & 0.9998358\\\\\n",
       "\tbM\\_t1 &  0.042981941 & 0.0077690120 & 0.45926131 & -0.8491224 &  0.9549673 &  3494.525 & 1.0006879\\\\\n",
       "\tbM\\_t2 & -0.029189754 & 0.0077362297 & 0.45754119 & -0.9169162 &  0.8772139 &  3497.854 & 1.0007132\\\\\n",
       "\tbM\\_t3 & -0.066590202 & 0.0077982348 & 0.46928084 & -0.9861478 &  0.8598089 &  3621.371 & 1.0008076\\\\\n",
       "\tbM\\_t4 &  0.014261356 & 0.0077783667 & 0.46708791 & -0.8985544 &  0.9284673 &  3605.956 & 1.0006662\\\\\n",
       "\tbF\\_t1 &  0.006520974 & 0.0078520316 & 0.50516420 & -0.9911663 &  1.0004453 &  4139.054 & 1.0003617\\\\\n",
       "\tbF\\_t2 &  0.040171685 & 0.0078217167 & 0.50609669 & -0.9641382 &  1.0384796 &  4186.613 & 1.0003722\\\\\n",
       "\tbF\\_t3 & -0.077724447 & 0.0077320414 & 0.51306981 & -1.0917529 &  0.9276081 &  4403.161 & 1.0002225\\\\\n",
       "\tbF\\_t4 &  0.010489134 & 0.0094644284 & 1.00425275 & -1.9314277 &  1.9897455 & 11258.934 & 0.9997165\\\\\n",
       "\ta\\_M & -0.002732245 & 0.0077441816 & 0.46016010 & -0.9150315 &  0.8927364 &  3530.749 & 1.0006384\\\\\n",
       "\ta\\_F & -0.026032336 & 0.0078234887 & 0.50679354 & -1.0211430 &  0.9721567 &  4196.249 & 1.0002686\\\\\n",
       "\tbS & -0.316976100 & 0.0006639216 & 0.06091278 & -0.4354662 & -0.1959161 &  8417.502 & 1.0001032\\\\\n",
       "\tbA &  0.646587819 & 0.0008577772 & 0.08028951 &  0.4878189 &  0.8031188 &  8761.302 & 0.9999578\\\\\n",
       "\tdeltaA{[}1{]} &  0.299359853 & 0.0005619885 & 0.05765782 &  0.1846501 &  0.4104385 & 10525.958 & 0.9999314\\\\\n",
       "\tdeltaA{[}2{]} &  0.700640147 & 0.0005619885 & 0.05765782 &  0.5895615 &  0.8153499 & 10525.958 & 0.9999314\\\\\n",
       "\tdeltaS{[}1{]} &  0.863175984 & 0.0007137170 & 0.07690429 &  0.6858497 &  0.9775989 & 11610.450 & 0.9997696\\\\\n",
       "\tdeltaS{[}2{]} &  0.136824016 & 0.0007137170 & 0.07690429 &  0.0224011 &  0.3141503 & 11610.450 & 0.9997696\\\\\n",
       "\\end{tabular}\n"
      ],
      "text/markdown": [
       "\n",
       "A matrix: 18 × 7 of type dbl\n",
       "\n",
       "| <!--/--> | mean | se_mean | sd | 2.5% | 97.5% | n_eff | Rhat |\n",
       "|---|---|---|---|---|---|---|---|\n",
       "| sigma_M |  0.928720954 | 0.0001526906 | 0.01744290 |  0.8953530 |  0.9635215 | 13050.068 | 0.9998776 |\n",
       "| sigma_F |  0.946830870 | 0.0001609759 | 0.01792057 |  0.9128232 |  0.9828539 | 12393.153 | 0.9998358 |\n",
       "| bM_t1 |  0.042981941 | 0.0077690120 | 0.45926131 | -0.8491224 |  0.9549673 |  3494.525 | 1.0006879 |\n",
       "| bM_t2 | -0.029189754 | 0.0077362297 | 0.45754119 | -0.9169162 |  0.8772139 |  3497.854 | 1.0007132 |\n",
       "| bM_t3 | -0.066590202 | 0.0077982348 | 0.46928084 | -0.9861478 |  0.8598089 |  3621.371 | 1.0008076 |\n",
       "| bM_t4 |  0.014261356 | 0.0077783667 | 0.46708791 | -0.8985544 |  0.9284673 |  3605.956 | 1.0006662 |\n",
       "| bF_t1 |  0.006520974 | 0.0078520316 | 0.50516420 | -0.9911663 |  1.0004453 |  4139.054 | 1.0003617 |\n",
       "| bF_t2 |  0.040171685 | 0.0078217167 | 0.50609669 | -0.9641382 |  1.0384796 |  4186.613 | 1.0003722 |\n",
       "| bF_t3 | -0.077724447 | 0.0077320414 | 0.51306981 | -1.0917529 |  0.9276081 |  4403.161 | 1.0002225 |\n",
       "| bF_t4 |  0.010489134 | 0.0094644284 | 1.00425275 | -1.9314277 |  1.9897455 | 11258.934 | 0.9997165 |\n",
       "| a_M | -0.002732245 | 0.0077441816 | 0.46016010 | -0.9150315 |  0.8927364 |  3530.749 | 1.0006384 |\n",
       "| a_F | -0.026032336 | 0.0078234887 | 0.50679354 | -1.0211430 |  0.9721567 |  4196.249 | 1.0002686 |\n",
       "| bS | -0.316976100 | 0.0006639216 | 0.06091278 | -0.4354662 | -0.1959161 |  8417.502 | 1.0001032 |\n",
       "| bA |  0.646587819 | 0.0008577772 | 0.08028951 |  0.4878189 |  0.8031188 |  8761.302 | 0.9999578 |\n",
       "| deltaA[1] |  0.299359853 | 0.0005619885 | 0.05765782 |  0.1846501 |  0.4104385 | 10525.958 | 0.9999314 |\n",
       "| deltaA[2] |  0.700640147 | 0.0005619885 | 0.05765782 |  0.5895615 |  0.8153499 | 10525.958 | 0.9999314 |\n",
       "| deltaS[1] |  0.863175984 | 0.0007137170 | 0.07690429 |  0.6858497 |  0.9775989 | 11610.450 | 0.9997696 |\n",
       "| deltaS[2] |  0.136824016 | 0.0007137170 | 0.07690429 |  0.0224011 |  0.3141503 | 11610.450 | 0.9997696 |\n",
       "\n"
      ],
      "text/plain": [
       "          mean         se_mean      sd         2.5%       97.5%      n_eff    \n",
       "sigma_M    0.928720954 0.0001526906 0.01744290  0.8953530  0.9635215 13050.068\n",
       "sigma_F    0.946830870 0.0001609759 0.01792057  0.9128232  0.9828539 12393.153\n",
       "bM_t1      0.042981941 0.0077690120 0.45926131 -0.8491224  0.9549673  3494.525\n",
       "bM_t2     -0.029189754 0.0077362297 0.45754119 -0.9169162  0.8772139  3497.854\n",
       "bM_t3     -0.066590202 0.0077982348 0.46928084 -0.9861478  0.8598089  3621.371\n",
       "bM_t4      0.014261356 0.0077783667 0.46708791 -0.8985544  0.9284673  3605.956\n",
       "bF_t1      0.006520974 0.0078520316 0.50516420 -0.9911663  1.0004453  4139.054\n",
       "bF_t2      0.040171685 0.0078217167 0.50609669 -0.9641382  1.0384796  4186.613\n",
       "bF_t3     -0.077724447 0.0077320414 0.51306981 -1.0917529  0.9276081  4403.161\n",
       "bF_t4      0.010489134 0.0094644284 1.00425275 -1.9314277  1.9897455 11258.934\n",
       "a_M       -0.002732245 0.0077441816 0.46016010 -0.9150315  0.8927364  3530.749\n",
       "a_F       -0.026032336 0.0078234887 0.50679354 -1.0211430  0.9721567  4196.249\n",
       "bS        -0.316976100 0.0006639216 0.06091278 -0.4354662 -0.1959161  8417.502\n",
       "bA         0.646587819 0.0008577772 0.08028951  0.4878189  0.8031188  8761.302\n",
       "deltaA[1]  0.299359853 0.0005619885 0.05765782  0.1846501  0.4104385 10525.958\n",
       "deltaA[2]  0.700640147 0.0005619885 0.05765782  0.5895615  0.8153499 10525.958\n",
       "deltaS[1]  0.863175984 0.0007137170 0.07690429  0.6858497  0.9775989 11610.450\n",
       "deltaS[2]  0.136824016 0.0007137170 0.07690429  0.0224011  0.3141503 11610.450\n",
       "          Rhat     \n",
       "sigma_M   0.9998776\n",
       "sigma_F   0.9998358\n",
       "bM_t1     1.0006879\n",
       "bM_t2     1.0007132\n",
       "bM_t3     1.0008076\n",
       "bM_t4     1.0006662\n",
       "bF_t1     1.0003617\n",
       "bF_t2     1.0003722\n",
       "bF_t3     1.0002225\n",
       "bF_t4     0.9997165\n",
       "a_M       1.0006384\n",
       "a_F       1.0002686\n",
       "bS        1.0001032\n",
       "bA        0.9999578\n",
       "deltaA[1] 0.9999314\n",
       "deltaA[2] 0.9999314\n",
       "deltaS[1] 0.9997696\n",
       "deltaS[2] 0.9997696"
      ]
     },
     "metadata": {},
     "output_type": "display_data"
    }
   ],
   "source": [
    "results_2 <- summary(model_2, probs = c(0.025, 0.975), \n",
    "                     pars = c('sigma_M', 'sigma_F', 'bM_t1', 'bM_t2', \n",
    "                              'bM_t3', 'bM_t4', 'bF_t1', 'bF_t2', 'bF_t3', 'bF_t4', 'a_M', 'a_F', \n",
    "                              'bS', 'bA', 'deltaA', 'deltaS'))$summary\n",
    "results_2"
   ]
  },
  {
   "cell_type": "code",
   "execution_count": 32,
   "id": "57a9c329",
   "metadata": {},
   "outputs": [
    {
     "data": {
      "image/png": "[encoded data removed]",
      "text/plain": [
       "plot without title"
      ]
     },
     "metadata": {
      "image/png": {
       "height": 420,
       "width": 420
      }
     },
     "output_type": "display_data"
    }
   ],
   "source": [
    "pars = c('sigma_M', 'sigma_F', 'bM_t1', 'bM_t2', \n",
    "                              'bM_t3', 'bM_t4', 'bF_t1', 'bF_t2', 'bF_t3', 'bF_t4', 'a_M', 'a_F', \n",
    "                              'bS', 'bA', 'deltaA', 'deltaS')\n",
    "\n",
    "stan_trace(model_2, pars = pars)"
   ]
  },
  {
   "cell_type": "code",
   "execution_count": 33,
   "id": "a4ad976c",
   "metadata": {},
   "outputs": [
    {
     "name": "stderr",
     "output_type": "stream",
     "text": [
      "\u001b[1m\u001b[22m`stat_bin()` using `bins = 30`. Pick better value with `binwidth`.\n"
     ]
    },
    {
     "data": {
      "image/png": "[encoded data removed]",
      "text/plain": [
       "plot without title"
      ]
     },
     "metadata": {
      "image/png": {
       "height": 420,
       "width": 420
      }
     },
     "output_type": "display_data"
    }
   ],
   "source": [
    "stan_hist(model_2, pars = pars)"
   ]
  },
  {
   "cell_type": "code",
   "execution_count": 34,
   "id": "6cd500e0",
   "metadata": {},
   "outputs": [
    {
     "data": {
      "text/html": [
       "'Proportion less than -0.2: 0.9524'"
      ],
      "text/latex": [
       "'Proportion less than -0.2: 0.9524'"
      ],
      "text/markdown": [
       "'Proportion less than -0.2: 0.9524'"
      ],
      "text/plain": [
       "[1] \"Proportion less than -0.2: 0.9524\""
      ]
     },
     "metadata": {},
     "output_type": "display_data"
    },
    {
     "data": {
      "text/html": [
       "'Proportion less than -0.1: 0.9994'"
      ],
      "text/latex": [
       "'Proportion less than -0.1: 0.9994'"
      ],
      "text/markdown": [
       "'Proportion less than -0.1: 0.9994'"
      ],
      "text/plain": [
       "[1] \"Proportion less than -0.1: 0.9994\""
      ]
     },
     "metadata": {},
     "output_type": "display_data"
    },
    {
     "data": {
      "text/html": [
       "'Proportion less than -0.05: 1'"
      ],
      "text/latex": [
       "'Proportion less than -0.05: 1'"
      ],
      "text/markdown": [
       "'Proportion less than -0.05: 1'"
      ],
      "text/plain": [
       "[1] \"Proportion less than -0.05: 1\""
      ]
     },
     "metadata": {},
     "output_type": "display_data"
    }
   ],
   "source": [
    "samples <- extract(model_1, 'bS') \n",
    "counts <- ifelse(samples$bS < -0.2, 1, 0)\n",
    "p <- sum(counts)/length(counts)\n",
    "paste(\"Proportion less than -0.2:\", p, sep = \" \")\n",
    "\n",
    "samples <- extract(model_1, 'bS') \n",
    "counts <- ifelse(samples$bS < -0.1, 1, 0)\n",
    "p <- sum(counts)/length(counts)\n",
    "paste(\"Proportion less than -0.1:\", p, sep = \" \")\n",
    "\n",
    "samples <- extract(model_1, 'bS') \n",
    "counts <- ifelse(samples$bS < -0.05, 1, 0)\n",
    "p <- sum(counts)/length(counts)\n",
    "paste(\"Proportion less than -0.05:\", p, sep = \" \")"
   ]
  },
  {
   "cell_type": "markdown",
   "id": "6210cdcf",
   "metadata": {},
   "source": [
    "### Correlated exam results <a id='model3'></a>\n",
    "For better realism we can treat exam results from our two exams as being correlated. This corresponds to the fact that unmodeled factors such as student motivation/ability play a role. Apart from this change, our model here is the same as the first one.\n",
    "\n",
    "$i\\in\\{1,\\ldots,N\\}$ ($N$ is number of students) and $k\\in\\{M,F\\}$ (exams)\n",
    "\n",
    "#### Model\n",
    "\n",
    "$E \\sim MultiNormal(\\mu, \\Sigma)$ ...   ($E$ is a multivariate normal distribution for two variables. As is typical, the covariance matrix $\\Sigma$ will be modeled using a vector of standard deviations $\\tau$ and a correlation matrix $\\Omega$ as $\\Sigma = \\tau_{diag}\\ast\\Omega\\ast \\tau_{diag}$).\n",
    "\n",
    "$\\mu_k = \\alpha_k  + \\sum^4_{i=1}\\beta_{T_i}T_{i,k} + \\beta_A\\sum_{i=1}^{N_A-1} \\delta_i^A + \\beta_S \\sum_{j=i}^{N_S-1} \\delta_j^B$\n",
    "\n",
    "$T_{i,k}$ is indicator variable for whether student was or was not taught by teacher $i$ for exam $k$. \n",
    "\n",
    "#### Priors\n",
    "\n",
    "$\\tau \\sim LogNorm(0,0.25)$\n",
    "\n",
    "$\\Omega\\sim LKJcorr(2)$\n",
    "\n",
    "$(\\delta^A_1, \\delta^A_2), (\\delta^S_1, \\delta^S_2) \\sim Dirichlet(2,2)$\n",
    "\n",
    "$a_k, \\beta_{T_i}, \\beta_A, \\beta_S \\sim Norm(0,1)$"
   ]
  },
  {
   "cell_type": "code",
   "execution_count": 35,
   "id": "98120f80",
   "metadata": {},
   "outputs": [],
   "source": [
    "dat_2 <- list(\n",
    "  N = 1359,\n",
    "  E = matrix(c(df_full$Midterm_std, df_full$Final_std), ncol = 2), # exam results as a matrix\n",
    "  M = df_full$Midterm_std, # scores for midterm\n",
    "  F = df_full$Final_std, # scores for final\n",
    "  \n",
    "  # indicator variables for teachers in midterm\n",
    "  M_t1 = df_full$M_t1, \n",
    "  M_t2 = df_full$M_t2,\n",
    "  M_t3 = df_full$M_t3, \n",
    "  M_t4 = df_full$M_t4,  \n",
    "  \n",
    "  # indicator variables for teachers in final\n",
    "  F_t1 = df_full$F_t1, \n",
    "  F_t2 = df_full$F_t2,\n",
    "  F_t3 = df_full$F_t3, \n",
    "  F_t4 = df_full$F_t4,\n",
    "    \n",
    "  A = df_full$Stream_level, # discrete ordered predictor for 3 levels of streaming\n",
    "  S = df_full$Section, # section number\n",
    "  alpha = rep( 2 , 2 ) # parameters for Dirichlet priors\n",
    ")"
   ]
  },
  {
   "cell_type": "code",
   "execution_count": 36,
   "id": "763a1a3f",
   "metadata": {},
   "outputs": [],
   "source": [
    "code_3 <- 'data{\n",
    "    int N;\n",
    "    array[N] vector[2] E;\n",
    "    int M_t1[N];\n",
    "    int M_t2[N];\n",
    "    int M_t3[N];\n",
    "    int M_t4[N];\n",
    "    int F_t1[N];\n",
    "    int F_t2[N];\n",
    "    int F_t3[N];\n",
    "    int F_t4[N];\n",
    "    int S[N];\n",
    "    int A[N];\n",
    "    vector[2] alpha;\n",
    "}\n",
    "parameters{\n",
    "    corr_matrix[2] Omega;     \n",
    "    vector<lower=0>[2] tau;\n",
    "    real bt1;\n",
    "    real bt2;\n",
    "    real bt3;\n",
    "    real bt4;\n",
    "    real a_F;\n",
    "    real a_M;\n",
    "    real bS;\n",
    "    real bA;\n",
    "    simplex[2] deltaA;\n",
    "    simplex[2] deltaS;\n",
    "    \n",
    "}\n",
    "\n",
    "transformed parameters{\n",
    "vector[3] deltaA_j;\n",
    "vector[3] deltaS_j;\n",
    "deltaS_j = append_row(0, deltaS);\n",
    "deltaA_j = append_row(0, deltaA);\n",
    "}\n",
    "\n",
    "model{\n",
    "    tau ~ lognormal( 0, 0.25 );\n",
    "    Omega ~ lkj_corr(2);\n",
    "    array[N] vector[2] mu;\n",
    "    a_M ~ normal( 0 , 1 );\n",
    "    a_F ~ normal( 0 , 1 );\n",
    "    bt1 ~ normal( 0 , 1 );\n",
    "    bt2 ~ normal( 0 , 1 );\n",
    "    bt3 ~ normal( 0 , 1 );\n",
    "    bt4 ~ normal( 0 , 1 );\n",
    "    bA ~ normal( 0 , 1 );\n",
    "    bS ~ normal( 0 , 1 );\n",
    "    deltaS ~ dirichlet( alpha );\n",
    "    deltaA ~ dirichlet( alpha );\n",
    "    for ( i in 1:N ) {\n",
    "        mu[i][1] = a_M + bt1*F_t1[i] + bt2*F_t2[i] + bt3*F_t3[i] + bt4*F_t4[i] \n",
    "                  + bA*sum(deltaA_j[1:A[i]]) + bS*sum(deltaS_j[1:S[i]]);\n",
    "        mu[i][2] = a_F + bt1*F_t1[i] + bt2*F_t2[i] + bt3*F_t3[i] + bt4*F_t4[i] \n",
    "                  + bA*sum(deltaA_j[1:A[i]]) + bS*sum(deltaS_j[1:S[i]]);\n",
    "    }\n",
    "\n",
    "    E ~ multi_normal(mu, quad_form_diag(Omega, tau));\n",
    "}\n",
    "\n",
    "generated quantities{\n",
    "    vector[N] log_lik; \n",
    "    array[N] vector[2] mu;\n",
    "    for ( i in 1:N ) {\n",
    "        mu[i][1] = a_M + bt1*F_t1[i] + bt2*F_t2[i] + bt3*F_t3[i] + bt4*F_t4[i] \n",
    "                  + bA*sum(deltaA_j[1:A[i]]) + bS*sum(deltaS_j[1:S[i]]);\n",
    "        mu[i][2] = a_F + bt1*F_t1[i] + bt2*F_t2[i] + bt3*F_t3[i] + bt4*F_t4[i] \n",
    "                  + bA*sum(deltaA_j[1:A[i]]) + bS*sum(deltaS_j[1:S[i]]);\n",
    "        log_lik[i] = multi_normal_lpdf(E[i] | mu[i] , quad_form_diag(Omega, tau) );\n",
    "    }\n",
    "}\n",
    "\n",
    "'"
   ]
  },
  {
   "cell_type": "code",
   "execution_count": 37,
   "id": "596c6533",
   "metadata": {},
   "outputs": [],
   "source": [
    "model_3 <- stan( model_code = code_3 , data = dat_2 , chains=4, \n",
    "                 cores = 4, iter = num_iters )"
   ]
  },
  {
   "cell_type": "code",
   "execution_count": 38,
   "id": "e2d7be09",
   "metadata": {},
   "outputs": [
    {
     "data": {
      "text/html": [
       "<table class=\"dataframe\">\n",
       "<caption>A matrix: 18 × 7 of type dbl</caption>\n",
       "<thead>\n",
       "\t<tr><th></th><th scope=col>mean</th><th scope=col>se_mean</th><th scope=col>sd</th><th scope=col>2.5%</th><th scope=col>97.5%</th><th scope=col>n_eff</th><th scope=col>Rhat</th></tr>\n",
       "</thead>\n",
       "<tbody>\n",
       "\t<tr><th scope=row>tau[1]</th><td> 0.929024515</td><td>0.0002175871</td><td>0.01747944</td><td> 0.89561008</td><td> 0.9640914</td><td> 6453.403</td><td>0.9998026</td></tr>\n",
       "\t<tr><th scope=row>tau[2]</th><td> 0.946678767</td><td>0.0002213314</td><td>0.01801045</td><td> 0.91238119</td><td> 0.9827161</td><td> 6621.602</td><td>0.9997626</td></tr>\n",
       "\t<tr><th scope=row>Omega[1,1]</th><td> 1.000000000</td><td>         NaN</td><td>0.00000000</td><td> 1.00000000</td><td> 1.0000000</td><td>      NaN</td><td>      NaN</td></tr>\n",
       "\t<tr><th scope=row>Omega[1,2]</th><td> 0.778393484</td><td>0.0001270871</td><td>0.01067640</td><td> 0.75656459</td><td> 0.7988551</td><td> 7057.427</td><td>0.9999523</td></tr>\n",
       "\t<tr><th scope=row>Omega[2,1]</th><td> 0.778393484</td><td>0.0001270871</td><td>0.01067640</td><td> 0.75656459</td><td> 0.7988551</td><td> 7057.427</td><td>0.9999523</td></tr>\n",
       "\t<tr><th scope=row>Omega[2,2]</th><td> 1.000000000</td><td>         NaN</td><td>0.00000000</td><td> 1.00000000</td><td> 1.0000000</td><td>      NaN</td><td>      NaN</td></tr>\n",
       "\t<tr><th scope=row>bt1</th><td> 0.007462504</td><td>0.0098128458</td><td>0.44933418</td><td>-0.86915862</td><td> 0.8780076</td><td> 2096.761</td><td>1.0013698</td></tr>\n",
       "\t<tr><th scope=row>bt2</th><td>-0.004890271</td><td>0.0098213611</td><td>0.45028502</td><td>-0.88733759</td><td> 0.8681123</td><td> 2101.995</td><td>1.0015155</td></tr>\n",
       "\t<tr><th scope=row>bt3</th><td>-0.077393334</td><td>0.0096370593</td><td>0.45599201</td><td>-0.96894885</td><td> 0.8035128</td><td> 2238.852</td><td>1.0014226</td></tr>\n",
       "\t<tr><th scope=row>bt4</th><td> 0.011911695</td><td>0.0097614964</td><td>0.99135177</td><td>-1.94808830</td><td> 1.9173416</td><td>10313.897</td><td>0.9999788</td></tr>\n",
       "\t<tr><th scope=row>a_M</th><td>-0.036371871</td><td>0.0096195013</td><td>0.45087522</td><td>-0.91061164</td><td> 0.8408452</td><td> 2196.886</td><td>1.0014866</td></tr>\n",
       "\t<tr><th scope=row>a_F</th><td>-0.036494633</td><td>0.0096206344</td><td>0.45133613</td><td>-0.91689864</td><td> 0.8458893</td><td> 2200.862</td><td>1.0014649</td></tr>\n",
       "\t<tr><th scope=row>bS</th><td>-0.300348920</td><td>0.0010680446</td><td>0.08357663</td><td>-0.46591676</td><td>-0.1323838</td><td> 6123.376</td><td>1.0002026</td></tr>\n",
       "\t<tr><th scope=row>bA</th><td> 0.669592974</td><td>0.0014064614</td><td>0.11044026</td><td> 0.45369996</td><td> 0.8872313</td><td> 6165.939</td><td>1.0003154</td></tr>\n",
       "\t<tr><th scope=row>deltaA[1]</th><td> 0.312407679</td><td>0.0007629864</td><td>0.07325415</td><td> 0.17068862</td><td> 0.4601062</td><td> 9217.876</td><td>0.9998949</td></tr>\n",
       "\t<tr><th scope=row>deltaA[2]</th><td> 0.687592321</td><td>0.0007629864</td><td>0.07325415</td><td> 0.53989375</td><td> 0.8293114</td><td> 9217.876</td><td>0.9998949</td></tr>\n",
       "\t<tr><th scope=row>deltaS[1]</th><td> 0.802628778</td><td>0.0013442537</td><td>0.11789540</td><td> 0.52874853</td><td> 0.9697491</td><td> 7691.858</td><td>1.0008566</td></tr>\n",
       "\t<tr><th scope=row>deltaS[2]</th><td> 0.197371222</td><td>0.0013442537</td><td>0.11789540</td><td> 0.03025092</td><td> 0.4712515</td><td> 7691.858</td><td>1.0008566</td></tr>\n",
       "</tbody>\n",
       "</table>\n"
      ],
      "text/latex": [
       "A matrix: 18 × 7 of type dbl\n",
       "\\begin{tabular}{r|lllllll}\n",
       "  & mean & se\\_mean & sd & 2.5\\% & 97.5\\% & n\\_eff & Rhat\\\\\n",
       "\\hline\n",
       "\ttau{[}1{]} &  0.929024515 & 0.0002175871 & 0.01747944 &  0.89561008 &  0.9640914 &  6453.403 & 0.9998026\\\\\n",
       "\ttau{[}2{]} &  0.946678767 & 0.0002213314 & 0.01801045 &  0.91238119 &  0.9827161 &  6621.602 & 0.9997626\\\\\n",
       "\tOmega{[}1,1{]} &  1.000000000 &          NaN & 0.00000000 &  1.00000000 &  1.0000000 &       NaN &       NaN\\\\\n",
       "\tOmega{[}1,2{]} &  0.778393484 & 0.0001270871 & 0.01067640 &  0.75656459 &  0.7988551 &  7057.427 & 0.9999523\\\\\n",
       "\tOmega{[}2,1{]} &  0.778393484 & 0.0001270871 & 0.01067640 &  0.75656459 &  0.7988551 &  7057.427 & 0.9999523\\\\\n",
       "\tOmega{[}2,2{]} &  1.000000000 &          NaN & 0.00000000 &  1.00000000 &  1.0000000 &       NaN &       NaN\\\\\n",
       "\tbt1 &  0.007462504 & 0.0098128458 & 0.44933418 & -0.86915862 &  0.8780076 &  2096.761 & 1.0013698\\\\\n",
       "\tbt2 & -0.004890271 & 0.0098213611 & 0.45028502 & -0.88733759 &  0.8681123 &  2101.995 & 1.0015155\\\\\n",
       "\tbt3 & -0.077393334 & 0.0096370593 & 0.45599201 & -0.96894885 &  0.8035128 &  2238.852 & 1.0014226\\\\\n",
       "\tbt4 &  0.011911695 & 0.0097614964 & 0.99135177 & -1.94808830 &  1.9173416 & 10313.897 & 0.9999788\\\\\n",
       "\ta\\_M & -0.036371871 & 0.0096195013 & 0.45087522 & -0.91061164 &  0.8408452 &  2196.886 & 1.0014866\\\\\n",
       "\ta\\_F & -0.036494633 & 0.0096206344 & 0.45133613 & -0.91689864 &  0.8458893 &  2200.862 & 1.0014649\\\\\n",
       "\tbS & -0.300348920 & 0.0010680446 & 0.08357663 & -0.46591676 & -0.1323838 &  6123.376 & 1.0002026\\\\\n",
       "\tbA &  0.669592974 & 0.0014064614 & 0.11044026 &  0.45369996 &  0.8872313 &  6165.939 & 1.0003154\\\\\n",
       "\tdeltaA{[}1{]} &  0.312407679 & 0.0007629864 & 0.07325415 &  0.17068862 &  0.4601062 &  9217.876 & 0.9998949\\\\\n",
       "\tdeltaA{[}2{]} &  0.687592321 & 0.0007629864 & 0.07325415 &  0.53989375 &  0.8293114 &  9217.876 & 0.9998949\\\\\n",
       "\tdeltaS{[}1{]} &  0.802628778 & 0.0013442537 & 0.11789540 &  0.52874853 &  0.9697491 &  7691.858 & 1.0008566\\\\\n",
       "\tdeltaS{[}2{]} &  0.197371222 & 0.0013442537 & 0.11789540 &  0.03025092 &  0.4712515 &  7691.858 & 1.0008566\\\\\n",
       "\\end{tabular}\n"
      ],
      "text/markdown": [
       "\n",
       "A matrix: 18 × 7 of type dbl\n",
       "\n",
       "| <!--/--> | mean | se_mean | sd | 2.5% | 97.5% | n_eff | Rhat |\n",
       "|---|---|---|---|---|---|---|---|\n",
       "| tau[1] |  0.929024515 | 0.0002175871 | 0.01747944 |  0.89561008 |  0.9640914 |  6453.403 | 0.9998026 |\n",
       "| tau[2] |  0.946678767 | 0.0002213314 | 0.01801045 |  0.91238119 |  0.9827161 |  6621.602 | 0.9997626 |\n",
       "| Omega[1,1] |  1.000000000 |          NaN | 0.00000000 |  1.00000000 |  1.0000000 |       NaN |       NaN |\n",
       "| Omega[1,2] |  0.778393484 | 0.0001270871 | 0.01067640 |  0.75656459 |  0.7988551 |  7057.427 | 0.9999523 |\n",
       "| Omega[2,1] |  0.778393484 | 0.0001270871 | 0.01067640 |  0.75656459 |  0.7988551 |  7057.427 | 0.9999523 |\n",
       "| Omega[2,2] |  1.000000000 |          NaN | 0.00000000 |  1.00000000 |  1.0000000 |       NaN |       NaN |\n",
       "| bt1 |  0.007462504 | 0.0098128458 | 0.44933418 | -0.86915862 |  0.8780076 |  2096.761 | 1.0013698 |\n",
       "| bt2 | -0.004890271 | 0.0098213611 | 0.45028502 | -0.88733759 |  0.8681123 |  2101.995 | 1.0015155 |\n",
       "| bt3 | -0.077393334 | 0.0096370593 | 0.45599201 | -0.96894885 |  0.8035128 |  2238.852 | 1.0014226 |\n",
       "| bt4 |  0.011911695 | 0.0097614964 | 0.99135177 | -1.94808830 |  1.9173416 | 10313.897 | 0.9999788 |\n",
       "| a_M | -0.036371871 | 0.0096195013 | 0.45087522 | -0.91061164 |  0.8408452 |  2196.886 | 1.0014866 |\n",
       "| a_F | -0.036494633 | 0.0096206344 | 0.45133613 | -0.91689864 |  0.8458893 |  2200.862 | 1.0014649 |\n",
       "| bS | -0.300348920 | 0.0010680446 | 0.08357663 | -0.46591676 | -0.1323838 |  6123.376 | 1.0002026 |\n",
       "| bA |  0.669592974 | 0.0014064614 | 0.11044026 |  0.45369996 |  0.8872313 |  6165.939 | 1.0003154 |\n",
       "| deltaA[1] |  0.312407679 | 0.0007629864 | 0.07325415 |  0.17068862 |  0.4601062 |  9217.876 | 0.9998949 |\n",
       "| deltaA[2] |  0.687592321 | 0.0007629864 | 0.07325415 |  0.53989375 |  0.8293114 |  9217.876 | 0.9998949 |\n",
       "| deltaS[1] |  0.802628778 | 0.0013442537 | 0.11789540 |  0.52874853 |  0.9697491 |  7691.858 | 1.0008566 |\n",
       "| deltaS[2] |  0.197371222 | 0.0013442537 | 0.11789540 |  0.03025092 |  0.4712515 |  7691.858 | 1.0008566 |\n",
       "\n"
      ],
      "text/plain": [
       "           mean         se_mean      sd         2.5%        97.5%     \n",
       "tau[1]      0.929024515 0.0002175871 0.01747944  0.89561008  0.9640914\n",
       "tau[2]      0.946678767 0.0002213314 0.01801045  0.91238119  0.9827161\n",
       "Omega[1,1]  1.000000000          NaN 0.00000000  1.00000000  1.0000000\n",
       "Omega[1,2]  0.778393484 0.0001270871 0.01067640  0.75656459  0.7988551\n",
       "Omega[2,1]  0.778393484 0.0001270871 0.01067640  0.75656459  0.7988551\n",
       "Omega[2,2]  1.000000000          NaN 0.00000000  1.00000000  1.0000000\n",
       "bt1         0.007462504 0.0098128458 0.44933418 -0.86915862  0.8780076\n",
       "bt2        -0.004890271 0.0098213611 0.45028502 -0.88733759  0.8681123\n",
       "bt3        -0.077393334 0.0096370593 0.45599201 -0.96894885  0.8035128\n",
       "bt4         0.011911695 0.0097614964 0.99135177 -1.94808830  1.9173416\n",
       "a_M        -0.036371871 0.0096195013 0.45087522 -0.91061164  0.8408452\n",
       "a_F        -0.036494633 0.0096206344 0.45133613 -0.91689864  0.8458893\n",
       "bS         -0.300348920 0.0010680446 0.08357663 -0.46591676 -0.1323838\n",
       "bA          0.669592974 0.0014064614 0.11044026  0.45369996  0.8872313\n",
       "deltaA[1]   0.312407679 0.0007629864 0.07325415  0.17068862  0.4601062\n",
       "deltaA[2]   0.687592321 0.0007629864 0.07325415  0.53989375  0.8293114\n",
       "deltaS[1]   0.802628778 0.0013442537 0.11789540  0.52874853  0.9697491\n",
       "deltaS[2]   0.197371222 0.0013442537 0.11789540  0.03025092  0.4712515\n",
       "           n_eff     Rhat     \n",
       "tau[1]      6453.403 0.9998026\n",
       "tau[2]      6621.602 0.9997626\n",
       "Omega[1,1]       NaN       NaN\n",
       "Omega[1,2]  7057.427 0.9999523\n",
       "Omega[2,1]  7057.427 0.9999523\n",
       "Omega[2,2]       NaN       NaN\n",
       "bt1         2096.761 1.0013698\n",
       "bt2         2101.995 1.0015155\n",
       "bt3         2238.852 1.0014226\n",
       "bt4        10313.897 0.9999788\n",
       "a_M         2196.886 1.0014866\n",
       "a_F         2200.862 1.0014649\n",
       "bS          6123.376 1.0002026\n",
       "bA          6165.939 1.0003154\n",
       "deltaA[1]   9217.876 0.9998949\n",
       "deltaA[2]   9217.876 0.9998949\n",
       "deltaS[1]   7691.858 1.0008566\n",
       "deltaS[2]   7691.858 1.0008566"
      ]
     },
     "metadata": {},
     "output_type": "display_data"
    }
   ],
   "source": [
    "results_3 <- summary(model_3, probs = c(0.025, 0.975), \n",
    "                     pars = c('tau', 'Omega', 'bt1', 'bt2', \n",
    "                              'bt3', 'bt4', 'bt1', 'bt2', 'bt3', 'bt4', 'a_M', 'a_F', \n",
    "                              'bS', 'bA', 'deltaA', 'deltaS'))$summary\n",
    "results_3"
   ]
  },
  {
   "cell_type": "code",
   "execution_count": 39,
   "id": "87f2ef59",
   "metadata": {},
   "outputs": [
    {
     "data": {
      "image/png": "[encoded data removed]",
      "text/plain": [
       "plot without title"
      ]
     },
     "metadata": {
      "image/png": {
       "height": 420,
       "width": 420
      }
     },
     "output_type": "display_data"
    }
   ],
   "source": [
    "pars = c('tau', 'Omega', 'bt1', 'bt2', 'bt3', 'bt4', 'a_M', 'a_F', \n",
    "                              'bS', 'bA', 'deltaA', 'deltaS')\n",
    "\n",
    "stan_trace(model_3, pars = pars)"
   ]
  },
  {
   "cell_type": "code",
   "execution_count": 40,
   "id": "ad835258",
   "metadata": {},
   "outputs": [
    {
     "name": "stderr",
     "output_type": "stream",
     "text": [
      "\u001b[1m\u001b[22m`stat_bin()` using `bins = 30`. Pick better value with `binwidth`.\n"
     ]
    },
    {
     "data": {
      "image/png": "[encoded data removed]",
      "text/plain": [
       "plot without title"
      ]
     },
     "metadata": {
      "image/png": {
       "height": 420,
       "width": 420
      }
     },
     "output_type": "display_data"
    }
   ],
   "source": [
    "stan_hist(model_3, pars = pars)"
   ]
  },
  {
   "cell_type": "code",
   "execution_count": 41,
   "id": "3bf43f2d",
   "metadata": {},
   "outputs": [
    {
     "name": "stdout",
     "output_type": "stream",
     "text": [
      "       elpd_diff se_diff elpd_loo se_elpd_loo p_loo   se_p_loo looic   se_looic\n",
      "model3     0.0       0.0 -3051.9     35.0         9.9     0.3   6103.8    70.1 \n",
      "model1  -634.8      28.9 -3686.7     39.9        13.2     0.5   7373.5    79.8 \n",
      "model2  -635.0      29.0 -3686.9     39.9        13.7     0.5   7373.8    79.7 \n"
     ]
    }
   ],
   "source": [
    "loo_1 <- loo(model_1)\n",
    "\n",
    "loo_2 <- loo(model_2)\n",
    "\n",
    "loo_3 <- loo(model_3)\n",
    "\n",
    "\n",
    "comp <- loo_compare(loo_1, loo_2, loo_3)\n",
    "print(comp, simplify=FALSE)"
   ]
  },
  {
   "cell_type": "markdown",
   "id": "83658082",
   "metadata": {},
   "source": [
    "All of our first three models are confident of a negative effect corresponding to section numbering, with most of this effect coming from the transition from section 1 to section 2. A stronger positive effect for academic selection is also picked up (as we would expect). None of the models think there is much difference between teachers, but there is a lot of uncertainty about the values of the 'teacher' parameters. Loo prefers the model with correlated exam results and where teacher performance is unified across both exams."
   ]
  },
  {
   "cell_type": "markdown",
   "id": "1ecc30d9",
   "metadata": {},
   "source": [
    "## 10. Revisiting the dropping of absents <a id='abs'></a>\n",
    "\n",
    "We'll now rerun our third Bayesian model with a modified dataset. Here we do not drop the incomplete cases but instead assign NAs to 0. So students who were absent in an exam now are recorded as scoring zero in it. This approach has its own drawbacks. For one thing, as discussed in the first notebook, even poor students are unlikely to get 0 on an exam. In addition, a student dropping out before the midterm will also be marked as absent for the final, so a teacher taking over that students section will have a zero score for one of their students even though they never taught that student. But since none of our models detect any significant effect of teacher on student outcomes (relative to the other teachers), this should not be problem. "
   ]
  },
  {
   "cell_type": "code",
   "execution_count": 42,
   "id": "902ad28d",
   "metadata": {},
   "outputs": [
    {
     "name": "stdout",
     "output_type": "stream",
     "text": [
      "'data.frame':\t1413 obs. of  9 variables:\n",
      " $ Section    : int  1 3 2 3 3 3 2 1 2 3 ...\n",
      " $ Midterm    : num  75 64 32.5 49 43 42.5 72.5 79.5 50.5 53 ...\n",
      " $ Final      : num  62 55 29 55 53 47 58 68 41 9 ...\n",
      " $ Year       : int  1 1 1 1 1 1 1 1 1 1 ...\n",
      " $ Repeat     : int  0 0 0 0 0 0 0 0 0 0 ...\n",
      " $ Teacher_M  : int  2 2 2 2 2 2 2 2 2 2 ...\n",
      " $ Teacher_F  : int  1 1 1 1 1 1 1 1 1 1 ...\n",
      " $ Midterm_std: num  1.922 1.349 -0.292 0.568 0.255 ...\n",
      " $ Final_std  : num  1.351 0.985 -0.371 0.985 0.881 ...\n"
     ]
    }
   ],
   "source": [
    "df_abs <- df_base\n",
    "df_abs[is.na(df_abs)] <- 0\n",
    "df_abs <- df_abs[!df_abs$Repeat == 1,]\n",
    "\n",
    "for (y in 1 : num_years){\n",
    "  index <- df_abs$Year == y\n",
    "  m_1 <- mean(df_abs$Midterm[index])\n",
    "  m_2 <- mean(df_abs$Final[index])  \n",
    "  s_1 <- sd(df_abs$Midterm[index])\n",
    "  s_2 <- sd(df_abs$Final[index])\n",
    "  df_abs$Midterm_std[index] <- ( df_abs$Midterm[index] - m_1 )/s_1\n",
    "  df_abs$Final_std[index] <- ( df_abs$Final[index] - m_2 )/s_2  \n",
    "    }\n",
    "\n",
    "str(df_abs)"
   ]
  },
  {
   "cell_type": "code",
   "execution_count": 43,
   "id": "eb886371",
   "metadata": {},
   "outputs": [
    {
     "name": "stdout",
     "output_type": "stream",
     "text": [
      "'data.frame':\t1413 obs. of  18 variables:\n",
      " $ Section     : int  1 3 2 3 3 3 2 1 2 3 ...\n",
      " $ Midterm     : num  75 64 32.5 49 43 42.5 72.5 79.5 50.5 53 ...\n",
      " $ Final       : num  62 55 29 55 53 47 58 68 41 9 ...\n",
      " $ Year        : int  1 1 1 1 1 1 1 1 1 1 ...\n",
      " $ Repeat      : int  0 0 0 0 0 0 0 0 0 0 ...\n",
      " $ Teacher_M   : int  2 2 2 2 2 2 2 2 2 2 ...\n",
      " $ Teacher_F   : int  1 1 1 1 1 1 1 1 1 1 ...\n",
      " $ Midterm_std : num  1.922 1.349 -0.292 0.568 0.255 ...\n",
      " $ Final_std   : num  1.351 0.985 -0.371 0.985 0.881 ...\n",
      " $ M_t1        : num  0 0 0 0 0 0 0 0 0 0 ...\n",
      " $ M_t2        : num  1 1 1 1 1 1 1 1 1 1 ...\n",
      " $ M_t3        : num  0 0 0 0 0 0 0 0 0 0 ...\n",
      " $ M_t4        : num  0 0 0 0 0 0 0 0 0 0 ...\n",
      " $ F_t1        : num  1 1 1 1 1 1 1 1 1 1 ...\n",
      " $ F_t2        : num  0 0 0 0 0 0 0 0 0 0 ...\n",
      " $ F_t3        : num  0 0 0 0 0 0 0 0 0 0 ...\n",
      " $ F_t4        : num  0 0 0 0 0 0 0 0 0 0 ...\n",
      " $ Stream_level: num  3 1 1 1 1 1 1 3 1 1 ...\n"
     ]
    }
   ],
   "source": [
    "df_abs_full <- df_abs\n",
    "\n",
    "df_abs_full$M_t1 <- ifelse(df_abs_full$Teacher_M == 1, 1, 0)\n",
    "df_abs_full$M_t2 <- ifelse(df_abs_full$Teacher_M == 2, 1, 0)\n",
    "df_abs_full$M_t3 <- ifelse(df_abs_full$Teacher_M == 3, 1, 0)\n",
    "df_abs_full$M_t4 <- ifelse(df_abs_full$Teacher_M == 4, 1, 0)\n",
    "\n",
    "df_abs_full$F_t1 <- ifelse(df_abs_full$Teacher_F == 1, 1, 0)\n",
    "df_abs_full$F_t2 <- ifelse(df_abs_full$Teacher_F == 2, 1, 0)\n",
    "df_abs_full$F_t3 <- ifelse(df_abs_full$Teacher_F == 3, 1, 0)\n",
    "df_abs_full$F_t4 <- ifelse(df_abs_full$Teacher_F == 4, 1, 0)\n",
    "\n",
    "df_abs_full$Stream_level <- ifelse(df_abs_full$Section == 1 & df_abs_full$Year < 5, 3., ifelse(df_abs_full$Year < 5, 1., 2. ))\n",
    "\n",
    "str(df_abs_full)"
   ]
  },
  {
   "cell_type": "code",
   "execution_count": 44,
   "id": "e527b7f2",
   "metadata": {},
   "outputs": [
    {
     "name": "stdout",
     "output_type": "stream",
     "text": [
      "List of 13\n",
      " $ N    : num 1413\n",
      " $ E    : num [1:1413, 1:2] 1.922 1.349 -0.292 0.568 0.255 ...\n",
      " $ M_t1 : num [1:1413] 0 0 0 0 0 0 0 0 0 0 ...\n",
      " $ M_t2 : num [1:1413] 1 1 1 1 1 1 1 1 1 1 ...\n",
      " $ M_t3 : num [1:1413] 0 0 0 0 0 0 0 0 0 0 ...\n",
      " $ M_t4 : num [1:1413] 0 0 0 0 0 0 0 0 0 0 ...\n",
      " $ F_t1 : num [1:1413] 1 1 1 1 1 1 1 1 1 1 ...\n",
      " $ F_t2 : num [1:1413] 0 0 0 0 0 0 0 0 0 0 ...\n",
      " $ F_t3 : num [1:1413] 0 0 0 0 0 0 0 0 0 0 ...\n",
      " $ F_t4 : num [1:1413] 0 0 0 0 0 0 0 0 0 0 ...\n",
      " $ A    : num [1:1413] 3 1 1 1 1 1 1 3 1 1 ...\n",
      " $ S    : int [1:1413] 1 3 2 3 3 3 2 1 2 3 ...\n",
      " $ alpha: num [1:2] 2 2\n"
     ]
    }
   ],
   "source": [
    "dat_abs <- list(\n",
    "  N = 1413,\n",
    "  E = matrix(c(df_abs_full$Midterm_std, df_abs_full$Final_std), ncol = 2),\n",
    "  \n",
    "  M_t1 = df_abs_full$M_t1, \n",
    "  M_t2 = df_abs_full$M_t2,\n",
    "  M_t3 = df_abs_full$M_t3, \n",
    "  M_t4 = df_abs_full$M_t4,  \n",
    "  \n",
    "  F_t1 = df_abs_full$F_t1, \n",
    "  F_t2 = df_abs_full$F_t2,\n",
    "  F_t3 = df_abs_full$F_t3, \n",
    "  F_t4 = df_abs_full$F_t4,\n",
    "    \n",
    "  A = df_abs_full$Stream_level, \n",
    "  S = df_abs_full$Section,\n",
    "  alpha = rep( 2 , 2 ) \n",
    ")\n",
    "\n",
    "str(dat_abs)"
   ]
  },
  {
   "cell_type": "code",
   "execution_count": 45,
   "id": "5ee8b534",
   "metadata": {},
   "outputs": [],
   "source": [
    "model_4 <- stan( model_code = code_3 , data = dat_abs , chains=4, \n",
    "                 cores = 4, iter = num_iters )"
   ]
  },
  {
   "cell_type": "code",
   "execution_count": 46,
   "id": "97c5bf3b",
   "metadata": {},
   "outputs": [
    {
     "data": {
      "text/html": [
       "<table class=\"dataframe\">\n",
       "<caption>A matrix: 18 × 7 of type dbl</caption>\n",
       "<thead>\n",
       "\t<tr><th></th><th scope=col>mean</th><th scope=col>se_mean</th><th scope=col>sd</th><th scope=col>2.5%</th><th scope=col>97.5%</th><th scope=col>n_eff</th><th scope=col>Rhat</th></tr>\n",
       "</thead>\n",
       "<tbody>\n",
       "\t<tr><th scope=row>tau[1]</th><td> 0.93079215</td><td>0.0002397089</td><td>0.017852935</td><td> 0.89650310</td><td> 0.96635233</td><td> 5546.906</td><td>0.9998813</td></tr>\n",
       "\t<tr><th scope=row>tau[2]</th><td> 0.94793329</td><td>0.0002379995</td><td>0.017980279</td><td> 0.91304749</td><td> 0.98402821</td><td> 5707.431</td><td>0.9998256</td></tr>\n",
       "\t<tr><th scope=row>Omega[1,1]</th><td> 1.00000000</td><td>         NaN</td><td>0.000000000</td><td> 1.00000000</td><td> 1.00000000</td><td>      NaN</td><td>      NaN</td></tr>\n",
       "\t<tr><th scope=row>Omega[1,2]</th><td> 0.79560529</td><td>0.0001287311</td><td>0.009816852</td><td> 0.77594054</td><td> 0.81424134</td><td> 5815.374</td><td>0.9997502</td></tr>\n",
       "\t<tr><th scope=row>Omega[2,1]</th><td> 0.79560529</td><td>0.0001287311</td><td>0.009816852</td><td> 0.77594054</td><td> 0.81424134</td><td> 5815.374</td><td>0.9997502</td></tr>\n",
       "\t<tr><th scope=row>Omega[2,2]</th><td> 1.00000000</td><td>         NaN</td><td>0.000000000</td><td> 1.00000000</td><td> 1.00000000</td><td>      NaN</td><td>      NaN</td></tr>\n",
       "\t<tr><th scope=row>bt1</th><td>-0.01820990</td><td>0.0087092427</td><td>0.446971824</td><td>-0.88443225</td><td> 0.84321755</td><td> 2633.901</td><td>1.0004752</td></tr>\n",
       "\t<tr><th scope=row>bt2</th><td>-0.05303489</td><td>0.0087296768</td><td>0.448535445</td><td>-0.92532757</td><td> 0.81490207</td><td> 2639.959</td><td>1.0004628</td></tr>\n",
       "\t<tr><th scope=row>bt3</th><td>-0.02676723</td><td>0.0087338332</td><td>0.456086318</td><td>-0.92454462</td><td> 0.86006014</td><td> 2726.995</td><td>1.0004317</td></tr>\n",
       "\t<tr><th scope=row>bt4</th><td> 0.01137546</td><td>0.0096613084</td><td>0.994763744</td><td>-1.92342360</td><td> 1.95809725</td><td>10601.517</td><td>0.9998440</td></tr>\n",
       "\t<tr><th scope=row>a_M</th><td>-0.06042630</td><td>0.0087314955</td><td>0.447521527</td><td>-0.92264115</td><td> 0.81106536</td><td> 2626.943</td><td>1.0002641</td></tr>\n",
       "\t<tr><th scope=row>a_F</th><td>-0.06058614</td><td>0.0087388504</td><td>0.447815093</td><td>-0.92445389</td><td> 0.81204382</td><td> 2625.964</td><td>1.0002792</td></tr>\n",
       "\t<tr><th scope=row>bS</th><td>-0.24832137</td><td>0.0011265648</td><td>0.084594897</td><td>-0.41098692</td><td>-0.07571275</td><td> 5638.661</td><td>1.0003014</td></tr>\n",
       "\t<tr><th scope=row>bA</th><td> 0.74468353</td><td>0.0014940582</td><td>0.110928385</td><td> 0.52972984</td><td> 0.96415087</td><td> 5512.522</td><td>1.0005493</td></tr>\n",
       "\t<tr><th scope=row>deltaA[1]</th><td> 0.30919973</td><td>0.0007081915</td><td>0.065046529</td><td> 0.17851810</td><td> 0.43694995</td><td> 8436.199</td><td>0.9998795</td></tr>\n",
       "\t<tr><th scope=row>deltaA[2]</th><td> 0.69080027</td><td>0.0007081915</td><td>0.065046529</td><td> 0.56305005</td><td> 0.82148190</td><td> 8436.199</td><td>0.9998795</td></tr>\n",
       "\t<tr><th scope=row>deltaS[1]</th><td> 0.72878115</td><td>0.0018404632</td><td>0.153418498</td><td> 0.35697602</td><td> 0.95160448</td><td> 6948.662</td><td>1.0003948</td></tr>\n",
       "\t<tr><th scope=row>deltaS[2]</th><td> 0.27121885</td><td>0.0018404632</td><td>0.153418498</td><td> 0.04839552</td><td> 0.64302398</td><td> 6948.662</td><td>1.0003948</td></tr>\n",
       "</tbody>\n",
       "</table>\n"
      ],
      "text/latex": [
       "A matrix: 18 × 7 of type dbl\n",
       "\\begin{tabular}{r|lllllll}\n",
       "  & mean & se\\_mean & sd & 2.5\\% & 97.5\\% & n\\_eff & Rhat\\\\\n",
       "\\hline\n",
       "\ttau{[}1{]} &  0.93079215 & 0.0002397089 & 0.017852935 &  0.89650310 &  0.96635233 &  5546.906 & 0.9998813\\\\\n",
       "\ttau{[}2{]} &  0.94793329 & 0.0002379995 & 0.017980279 &  0.91304749 &  0.98402821 &  5707.431 & 0.9998256\\\\\n",
       "\tOmega{[}1,1{]} &  1.00000000 &          NaN & 0.000000000 &  1.00000000 &  1.00000000 &       NaN &       NaN\\\\\n",
       "\tOmega{[}1,2{]} &  0.79560529 & 0.0001287311 & 0.009816852 &  0.77594054 &  0.81424134 &  5815.374 & 0.9997502\\\\\n",
       "\tOmega{[}2,1{]} &  0.79560529 & 0.0001287311 & 0.009816852 &  0.77594054 &  0.81424134 &  5815.374 & 0.9997502\\\\\n",
       "\tOmega{[}2,2{]} &  1.00000000 &          NaN & 0.000000000 &  1.00000000 &  1.00000000 &       NaN &       NaN\\\\\n",
       "\tbt1 & -0.01820990 & 0.0087092427 & 0.446971824 & -0.88443225 &  0.84321755 &  2633.901 & 1.0004752\\\\\n",
       "\tbt2 & -0.05303489 & 0.0087296768 & 0.448535445 & -0.92532757 &  0.81490207 &  2639.959 & 1.0004628\\\\\n",
       "\tbt3 & -0.02676723 & 0.0087338332 & 0.456086318 & -0.92454462 &  0.86006014 &  2726.995 & 1.0004317\\\\\n",
       "\tbt4 &  0.01137546 & 0.0096613084 & 0.994763744 & -1.92342360 &  1.95809725 & 10601.517 & 0.9998440\\\\\n",
       "\ta\\_M & -0.06042630 & 0.0087314955 & 0.447521527 & -0.92264115 &  0.81106536 &  2626.943 & 1.0002641\\\\\n",
       "\ta\\_F & -0.06058614 & 0.0087388504 & 0.447815093 & -0.92445389 &  0.81204382 &  2625.964 & 1.0002792\\\\\n",
       "\tbS & -0.24832137 & 0.0011265648 & 0.084594897 & -0.41098692 & -0.07571275 &  5638.661 & 1.0003014\\\\\n",
       "\tbA &  0.74468353 & 0.0014940582 & 0.110928385 &  0.52972984 &  0.96415087 &  5512.522 & 1.0005493\\\\\n",
       "\tdeltaA{[}1{]} &  0.30919973 & 0.0007081915 & 0.065046529 &  0.17851810 &  0.43694995 &  8436.199 & 0.9998795\\\\\n",
       "\tdeltaA{[}2{]} &  0.69080027 & 0.0007081915 & 0.065046529 &  0.56305005 &  0.82148190 &  8436.199 & 0.9998795\\\\\n",
       "\tdeltaS{[}1{]} &  0.72878115 & 0.0018404632 & 0.153418498 &  0.35697602 &  0.95160448 &  6948.662 & 1.0003948\\\\\n",
       "\tdeltaS{[}2{]} &  0.27121885 & 0.0018404632 & 0.153418498 &  0.04839552 &  0.64302398 &  6948.662 & 1.0003948\\\\\n",
       "\\end{tabular}\n"
      ],
      "text/markdown": [
       "\n",
       "A matrix: 18 × 7 of type dbl\n",
       "\n",
       "| <!--/--> | mean | se_mean | sd | 2.5% | 97.5% | n_eff | Rhat |\n",
       "|---|---|---|---|---|---|---|---|\n",
       "| tau[1] |  0.93079215 | 0.0002397089 | 0.017852935 |  0.89650310 |  0.96635233 |  5546.906 | 0.9998813 |\n",
       "| tau[2] |  0.94793329 | 0.0002379995 | 0.017980279 |  0.91304749 |  0.98402821 |  5707.431 | 0.9998256 |\n",
       "| Omega[1,1] |  1.00000000 |          NaN | 0.000000000 |  1.00000000 |  1.00000000 |       NaN |       NaN |\n",
       "| Omega[1,2] |  0.79560529 | 0.0001287311 | 0.009816852 |  0.77594054 |  0.81424134 |  5815.374 | 0.9997502 |\n",
       "| Omega[2,1] |  0.79560529 | 0.0001287311 | 0.009816852 |  0.77594054 |  0.81424134 |  5815.374 | 0.9997502 |\n",
       "| Omega[2,2] |  1.00000000 |          NaN | 0.000000000 |  1.00000000 |  1.00000000 |       NaN |       NaN |\n",
       "| bt1 | -0.01820990 | 0.0087092427 | 0.446971824 | -0.88443225 |  0.84321755 |  2633.901 | 1.0004752 |\n",
       "| bt2 | -0.05303489 | 0.0087296768 | 0.448535445 | -0.92532757 |  0.81490207 |  2639.959 | 1.0004628 |\n",
       "| bt3 | -0.02676723 | 0.0087338332 | 0.456086318 | -0.92454462 |  0.86006014 |  2726.995 | 1.0004317 |\n",
       "| bt4 |  0.01137546 | 0.0096613084 | 0.994763744 | -1.92342360 |  1.95809725 | 10601.517 | 0.9998440 |\n",
       "| a_M | -0.06042630 | 0.0087314955 | 0.447521527 | -0.92264115 |  0.81106536 |  2626.943 | 1.0002641 |\n",
       "| a_F | -0.06058614 | 0.0087388504 | 0.447815093 | -0.92445389 |  0.81204382 |  2625.964 | 1.0002792 |\n",
       "| bS | -0.24832137 | 0.0011265648 | 0.084594897 | -0.41098692 | -0.07571275 |  5638.661 | 1.0003014 |\n",
       "| bA |  0.74468353 | 0.0014940582 | 0.110928385 |  0.52972984 |  0.96415087 |  5512.522 | 1.0005493 |\n",
       "| deltaA[1] |  0.30919973 | 0.0007081915 | 0.065046529 |  0.17851810 |  0.43694995 |  8436.199 | 0.9998795 |\n",
       "| deltaA[2] |  0.69080027 | 0.0007081915 | 0.065046529 |  0.56305005 |  0.82148190 |  8436.199 | 0.9998795 |\n",
       "| deltaS[1] |  0.72878115 | 0.0018404632 | 0.153418498 |  0.35697602 |  0.95160448 |  6948.662 | 1.0003948 |\n",
       "| deltaS[2] |  0.27121885 | 0.0018404632 | 0.153418498 |  0.04839552 |  0.64302398 |  6948.662 | 1.0003948 |\n",
       "\n"
      ],
      "text/plain": [
       "           mean        se_mean      sd          2.5%        97.5%      \n",
       "tau[1]      0.93079215 0.0002397089 0.017852935  0.89650310  0.96635233\n",
       "tau[2]      0.94793329 0.0002379995 0.017980279  0.91304749  0.98402821\n",
       "Omega[1,1]  1.00000000          NaN 0.000000000  1.00000000  1.00000000\n",
       "Omega[1,2]  0.79560529 0.0001287311 0.009816852  0.77594054  0.81424134\n",
       "Omega[2,1]  0.79560529 0.0001287311 0.009816852  0.77594054  0.81424134\n",
       "Omega[2,2]  1.00000000          NaN 0.000000000  1.00000000  1.00000000\n",
       "bt1        -0.01820990 0.0087092427 0.446971824 -0.88443225  0.84321755\n",
       "bt2        -0.05303489 0.0087296768 0.448535445 -0.92532757  0.81490207\n",
       "bt3        -0.02676723 0.0087338332 0.456086318 -0.92454462  0.86006014\n",
       "bt4         0.01137546 0.0096613084 0.994763744 -1.92342360  1.95809725\n",
       "a_M        -0.06042630 0.0087314955 0.447521527 -0.92264115  0.81106536\n",
       "a_F        -0.06058614 0.0087388504 0.447815093 -0.92445389  0.81204382\n",
       "bS         -0.24832137 0.0011265648 0.084594897 -0.41098692 -0.07571275\n",
       "bA          0.74468353 0.0014940582 0.110928385  0.52972984  0.96415087\n",
       "deltaA[1]   0.30919973 0.0007081915 0.065046529  0.17851810  0.43694995\n",
       "deltaA[2]   0.69080027 0.0007081915 0.065046529  0.56305005  0.82148190\n",
       "deltaS[1]   0.72878115 0.0018404632 0.153418498  0.35697602  0.95160448\n",
       "deltaS[2]   0.27121885 0.0018404632 0.153418498  0.04839552  0.64302398\n",
       "           n_eff     Rhat     \n",
       "tau[1]      5546.906 0.9998813\n",
       "tau[2]      5707.431 0.9998256\n",
       "Omega[1,1]       NaN       NaN\n",
       "Omega[1,2]  5815.374 0.9997502\n",
       "Omega[2,1]  5815.374 0.9997502\n",
       "Omega[2,2]       NaN       NaN\n",
       "bt1         2633.901 1.0004752\n",
       "bt2         2639.959 1.0004628\n",
       "bt3         2726.995 1.0004317\n",
       "bt4        10601.517 0.9998440\n",
       "a_M         2626.943 1.0002641\n",
       "a_F         2625.964 1.0002792\n",
       "bS          5638.661 1.0003014\n",
       "bA          5512.522 1.0005493\n",
       "deltaA[1]   8436.199 0.9998795\n",
       "deltaA[2]   8436.199 0.9998795\n",
       "deltaS[1]   6948.662 1.0003948\n",
       "deltaS[2]   6948.662 1.0003948"
      ]
     },
     "metadata": {},
     "output_type": "display_data"
    }
   ],
   "source": [
    "results_4 <- summary(model_4, probs = c(0.025, 0.975), \n",
    "                     pars = c('tau', 'Omega', 'bt1', 'bt2', \n",
    "                              'bt3', 'bt4', 'a_M', 'a_F', \n",
    "                              'bS', 'bA', 'deltaA', 'deltaS'))$summary\n",
    "results_4"
   ]
  },
  {
   "cell_type": "code",
   "execution_count": 47,
   "id": "9c1ed18d",
   "metadata": {},
   "outputs": [
    {
     "data": {
      "text/html": [
       "'Proportion less than -0.1: 0.9583'"
      ],
      "text/latex": [
       "'Proportion less than -0.1: 0.9583'"
      ],
      "text/markdown": [
       "'Proportion less than -0.1: 0.9583'"
      ],
      "text/plain": [
       "[1] \"Proportion less than -0.1: 0.9583\""
      ]
     },
     "metadata": {},
     "output_type": "display_data"
    },
    {
     "data": {
      "text/html": [
       "'Proportion less than -0.05: 0.9888'"
      ],
      "text/latex": [
       "'Proportion less than -0.05: 0.9888'"
      ],
      "text/markdown": [
       "'Proportion less than -0.05: 0.9888'"
      ],
      "text/plain": [
       "[1] \"Proportion less than -0.05: 0.9888\""
      ]
     },
     "metadata": {},
     "output_type": "display_data"
    }
   ],
   "source": [
    "samples <- extract(model_4, 'bS') \n",
    "counts <- ifelse(samples$bS < -0.1, 1, 0)\n",
    "p <- sum(counts)/length(counts)\n",
    "paste(\"Proportion less than -0.1:\", p, sep = \" \")\n",
    "\n",
    "samples <- extract(model_4, 'bS') \n",
    "counts <- ifelse(samples$bS < -0.05, 1, 0)\n",
    "p <- sum(counts)/length(counts)\n",
    "paste(\"Proportion less than -0.05:\", p, sep = \" \")"
   ]
  },
  {
   "cell_type": "markdown",
   "id": "5c924dcd",
   "metadata": {},
   "source": [
    "The results here are similar to the others. The model is confident of an effect of section numbering, mostly in the transition from section 1 to section 2. It is not confident of any difference in the influence of the teachers, but there is high uncertainty on this point. "
   ]
  },
  {
   "cell_type": "markdown",
   "id": "7fe1a271",
   "metadata": {},
   "source": [
    "## 11. Dropping year 5 <a id='five'></a>\n",
    "Looking at the [charts](#chart) showing section performance by year from an earlier cell, we see that year 5 is something of an outlier in that section 1 did much better than section 2 in both exams, even though they were not academically selected that year. It's unclear what caused this, and, interestingly, the first notebook shows the opposite relationship for the same cohort of students in the following year. We may suspect that much of the detected effect of section number on performance detected by our models here comes from this year. Indeed this is the case, as the first model retrained on data omitting that year indicates (see below). However, it's not clear from this which model we should believe. Year 5 is an outlier, but it is something that happened. It's not a data entry error, and nothing obviously unusual occurred that year that would ordinarily cause us to be skeptical of that data."
   ]
  },
  {
   "cell_type": "code",
   "execution_count": 48,
   "id": "c6af1a1a",
   "metadata": {},
   "outputs": [
    {
     "name": "stdout",
     "output_type": "stream",
     "text": [
      "'data.frame':\t1324 obs. of  18 variables:\n",
      " $ Section     : int  1 3 2 3 3 3 2 1 2 3 ...\n",
      " $ Midterm     : num  75 64 32.5 49 43 42.5 72.5 79.5 50.5 53 ...\n",
      " $ Final       : num  62 55 29 55 53 47 58 68 41 9 ...\n",
      " $ Year        : int  1 1 1 1 1 1 1 1 1 1 ...\n",
      " $ Repeat      : int  0 0 0 0 0 0 0 0 0 0 ...\n",
      " $ Teacher_M   : int  2 2 2 2 2 2 2 2 2 2 ...\n",
      " $ Teacher_F   : int  1 1 1 1 1 1 1 1 1 1 ...\n",
      " $ Midterm_std : num  1.922 1.349 -0.292 0.568 0.255 ...\n",
      " $ Final_std   : num  1.351 0.985 -0.371 0.985 0.881 ...\n",
      " $ M_t1        : num  0 0 0 0 0 0 0 0 0 0 ...\n",
      " $ M_t2        : num  1 1 1 1 1 1 1 1 1 1 ...\n",
      " $ M_t3        : num  0 0 0 0 0 0 0 0 0 0 ...\n",
      " $ M_t4        : num  0 0 0 0 0 0 0 0 0 0 ...\n",
      " $ F_t1        : num  1 1 1 1 1 1 1 1 1 1 ...\n",
      " $ F_t2        : num  0 0 0 0 0 0 0 0 0 0 ...\n",
      " $ F_t3        : num  0 0 0 0 0 0 0 0 0 0 ...\n",
      " $ F_t4        : num  0 0 0 0 0 0 0 0 0 0 ...\n",
      " $ Stream_level: num  3 1 1 1 1 1 1 3 1 1 ...\n"
     ]
    }
   ],
   "source": [
    "index <- df_abs_full$Year == 5\n",
    "df_no_5 <- df_abs_full[!index,]\n",
    "str(df_no_5)"
   ]
  },
  {
   "cell_type": "code",
   "execution_count": 49,
   "id": "51f5efa9",
   "metadata": {},
   "outputs": [
    {
     "name": "stdout",
     "output_type": "stream",
     "text": [
      "List of 13\n",
      " $ N    : num 1324\n",
      " $ E    : num [1:1324, 1:2] 1.922 1.349 -0.292 0.568 0.255 ...\n",
      " $ M_t1 : num [1:1324] 0 0 0 0 0 0 0 0 0 0 ...\n",
      " $ M_t2 : num [1:1324] 1 1 1 1 1 1 1 1 1 1 ...\n",
      " $ M_t3 : num [1:1324] 0 0 0 0 0 0 0 0 0 0 ...\n",
      " $ M_t4 : num [1:1324] 0 0 0 0 0 0 0 0 0 0 ...\n",
      " $ F_t1 : num [1:1324] 1 1 1 1 1 1 1 1 1 1 ...\n",
      " $ F_t2 : num [1:1324] 0 0 0 0 0 0 0 0 0 0 ...\n",
      " $ F_t3 : num [1:1324] 0 0 0 0 0 0 0 0 0 0 ...\n",
      " $ F_t4 : num [1:1324] 0 0 0 0 0 0 0 0 0 0 ...\n",
      " $ A    : num [1:1324] 3 1 1 1 1 1 1 3 1 1 ...\n",
      " $ S    : int [1:1324] 1 3 2 3 3 3 2 1 2 3 ...\n",
      " $ alpha: num [1:2] 2 2\n"
     ]
    }
   ],
   "source": [
    "dat_no_5 <- list(\n",
    "  N = 1324,\n",
    "  E = matrix(c(df_no_5$Midterm_std, df_no_5$Final_std), ncol=2),\n",
    "  \n",
    "  # indicator variables for teachers in midterm\n",
    "  M_t1 = df_no_5$M_t1, \n",
    "  M_t2 = df_no_5$M_t2,\n",
    "  M_t3 = df_no_5$M_t3, \n",
    "  M_t4 = df_no_5$M_t4,  \n",
    "  \n",
    "  # indicator variables for teachers in final\n",
    "  F_t1 = df_no_5$F_t1, \n",
    "  F_t2 = df_no_5$F_t2,\n",
    "  F_t3 = df_no_5$F_t3, \n",
    "  F_t4 = df_no_5$F_t4,     \n",
    "  A = df_no_5$Stream_level, # discrete ordered predictor for 3 levels of streaming\n",
    "  S = df_no_5$Section, # section number\n",
    "  alpha = rep( 2 , 2 ) # parameters for Dirichlet priors\n",
    ")\n",
    "\n",
    "str(dat_no_5)"
   ]
  },
  {
   "cell_type": "code",
   "execution_count": 50,
   "id": "0371b7a6",
   "metadata": {},
   "outputs": [],
   "source": [
    "model_5 <- stan( model_code = code_3 , data = dat_no_5 , chains=4, \n",
    "                 cores = 4, iter = num_iters )"
   ]
  },
  {
   "cell_type": "code",
   "execution_count": 51,
   "id": "af3066e1",
   "metadata": {},
   "outputs": [
    {
     "data": {
      "text/html": [
       "<table class=\"dataframe\">\n",
       "<caption>A matrix: 18 × 7 of type dbl</caption>\n",
       "<thead>\n",
       "\t<tr><th></th><th scope=col>mean</th><th scope=col>se_mean</th><th scope=col>sd</th><th scope=col>2.5%</th><th scope=col>97.5%</th><th scope=col>n_eff</th><th scope=col>Rhat</th></tr>\n",
       "</thead>\n",
       "<tbody>\n",
       "\t<tr><th scope=row>tau[1]</th><td> 0.93081850</td><td>0.0002443470</td><td>0.018089660</td><td> 0.8965758</td><td>0.96668577</td><td> 5480.838</td><td>1.0005482</td></tr>\n",
       "\t<tr><th scope=row>tau[2]</th><td> 0.94502332</td><td>0.0002475243</td><td>0.018455887</td><td> 0.9097020</td><td>0.98182724</td><td> 5559.479</td><td>1.0005276</td></tr>\n",
       "\t<tr><th scope=row>Omega[1,1]</th><td> 1.00000000</td><td>         NaN</td><td>0.000000000</td><td> 1.0000000</td><td>1.00000000</td><td>      NaN</td><td>      NaN</td></tr>\n",
       "\t<tr><th scope=row>Omega[1,2]</th><td> 0.80242158</td><td>0.0001284640</td><td>0.009773063</td><td> 0.7827172</td><td>0.82108396</td><td> 5787.599</td><td>1.0005282</td></tr>\n",
       "\t<tr><th scope=row>Omega[2,1]</th><td> 0.80242158</td><td>0.0001284640</td><td>0.009773063</td><td> 0.7827172</td><td>0.82108396</td><td> 5787.599</td><td>1.0005282</td></tr>\n",
       "\t<tr><th scope=row>Omega[2,2]</th><td> 1.00000000</td><td>         NaN</td><td>0.000000000</td><td> 1.0000000</td><td>1.00000000</td><td>      NaN</td><td>      NaN</td></tr>\n",
       "\t<tr><th scope=row>bt1</th><td>-0.09586873</td><td>0.0091553141</td><td>0.453456840</td><td>-0.9537932</td><td>0.80073926</td><td> 2453.157</td><td>1.0030448</td></tr>\n",
       "\t<tr><th scope=row>bt2</th><td>-0.04815427</td><td>0.0091235192</td><td>0.454192766</td><td>-0.9120234</td><td>0.83705535</td><td> 2478.310</td><td>1.0030379</td></tr>\n",
       "\t<tr><th scope=row>bt3</th><td>-0.07728133</td><td>0.0092719634</td><td>0.461934308</td><td>-0.9666778</td><td>0.83171746</td><td> 2482.087</td><td>1.0027528</td></tr>\n",
       "\t<tr><th scope=row>bt4</th><td>-0.01300312</td><td>0.0099600842</td><td>0.994582112</td><td>-1.9274667</td><td>1.93058632</td><td> 9971.380</td><td>0.9996794</td></tr>\n",
       "\t<tr><th scope=row>a_M</th><td>-0.13087171</td><td>0.0091676147</td><td>0.453246665</td><td>-1.0287275</td><td>0.73612261</td><td> 2444.311</td><td>1.0030299</td></tr>\n",
       "\t<tr><th scope=row>a_F</th><td>-0.13093862</td><td>0.0091586791</td><td>0.453154426</td><td>-1.0274425</td><td>0.73440273</td><td> 2448.087</td><td>1.0030619</td></tr>\n",
       "\t<tr><th scope=row>bS</th><td>-0.11543099</td><td>0.0010103821</td><td>0.081335141</td><td>-0.2794412</td><td>0.04108799</td><td> 6480.152</td><td>1.0000116</td></tr>\n",
       "\t<tr><th scope=row>bA</th><td> 0.83598882</td><td>0.0012670042</td><td>0.100352110</td><td> 0.6348084</td><td>1.03098530</td><td> 6273.313</td><td>0.9997794</td></tr>\n",
       "\t<tr><th scope=row>deltaA[1]</th><td> 0.32747498</td><td>0.0006423591</td><td>0.061672392</td><td> 0.2048923</td><td>0.45042146</td><td> 9217.770</td><td>0.9999445</td></tr>\n",
       "\t<tr><th scope=row>deltaA[2]</th><td> 0.67252502</td><td>0.0006423591</td><td>0.061672392</td><td> 0.5495785</td><td>0.79510773</td><td> 9217.770</td><td>0.9999445</td></tr>\n",
       "\t<tr><th scope=row>deltaS[1]</th><td> 0.52126256</td><td>0.0021098284</td><td>0.211281514</td><td> 0.1195123</td><td>0.89978228</td><td>10028.333</td><td>0.9996883</td></tr>\n",
       "\t<tr><th scope=row>deltaS[2]</th><td> 0.47873744</td><td>0.0021098284</td><td>0.211281514</td><td> 0.1002177</td><td>0.88048767</td><td>10028.333</td><td>0.9996883</td></tr>\n",
       "</tbody>\n",
       "</table>\n"
      ],
      "text/latex": [
       "A matrix: 18 × 7 of type dbl\n",
       "\\begin{tabular}{r|lllllll}\n",
       "  & mean & se\\_mean & sd & 2.5\\% & 97.5\\% & n\\_eff & Rhat\\\\\n",
       "\\hline\n",
       "\ttau{[}1{]} &  0.93081850 & 0.0002443470 & 0.018089660 &  0.8965758 & 0.96668577 &  5480.838 & 1.0005482\\\\\n",
       "\ttau{[}2{]} &  0.94502332 & 0.0002475243 & 0.018455887 &  0.9097020 & 0.98182724 &  5559.479 & 1.0005276\\\\\n",
       "\tOmega{[}1,1{]} &  1.00000000 &          NaN & 0.000000000 &  1.0000000 & 1.00000000 &       NaN &       NaN\\\\\n",
       "\tOmega{[}1,2{]} &  0.80242158 & 0.0001284640 & 0.009773063 &  0.7827172 & 0.82108396 &  5787.599 & 1.0005282\\\\\n",
       "\tOmega{[}2,1{]} &  0.80242158 & 0.0001284640 & 0.009773063 &  0.7827172 & 0.82108396 &  5787.599 & 1.0005282\\\\\n",
       "\tOmega{[}2,2{]} &  1.00000000 &          NaN & 0.000000000 &  1.0000000 & 1.00000000 &       NaN &       NaN\\\\\n",
       "\tbt1 & -0.09586873 & 0.0091553141 & 0.453456840 & -0.9537932 & 0.80073926 &  2453.157 & 1.0030448\\\\\n",
       "\tbt2 & -0.04815427 & 0.0091235192 & 0.454192766 & -0.9120234 & 0.83705535 &  2478.310 & 1.0030379\\\\\n",
       "\tbt3 & -0.07728133 & 0.0092719634 & 0.461934308 & -0.9666778 & 0.83171746 &  2482.087 & 1.0027528\\\\\n",
       "\tbt4 & -0.01300312 & 0.0099600842 & 0.994582112 & -1.9274667 & 1.93058632 &  9971.380 & 0.9996794\\\\\n",
       "\ta\\_M & -0.13087171 & 0.0091676147 & 0.453246665 & -1.0287275 & 0.73612261 &  2444.311 & 1.0030299\\\\\n",
       "\ta\\_F & -0.13093862 & 0.0091586791 & 0.453154426 & -1.0274425 & 0.73440273 &  2448.087 & 1.0030619\\\\\n",
       "\tbS & -0.11543099 & 0.0010103821 & 0.081335141 & -0.2794412 & 0.04108799 &  6480.152 & 1.0000116\\\\\n",
       "\tbA &  0.83598882 & 0.0012670042 & 0.100352110 &  0.6348084 & 1.03098530 &  6273.313 & 0.9997794\\\\\n",
       "\tdeltaA{[}1{]} &  0.32747498 & 0.0006423591 & 0.061672392 &  0.2048923 & 0.45042146 &  9217.770 & 0.9999445\\\\\n",
       "\tdeltaA{[}2{]} &  0.67252502 & 0.0006423591 & 0.061672392 &  0.5495785 & 0.79510773 &  9217.770 & 0.9999445\\\\\n",
       "\tdeltaS{[}1{]} &  0.52126256 & 0.0021098284 & 0.211281514 &  0.1195123 & 0.89978228 & 10028.333 & 0.9996883\\\\\n",
       "\tdeltaS{[}2{]} &  0.47873744 & 0.0021098284 & 0.211281514 &  0.1002177 & 0.88048767 & 10028.333 & 0.9996883\\\\\n",
       "\\end{tabular}\n"
      ],
      "text/markdown": [
       "\n",
       "A matrix: 18 × 7 of type dbl\n",
       "\n",
       "| <!--/--> | mean | se_mean | sd | 2.5% | 97.5% | n_eff | Rhat |\n",
       "|---|---|---|---|---|---|---|---|\n",
       "| tau[1] |  0.93081850 | 0.0002443470 | 0.018089660 |  0.8965758 | 0.96668577 |  5480.838 | 1.0005482 |\n",
       "| tau[2] |  0.94502332 | 0.0002475243 | 0.018455887 |  0.9097020 | 0.98182724 |  5559.479 | 1.0005276 |\n",
       "| Omega[1,1] |  1.00000000 |          NaN | 0.000000000 |  1.0000000 | 1.00000000 |       NaN |       NaN |\n",
       "| Omega[1,2] |  0.80242158 | 0.0001284640 | 0.009773063 |  0.7827172 | 0.82108396 |  5787.599 | 1.0005282 |\n",
       "| Omega[2,1] |  0.80242158 | 0.0001284640 | 0.009773063 |  0.7827172 | 0.82108396 |  5787.599 | 1.0005282 |\n",
       "| Omega[2,2] |  1.00000000 |          NaN | 0.000000000 |  1.0000000 | 1.00000000 |       NaN |       NaN |\n",
       "| bt1 | -0.09586873 | 0.0091553141 | 0.453456840 | -0.9537932 | 0.80073926 |  2453.157 | 1.0030448 |\n",
       "| bt2 | -0.04815427 | 0.0091235192 | 0.454192766 | -0.9120234 | 0.83705535 |  2478.310 | 1.0030379 |\n",
       "| bt3 | -0.07728133 | 0.0092719634 | 0.461934308 | -0.9666778 | 0.83171746 |  2482.087 | 1.0027528 |\n",
       "| bt4 | -0.01300312 | 0.0099600842 | 0.994582112 | -1.9274667 | 1.93058632 |  9971.380 | 0.9996794 |\n",
       "| a_M | -0.13087171 | 0.0091676147 | 0.453246665 | -1.0287275 | 0.73612261 |  2444.311 | 1.0030299 |\n",
       "| a_F | -0.13093862 | 0.0091586791 | 0.453154426 | -1.0274425 | 0.73440273 |  2448.087 | 1.0030619 |\n",
       "| bS | -0.11543099 | 0.0010103821 | 0.081335141 | -0.2794412 | 0.04108799 |  6480.152 | 1.0000116 |\n",
       "| bA |  0.83598882 | 0.0012670042 | 0.100352110 |  0.6348084 | 1.03098530 |  6273.313 | 0.9997794 |\n",
       "| deltaA[1] |  0.32747498 | 0.0006423591 | 0.061672392 |  0.2048923 | 0.45042146 |  9217.770 | 0.9999445 |\n",
       "| deltaA[2] |  0.67252502 | 0.0006423591 | 0.061672392 |  0.5495785 | 0.79510773 |  9217.770 | 0.9999445 |\n",
       "| deltaS[1] |  0.52126256 | 0.0021098284 | 0.211281514 |  0.1195123 | 0.89978228 | 10028.333 | 0.9996883 |\n",
       "| deltaS[2] |  0.47873744 | 0.0021098284 | 0.211281514 |  0.1002177 | 0.88048767 | 10028.333 | 0.9996883 |\n",
       "\n"
      ],
      "text/plain": [
       "           mean        se_mean      sd          2.5%       97.5%      n_eff    \n",
       "tau[1]      0.93081850 0.0002443470 0.018089660  0.8965758 0.96668577  5480.838\n",
       "tau[2]      0.94502332 0.0002475243 0.018455887  0.9097020 0.98182724  5559.479\n",
       "Omega[1,1]  1.00000000          NaN 0.000000000  1.0000000 1.00000000       NaN\n",
       "Omega[1,2]  0.80242158 0.0001284640 0.009773063  0.7827172 0.82108396  5787.599\n",
       "Omega[2,1]  0.80242158 0.0001284640 0.009773063  0.7827172 0.82108396  5787.599\n",
       "Omega[2,2]  1.00000000          NaN 0.000000000  1.0000000 1.00000000       NaN\n",
       "bt1        -0.09586873 0.0091553141 0.453456840 -0.9537932 0.80073926  2453.157\n",
       "bt2        -0.04815427 0.0091235192 0.454192766 -0.9120234 0.83705535  2478.310\n",
       "bt3        -0.07728133 0.0092719634 0.461934308 -0.9666778 0.83171746  2482.087\n",
       "bt4        -0.01300312 0.0099600842 0.994582112 -1.9274667 1.93058632  9971.380\n",
       "a_M        -0.13087171 0.0091676147 0.453246665 -1.0287275 0.73612261  2444.311\n",
       "a_F        -0.13093862 0.0091586791 0.453154426 -1.0274425 0.73440273  2448.087\n",
       "bS         -0.11543099 0.0010103821 0.081335141 -0.2794412 0.04108799  6480.152\n",
       "bA          0.83598882 0.0012670042 0.100352110  0.6348084 1.03098530  6273.313\n",
       "deltaA[1]   0.32747498 0.0006423591 0.061672392  0.2048923 0.45042146  9217.770\n",
       "deltaA[2]   0.67252502 0.0006423591 0.061672392  0.5495785 0.79510773  9217.770\n",
       "deltaS[1]   0.52126256 0.0021098284 0.211281514  0.1195123 0.89978228 10028.333\n",
       "deltaS[2]   0.47873744 0.0021098284 0.211281514  0.1002177 0.88048767 10028.333\n",
       "           Rhat     \n",
       "tau[1]     1.0005482\n",
       "tau[2]     1.0005276\n",
       "Omega[1,1]       NaN\n",
       "Omega[1,2] 1.0005282\n",
       "Omega[2,1] 1.0005282\n",
       "Omega[2,2]       NaN\n",
       "bt1        1.0030448\n",
       "bt2        1.0030379\n",
       "bt3        1.0027528\n",
       "bt4        0.9996794\n",
       "a_M        1.0030299\n",
       "a_F        1.0030619\n",
       "bS         1.0000116\n",
       "bA         0.9997794\n",
       "deltaA[1]  0.9999445\n",
       "deltaA[2]  0.9999445\n",
       "deltaS[1]  0.9996883\n",
       "deltaS[2]  0.9996883"
      ]
     },
     "metadata": {},
     "output_type": "display_data"
    }
   ],
   "source": [
    "results_5 <- summary(model_5, probs = c(0.025, 0.975), \n",
    "                     pars = c('tau', 'Omega', 'bt1', 'bt2', \n",
    "                              'bt3', 'bt4', 'a_M', 'a_F', \n",
    "                              'bS', 'bA', 'deltaA', 'deltaS'))$summary\n",
    "results_5"
   ]
  },
  {
   "cell_type": "code",
   "execution_count": 52,
   "id": "e4b49f5a",
   "metadata": {},
   "outputs": [
    {
     "data": {
      "text/html": [
       "'Proportion less than -0.05: 0.7903'"
      ],
      "text/latex": [
       "'Proportion less than -0.05: 0.7903'"
      ],
      "text/markdown": [
       "'Proportion less than -0.05: 0.7903'"
      ],
      "text/plain": [
       "[1] \"Proportion less than -0.05: 0.7903\""
      ]
     },
     "metadata": {},
     "output_type": "display_data"
    },
    {
     "data": {
      "text/html": [
       "'Proportion less than -0.01: 0.9086'"
      ],
      "text/latex": [
       "'Proportion less than -0.01: 0.9086'"
      ],
      "text/markdown": [
       "'Proportion less than -0.01: 0.9086'"
      ],
      "text/plain": [
       "[1] \"Proportion less than -0.01: 0.9086\""
      ]
     },
     "metadata": {},
     "output_type": "display_data"
    },
    {
     "data": {
      "text/html": [
       "'Proportion less than 0: 0.9293'"
      ],
      "text/latex": [
       "'Proportion less than 0: 0.9293'"
      ],
      "text/markdown": [
       "'Proportion less than 0: 0.9293'"
      ],
      "text/plain": [
       "[1] \"Proportion less than 0: 0.9293\""
      ]
     },
     "metadata": {},
     "output_type": "display_data"
    }
   ],
   "source": [
    "samples <- extract(model_5, 'bS') \n",
    "counts <- ifelse(samples$bS < -0.05, 1, 0)\n",
    "p <- sum(counts)/length(counts)\n",
    "paste(\"Proportion less than -0.05:\", p, sep = \" \")\n",
    "\n",
    "samples <- extract(model_5, 'bS') \n",
    "counts <- ifelse(samples$bS < -0.01, 1, 0)\n",
    "p <- sum(counts)/length(counts)\n",
    "paste(\"Proportion less than -0.01:\", p, sep = \" \")\n",
    "\n",
    "samples <- extract(model_5, 'bS') \n",
    "counts <- ifelse(samples$bS < 0, 1, 0)\n",
    "p <- sum(counts)/length(counts)\n",
    "paste(\"Proportion less than 0:\", p, sep = \" \")"
   ]
  },
  {
   "cell_type": "markdown",
   "id": "ef1653e0",
   "metadata": {},
   "source": [
    "This model has significantly less confidence about the negative influence of section numbering, as we might expect, though the majority of the probability mass for the $\\beta_S$ parameter remains less than zero. In addition, the model is less confident about the relative importance of going from section 1 to 2 compared to from section 2 to 3.\n",
    "\n",
    "As discussed above, while the results from year 5 are clearly something of an outlier, there does not appear to be a compelling reason to exclude them. In addition, comparing our models, they seem to exaggerate the trend obtained from the rest of the data, but they do not change its direction entirely. "
   ]
  },
  {
   "cell_type": "markdown",
   "id": "a5afdb30",
   "metadata": {},
   "source": [
    "## 12. Model without teacher influence <a id='no_T'></a>\n",
    "We now drop the teacher information from the model based on the [third model](#model3) from [part 9.](#bayes)."
   ]
  },
  {
   "cell_type": "code",
   "execution_count": 53,
   "id": "4cc88c1a",
   "metadata": {},
   "outputs": [
    {
     "name": "stdout",
     "output_type": "stream",
     "text": [
      "List of 5\n",
      " $ N    : num 1359\n",
      " $ E    : num [1:1359, 1:2] 1.932 1.329 -0.399 0.506 0.177 ...\n",
      " $ A    : num [1:1359] 3 1 1 1 1 1 1 3 1 1 ...\n",
      " $ S    : int [1:1359] 1 3 2 3 3 3 2 1 2 3 ...\n",
      " $ alpha: num [1:2] 2 2\n"
     ]
    }
   ],
   "source": [
    "dat_no_T <- list(\n",
    "  N = 1359,\n",
    "  E = matrix(c(df_full$Midterm_std, df_full$Final_std), ncol = 2),   \n",
    "  A = df_full$Stream_level, # discrete ordered predictor for 3 levels of streaming\n",
    "  S = df_full$Section, # section number\n",
    "  alpha = rep( 2 , 2 ) # parameters for Dirichlet priors\n",
    ")\n",
    "\n",
    "str(dat_no_T)"
   ]
  },
  {
   "cell_type": "code",
   "execution_count": 54,
   "id": "d622ea58",
   "metadata": {},
   "outputs": [],
   "source": [
    "code_4 <- 'data{\n",
    "    int N;\n",
    "    array[N] vector[2] E;\n",
    "    int S[N];\n",
    "    int A[N];\n",
    "    vector[2] alpha;\n",
    "}\n",
    "parameters{\n",
    "    corr_matrix[2] Omega;     \n",
    "    vector<lower=0>[2] tau;\n",
    "    real a_F;\n",
    "    real a_M;\n",
    "    real bS;\n",
    "    real bA;\n",
    "    simplex[2] deltaA;\n",
    "    simplex[2] deltaS;\n",
    "    \n",
    "}\n",
    "\n",
    "transformed parameters{\n",
    "vector[3] deltaA_j;\n",
    "vector[3] deltaS_j;\n",
    "deltaS_j = append_row(0, deltaS);\n",
    "deltaA_j = append_row(0, deltaA);\n",
    "}\n",
    "\n",
    "model{\n",
    "    tau ~ lognormal( 0, 0.25 );\n",
    "    Omega ~ lkj_corr(2);\n",
    "    array[N] vector[2] mu;\n",
    "    a_M ~ normal( 0 , 1 );\n",
    "    a_F ~ normal( 0 , 1 );\n",
    "    bA ~ normal( 0 , 1 );\n",
    "    bS ~ normal( 0 , 1 );\n",
    "    deltaS ~ dirichlet( alpha );\n",
    "    deltaA ~ dirichlet( alpha );\n",
    "    for ( i in 1:N ) {\n",
    "        mu[i][1] = a_M + bA*sum(deltaA_j[1:A[i]]) + bS*sum(deltaS_j[1:S[i]]);\n",
    "        mu[i][2] = a_F + bA*sum(deltaA_j[1:A[i]]) + bS*sum(deltaS_j[1:S[i]]);\n",
    "    }\n",
    "\n",
    "    E ~ multi_normal(mu, quad_form_diag(Omega, tau));\n",
    "}\n",
    "\n",
    "generated quantities{\n",
    "    vector[N] log_lik; \n",
    "    array[N] vector[2] mu;\n",
    "    for ( i in 1:N ) {\n",
    "        mu[i][1] = a_M + bA*sum(deltaA_j[1:A[i]]) + bS*sum(deltaS_j[1:S[i]]);\n",
    "        mu[i][2] = a_F + bA*sum(deltaA_j[1:A[i]]) + bS*sum(deltaS_j[1:S[i]]);\n",
    "        log_lik[i] = multi_normal_lpdf(E[i] | mu[i] , quad_form_diag(Omega, tau) );\n",
    "    }\n",
    "}\n",
    "\n",
    "'"
   ]
  },
  {
   "cell_type": "code",
   "execution_count": 55,
   "id": "50a6d57b",
   "metadata": {},
   "outputs": [],
   "source": [
    "model_6 <- stan( model_code = code_4 , data = dat_no_T , chains=4, \n",
    "                 cores = 4, iter = num_iters )"
   ]
  },
  {
   "cell_type": "code",
   "execution_count": 56,
   "id": "4f441b4d",
   "metadata": {},
   "outputs": [
    {
     "data": {
      "text/html": [
       "<table class=\"dataframe\">\n",
       "<caption>A matrix: 14 × 7 of type dbl</caption>\n",
       "<thead>\n",
       "\t<tr><th></th><th scope=col>mean</th><th scope=col>se_mean</th><th scope=col>sd</th><th scope=col>2.5%</th><th scope=col>97.5%</th><th scope=col>n_eff</th><th scope=col>Rhat</th></tr>\n",
       "</thead>\n",
       "<tbody>\n",
       "\t<tr><th scope=row>tau[1]</th><td> 0.9284734</td><td>0.0002245281</td><td>0.01763420</td><td> 0.89461416</td><td> 0.9633715</td><td>6168.369</td><td>0.9999923</td></tr>\n",
       "\t<tr><th scope=row>tau[2]</th><td> 0.9461575</td><td>0.0002287026</td><td>0.01788764</td><td> 0.91118805</td><td> 0.9815681</td><td>6117.359</td><td>0.9998330</td></tr>\n",
       "\t<tr><th scope=row>Omega[1,1]</th><td> 1.0000000</td><td>         NaN</td><td>0.00000000</td><td> 1.00000000</td><td> 1.0000000</td><td>     NaN</td><td>      NaN</td></tr>\n",
       "\t<tr><th scope=row>Omega[1,2]</th><td> 0.7782284</td><td>0.0001341169</td><td>0.01063970</td><td> 0.75635706</td><td> 0.7979684</td><td>6293.495</td><td>1.0002586</td></tr>\n",
       "\t<tr><th scope=row>Omega[2,1]</th><td> 0.7782284</td><td>0.0001341169</td><td>0.01063970</td><td> 0.75635706</td><td> 0.7979684</td><td>6293.495</td><td>1.0002586</td></tr>\n",
       "\t<tr><th scope=row>Omega[2,2]</th><td> 1.0000000</td><td>         NaN</td><td>0.00000000</td><td> 1.00000000</td><td> 1.0000000</td><td>     NaN</td><td>      NaN</td></tr>\n",
       "\t<tr><th scope=row>a_M</th><td>-0.0398416</td><td>0.0016403451</td><td>0.08767357</td><td>-0.21089620</td><td> 0.1290226</td><td>2856.715</td><td>1.0010268</td></tr>\n",
       "\t<tr><th scope=row>a_F</th><td>-0.0397220</td><td>0.0016546573</td><td>0.08806113</td><td>-0.21154362</td><td> 0.1294784</td><td>2832.385</td><td>1.0009602</td></tr>\n",
       "\t<tr><th scope=row>bS</th><td>-0.3000727</td><td>0.0014511996</td><td>0.08209400</td><td>-0.45856541</td><td>-0.1374670</td><td>3200.137</td><td>1.0004443</td></tr>\n",
       "\t<tr><th scope=row>bA</th><td> 0.6720270</td><td>0.0017877943</td><td>0.10376204</td><td> 0.47195408</td><td> 0.8793213</td><td>3368.542</td><td>1.0008871</td></tr>\n",
       "\t<tr><th scope=row>deltaA[1]</th><td> 0.3223112</td><td>0.0008641539</td><td>0.07090663</td><td> 0.17888713</td><td> 0.4596029</td><td>6732.736</td><td>1.0004765</td></tr>\n",
       "\t<tr><th scope=row>deltaA[2]</th><td> 0.6776888</td><td>0.0008641539</td><td>0.07090663</td><td> 0.54039710</td><td> 0.8211129</td><td>6732.736</td><td>1.0004765</td></tr>\n",
       "\t<tr><th scope=row>deltaS[1]</th><td> 0.8142782</td><td>0.0014171530</td><td>0.10978070</td><td> 0.55420894</td><td> 0.9688918</td><td>6000.929</td><td>1.0007912</td></tr>\n",
       "\t<tr><th scope=row>deltaS[2]</th><td> 0.1857218</td><td>0.0014171530</td><td>0.10978070</td><td> 0.03110819</td><td> 0.4457911</td><td>6000.929</td><td>1.0007912</td></tr>\n",
       "</tbody>\n",
       "</table>\n"
      ],
      "text/latex": [
       "A matrix: 14 × 7 of type dbl\n",
       "\\begin{tabular}{r|lllllll}\n",
       "  & mean & se\\_mean & sd & 2.5\\% & 97.5\\% & n\\_eff & Rhat\\\\\n",
       "\\hline\n",
       "\ttau{[}1{]} &  0.9284734 & 0.0002245281 & 0.01763420 &  0.89461416 &  0.9633715 & 6168.369 & 0.9999923\\\\\n",
       "\ttau{[}2{]} &  0.9461575 & 0.0002287026 & 0.01788764 &  0.91118805 &  0.9815681 & 6117.359 & 0.9998330\\\\\n",
       "\tOmega{[}1,1{]} &  1.0000000 &          NaN & 0.00000000 &  1.00000000 &  1.0000000 &      NaN &       NaN\\\\\n",
       "\tOmega{[}1,2{]} &  0.7782284 & 0.0001341169 & 0.01063970 &  0.75635706 &  0.7979684 & 6293.495 & 1.0002586\\\\\n",
       "\tOmega{[}2,1{]} &  0.7782284 & 0.0001341169 & 0.01063970 &  0.75635706 &  0.7979684 & 6293.495 & 1.0002586\\\\\n",
       "\tOmega{[}2,2{]} &  1.0000000 &          NaN & 0.00000000 &  1.00000000 &  1.0000000 &      NaN &       NaN\\\\\n",
       "\ta\\_M & -0.0398416 & 0.0016403451 & 0.08767357 & -0.21089620 &  0.1290226 & 2856.715 & 1.0010268\\\\\n",
       "\ta\\_F & -0.0397220 & 0.0016546573 & 0.08806113 & -0.21154362 &  0.1294784 & 2832.385 & 1.0009602\\\\\n",
       "\tbS & -0.3000727 & 0.0014511996 & 0.08209400 & -0.45856541 & -0.1374670 & 3200.137 & 1.0004443\\\\\n",
       "\tbA &  0.6720270 & 0.0017877943 & 0.10376204 &  0.47195408 &  0.8793213 & 3368.542 & 1.0008871\\\\\n",
       "\tdeltaA{[}1{]} &  0.3223112 & 0.0008641539 & 0.07090663 &  0.17888713 &  0.4596029 & 6732.736 & 1.0004765\\\\\n",
       "\tdeltaA{[}2{]} &  0.6776888 & 0.0008641539 & 0.07090663 &  0.54039710 &  0.8211129 & 6732.736 & 1.0004765\\\\\n",
       "\tdeltaS{[}1{]} &  0.8142782 & 0.0014171530 & 0.10978070 &  0.55420894 &  0.9688918 & 6000.929 & 1.0007912\\\\\n",
       "\tdeltaS{[}2{]} &  0.1857218 & 0.0014171530 & 0.10978070 &  0.03110819 &  0.4457911 & 6000.929 & 1.0007912\\\\\n",
       "\\end{tabular}\n"
      ],
      "text/markdown": [
       "\n",
       "A matrix: 14 × 7 of type dbl\n",
       "\n",
       "| <!--/--> | mean | se_mean | sd | 2.5% | 97.5% | n_eff | Rhat |\n",
       "|---|---|---|---|---|---|---|---|\n",
       "| tau[1] |  0.9284734 | 0.0002245281 | 0.01763420 |  0.89461416 |  0.9633715 | 6168.369 | 0.9999923 |\n",
       "| tau[2] |  0.9461575 | 0.0002287026 | 0.01788764 |  0.91118805 |  0.9815681 | 6117.359 | 0.9998330 |\n",
       "| Omega[1,1] |  1.0000000 |          NaN | 0.00000000 |  1.00000000 |  1.0000000 |      NaN |       NaN |\n",
       "| Omega[1,2] |  0.7782284 | 0.0001341169 | 0.01063970 |  0.75635706 |  0.7979684 | 6293.495 | 1.0002586 |\n",
       "| Omega[2,1] |  0.7782284 | 0.0001341169 | 0.01063970 |  0.75635706 |  0.7979684 | 6293.495 | 1.0002586 |\n",
       "| Omega[2,2] |  1.0000000 |          NaN | 0.00000000 |  1.00000000 |  1.0000000 |      NaN |       NaN |\n",
       "| a_M | -0.0398416 | 0.0016403451 | 0.08767357 | -0.21089620 |  0.1290226 | 2856.715 | 1.0010268 |\n",
       "| a_F | -0.0397220 | 0.0016546573 | 0.08806113 | -0.21154362 |  0.1294784 | 2832.385 | 1.0009602 |\n",
       "| bS | -0.3000727 | 0.0014511996 | 0.08209400 | -0.45856541 | -0.1374670 | 3200.137 | 1.0004443 |\n",
       "| bA |  0.6720270 | 0.0017877943 | 0.10376204 |  0.47195408 |  0.8793213 | 3368.542 | 1.0008871 |\n",
       "| deltaA[1] |  0.3223112 | 0.0008641539 | 0.07090663 |  0.17888713 |  0.4596029 | 6732.736 | 1.0004765 |\n",
       "| deltaA[2] |  0.6776888 | 0.0008641539 | 0.07090663 |  0.54039710 |  0.8211129 | 6732.736 | 1.0004765 |\n",
       "| deltaS[1] |  0.8142782 | 0.0014171530 | 0.10978070 |  0.55420894 |  0.9688918 | 6000.929 | 1.0007912 |\n",
       "| deltaS[2] |  0.1857218 | 0.0014171530 | 0.10978070 |  0.03110819 |  0.4457911 | 6000.929 | 1.0007912 |\n",
       "\n"
      ],
      "text/plain": [
       "           mean       se_mean      sd         2.5%        97.5%      n_eff   \n",
       "tau[1]      0.9284734 0.0002245281 0.01763420  0.89461416  0.9633715 6168.369\n",
       "tau[2]      0.9461575 0.0002287026 0.01788764  0.91118805  0.9815681 6117.359\n",
       "Omega[1,1]  1.0000000          NaN 0.00000000  1.00000000  1.0000000      NaN\n",
       "Omega[1,2]  0.7782284 0.0001341169 0.01063970  0.75635706  0.7979684 6293.495\n",
       "Omega[2,1]  0.7782284 0.0001341169 0.01063970  0.75635706  0.7979684 6293.495\n",
       "Omega[2,2]  1.0000000          NaN 0.00000000  1.00000000  1.0000000      NaN\n",
       "a_M        -0.0398416 0.0016403451 0.08767357 -0.21089620  0.1290226 2856.715\n",
       "a_F        -0.0397220 0.0016546573 0.08806113 -0.21154362  0.1294784 2832.385\n",
       "bS         -0.3000727 0.0014511996 0.08209400 -0.45856541 -0.1374670 3200.137\n",
       "bA          0.6720270 0.0017877943 0.10376204  0.47195408  0.8793213 3368.542\n",
       "deltaA[1]   0.3223112 0.0008641539 0.07090663  0.17888713  0.4596029 6732.736\n",
       "deltaA[2]   0.6776888 0.0008641539 0.07090663  0.54039710  0.8211129 6732.736\n",
       "deltaS[1]   0.8142782 0.0014171530 0.10978070  0.55420894  0.9688918 6000.929\n",
       "deltaS[2]   0.1857218 0.0014171530 0.10978070  0.03110819  0.4457911 6000.929\n",
       "           Rhat     \n",
       "tau[1]     0.9999923\n",
       "tau[2]     0.9998330\n",
       "Omega[1,1]       NaN\n",
       "Omega[1,2] 1.0002586\n",
       "Omega[2,1] 1.0002586\n",
       "Omega[2,2]       NaN\n",
       "a_M        1.0010268\n",
       "a_F        1.0009602\n",
       "bS         1.0004443\n",
       "bA         1.0008871\n",
       "deltaA[1]  1.0004765\n",
       "deltaA[2]  1.0004765\n",
       "deltaS[1]  1.0007912\n",
       "deltaS[2]  1.0007912"
      ]
     },
     "metadata": {},
     "output_type": "display_data"
    }
   ],
   "source": [
    "results_6 <- summary(model_6, probs = c(0.025, 0.975), \n",
    "                     pars = c('tau', 'Omega', 'a_M', 'a_F', \n",
    "                              'bS', 'bA', 'deltaA', 'deltaS'))$summary\n",
    "results_6"
   ]
  },
  {
   "cell_type": "markdown",
   "id": "a0a5ab7d",
   "metadata": {},
   "source": [
    "These results are consistent with our previous ones for the same data."
   ]
  },
  {
   "cell_type": "markdown",
   "id": "0d00835a",
   "metadata": {},
   "source": [
    "## 13. A model without section information <a id='no_sec'></a>\n",
    "Finally we train a model without section information either. We will compare our first three and last two models using loo (we cannot include the other two models as they are based on different numbers of students)."
   ]
  },
  {
   "cell_type": "code",
   "execution_count": 57,
   "id": "2dedb6b6",
   "metadata": {},
   "outputs": [],
   "source": [
    "code_5 <- 'data{\n",
    "    int N;\n",
    "    array[N] vector[2] E;\n",
    "    int A[N];\n",
    "    vector[2] alpha;\n",
    "}\n",
    "parameters{\n",
    "    corr_matrix[2] Omega;     \n",
    "    vector<lower=0>[2] tau;\n",
    "    real a_F;\n",
    "    real a_M;\n",
    "    real bA;\n",
    "    simplex[2] deltaA;\n",
    "    \n",
    "}\n",
    "\n",
    "transformed parameters{\n",
    "vector[3] deltaA_j;\n",
    "deltaA_j = append_row(0, deltaA);\n",
    "}\n",
    "\n",
    "model{\n",
    "    tau ~ lognormal( 0, 0.25 );\n",
    "    Omega ~ lkj_corr(2);\n",
    "    array[N] vector[2] mu;\n",
    "    a_M ~ normal( 0 , 1 );\n",
    "    a_F ~ normal( 0 , 1 );\n",
    "    bA ~ normal( 0 , 1 );\n",
    "    deltaA ~ dirichlet( alpha );\n",
    "    for ( i in 1:N ) {\n",
    "        mu[i][1] = a_M + bA*sum(deltaA_j[1:A[i]]);\n",
    "        mu[i][2] = a_F + bA*sum(deltaA_j[1:A[i]]);\n",
    "    }\n",
    "\n",
    "    E ~ multi_normal(mu, quad_form_diag(Omega, tau));\n",
    "}\n",
    "\n",
    "generated quantities{\n",
    "    vector[N] log_lik; \n",
    "    array[N] vector[2] mu;\n",
    "    for ( i in 1:N ) {\n",
    "        mu[i][1] = a_M + bA*sum(deltaA_j[1:A[i]]);\n",
    "        mu[i][2] = a_F + bA*sum(deltaA_j[1:A[i]]);\n",
    "        log_lik[i] = multi_normal_lpdf(E[i] | mu[i] , quad_form_diag(Omega, tau) );\n",
    "    }\n",
    "}\n",
    "\n",
    "'"
   ]
  },
  {
   "cell_type": "code",
   "execution_count": 58,
   "id": "5d1ba994",
   "metadata": {},
   "outputs": [],
   "source": [
    "model_7 <- stan( model_code = code_5 , data = dat_no_T , chains=4, \n",
    "                 cores = 4, iter = num_iters )"
   ]
  },
  {
   "cell_type": "code",
   "execution_count": 59,
   "id": "b4e78b64",
   "metadata": {},
   "outputs": [
    {
     "data": {
      "text/html": [
       "<table class=\"dataframe\">\n",
       "<caption>A matrix: 11 × 7 of type dbl</caption>\n",
       "<thead>\n",
       "\t<tr><th></th><th scope=col>mean</th><th scope=col>se_mean</th><th scope=col>sd</th><th scope=col>2.5%</th><th scope=col>97.5%</th><th scope=col>n_eff</th><th scope=col>Rhat</th></tr>\n",
       "</thead>\n",
       "<tbody>\n",
       "\t<tr><th scope=row>tau[1]</th><td> 0.9340069</td><td>0.0002244007</td><td>0.01771293</td><td> 0.8997735</td><td> 0.9694801</td><td>6230.636</td><td>1.0000277</td></tr>\n",
       "\t<tr><th scope=row>tau[2]</th><td> 0.9475059</td><td>0.0002276861</td><td>0.01805616</td><td> 0.9129146</td><td> 0.9837501</td><td>6288.950</td><td>1.0002264</td></tr>\n",
       "\t<tr><th scope=row>Omega[1,1]</th><td> 1.0000000</td><td>         NaN</td><td>0.00000000</td><td> 1.0000000</td><td> 1.0000000</td><td>     NaN</td><td>      NaN</td></tr>\n",
       "\t<tr><th scope=row>Omega[1,2]</th><td> 0.7799219</td><td>0.0001378453</td><td>0.01061537</td><td> 0.7584617</td><td> 0.8002688</td><td>5930.428</td><td>0.9999694</td></tr>\n",
       "\t<tr><th scope=row>Omega[2,1]</th><td> 0.7799219</td><td>0.0001378453</td><td>0.01061537</td><td> 0.7584617</td><td> 0.8002688</td><td>5930.428</td><td>0.9999694</td></tr>\n",
       "\t<tr><th scope=row>Omega[2,2]</th><td> 1.0000000</td><td>         NaN</td><td>0.00000000</td><td> 1.0000000</td><td> 1.0000000</td><td>     NaN</td><td>      NaN</td></tr>\n",
       "\t<tr><th scope=row>a_M</th><td>-0.3102416</td><td>0.0006135544</td><td>0.04076523</td><td>-0.3893732</td><td>-0.2293074</td><td>4414.421</td><td>1.0010085</td></tr>\n",
       "\t<tr><th scope=row>a_F</th><td>-0.3102646</td><td>0.0006035785</td><td>0.04095276</td><td>-0.3895651</td><td>-0.2298877</td><td>4603.614</td><td>1.0008956</td></tr>\n",
       "\t<tr><th scope=row>bA</th><td> 0.9412293</td><td>0.0009280171</td><td>0.06911687</td><td> 0.8066027</td><td> 1.0780400</td><td>5546.975</td><td>1.0009402</td></tr>\n",
       "\t<tr><th scope=row>deltaA[1]</th><td> 0.3320215</td><td>0.0006425345</td><td>0.05072884</td><td> 0.2330837</td><td> 0.4336779</td><td>6233.286</td><td>0.9999624</td></tr>\n",
       "\t<tr><th scope=row>deltaA[2]</th><td> 0.6679785</td><td>0.0006425345</td><td>0.05072884</td><td> 0.5663221</td><td> 0.7669163</td><td>6233.286</td><td>0.9999624</td></tr>\n",
       "</tbody>\n",
       "</table>\n"
      ],
      "text/latex": [
       "A matrix: 11 × 7 of type dbl\n",
       "\\begin{tabular}{r|lllllll}\n",
       "  & mean & se\\_mean & sd & 2.5\\% & 97.5\\% & n\\_eff & Rhat\\\\\n",
       "\\hline\n",
       "\ttau{[}1{]} &  0.9340069 & 0.0002244007 & 0.01771293 &  0.8997735 &  0.9694801 & 6230.636 & 1.0000277\\\\\n",
       "\ttau{[}2{]} &  0.9475059 & 0.0002276861 & 0.01805616 &  0.9129146 &  0.9837501 & 6288.950 & 1.0002264\\\\\n",
       "\tOmega{[}1,1{]} &  1.0000000 &          NaN & 0.00000000 &  1.0000000 &  1.0000000 &      NaN &       NaN\\\\\n",
       "\tOmega{[}1,2{]} &  0.7799219 & 0.0001378453 & 0.01061537 &  0.7584617 &  0.8002688 & 5930.428 & 0.9999694\\\\\n",
       "\tOmega{[}2,1{]} &  0.7799219 & 0.0001378453 & 0.01061537 &  0.7584617 &  0.8002688 & 5930.428 & 0.9999694\\\\\n",
       "\tOmega{[}2,2{]} &  1.0000000 &          NaN & 0.00000000 &  1.0000000 &  1.0000000 &      NaN &       NaN\\\\\n",
       "\ta\\_M & -0.3102416 & 0.0006135544 & 0.04076523 & -0.3893732 & -0.2293074 & 4414.421 & 1.0010085\\\\\n",
       "\ta\\_F & -0.3102646 & 0.0006035785 & 0.04095276 & -0.3895651 & -0.2298877 & 4603.614 & 1.0008956\\\\\n",
       "\tbA &  0.9412293 & 0.0009280171 & 0.06911687 &  0.8066027 &  1.0780400 & 5546.975 & 1.0009402\\\\\n",
       "\tdeltaA{[}1{]} &  0.3320215 & 0.0006425345 & 0.05072884 &  0.2330837 &  0.4336779 & 6233.286 & 0.9999624\\\\\n",
       "\tdeltaA{[}2{]} &  0.6679785 & 0.0006425345 & 0.05072884 &  0.5663221 &  0.7669163 & 6233.286 & 0.9999624\\\\\n",
       "\\end{tabular}\n"
      ],
      "text/markdown": [
       "\n",
       "A matrix: 11 × 7 of type dbl\n",
       "\n",
       "| <!--/--> | mean | se_mean | sd | 2.5% | 97.5% | n_eff | Rhat |\n",
       "|---|---|---|---|---|---|---|---|\n",
       "| tau[1] |  0.9340069 | 0.0002244007 | 0.01771293 |  0.8997735 |  0.9694801 | 6230.636 | 1.0000277 |\n",
       "| tau[2] |  0.9475059 | 0.0002276861 | 0.01805616 |  0.9129146 |  0.9837501 | 6288.950 | 1.0002264 |\n",
       "| Omega[1,1] |  1.0000000 |          NaN | 0.00000000 |  1.0000000 |  1.0000000 |      NaN |       NaN |\n",
       "| Omega[1,2] |  0.7799219 | 0.0001378453 | 0.01061537 |  0.7584617 |  0.8002688 | 5930.428 | 0.9999694 |\n",
       "| Omega[2,1] |  0.7799219 | 0.0001378453 | 0.01061537 |  0.7584617 |  0.8002688 | 5930.428 | 0.9999694 |\n",
       "| Omega[2,2] |  1.0000000 |          NaN | 0.00000000 |  1.0000000 |  1.0000000 |      NaN |       NaN |\n",
       "| a_M | -0.3102416 | 0.0006135544 | 0.04076523 | -0.3893732 | -0.2293074 | 4414.421 | 1.0010085 |\n",
       "| a_F | -0.3102646 | 0.0006035785 | 0.04095276 | -0.3895651 | -0.2298877 | 4603.614 | 1.0008956 |\n",
       "| bA |  0.9412293 | 0.0009280171 | 0.06911687 |  0.8066027 |  1.0780400 | 5546.975 | 1.0009402 |\n",
       "| deltaA[1] |  0.3320215 | 0.0006425345 | 0.05072884 |  0.2330837 |  0.4336779 | 6233.286 | 0.9999624 |\n",
       "| deltaA[2] |  0.6679785 | 0.0006425345 | 0.05072884 |  0.5663221 |  0.7669163 | 6233.286 | 0.9999624 |\n",
       "\n"
      ],
      "text/plain": [
       "           mean       se_mean      sd         2.5%       97.5%      n_eff   \n",
       "tau[1]      0.9340069 0.0002244007 0.01771293  0.8997735  0.9694801 6230.636\n",
       "tau[2]      0.9475059 0.0002276861 0.01805616  0.9129146  0.9837501 6288.950\n",
       "Omega[1,1]  1.0000000          NaN 0.00000000  1.0000000  1.0000000      NaN\n",
       "Omega[1,2]  0.7799219 0.0001378453 0.01061537  0.7584617  0.8002688 5930.428\n",
       "Omega[2,1]  0.7799219 0.0001378453 0.01061537  0.7584617  0.8002688 5930.428\n",
       "Omega[2,2]  1.0000000          NaN 0.00000000  1.0000000  1.0000000      NaN\n",
       "a_M        -0.3102416 0.0006135544 0.04076523 -0.3893732 -0.2293074 4414.421\n",
       "a_F        -0.3102646 0.0006035785 0.04095276 -0.3895651 -0.2298877 4603.614\n",
       "bA          0.9412293 0.0009280171 0.06911687  0.8066027  1.0780400 5546.975\n",
       "deltaA[1]   0.3320215 0.0006425345 0.05072884  0.2330837  0.4336779 6233.286\n",
       "deltaA[2]   0.6679785 0.0006425345 0.05072884  0.5663221  0.7669163 6233.286\n",
       "           Rhat     \n",
       "tau[1]     1.0000277\n",
       "tau[2]     1.0002264\n",
       "Omega[1,1]       NaN\n",
       "Omega[1,2] 0.9999694\n",
       "Omega[2,1] 0.9999694\n",
       "Omega[2,2]       NaN\n",
       "a_M        1.0010085\n",
       "a_F        1.0008956\n",
       "bA         1.0009402\n",
       "deltaA[1]  0.9999624\n",
       "deltaA[2]  0.9999624"
      ]
     },
     "metadata": {},
     "output_type": "display_data"
    }
   ],
   "source": [
    "results_7 <- summary(model_7, probs = c(0.025, 0.975), \n",
    "                     pars = c('tau', 'Omega', 'a_M', 'a_F', 'bA', 'deltaA'))$summary\n",
    "results_7"
   ]
  },
  {
   "cell_type": "code",
   "execution_count": 60,
   "id": "8b503e2c",
   "metadata": {},
   "outputs": [
    {
     "name": "stdout",
     "output_type": "stream",
     "text": [
      "       elpd_diff se_diff elpd_loo se_elpd_loo p_loo   se_p_loo looic   se_looic\n",
      "model4     0.0       0.0 -3050.2     35.1         8.2     0.3   6100.5    70.1 \n",
      "model3    -1.7       0.6 -3051.9     35.0         9.9     0.3   6103.8    70.1 \n",
      "model5    -5.4       3.9 -3055.7     35.0         6.7     0.3   6111.3    70.0 \n",
      "model1  -636.5      28.9 -3686.7     39.9        13.2     0.5   7373.5    79.8 \n",
      "model2  -636.7      29.0 -3686.9     39.9        13.7     0.5   7373.8    79.7 \n"
     ]
    }
   ],
   "source": [
    "loo_6 <- loo(model_6)\n",
    "\n",
    "loo_7 <- loo(model_7)\n",
    "\n",
    "\n",
    "comp <- loo_compare(loo_1, loo_2, loo_3, loo_6, loo_7)\n",
    "print(comp, simplify=FALSE)"
   ]
  },
  {
   "cell_type": "markdown",
   "id": "d26587e9",
   "metadata": {},
   "source": [
    "Loo shows a slight preference for the model that includes section information, but that excludes teacher information."
   ]
  },
  {
   "cell_type": "markdown",
   "id": "a2609c9e",
   "metadata": {},
   "source": [
    "## 14. Conclusions <a id='conc'></a>\n",
    "\n",
    "Unlike in the previous notebook, the best models here are confident of a small negative influence of section number on exam performance. The obvious thing to do here to resolve the difference of opinion would be to combine our two datasets together and run a more sophisticated model involving all the data simultaneously. This will be done in the next notebook, and I will defer a more in-depth discussion of the results till then."
   ]
  }
 ],
 "metadata": {
  "kernelspec": {
   "display_name": "R",
   "language": "R",
   "name": "ir"
  },
  "language_info": {
   "codemirror_mode": "r",
   "file_extension": ".r",
   "mimetype": "text/x-r-source",
   "name": "R",
   "pygments_lexer": "r",
   "version": "4.2.2"
  }
 },
 "nbformat": 4,
 "nbformat_minor": 5
}
