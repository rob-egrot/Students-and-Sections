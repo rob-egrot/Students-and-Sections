{
 "cells": [
  {
   "cell_type": "markdown",
   "id": "1ca20ade",
   "metadata": {},
   "source": [
    "# Students and Sections 3\n",
    "[1. Introduction](#introduction)\n",
    "\n",
    "[2. Preliminary data processing](#prelim)\n",
    "\n",
    "[3. Complete case analysis](#comp)\n",
    "\n",
    "[4. Imputation of missing exam results](#imp)\n",
    "\n",
    "[5. Conclusions](#conc)"
   ]
  },
  {
   "cell_type": "markdown",
   "id": "0630557a",
   "metadata": {},
   "source": [
    "## 1. Introduction<a id='introduction'></a>\n",
    "In this notebook we'll use a dataset containing data for each first-attempt at each exam for each student (see the notebook 'merge_years' for the details on how this dataset was created from the ones for the different courses). We'll just take the Bayesian approach here, using models similar to those from the previous notebook, and we are primarily interested in the coefficient $\\beta_S$ representing the influence of section numbering on exam results.\n",
    "\n",
    "We'll train just two models. The first uses only the complete cases (i.e. those where all exam results are available), and the second tries to impute missing exam results."
   ]
  },
  {
   "cell_type": "markdown",
   "id": "4421bf22",
   "metadata": {},
   "source": [
    "## 2. Preliminary data processing<a id='prelim'></a>"
   ]
  },
  {
   "cell_type": "code",
   "execution_count": 1,
   "id": "048af517",
   "metadata": {},
   "outputs": [
    {
     "name": "stderr",
     "output_type": "stream",
     "text": [
      "Loading required package: StanHeaders\n",
      "\n",
      "\n",
      "rstan version 2.26.13 (Stan version 2.26.1)\n",
      "\n",
      "\n",
      "For execution on a local, multicore CPU with excess RAM we recommend calling\n",
      "options(mc.cores = parallel::detectCores()).\n",
      "To avoid recompilation of unchanged Stan programs, we recommend calling\n",
      "rstan_options(auto_write = TRUE)\n",
      "For within-chain threading using `reduce_sum()` or `map_rect()` Stan functions,\n",
      "change `threads_per_chain` option:\n",
      "rstan_options(threads_per_chain = 1)\n",
      "\n",
      "\n",
      "Do not specify '-march=native' in 'LOCAL_CPPFLAGS' or a Makevars file\n",
      "\n",
      "This is loo version 2.5.1\n",
      "\n",
      "- Online documentation and vignettes at mc-stan.org/loo\n",
      "\n",
      "- As of v2.0.0 loo defaults to 1 core but we recommend using as many as possible. Use the 'cores' argument or set options(mc.cores = NUM_CORES) for an entire session. \n",
      "\n",
      "- Windows 10 users: loo may be very slow if 'mc.cores' is set in your .Rprofile file (see https://github.com/stan-dev/loo/issues/94).\n",
      "\n",
      "\n",
      "Attaching package: 'loo'\n",
      "\n",
      "\n",
      "The following object is masked from 'package:rstan':\n",
      "\n",
      "    loo\n",
      "\n",
      "\n"
     ]
    }
   ],
   "source": [
    "num_iters = 10000\n",
    "library(rstan)\n",
    "library(loo)"
   ]
  },
  {
   "cell_type": "code",
   "execution_count": 2,
   "id": "4049d7eb",
   "metadata": {},
   "outputs": [],
   "source": [
    "# A conveinece function for printing the proportion of the probability mass for the bS parameter below a specified value\n",
    "# and a specified model.\n",
    "prop_below <- function(model, prop) {\n",
    "    samples <- extract(model, 'bS') \n",
    "    counts <- ifelse(samples$bS < prop, 1, 0)\n",
    "    p <- sum(counts)/length(counts)\n",
    "    paste(\"Proportion less than\", prop, \":\", p, sep = \" \")\n",
    "}"
   ]
  },
  {
   "cell_type": "code",
   "execution_count": 3,
   "id": "0eaa88fd",
   "metadata": {},
   "outputs": [
    {
     "name": "stdout",
     "output_type": "stream",
     "text": [
      "'data.frame':\t1674 obs. of  8 variables:\n",
      " $ Cohort            : num  1 1 1 1 1 1 1 1 1 1 ...\n",
      " $ Section.Y1        : num  1 2 1 1 1 1 1 1 1 2 ...\n",
      " $ Midterm.Y1        : chr  \"\" \"\" \"\" \"\" ...\n",
      " $ Final.Y1          : chr  \"\" \"\" \"\" \"\" ...\n",
      " $ Teacher.Midterm.Y1: num  NA NA NA NA NA NA NA NA NA NA ...\n",
      " $ Teacher.Final.Y1  : num  NA NA NA NA NA NA NA NA NA NA ...\n",
      " $ Section.Y2        : num  1 2 1 1 1 1 1 1 1 2 ...\n",
      " $ Exam.Y2           : chr  \"97.78\" \"95.56\" \"95.56\" \"94.44\" ...\n"
     ]
    }
   ],
   "source": [
    "data <- read.csv(\"students_combined.csv\", header=TRUE, stringsAsFactors=FALSE)\n",
    "\n",
    "df_base <- data.frame(data)\n",
    "str(df_base)"
   ]
  },
  {
   "cell_type": "code",
   "execution_count": 4,
   "id": "23245d9b",
   "metadata": {},
   "outputs": [
    {
     "name": "stderr",
     "output_type": "stream",
     "text": [
      "Warning message in eval(expr, envir, enclos):\n",
      "\"NAs introduced by coercion\"\n",
      "Warning message in eval(expr, envir, enclos):\n",
      "\"NAs introduced by coercion\"\n",
      "Warning message in eval(expr, envir, enclos):\n",
      "\"NAs introduced by coercion\"\n"
     ]
    },
    {
     "name": "stdout",
     "output_type": "stream",
     "text": [
      "'data.frame':\t1674 obs. of  11 variables:\n",
      " $ Cohort            : num  1 1 1 1 1 1 1 1 1 1 ...\n",
      " $ Section.Y1        : num  1 2 1 1 1 1 1 1 1 2 ...\n",
      " $ Midterm.Y1        : chr  \"\" \"\" \"\" \"\" ...\n",
      " $ Final.Y1          : chr  \"\" \"\" \"\" \"\" ...\n",
      " $ Teacher.Midterm.Y1: num  NA NA NA NA NA NA NA NA NA NA ...\n",
      " $ Teacher.Final.Y1  : num  NA NA NA NA NA NA NA NA NA NA ...\n",
      " $ Section.Y2        : num  1 2 1 1 1 1 1 1 1 2 ...\n",
      " $ Exam.Y2           : chr  \"97.78\" \"95.56\" \"95.56\" \"94.44\" ...\n",
      " $ Score_1           : num  NA NA NA NA NA NA NA NA NA NA ...\n",
      " $ Score_2           : num  NA NA NA NA NA NA NA NA NA NA ...\n",
      " $ Score_3           : num  97.8 95.6 95.6 94.4 93.3 ...\n"
     ]
    }
   ],
   "source": [
    "df_base$Score_1 <- as.numeric(df_base$Midterm.Y1)\n",
    "df_base$Score_2 <- as.numeric(df_base$Final.Y1)\n",
    "df_base$Score_3 <- as.numeric(df_base$Exam.Y2)\n",
    "str(df_base)"
   ]
  },
  {
   "cell_type": "markdown",
   "id": "b699dcff",
   "metadata": {},
   "source": [
    "## 3. Complete case analysis<a id='comp'></a>\n",
    "Here we simply drop the cases where there is no data for an exam. We will later use a more sophisticated strategy for dealing with these missing values."
   ]
  },
  {
   "cell_type": "code",
   "execution_count": 5,
   "id": "e50646cb",
   "metadata": {},
   "outputs": [
    {
     "name": "stdout",
     "output_type": "stream",
     "text": [
      "'data.frame':\t1289 obs. of  11 variables:\n",
      " $ Cohort            : num  2 2 2 2 2 2 2 2 2 2 ...\n",
      " $ Section.Y1        : num  1 1 1 1 1 1 2 1 1 1 ...\n",
      " $ Midterm.Y1        : chr  \"76.5\" \"78.5\" \"69.5\" \"61.5\" ...\n",
      " $ Final.Y1          : chr  \"67\" \"61\" \"64\" \"70\" ...\n",
      " $ Teacher.Midterm.Y1: num  2 2 2 2 2 2 2 2 2 2 ...\n",
      " $ Teacher.Final.Y1  : num  1 1 1 1 1 1 1 1 1 1 ...\n",
      " $ Section.Y2        : num  1 1 1 1 1 1 2 1 1 1 ...\n",
      " $ Exam.Y2           : chr  \"92\" \"92\" \"91\" \"91\" ...\n",
      " $ Score_1           : num  76.5 78.5 69.5 61.5 71.5 79.5 49 72 67.5 63.5 ...\n",
      " $ Score_2           : num  67 61 64 70 65 68 50 85 55 65 ...\n",
      " $ Score_3           : num  92 92 91 91 91 90 90 90 90 89 ...\n"
     ]
    }
   ],
   "source": [
    "df <- df_base[complete.cases(df_base$Score_1, df_base$Score_2, df_base$Score_3), ]\n",
    "str(df)"
   ]
  },
  {
   "cell_type": "code",
   "execution_count": 6,
   "id": "0fb84922",
   "metadata": {},
   "outputs": [
    {
     "name": "stdout",
     "output_type": "stream",
     "text": [
      "'data.frame':\t1289 obs. of  6 variables:\n",
      " $ Cohort    : num  2 2 2 2 2 2 2 2 2 2 ...\n",
      " $ Section.Y1: num  1 1 1 1 1 1 2 1 1 1 ...\n",
      " $ Section.Y2: num  1 1 1 1 1 1 2 1 1 1 ...\n",
      " $ Score_1   : num  76.5 78.5 69.5 61.5 71.5 79.5 49 72 67.5 63.5 ...\n",
      " $ Score_2   : num  67 61 64 70 65 68 50 85 55 65 ...\n",
      " $ Score_3   : num  92 92 91 91 91 90 90 90 90 89 ...\n"
     ]
    },
    {
     "data": {
      "text/plain": [
       "     Cohort        Section.Y1      Section.Y2      Score_1         Score_2     \n",
       " Min.   :2.000   Min.   :1.000   Min.   :1.00   Min.   : 5.00   Min.   : 2.00  \n",
       " 1st Qu.:3.000   1st Qu.:1.000   1st Qu.:1.00   1st Qu.:32.50   1st Qu.:33.30  \n",
       " Median :5.000   Median :2.000   Median :2.00   Median :46.00   Median :47.50  \n",
       " Mean   :5.265   Mean   :1.963   Mean   :1.96   Mean   :47.45   Mean   :48.97  \n",
       " 3rd Qu.:8.000   3rd Qu.:3.000   3rd Qu.:3.00   3rd Qu.:61.50   3rd Qu.:65.00  \n",
       " Max.   :9.000   Max.   :3.000   Max.   :3.00   Max.   :97.00   Max.   :99.00  \n",
       "    Score_3     \n",
       " Min.   : 0.00  \n",
       " 1st Qu.:32.00  \n",
       " Median :51.00  \n",
       " Mean   :49.38  \n",
       " 3rd Qu.:67.00  \n",
       " Max.   :97.00  "
      ]
     },
     "metadata": {},
     "output_type": "display_data"
    }
   ],
   "source": [
    "drops <- c(\"Midterm.Y1\",\"Final.Y1\",\"Exam.Y2\",\"Teacher.Midterm.Y1\",\"Teacher.Final.Y1\")\n",
    "df <- df[ , !(names(df) %in% drops)]\n",
    "str(df)\n",
    "\n",
    "summary(df)"
   ]
  },
  {
   "cell_type": "markdown",
   "id": "c51676f0",
   "metadata": {},
   "source": [
    "As usual we'll standardize exam results to allow comparison between years."
   ]
  },
  {
   "cell_type": "code",
   "execution_count": 7,
   "id": "8a09795b",
   "metadata": {},
   "outputs": [
    {
     "data": {
      "text/plain": [
       "     Cohort        Section.Y1      Section.Y2      Score_1         Score_2     \n",
       " Min.   :2.000   Min.   :1.000   Min.   :1.00   Min.   : 5.00   Min.   : 2.00  \n",
       " 1st Qu.:3.000   1st Qu.:1.000   1st Qu.:1.00   1st Qu.:32.50   1st Qu.:33.30  \n",
       " Median :5.000   Median :2.000   Median :2.00   Median :46.00   Median :47.50  \n",
       " Mean   :5.265   Mean   :1.963   Mean   :1.96   Mean   :47.45   Mean   :48.97  \n",
       " 3rd Qu.:8.000   3rd Qu.:3.000   3rd Qu.:3.00   3rd Qu.:61.50   3rd Qu.:65.00  \n",
       " Max.   :9.000   Max.   :3.000   Max.   :3.00   Max.   :97.00   Max.   :99.00  \n",
       "    Score_3       Score_1_std       Score_2_std        Score_3_std      \n",
       " Min.   : 0.00   Min.   :-2.5095   Min.   :-2.36338   Min.   :-3.07995  \n",
       " 1st Qu.:32.00   1st Qu.:-0.7442   1st Qu.:-0.75265   1st Qu.:-0.68567  \n",
       " Median :51.00   Median :-0.1128   Median :-0.06112   Median : 0.01744  \n",
       " Mean   :49.38   Mean   : 0.0000   Mean   : 0.00000   Mean   : 0.00000  \n",
       " 3rd Qu.:67.00   3rd Qu.: 0.6857   3rd Qu.: 0.80705   3rd Qu.: 0.72903  \n",
       " Max.   :97.00   Max.   : 2.8375   Max.   : 2.99903   Max.   : 2.59928  "
      ]
     },
     "metadata": {},
     "output_type": "display_data"
    }
   ],
   "source": [
    "for (y in 2 : 9){\n",
    "  index <- df$Cohort == y\n",
    "    \n",
    "  m <- mean(df$Score_1[index])\n",
    "  s <- sd(df$Score_1[index])\n",
    "  df$Score_1_std[index] <- ( df$Score_1[index] - m )/s\n",
    "    \n",
    "  m <- mean(df$Score_2[index])\n",
    "  s <- sd(df$Score_2[index])\n",
    "  df$Score_2_std[index] <- ( df$Score_2[index] - m )/s\n",
    "    \n",
    "  m <- mean(df$Score_3[index])\n",
    "  s <- sd(df$Score_3[index])\n",
    "  df$Score_3_std[index] <- ( df$Score_3[index] - m )/s  \n",
    "    }\n",
    "\n",
    "summary(df)"
   ]
  },
  {
   "cell_type": "markdown",
   "id": "0eb1bbaf",
   "metadata": {},
   "source": [
    "### The first model\n",
    "$i\\in\\{1,\\ldots,N\\}$ ($N$ is number of students) and $k\\in\\{1,2,3\\}$ (exams)\n",
    "\n",
    "#### Model\n",
    "\n",
    "$E \\sim MultiNormal(\\mu, \\Sigma)$ ...   ($E$ is a multivariate normal distribution for two variables. As is typical, the covariance matrix $\\Sigma$ will be modeled using a vector of standard deviations $\\tau$ and a correlation matrix $\\Omega$ as $\\Sigma = \\tau_{diag}\\ast\\Omega\\ast \\tau_{diag}$).\n",
    "\n",
    "$\\mu_k = \\alpha_k + \\beta_A\\sum_{i=1}^{N_A-1} \\delta_i^A + \\beta_S \\sum_{j=i}^{N_S-1} \\delta_j^B$\n",
    "\n",
    "#### Priors\n",
    "\n",
    "$\\tau \\sim LogNorm(0,0.25)$\n",
    "\n",
    "$\\Omega\\sim LKJcorr(2)$\n",
    "\n",
    "$(\\delta^A_1, \\delta^A_2), (\\delta^S_1, \\delta^S_2) \\sim Dirichlet(2,2)$\n",
    "\n",
    "$a_k, \\beta_A, \\beta_S \\sim Norm(0,1)$"
   ]
  },
  {
   "cell_type": "code",
   "execution_count": 8,
   "id": "925e35ca",
   "metadata": {},
   "outputs": [
    {
     "name": "stdout",
     "output_type": "stream",
     "text": [
      "'data.frame':\t1289 obs. of  11 variables:\n",
      " $ Cohort         : num  2 2 2 2 2 2 2 2 2 2 ...\n",
      " $ Section.Y1     : num  1 1 1 1 1 1 2 1 1 1 ...\n",
      " $ Section.Y2     : num  1 1 1 1 1 1 2 1 1 1 ...\n",
      " $ Score_1        : num  76.5 78.5 69.5 61.5 71.5 79.5 49 72 67.5 63.5 ...\n",
      " $ Score_2        : num  67 61 64 70 65 68 50 85 55 65 ...\n",
      " $ Score_3        : num  92 92 91 91 91 90 90 90 90 89 ...\n",
      " $ Score_1_std    : num  2.01 2.12 1.61 1.15 1.72 ...\n",
      " $ Score_2_std    : num  1.68 1.3 1.49 1.86 1.55 ...\n",
      " $ Score_3_std    : num  1.73 1.73 1.68 1.68 1.68 ...\n",
      " $ Stream_level.Y1: num  3 3 3 3 3 3 1 3 3 3 ...\n",
      " $ Stream_level.Y2: num  3 3 3 3 3 3 1 3 3 3 ...\n",
      "'data.frame':\t1289 obs. of  8 variables:\n",
      " $ Cohort         : num  2 2 2 2 2 2 2 2 2 2 ...\n",
      " $ Section.Y1     : num  1 1 1 1 1 1 2 1 1 1 ...\n",
      " $ Section.Y2     : num  1 1 1 1 1 1 2 1 1 1 ...\n",
      " $ Score_1_std    : num  2.01 2.12 1.61 1.15 1.72 ...\n",
      " $ Score_2_std    : num  1.68 1.3 1.49 1.86 1.55 ...\n",
      " $ Score_3_std    : num  1.73 1.73 1.68 1.68 1.68 ...\n",
      " $ Stream_level.Y1: num  3 3 3 3 3 3 1 3 3 3 ...\n",
      " $ Stream_level.Y2: num  3 3 3 3 3 3 1 3 3 3 ...\n"
     ]
    },
    {
     "data": {
      "text/plain": [
       "     Cohort        Section.Y1      Section.Y2    Score_1_std     \n",
       " Min.   :2.000   Min.   :1.000   Min.   :1.00   Min.   :-2.5095  \n",
       " 1st Qu.:3.000   1st Qu.:1.000   1st Qu.:1.00   1st Qu.:-0.7442  \n",
       " Median :5.000   Median :2.000   Median :2.00   Median :-0.1128  \n",
       " Mean   :5.265   Mean   :1.963   Mean   :1.96   Mean   : 0.0000  \n",
       " 3rd Qu.:8.000   3rd Qu.:3.000   3rd Qu.:3.00   3rd Qu.: 0.6857  \n",
       " Max.   :9.000   Max.   :3.000   Max.   :3.00   Max.   : 2.8375  \n",
       "  Score_2_std        Score_3_std       Stream_level.Y1 Stream_level.Y2\n",
       " Min.   :-2.36338   Min.   :-3.07995   Min.   :1.000   Min.   :1.000  \n",
       " 1st Qu.:-0.75265   1st Qu.:-0.68567   1st Qu.:1.000   1st Qu.:1.000  \n",
       " Median :-0.06112   Median : 0.01744   Median :2.000   Median :2.000  \n",
       " Mean   : 0.00000   Mean   : 0.00000   Mean   :1.815   Mean   :1.823  \n",
       " 3rd Qu.: 0.80705   3rd Qu.: 0.72903   3rd Qu.:2.000   3rd Qu.:2.000  \n",
       " Max.   : 2.99903   Max.   : 2.59928   Max.   :3.000   Max.   :3.000  "
      ]
     },
     "metadata": {},
     "output_type": "display_data"
    }
   ],
   "source": [
    "df_full <- df\n",
    "\n",
    "df_full$Stream_level.Y1 <- ifelse(df_full$Section.Y1 == 1 & df_full$Cohort < 6, 3., ifelse(df_full$Cohort < 6, 1., 2. ))\n",
    "df_full$Stream_level.Y2 <- ifelse(df_full$Section.Y2 == 1 & df_full$Cohort < 6, 3., ifelse(df_full$Cohort < 6, 1., 2. ))\n",
    "str(df_full)\n",
    "\n",
    "df_trim <- df_full\n",
    "drops <- c(\"Score_1\",\"Score_2\",\"Score_3\")\n",
    "df_trim <- df_trim[ , !(names(df) %in% drops)]\n",
    "\n",
    "str(df_trim)\n",
    "\n",
    "summary(df_trim)"
   ]
  },
  {
   "cell_type": "code",
   "execution_count": 9,
   "id": "9cd6382b",
   "metadata": {},
   "outputs": [
    {
     "name": "stdout",
     "output_type": "stream",
     "text": [
      "List of 8\n",
      " $ N    : num 1289\n",
      " $ K    : num 3\n",
      " $ A_1  : num [1:1289] 3 3 3 3 3 3 1 3 3 3 ...\n",
      " $ A_2  : num [1:1289] 3 3 3 3 3 3 1 3 3 3 ...\n",
      " $ S_1  : num [1:1289] 1 1 1 1 1 1 2 1 1 1 ...\n",
      " $ S_2  : num [1:1289] 1 1 1 1 1 1 2 1 1 1 ...\n",
      " $ E    : num [1:1289, 1:3] 2.01 2.12 1.61 1.15 1.72 ...\n",
      " $ alpha: num [1:2] 2 2\n"
     ]
    }
   ],
   "source": [
    "dat_1 <- list(\n",
    "  N = 1289,\n",
    "  K = 3,\n",
    "  A_1 = df_trim$Stream_level.Y1,\n",
    "  A_2 = df_trim$Stream_level.Y2,  \n",
    "  S_1 = df_trim$Section.Y1,\n",
    "  S_2 = df_trim$Section.Y2,\n",
    "  E = matrix(c(df_trim$Score_1_std, df_trim$Score_2_std, df_trim$Score_3_std), ncol = 3),\n",
    "  alpha = rep( 2 , 2 ))\n",
    "\n",
    "str(dat_1)"
   ]
  },
  {
   "cell_type": "code",
   "execution_count": 10,
   "id": "3dde6c23",
   "metadata": {},
   "outputs": [],
   "source": [
    "code_1 <- 'data{\n",
    "    int<lower=1> K;\n",
    "    int<lower=0> N;\n",
    "    int S_1[N];\n",
    "    int S_2[N];\n",
    "    int A_1[N];\n",
    "    int A_2[N];\n",
    "    array[N] vector[K] E;\n",
    "    vector[2] alpha;\n",
    "}\n",
    "parameters{\n",
    "    corr_matrix[K] Omega;     \n",
    "    vector<lower=0>[K] tau;\n",
    "    real bA;\n",
    "    real bS;\n",
    "    real a_1;\n",
    "    real a_2;\n",
    "    real a_3;\n",
    "    simplex[2] deltaA;\n",
    "    simplex[2] deltaS;\n",
    "}\n",
    "\n",
    "transformed parameters{\n",
    "    vector[3] deltaA_j;\n",
    "    vector[3] deltaS_j;\n",
    "    deltaS_j = append_row(0, deltaS);\n",
    "    deltaA_j = append_row(0, deltaA);\n",
    "}\n",
    "\n",
    "model{\n",
    "    tau ~ lognormal( 0, 0.25 );\n",
    "    Omega ~ lkj_corr(2);\n",
    "    array[N] vector[K] phi;\n",
    "    deltaS ~ dirichlet( alpha );\n",
    "    deltaA ~ dirichlet( alpha );\n",
    "    a_1 ~ normal( 0 , 1 );\n",
    "    a_2 ~ normal( 0 , 1 );\n",
    "    a_3 ~ normal( 0 , 1 );\n",
    "    bA ~ normal( 0 , 1 );\n",
    "    bS ~ normal( 0 , 1 );\n",
    "\n",
    "    for ( i in 1:N ) {\n",
    "        phi[i][1] = a_1 + bA*sum(deltaA_j[1:A_1[i]]) + bS*sum(deltaS_j[1:S_1[i]]);\n",
    "        phi[i][2] = a_2 + bA*sum(deltaA_j[1:A_1[i]]) + bS*sum(deltaS_j[1:S_1[i]]);\n",
    "        phi[i][3] = a_3 + bA*sum(deltaA_j[1:A_2[i]]) + bS*sum(deltaS_j[1:S_2[i]]);\n",
    "    }\n",
    "    E ~ multi_normal(phi, quad_form_diag(Omega, tau));\n",
    "}\n",
    "\n",
    "generated quantities{\n",
    "    vector[N] log_lik; \n",
    "    array[N] vector[K] phi;\n",
    "    for ( i in 1:N ) {\n",
    "        phi[i][1] = a_1 + bA*sum(deltaA_j[1:A_1[i]]) + bS*sum(deltaS_j[1:S_1[i]]);\n",
    "        phi[i][2] = a_2 + bA*sum(deltaA_j[1:A_1[i]]) + bS*sum(deltaS_j[1:S_1[i]]);\n",
    "        phi[i][3] = a_3 + bA*sum(deltaA_j[1:A_2[i]]) + bS*sum(deltaS_j[1:S_2[i]]);\n",
    "        log_lik[i] = multi_normal_lpdf(E[i] | phi[i] , quad_form_diag(Omega, tau) );\n",
    "    }\n",
    "}\n",
    "'\n",
    "\n"
   ]
  },
  {
   "cell_type": "code",
   "execution_count": 11,
   "id": "996f6d92",
   "metadata": {},
   "outputs": [],
   "source": [
    "model_1 <- stan( model_code = code_1 , data = dat_1 , chains=4, cores = 4, iter = num_iters )"
   ]
  },
  {
   "cell_type": "code",
   "execution_count": 12,
   "id": "4012c599",
   "metadata": {},
   "outputs": [
    {
     "data": {
      "text/html": [
       "<table class=\"dataframe\">\n",
       "<caption>A matrix: 9 × 7 of type dbl</caption>\n",
       "<thead>\n",
       "\t<tr><th></th><th scope=col>mean</th><th scope=col>se_mean</th><th scope=col>sd</th><th scope=col>2.5%</th><th scope=col>97.5%</th><th scope=col>n_eff</th><th scope=col>Rhat</th></tr>\n",
       "</thead>\n",
       "<tbody>\n",
       "\t<tr><th scope=row>a_1</th><td>-0.2101693</td><td>0.0009601557</td><td>0.07061449</td><td>-0.34419680</td><td>-0.06945545</td><td> 5408.841</td><td>1.001815</td></tr>\n",
       "\t<tr><th scope=row>a_2</th><td>-0.2103946</td><td>0.0009614024</td><td>0.07057149</td><td>-0.34468166</td><td>-0.07004957</td><td> 5388.256</td><td>1.001727</td></tr>\n",
       "\t<tr><th scope=row>a_3</th><td>-0.2136903</td><td>0.0009658700</td><td>0.07088213</td><td>-0.34732484</td><td>-0.07111323</td><td> 5385.625</td><td>1.001810</td></tr>\n",
       "\t<tr><th scope=row>bA</th><td> 0.7888202</td><td>0.0010524132</td><td>0.08776745</td><td> 0.61575058</td><td> 0.95897974</td><td> 6954.955</td><td>1.000922</td></tr>\n",
       "\t<tr><th scope=row>bS</th><td>-0.1039330</td><td>0.0008340643</td><td>0.07024821</td><td>-0.24168425</td><td> 0.03148059</td><td> 7093.677</td><td>1.001137</td></tr>\n",
       "\t<tr><th scope=row>deltaS[1]</th><td> 0.5878666</td><td>0.0017065250</td><td>0.20313802</td><td> 0.15826743</td><td> 0.92226673</td><td>14169.585</td><td>1.000140</td></tr>\n",
       "\t<tr><th scope=row>deltaS[2]</th><td> 0.4121334</td><td>0.0017065250</td><td>0.20313802</td><td> 0.07773327</td><td> 0.84173257</td><td>14169.585</td><td>1.000140</td></tr>\n",
       "\t<tr><th scope=row>deltaA[1]</th><td> 0.3374546</td><td>0.0005207963</td><td>0.05993725</td><td> 0.22010733</td><td> 0.45436907</td><td>13245.178</td><td>1.000569</td></tr>\n",
       "\t<tr><th scope=row>deltaA[2]</th><td> 0.6625454</td><td>0.0005207963</td><td>0.05993725</td><td> 0.54563093</td><td> 0.77989267</td><td>13245.178</td><td>1.000569</td></tr>\n",
       "</tbody>\n",
       "</table>\n"
      ],
      "text/latex": [
       "A matrix: 9 × 7 of type dbl\n",
       "\\begin{tabular}{r|lllllll}\n",
       "  & mean & se\\_mean & sd & 2.5\\% & 97.5\\% & n\\_eff & Rhat\\\\\n",
       "\\hline\n",
       "\ta\\_1 & -0.2101693 & 0.0009601557 & 0.07061449 & -0.34419680 & -0.06945545 &  5408.841 & 1.001815\\\\\n",
       "\ta\\_2 & -0.2103946 & 0.0009614024 & 0.07057149 & -0.34468166 & -0.07004957 &  5388.256 & 1.001727\\\\\n",
       "\ta\\_3 & -0.2136903 & 0.0009658700 & 0.07088213 & -0.34732484 & -0.07111323 &  5385.625 & 1.001810\\\\\n",
       "\tbA &  0.7888202 & 0.0010524132 & 0.08776745 &  0.61575058 &  0.95897974 &  6954.955 & 1.000922\\\\\n",
       "\tbS & -0.1039330 & 0.0008340643 & 0.07024821 & -0.24168425 &  0.03148059 &  7093.677 & 1.001137\\\\\n",
       "\tdeltaS{[}1{]} &  0.5878666 & 0.0017065250 & 0.20313802 &  0.15826743 &  0.92226673 & 14169.585 & 1.000140\\\\\n",
       "\tdeltaS{[}2{]} &  0.4121334 & 0.0017065250 & 0.20313802 &  0.07773327 &  0.84173257 & 14169.585 & 1.000140\\\\\n",
       "\tdeltaA{[}1{]} &  0.3374546 & 0.0005207963 & 0.05993725 &  0.22010733 &  0.45436907 & 13245.178 & 1.000569\\\\\n",
       "\tdeltaA{[}2{]} &  0.6625454 & 0.0005207963 & 0.05993725 &  0.54563093 &  0.77989267 & 13245.178 & 1.000569\\\\\n",
       "\\end{tabular}\n"
      ],
      "text/markdown": [
       "\n",
       "A matrix: 9 × 7 of type dbl\n",
       "\n",
       "| <!--/--> | mean | se_mean | sd | 2.5% | 97.5% | n_eff | Rhat |\n",
       "|---|---|---|---|---|---|---|---|\n",
       "| a_1 | -0.2101693 | 0.0009601557 | 0.07061449 | -0.34419680 | -0.06945545 |  5408.841 | 1.001815 |\n",
       "| a_2 | -0.2103946 | 0.0009614024 | 0.07057149 | -0.34468166 | -0.07004957 |  5388.256 | 1.001727 |\n",
       "| a_3 | -0.2136903 | 0.0009658700 | 0.07088213 | -0.34732484 | -0.07111323 |  5385.625 | 1.001810 |\n",
       "| bA |  0.7888202 | 0.0010524132 | 0.08776745 |  0.61575058 |  0.95897974 |  6954.955 | 1.000922 |\n",
       "| bS | -0.1039330 | 0.0008340643 | 0.07024821 | -0.24168425 |  0.03148059 |  7093.677 | 1.001137 |\n",
       "| deltaS[1] |  0.5878666 | 0.0017065250 | 0.20313802 |  0.15826743 |  0.92226673 | 14169.585 | 1.000140 |\n",
       "| deltaS[2] |  0.4121334 | 0.0017065250 | 0.20313802 |  0.07773327 |  0.84173257 | 14169.585 | 1.000140 |\n",
       "| deltaA[1] |  0.3374546 | 0.0005207963 | 0.05993725 |  0.22010733 |  0.45436907 | 13245.178 | 1.000569 |\n",
       "| deltaA[2] |  0.6625454 | 0.0005207963 | 0.05993725 |  0.54563093 |  0.77989267 | 13245.178 | 1.000569 |\n",
       "\n"
      ],
      "text/plain": [
       "          mean       se_mean      sd         2.5%        97.5%       n_eff    \n",
       "a_1       -0.2101693 0.0009601557 0.07061449 -0.34419680 -0.06945545  5408.841\n",
       "a_2       -0.2103946 0.0009614024 0.07057149 -0.34468166 -0.07004957  5388.256\n",
       "a_3       -0.2136903 0.0009658700 0.07088213 -0.34732484 -0.07111323  5385.625\n",
       "bA         0.7888202 0.0010524132 0.08776745  0.61575058  0.95897974  6954.955\n",
       "bS        -0.1039330 0.0008340643 0.07024821 -0.24168425  0.03148059  7093.677\n",
       "deltaS[1]  0.5878666 0.0017065250 0.20313802  0.15826743  0.92226673 14169.585\n",
       "deltaS[2]  0.4121334 0.0017065250 0.20313802  0.07773327  0.84173257 14169.585\n",
       "deltaA[1]  0.3374546 0.0005207963 0.05993725  0.22010733  0.45436907 13245.178\n",
       "deltaA[2]  0.6625454 0.0005207963 0.05993725  0.54563093  0.77989267 13245.178\n",
       "          Rhat    \n",
       "a_1       1.001815\n",
       "a_2       1.001727\n",
       "a_3       1.001810\n",
       "bA        1.000922\n",
       "bS        1.001137\n",
       "deltaS[1] 1.000140\n",
       "deltaS[2] 1.000140\n",
       "deltaA[1] 1.000569\n",
       "deltaA[2] 1.000569"
      ]
     },
     "metadata": {},
     "output_type": "display_data"
    }
   ],
   "source": [
    "pars = c('a_1', 'a_2', 'a_3', 'bA', 'bS', 'deltaS', 'deltaA')\n",
    "results_2 <- summary(model_1, pars = pars, probs = c(0.025, 0.975))$summary\n",
    "results_2"
   ]
  },
  {
   "cell_type": "code",
   "execution_count": 13,
   "id": "d59747f1",
   "metadata": {},
   "outputs": [
    {
     "name": "stderr",
     "output_type": "stream",
     "text": [
      "Warning message:\n",
      "\"\u001b[1m\u001b[22mThe dot-dot notation (`..density..`) was deprecated in ggplot2 3.4.0.\n",
      "\u001b[36mℹ\u001b[39m Please use `after_stat(density)` instead.\n",
      "\u001b[36mℹ\u001b[39m The deprecated feature was likely used in the \u001b[34mrstan\u001b[39m package.\n",
      "  Please report the issue at \u001b[3m\u001b[34m<https://github.com/stan-dev/rstan/issues/>\u001b[39m\u001b[23m.\"\n",
      "\u001b[1m\u001b[22m`stat_bin()` using `bins = 30`. Pick better value with `binwidth`.\n"
     ]
    },
    {
     "data": {
      "image/png": "[encoded data removed]",
      "text/plain": [
       "plot without title"
      ]
     },
     "metadata": {
      "image/png": {
       "height": 420,
       "width": 420
      }
     },
     "output_type": "display_data"
    }
   ],
   "source": [
    "stan_hist(model_1, pars = pars)"
   ]
  },
  {
   "cell_type": "code",
   "execution_count": 14,
   "id": "c3935806",
   "metadata": {},
   "outputs": [
    {
     "data": {
      "image/png": "[encoded data removed]",
      "text/plain": [
       "plot without title"
      ]
     },
     "metadata": {
      "image/png": {
       "height": 420,
       "width": 420
      }
     },
     "output_type": "display_data"
    }
   ],
   "source": [
    "stan_trace(model_1, pars = pars)"
   ]
  },
  {
   "cell_type": "code",
   "execution_count": 15,
   "id": "2e5b2f13",
   "metadata": {},
   "outputs": [
    {
     "data": {
      "text/html": [
       "'Proportion less than -0.1 : 0.52095'"
      ],
      "text/latex": [
       "'Proportion less than -0.1 : 0.52095'"
      ],
      "text/markdown": [
       "'Proportion less than -0.1 : 0.52095'"
      ],
      "text/plain": [
       "[1] \"Proportion less than -0.1 : 0.52095\""
      ]
     },
     "metadata": {},
     "output_type": "display_data"
    },
    {
     "data": {
      "text/html": [
       "'Proportion less than -0.05 : 0.77735'"
      ],
      "text/latex": [
       "'Proportion less than -0.05 : 0.77735'"
      ],
      "text/markdown": [
       "'Proportion less than -0.05 : 0.77735'"
      ],
      "text/plain": [
       "[1] \"Proportion less than -0.05 : 0.77735\""
      ]
     },
     "metadata": {},
     "output_type": "display_data"
    },
    {
     "data": {
      "text/html": [
       "'Proportion less than -0.01 : 0.90905'"
      ],
      "text/latex": [
       "'Proportion less than -0.01 : 0.90905'"
      ],
      "text/markdown": [
       "'Proportion less than -0.01 : 0.90905'"
      ],
      "text/plain": [
       "[1] \"Proportion less than -0.01 : 0.90905\""
      ]
     },
     "metadata": {},
     "output_type": "display_data"
    },
    {
     "data": {
      "text/html": [
       "'Proportion less than 0 : 0.92925'"
      ],
      "text/latex": [
       "'Proportion less than 0 : 0.92925'"
      ],
      "text/markdown": [
       "'Proportion less than 0 : 0.92925'"
      ],
      "text/plain": [
       "[1] \"Proportion less than 0 : 0.92925\""
      ]
     },
     "metadata": {},
     "output_type": "display_data"
    }
   ],
   "source": [
    "prop_below(model_1,-0.1)\n",
    "\n",
    "prop_below(model_1, -0.05)\n",
    "\n",
    "prop_below(model_1, -0.01)\n",
    "\n",
    "prop_below(model_1, 0)"
   ]
  },
  {
   "cell_type": "code",
   "execution_count": 16,
   "id": "dff3aa4c",
   "metadata": {},
   "outputs": [
    {
     "data": {
      "text/plain": [
       "\n",
       "Computed from 20000 by 1289 log-likelihood matrix\n",
       "\n",
       "         Estimate   SE\n",
       "elpd_loo  -4169.0 43.5\n",
       "p_loo        12.3  0.5\n",
       "looic      8338.1 87.0\n",
       "------\n",
       "Monte Carlo SE of elpd_loo is 0.0.\n",
       "\n",
       "All Pareto k estimates are good (k < 0.5).\n",
       "See help('pareto-k-diagnostic') for details."
      ]
     },
     "metadata": {},
     "output_type": "display_data"
    }
   ],
   "source": [
    "loo_1 <- loo(model_1)\n",
    "loo_1"
   ]
  },
  {
   "cell_type": "markdown",
   "id": "24a457b3",
   "metadata": {},
   "source": [
    "This model is reasonably confident of a small effect of section numbering on exam results, with over 90% of the probability mass of the estimate of $\\beta_S$ being below $-0.01$. There is quite a lot of uncertainty about the $\\delta^S$ values, though on balance the model thinks the transition from section 1 to section 2 is a little more significant than the transition from section 2 to section 3. "
   ]
  },
  {
   "cell_type": "markdown",
   "id": "ba422393",
   "metadata": {},
   "source": [
    "## 4. Imputation of missing exam results<a id='imp'></a>\n",
    "Now we'll fit a model where missing exam results are imputed. This imputation treats missing exam results as a parameter produces the model's best estimate on the basis of the known values of section, academic selection level and whatever other exam results are known (as exam results are modeled as correlated)."
   ]
  },
  {
   "cell_type": "code",
   "execution_count": 17,
   "id": "8e25a251",
   "metadata": {},
   "outputs": [
    {
     "name": "stdout",
     "output_type": "stream",
     "text": [
      "'data.frame':\t1674 obs. of  6 variables:\n",
      " $ Cohort    : num  1 1 1 1 1 1 1 1 1 1 ...\n",
      " $ Section.Y1: num  1 2 1 1 1 1 1 1 1 2 ...\n",
      " $ Section.Y2: num  1 2 1 1 1 1 1 1 1 2 ...\n",
      " $ Score_1   : num  NA NA NA NA NA NA NA NA NA NA ...\n",
      " $ Score_2   : num  NA NA NA NA NA NA NA NA NA NA ...\n",
      " $ Score_3   : num  97.8 95.6 95.6 94.4 93.3 ...\n"
     ]
    },
    {
     "data": {
      "text/plain": [
       "     Cohort        Section.Y1      Section.Y2       Score_1     \n",
       " Min.   :1.000   Min.   :1.000   Min.   :1.000   Min.   : 0.00  \n",
       " 1st Qu.:2.000   1st Qu.:1.000   1st Qu.:1.000   1st Qu.:30.50  \n",
       " Median :4.000   Median :2.000   Median :2.000   Median :44.29  \n",
       " Mean   :4.782   Mean   :1.982   Mean   :1.977   Mean   :45.84  \n",
       " 3rd Qu.:7.000   3rd Qu.:3.000   3rd Qu.:3.000   3rd Qu.:59.62  \n",
       " Max.   :9.000   Max.   :3.000   Max.   :3.000   Max.   :97.00  \n",
       "                                                 NA's   :282    \n",
       "    Score_2         Score_3     \n",
       " Min.   : 0.00   Min.   : 0.00  \n",
       " 1st Qu.:31.70   1st Qu.:31.70  \n",
       " Median :46.50   Median :49.29  \n",
       " Mean   :47.86   Mean   :48.82  \n",
       " 3rd Qu.:64.00   3rd Qu.:66.00  \n",
       " Max.   :99.00   Max.   :97.78  \n",
       " NA's   :317     NA's   :103    "
      ]
     },
     "metadata": {},
     "output_type": "display_data"
    }
   ],
   "source": [
    "df_m <- df_base\n",
    "\n",
    "drops <- c(\"Midterm.Y1\",\"Final.Y1\",\"Exam.Y2\",\"Teacher.Midterm.Y1\",\"Teacher.Final.Y1\")\n",
    "df_m <- df_m[ , !(names(df_m) %in% drops)]\n",
    "str(df_m)\n",
    "\n",
    "summary(df_m)"
   ]
  },
  {
   "cell_type": "markdown",
   "id": "2acd62f6",
   "metadata": {},
   "source": [
    "Again we standardize scores, but here we do this on the basis of known results only."
   ]
  },
  {
   "cell_type": "code",
   "execution_count": 18,
   "id": "6beb1eed",
   "metadata": {},
   "outputs": [
    {
     "data": {
      "text/plain": [
       "     Cohort        Section.Y1      Section.Y2       Score_1     \n",
       " Min.   :1.000   Min.   :1.000   Min.   :1.000   Min.   : 0.00  \n",
       " 1st Qu.:2.000   1st Qu.:1.000   1st Qu.:1.000   1st Qu.:30.50  \n",
       " Median :4.000   Median :2.000   Median :2.000   Median :44.29  \n",
       " Mean   :4.782   Mean   :1.982   Mean   :1.977   Mean   :45.84  \n",
       " 3rd Qu.:7.000   3rd Qu.:3.000   3rd Qu.:3.000   3rd Qu.:59.62  \n",
       " Max.   :9.000   Max.   :3.000   Max.   :3.000   Max.   :97.00  \n",
       "                                                 NA's   :282    \n",
       "    Score_2         Score_3       Score_1_std       Score_2_std     \n",
       " Min.   : 0.00   Min.   : 0.00   Min.   :-2.5937   Min.   :-2.8137  \n",
       " 1st Qu.:31.70   1st Qu.:31.70   1st Qu.:-0.7500   1st Qu.:-0.7694  \n",
       " Median :46.50   Median :49.29   Median :-0.1149   Median :-0.0729  \n",
       " Mean   :47.86   Mean   :48.82   Mean   : 0.0000   Mean   : 0.0000  \n",
       " 3rd Qu.:64.00   3rd Qu.:66.00   3rd Qu.: 0.6951   3rd Qu.: 0.8082  \n",
       " Max.   :99.00   Max.   :97.78   Max.   : 2.8511   Max.   : 3.0172  \n",
       " NA's   :317     NA's   :103     NA's   :282       NA's   :317      \n",
       "  Score_3_std      \n",
       " Min.   :-3.06554  \n",
       " 1st Qu.:-0.71875  \n",
       " Median :-0.01092  \n",
       " Mean   : 0.00000  \n",
       " 3rd Qu.: 0.75391  \n",
       " Max.   : 2.61134  \n",
       " NA's   :103       "
      ]
     },
     "metadata": {},
     "output_type": "display_data"
    }
   ],
   "source": [
    "for (y in 1 : 9){\n",
    "  index <- df_m$Cohort == y\n",
    "    \n",
    "  m <- mean(df_m$Score_1[index], na.rm = TRUE)\n",
    "  s <- sd(df_m$Score_1[index], na.rm = TRUE)\n",
    "  df_m$Score_1_std[index] <- ( df_m$Score_1[index] - m )/s\n",
    "    \n",
    "  m <- mean(df_m$Score_2[index], na.rm = TRUE)\n",
    "  s <- sd(df_m$Score_2[index], na.rm = TRUE)\n",
    "  df_m$Score_2_std[index] <- ( df_m$Score_2[index] - m )/s\n",
    "    \n",
    "  m <- mean(df_m$Score_3[index], na.rm = TRUE)\n",
    "  s <- sd(df_m$Score_3[index], na.rm = TRUE)\n",
    "  df_m$Score_3_std[index] <- ( df_m$Score_3[index] - m )/s  \n",
    "    }\n",
    "\n",
    "summary(df_m)"
   ]
  },
  {
   "cell_type": "code",
   "execution_count": 19,
   "id": "ecd780ad",
   "metadata": {},
   "outputs": [
    {
     "name": "stdout",
     "output_type": "stream",
     "text": [
      "'data.frame':\t1674 obs. of  8 variables:\n",
      " $ Cohort         : num  1 1 1 1 1 1 1 1 1 1 ...\n",
      " $ Section.Y1     : num  1 2 1 1 1 1 1 1 1 2 ...\n",
      " $ Section.Y2     : num  1 2 1 1 1 1 1 1 1 2 ...\n",
      " $ Score_1_std    : num  NA NA NA NA NA NA NA NA NA NA ...\n",
      " $ Score_2_std    : num  NA NA NA NA NA NA NA NA NA NA ...\n",
      " $ Score_3_std    : num  2.07 1.96 1.96 1.91 1.86 ...\n",
      " $ Stream_level.Y1: num  3 1 3 3 3 3 3 3 3 1 ...\n",
      " $ Stream_level.Y2: num  3 1 3 3 3 3 3 3 3 1 ...\n"
     ]
    },
    {
     "data": {
      "text/plain": [
       "     Cohort        Section.Y1      Section.Y2     Score_1_std     \n",
       " Min.   :1.000   Min.   :1.000   Min.   :1.000   Min.   :-2.5937  \n",
       " 1st Qu.:2.000   1st Qu.:1.000   1st Qu.:1.000   1st Qu.:-0.7500  \n",
       " Median :4.000   Median :2.000   Median :2.000   Median :-0.1149  \n",
       " Mean   :4.782   Mean   :1.982   Mean   :1.977   Mean   : 0.0000  \n",
       " 3rd Qu.:7.000   3rd Qu.:3.000   3rd Qu.:3.000   3rd Qu.: 0.6951  \n",
       " Max.   :9.000   Max.   :3.000   Max.   :3.000   Max.   : 2.8511  \n",
       "                                                 NA's   :282      \n",
       "  Score_2_std       Score_3_std       Stream_level.Y1 Stream_level.Y2\n",
       " Min.   :-2.8137   Min.   :-3.06554   Min.   :1.000   Min.   :1.000  \n",
       " 1st Qu.:-0.7694   1st Qu.:-0.71875   1st Qu.:1.000   1st Qu.:1.000  \n",
       " Median :-0.0729   Median :-0.01092   Median :2.000   Median :2.000  \n",
       " Mean   : 0.0000   Mean   : 0.00000   Mean   :1.787   Mean   :1.793  \n",
       " 3rd Qu.: 0.8082   3rd Qu.: 0.75391   3rd Qu.:2.000   3rd Qu.:2.000  \n",
       " Max.   : 3.0172   Max.   : 2.61134   Max.   :3.000   Max.   :3.000  \n",
       " NA's   :317       NA's   :103                                       "
      ]
     },
     "metadata": {},
     "output_type": "display_data"
    }
   ],
   "source": [
    "df_m$Stream_level.Y1 <- ifelse(df_m$Section.Y1 == 1 & df_m$Cohort < 6, 3., ifelse(df_m$Cohort < 6, 1., 2. ))\n",
    "df_m$Stream_level.Y2 <- ifelse(df_m$Section.Y2 == 1 & df_m$Cohort < 6, 3., ifelse(df_m$Cohort < 6, 1., 2. ))\n",
    "\n",
    "drops <- c(\"Score_1\",\"Score_2\",\"Score_3\")\n",
    "df_m <- df_m[ , !(names(df_m) %in% drops)]\n",
    "\n",
    "str(df_m)\n",
    "\n",
    "summary(df_m)"
   ]
  },
  {
   "cell_type": "markdown",
   "id": "f4a89f96",
   "metadata": {},
   "source": [
    "### The second model"
   ]
  },
  {
   "cell_type": "code",
   "execution_count": 20,
   "id": "df62f5c6",
   "metadata": {},
   "outputs": [
    {
     "name": "stdout",
     "output_type": "stream",
     "text": [
      "List of 10\n",
      " $ N        : num 1674\n",
      " $ K        : num 3\n",
      " $ A_1      : num [1:1674] 3 1 3 3 3 3 3 3 3 1 ...\n",
      " $ A_2      : num [1:1674] 3 1 3 3 3 3 3 3 3 1 ...\n",
      " $ S_1      : num [1:1674] 1 2 1 1 1 1 1 1 1 2 ...\n",
      " $ S_2      : num [1:1674] 1 2 1 1 1 1 1 1 1 2 ...\n",
      " $ E        : num [1:1674, 1:3] 0 0 0 0 0 0 0 0 0 0 ...\n",
      " $ E_missidx: int [1:702] 1 2 3 4 5 6 7 8 9 10 ...\n",
      " $ N_missing: int 702\n",
      " $ alpha    : num [1:2] 2 2\n"
     ]
    }
   ],
   "source": [
    "exam_matrix = matrix(c(df_m$Score_1_std, df_m$Score_2_std, df_m$Score_3_std), ncol = 3)\n",
    "exam_matrix_zero = exam_matrix\n",
    "exam_matrix_zero[is.na(exam_matrix)] <- 0\n",
    "dat_2 <- list(\n",
    "  N = 1674,\n",
    "  K = 3,\n",
    "  A_1 = df_m$Stream_level.Y1,\n",
    "  A_2 = df_m$Stream_level.Y2,  \n",
    "  S_1 = df_m$Section.Y1,\n",
    "  S_2 = df_m$Section.Y2,\n",
    "  E = exam_matrix_zero,\n",
    "  E_missidx = which(is.na(exam_matrix)),\n",
    "  N_missing = length(which(is.na(exam_matrix))),\n",
    "  alpha = rep( 2 , 2 ))\n",
    "\n",
    "str(dat_2)"
   ]
  },
  {
   "cell_type": "code",
   "execution_count": 21,
   "id": "a25ca745",
   "metadata": {},
   "outputs": [],
   "source": [
    "code_2 <- '\n",
    "data{\n",
    "    int<lower=1> K;\n",
    "    int<lower=0> N;\n",
    "    int<lower=0> N_missing;\n",
    "    int S_1[N];\n",
    "    int S_2[N];\n",
    "    int A_1[N];\n",
    "    int A_2[N];\n",
    "    int E_missidx[N_missing];\n",
    "    matrix[N,K] E;\n",
    "    vector[2] alpha;\n",
    "}\n",
    "parameters{\n",
    "    corr_matrix[K] Omega;     \n",
    "    vector<lower=0>[K] tau;\n",
    "    real bA;\n",
    "    real bS;\n",
    "    real a_1;\n",
    "    real a_2;\n",
    "    real a_3;\n",
    "    simplex[2] deltaA;\n",
    "    simplex[2] deltaS;\n",
    "    vector[N_missing] E_impute;\n",
    "}\n",
    "\n",
    "transformed parameters{\n",
    "    vector[3] deltaA_j;\n",
    "    vector[3] deltaS_j;\n",
    "    deltaS_j = append_row(0, deltaS);\n",
    "    deltaA_j = append_row(0, deltaA);\n",
    "}\n",
    "\n",
    "model{\n",
    "    array[N] vector[K] E_merge;\n",
    "    vector[3*N] E_vec;\n",
    "    vector[K] temp_vec;\n",
    "    E_vec = to_vector(E);\n",
    "    tau ~ lognormal( 0, 0.25 );\n",
    "    Omega ~ lkj_corr(2);\n",
    "    array[N] vector[K] phi;\n",
    "    deltaS ~ dirichlet( alpha );\n",
    "    deltaA ~ dirichlet( alpha );\n",
    "    a_1 ~ normal( 0 , 1 );\n",
    "    a_2 ~ normal( 0 , 1 );\n",
    "    a_3 ~ normal( 0 , 1 );\n",
    "    bA ~ normal( 0 , 1 );\n",
    "    bS ~ normal( 0 , 1 );\n",
    "    for ( i in 1:N_missing )\n",
    "        E_vec[ E_missidx[i] ] = E_impute[i];\n",
    "    for ( i in 1:N ) {\n",
    "        for (j in 1:K) {\n",
    "            temp_vec[j] = E_vec[(j-1)*N + i];\n",
    "        }\n",
    "        E_merge[i] = temp_vec; \n",
    "        phi[i][1] = a_1 + bA*sum(deltaA_j[1:A_1[i]]) + bS*sum(deltaS_j[1:S_1[i]]);\n",
    "        phi[i][2] = a_2 + bA*sum(deltaA_j[1:A_1[i]]) + bS*sum(deltaS_j[1:S_1[i]]);\n",
    "        phi[i][3] = a_3 + bA*sum(deltaA_j[1:A_2[i]]) + bS*sum(deltaS_j[1:S_2[i]]);\n",
    "    }\n",
    "    E_merge ~ multi_normal(phi, quad_form_diag(Omega, tau));\n",
    "}\n",
    "\n",
    "generated quantities{\n",
    "    array[N] vector[K] E_merge;\n",
    "    vector[3*N] E_vec;\n",
    "    vector[K] temp_vec;\n",
    "    E_vec = to_vector(E);\n",
    "    vector[N] log_lik; \n",
    "    array[N] vector[K] phi;\n",
    "    for ( i in 1:N_missing )\n",
    "        E_vec[ E_missidx[i] ] = E_impute[i];\n",
    "    for ( i in 1:N ) {\n",
    "        for (j in 1:K) {\n",
    "            temp_vec[j] = E_vec[(j-1)*N + i];\n",
    "        }\n",
    "        E_merge[i] = temp_vec; \n",
    "        phi[i][1] = a_1 + bA*sum(deltaA_j[1:A_1[i]]) + bS*sum(deltaS_j[1:S_1[i]]);\n",
    "        phi[i][2] = a_2 + bA*sum(deltaA_j[1:A_1[i]]) + bS*sum(deltaS_j[1:S_1[i]]);\n",
    "        phi[i][3] = a_3 + bA*sum(deltaA_j[1:A_2[i]]) + bS*sum(deltaS_j[1:S_2[i]]);\n",
    "        log_lik[i] = multi_normal_lpdf(E_merge[i] | phi[i] , quad_form_diag(Omega, tau) );\n",
    "    }\n",
    "}\n",
    "\n",
    "'"
   ]
  },
  {
   "cell_type": "code",
   "execution_count": 22,
   "id": "17e6de89",
   "metadata": {},
   "outputs": [],
   "source": [
    "model_2 <- stan( model_code = code_2 , data = dat_2 , chains=4, cores = 4, iter = num_iters )"
   ]
  },
  {
   "cell_type": "code",
   "execution_count": 23,
   "id": "706cff9d",
   "metadata": {},
   "outputs": [
    {
     "data": {
      "text/html": [
       "<table class=\"dataframe\">\n",
       "<caption>A matrix: 21 × 7 of type dbl</caption>\n",
       "<thead>\n",
       "\t<tr><th></th><th scope=col>mean</th><th scope=col>se_mean</th><th scope=col>sd</th><th scope=col>2.5%</th><th scope=col>97.5%</th><th scope=col>n_eff</th><th scope=col>Rhat</th></tr>\n",
       "</thead>\n",
       "<tbody>\n",
       "\t<tr><th scope=row>tau[1]</th><td> 0.9335513</td><td>1.337021e-04</td><td>1.732846e-02</td><td> 0.90047467</td><td> 0.96786687</td><td>16797.44472</td><td>0.9998374</td></tr>\n",
       "\t<tr><th scope=row>tau[2]</th><td> 0.9579882</td><td>1.379990e-04</td><td>1.796740e-02</td><td> 0.92359168</td><td> 0.99378217</td><td>16951.90269</td><td>0.9998807</td></tr>\n",
       "\t<tr><th scope=row>tau[3]</th><td> 0.9600161</td><td>1.182463e-04</td><td>1.721816e-02</td><td> 0.92710544</td><td> 0.99502996</td><td>21203.06205</td><td>0.9999525</td></tr>\n",
       "\t<tr><th scope=row>Omega[1,1]</th><td> 1.0000000</td><td>         NaN</td><td>0.000000e+00</td><td> 1.00000000</td><td> 1.00000000</td><td>        NaN</td><td>      NaN</td></tr>\n",
       "\t<tr><th scope=row>Omega[1,2]</th><td> 0.7839867</td><td>8.523173e-05</td><td>1.034004e-02</td><td> 0.76312801</td><td> 0.80360506</td><td>14717.76050</td><td>1.0000051</td></tr>\n",
       "\t<tr><th scope=row>Omega[1,3]</th><td> 0.7105894</td><td>1.001451e-04</td><td>1.335642e-02</td><td> 0.68361904</td><td> 0.73611615</td><td>17787.74709</td><td>0.9999469</td></tr>\n",
       "\t<tr><th scope=row>Omega[2,1]</th><td> 0.7839867</td><td>8.523173e-05</td><td>1.034004e-02</td><td> 0.76312801</td><td> 0.80360506</td><td>14717.76050</td><td>1.0000051</td></tr>\n",
       "\t<tr><th scope=row>Omega[2,2]</th><td> 1.0000000</td><td>         NaN</td><td>0.000000e+00</td><td> 1.00000000</td><td> 1.00000000</td><td>        NaN</td><td>      NaN</td></tr>\n",
       "\t<tr><th scope=row>Omega[2,3]</th><td> 0.7140181</td><td>9.816468e-05</td><td>1.344613e-02</td><td> 0.68637155</td><td> 0.73932716</td><td>18762.22158</td><td>0.9999262</td></tr>\n",
       "\t<tr><th scope=row>Omega[3,1]</th><td> 0.7105894</td><td>1.001451e-04</td><td>1.335642e-02</td><td> 0.68361904</td><td> 0.73611615</td><td>17787.74709</td><td>0.9999469</td></tr>\n",
       "\t<tr><th scope=row>Omega[3,2]</th><td> 0.7140181</td><td>9.816468e-05</td><td>1.344613e-02</td><td> 0.68637155</td><td> 0.73932716</td><td>18762.22158</td><td>0.9999262</td></tr>\n",
       "\t<tr><th scope=row>Omega[3,3]</th><td> 1.0000000</td><td>5.308071e-18</td><td>4.459008e-17</td><td> 1.00000000</td><td> 1.00000000</td><td>   70.56724</td><td>0.9998000</td></tr>\n",
       "\t<tr><th scope=row>a_1</th><td>-0.1858100</td><td>7.024611e-04</td><td>6.453430e-02</td><td>-0.30930102</td><td>-0.05785888</td><td> 8439.88697</td><td>1.0000468</td></tr>\n",
       "\t<tr><th scope=row>a_2</th><td>-0.2151290</td><td>7.038331e-04</td><td>6.482554e-02</td><td>-0.34035265</td><td>-0.08585336</td><td> 8483.06747</td><td>1.0000276</td></tr>\n",
       "\t<tr><th scope=row>a_3</th><td>-0.2029605</td><td>7.047426e-04</td><td>6.427717e-02</td><td>-0.32696779</td><td>-0.07436405</td><td> 8318.64225</td><td>1.0000446</td></tr>\n",
       "\t<tr><th scope=row>bA</th><td> 0.7676509</td><td>8.085270e-04</td><td>7.991053e-02</td><td> 0.61120302</td><td> 0.92228935</td><td> 9768.29958</td><td>0.9999851</td></tr>\n",
       "\t<tr><th scope=row>bS</th><td>-0.1503416</td><td>6.446819e-04</td><td>6.476806e-02</td><td>-0.27648804</td><td>-0.02209479</td><td>10093.24698</td><td>1.0000590</td></tr>\n",
       "\t<tr><th scope=row>deltaS[1]</th><td> 0.5627998</td><td>1.140911e-03</td><td>1.898885e-01</td><td> 0.16777430</td><td> 0.90054181</td><td>27700.91402</td><td>0.9998817</td></tr>\n",
       "\t<tr><th scope=row>deltaS[2]</th><td> 0.4372002</td><td>1.140911e-03</td><td>1.898885e-01</td><td> 0.09945819</td><td> 0.83222570</td><td>27700.91402</td><td>0.9998817</td></tr>\n",
       "\t<tr><th scope=row>deltaA[1]</th><td> 0.2827568</td><td>3.526816e-04</td><td>5.757874e-02</td><td> 0.16858375</td><td> 0.39486608</td><td>26653.76826</td><td>0.9998763</td></tr>\n",
       "\t<tr><th scope=row>deltaA[2]</th><td> 0.7172432</td><td>3.526816e-04</td><td>5.757874e-02</td><td> 0.60513392</td><td> 0.83141625</td><td>26653.76826</td><td>0.9998763</td></tr>\n",
       "</tbody>\n",
       "</table>\n"
      ],
      "text/latex": [
       "A matrix: 21 × 7 of type dbl\n",
       "\\begin{tabular}{r|lllllll}\n",
       "  & mean & se\\_mean & sd & 2.5\\% & 97.5\\% & n\\_eff & Rhat\\\\\n",
       "\\hline\n",
       "\ttau{[}1{]} &  0.9335513 & 1.337021e-04 & 1.732846e-02 &  0.90047467 &  0.96786687 & 16797.44472 & 0.9998374\\\\\n",
       "\ttau{[}2{]} &  0.9579882 & 1.379990e-04 & 1.796740e-02 &  0.92359168 &  0.99378217 & 16951.90269 & 0.9998807\\\\\n",
       "\ttau{[}3{]} &  0.9600161 & 1.182463e-04 & 1.721816e-02 &  0.92710544 &  0.99502996 & 21203.06205 & 0.9999525\\\\\n",
       "\tOmega{[}1,1{]} &  1.0000000 &          NaN & 0.000000e+00 &  1.00000000 &  1.00000000 &         NaN &       NaN\\\\\n",
       "\tOmega{[}1,2{]} &  0.7839867 & 8.523173e-05 & 1.034004e-02 &  0.76312801 &  0.80360506 & 14717.76050 & 1.0000051\\\\\n",
       "\tOmega{[}1,3{]} &  0.7105894 & 1.001451e-04 & 1.335642e-02 &  0.68361904 &  0.73611615 & 17787.74709 & 0.9999469\\\\\n",
       "\tOmega{[}2,1{]} &  0.7839867 & 8.523173e-05 & 1.034004e-02 &  0.76312801 &  0.80360506 & 14717.76050 & 1.0000051\\\\\n",
       "\tOmega{[}2,2{]} &  1.0000000 &          NaN & 0.000000e+00 &  1.00000000 &  1.00000000 &         NaN &       NaN\\\\\n",
       "\tOmega{[}2,3{]} &  0.7140181 & 9.816468e-05 & 1.344613e-02 &  0.68637155 &  0.73932716 & 18762.22158 & 0.9999262\\\\\n",
       "\tOmega{[}3,1{]} &  0.7105894 & 1.001451e-04 & 1.335642e-02 &  0.68361904 &  0.73611615 & 17787.74709 & 0.9999469\\\\\n",
       "\tOmega{[}3,2{]} &  0.7140181 & 9.816468e-05 & 1.344613e-02 &  0.68637155 &  0.73932716 & 18762.22158 & 0.9999262\\\\\n",
       "\tOmega{[}3,3{]} &  1.0000000 & 5.308071e-18 & 4.459008e-17 &  1.00000000 &  1.00000000 &    70.56724 & 0.9998000\\\\\n",
       "\ta\\_1 & -0.1858100 & 7.024611e-04 & 6.453430e-02 & -0.30930102 & -0.05785888 &  8439.88697 & 1.0000468\\\\\n",
       "\ta\\_2 & -0.2151290 & 7.038331e-04 & 6.482554e-02 & -0.34035265 & -0.08585336 &  8483.06747 & 1.0000276\\\\\n",
       "\ta\\_3 & -0.2029605 & 7.047426e-04 & 6.427717e-02 & -0.32696779 & -0.07436405 &  8318.64225 & 1.0000446\\\\\n",
       "\tbA &  0.7676509 & 8.085270e-04 & 7.991053e-02 &  0.61120302 &  0.92228935 &  9768.29958 & 0.9999851\\\\\n",
       "\tbS & -0.1503416 & 6.446819e-04 & 6.476806e-02 & -0.27648804 & -0.02209479 & 10093.24698 & 1.0000590\\\\\n",
       "\tdeltaS{[}1{]} &  0.5627998 & 1.140911e-03 & 1.898885e-01 &  0.16777430 &  0.90054181 & 27700.91402 & 0.9998817\\\\\n",
       "\tdeltaS{[}2{]} &  0.4372002 & 1.140911e-03 & 1.898885e-01 &  0.09945819 &  0.83222570 & 27700.91402 & 0.9998817\\\\\n",
       "\tdeltaA{[}1{]} &  0.2827568 & 3.526816e-04 & 5.757874e-02 &  0.16858375 &  0.39486608 & 26653.76826 & 0.9998763\\\\\n",
       "\tdeltaA{[}2{]} &  0.7172432 & 3.526816e-04 & 5.757874e-02 &  0.60513392 &  0.83141625 & 26653.76826 & 0.9998763\\\\\n",
       "\\end{tabular}\n"
      ],
      "text/markdown": [
       "\n",
       "A matrix: 21 × 7 of type dbl\n",
       "\n",
       "| <!--/--> | mean | se_mean | sd | 2.5% | 97.5% | n_eff | Rhat |\n",
       "|---|---|---|---|---|---|---|---|\n",
       "| tau[1] |  0.9335513 | 1.337021e-04 | 1.732846e-02 |  0.90047467 |  0.96786687 | 16797.44472 | 0.9998374 |\n",
       "| tau[2] |  0.9579882 | 1.379990e-04 | 1.796740e-02 |  0.92359168 |  0.99378217 | 16951.90269 | 0.9998807 |\n",
       "| tau[3] |  0.9600161 | 1.182463e-04 | 1.721816e-02 |  0.92710544 |  0.99502996 | 21203.06205 | 0.9999525 |\n",
       "| Omega[1,1] |  1.0000000 |          NaN | 0.000000e+00 |  1.00000000 |  1.00000000 |         NaN |       NaN |\n",
       "| Omega[1,2] |  0.7839867 | 8.523173e-05 | 1.034004e-02 |  0.76312801 |  0.80360506 | 14717.76050 | 1.0000051 |\n",
       "| Omega[1,3] |  0.7105894 | 1.001451e-04 | 1.335642e-02 |  0.68361904 |  0.73611615 | 17787.74709 | 0.9999469 |\n",
       "| Omega[2,1] |  0.7839867 | 8.523173e-05 | 1.034004e-02 |  0.76312801 |  0.80360506 | 14717.76050 | 1.0000051 |\n",
       "| Omega[2,2] |  1.0000000 |          NaN | 0.000000e+00 |  1.00000000 |  1.00000000 |         NaN |       NaN |\n",
       "| Omega[2,3] |  0.7140181 | 9.816468e-05 | 1.344613e-02 |  0.68637155 |  0.73932716 | 18762.22158 | 0.9999262 |\n",
       "| Omega[3,1] |  0.7105894 | 1.001451e-04 | 1.335642e-02 |  0.68361904 |  0.73611615 | 17787.74709 | 0.9999469 |\n",
       "| Omega[3,2] |  0.7140181 | 9.816468e-05 | 1.344613e-02 |  0.68637155 |  0.73932716 | 18762.22158 | 0.9999262 |\n",
       "| Omega[3,3] |  1.0000000 | 5.308071e-18 | 4.459008e-17 |  1.00000000 |  1.00000000 |    70.56724 | 0.9998000 |\n",
       "| a_1 | -0.1858100 | 7.024611e-04 | 6.453430e-02 | -0.30930102 | -0.05785888 |  8439.88697 | 1.0000468 |\n",
       "| a_2 | -0.2151290 | 7.038331e-04 | 6.482554e-02 | -0.34035265 | -0.08585336 |  8483.06747 | 1.0000276 |\n",
       "| a_3 | -0.2029605 | 7.047426e-04 | 6.427717e-02 | -0.32696779 | -0.07436405 |  8318.64225 | 1.0000446 |\n",
       "| bA |  0.7676509 | 8.085270e-04 | 7.991053e-02 |  0.61120302 |  0.92228935 |  9768.29958 | 0.9999851 |\n",
       "| bS | -0.1503416 | 6.446819e-04 | 6.476806e-02 | -0.27648804 | -0.02209479 | 10093.24698 | 1.0000590 |\n",
       "| deltaS[1] |  0.5627998 | 1.140911e-03 | 1.898885e-01 |  0.16777430 |  0.90054181 | 27700.91402 | 0.9998817 |\n",
       "| deltaS[2] |  0.4372002 | 1.140911e-03 | 1.898885e-01 |  0.09945819 |  0.83222570 | 27700.91402 | 0.9998817 |\n",
       "| deltaA[1] |  0.2827568 | 3.526816e-04 | 5.757874e-02 |  0.16858375 |  0.39486608 | 26653.76826 | 0.9998763 |\n",
       "| deltaA[2] |  0.7172432 | 3.526816e-04 | 5.757874e-02 |  0.60513392 |  0.83141625 | 26653.76826 | 0.9998763 |\n",
       "\n"
      ],
      "text/plain": [
       "           mean       se_mean      sd           2.5%        97.5%      \n",
       "tau[1]      0.9335513 1.337021e-04 1.732846e-02  0.90047467  0.96786687\n",
       "tau[2]      0.9579882 1.379990e-04 1.796740e-02  0.92359168  0.99378217\n",
       "tau[3]      0.9600161 1.182463e-04 1.721816e-02  0.92710544  0.99502996\n",
       "Omega[1,1]  1.0000000          NaN 0.000000e+00  1.00000000  1.00000000\n",
       "Omega[1,2]  0.7839867 8.523173e-05 1.034004e-02  0.76312801  0.80360506\n",
       "Omega[1,3]  0.7105894 1.001451e-04 1.335642e-02  0.68361904  0.73611615\n",
       "Omega[2,1]  0.7839867 8.523173e-05 1.034004e-02  0.76312801  0.80360506\n",
       "Omega[2,2]  1.0000000          NaN 0.000000e+00  1.00000000  1.00000000\n",
       "Omega[2,3]  0.7140181 9.816468e-05 1.344613e-02  0.68637155  0.73932716\n",
       "Omega[3,1]  0.7105894 1.001451e-04 1.335642e-02  0.68361904  0.73611615\n",
       "Omega[3,2]  0.7140181 9.816468e-05 1.344613e-02  0.68637155  0.73932716\n",
       "Omega[3,3]  1.0000000 5.308071e-18 4.459008e-17  1.00000000  1.00000000\n",
       "a_1        -0.1858100 7.024611e-04 6.453430e-02 -0.30930102 -0.05785888\n",
       "a_2        -0.2151290 7.038331e-04 6.482554e-02 -0.34035265 -0.08585336\n",
       "a_3        -0.2029605 7.047426e-04 6.427717e-02 -0.32696779 -0.07436405\n",
       "bA          0.7676509 8.085270e-04 7.991053e-02  0.61120302  0.92228935\n",
       "bS         -0.1503416 6.446819e-04 6.476806e-02 -0.27648804 -0.02209479\n",
       "deltaS[1]   0.5627998 1.140911e-03 1.898885e-01  0.16777430  0.90054181\n",
       "deltaS[2]   0.4372002 1.140911e-03 1.898885e-01  0.09945819  0.83222570\n",
       "deltaA[1]   0.2827568 3.526816e-04 5.757874e-02  0.16858375  0.39486608\n",
       "deltaA[2]   0.7172432 3.526816e-04 5.757874e-02  0.60513392  0.83141625\n",
       "           n_eff       Rhat     \n",
       "tau[1]     16797.44472 0.9998374\n",
       "tau[2]     16951.90269 0.9998807\n",
       "tau[3]     21203.06205 0.9999525\n",
       "Omega[1,1]         NaN       NaN\n",
       "Omega[1,2] 14717.76050 1.0000051\n",
       "Omega[1,3] 17787.74709 0.9999469\n",
       "Omega[2,1] 14717.76050 1.0000051\n",
       "Omega[2,2]         NaN       NaN\n",
       "Omega[2,3] 18762.22158 0.9999262\n",
       "Omega[3,1] 17787.74709 0.9999469\n",
       "Omega[3,2] 18762.22158 0.9999262\n",
       "Omega[3,3]    70.56724 0.9998000\n",
       "a_1         8439.88697 1.0000468\n",
       "a_2         8483.06747 1.0000276\n",
       "a_3         8318.64225 1.0000446\n",
       "bA          9768.29958 0.9999851\n",
       "bS         10093.24698 1.0000590\n",
       "deltaS[1]  27700.91402 0.9998817\n",
       "deltaS[2]  27700.91402 0.9998817\n",
       "deltaA[1]  26653.76826 0.9998763\n",
       "deltaA[2]  26653.76826 0.9998763"
      ]
     },
     "metadata": {},
     "output_type": "display_data"
    }
   ],
   "source": [
    "pars = c('tau', 'Omega','a_1', 'a_2', 'a_3', 'bA', 'bS', 'deltaS', 'deltaA')\n",
    "results_2 <- summary(model_2, pars = pars, probs = c(0.025, 0.975))$summary\n",
    "results_2"
   ]
  },
  {
   "cell_type": "code",
   "execution_count": 24,
   "id": "e736fe91",
   "metadata": {},
   "outputs": [
    {
     "data": {
      "text/html": [
       "'Proportion less than -0.1 : 0.78005'"
      ],
      "text/latex": [
       "'Proportion less than -0.1 : 0.78005'"
      ],
      "text/markdown": [
       "'Proportion less than -0.1 : 0.78005'"
      ],
      "text/plain": [
       "[1] \"Proportion less than -0.1 : 0.78005\""
      ]
     },
     "metadata": {},
     "output_type": "display_data"
    },
    {
     "data": {
      "text/html": [
       "'Proportion less than -0.05 : 0.93935'"
      ],
      "text/latex": [
       "'Proportion less than -0.05 : 0.93935'"
      ],
      "text/markdown": [
       "'Proportion less than -0.05 : 0.93935'"
      ],
      "text/plain": [
       "[1] \"Proportion less than -0.05 : 0.93935\""
      ]
     },
     "metadata": {},
     "output_type": "display_data"
    },
    {
     "data": {
      "text/html": [
       "'Proportion less than -0.01 : 0.98525'"
      ],
      "text/latex": [
       "'Proportion less than -0.01 : 0.98525'"
      ],
      "text/markdown": [
       "'Proportion less than -0.01 : 0.98525'"
      ],
      "text/plain": [
       "[1] \"Proportion less than -0.01 : 0.98525\""
      ]
     },
     "metadata": {},
     "output_type": "display_data"
    }
   ],
   "source": [
    "prop_below(model_2,-0.1)\n",
    "\n",
    "prop_below(model_2, -0.05)\n",
    "\n",
    "prop_below(model_2, -0.01)"
   ]
  },
  {
   "cell_type": "markdown",
   "id": "07a9bf3e",
   "metadata": {},
   "source": [
    "This model is more confident of a small significant effect of section numbering, with over 98% of the probability mass of the estimate of $\\beta_S$ being less than $-0.01$. There is still quite a lot of uncertainty about the $\\delta^S$ values, though on balance the model still thinks the transition from section 1 to section 2 is a little more significant than the transition from section 2 to section 3, the distinction is slightly smaller than in the previous model."
   ]
  },
  {
   "cell_type": "code",
   "execution_count": 25,
   "id": "890596c3",
   "metadata": {},
   "outputs": [
    {
     "name": "stderr",
     "output_type": "stream",
     "text": [
      "Warning message:\n",
      "\"Some Pareto k diagnostic values are too high. See help('pareto-k-diagnostic') for details.\n",
      "\"\n"
     ]
    },
    {
     "data": {
      "text/plain": [
       "\n",
       "Computed from 20000 by 1674 log-likelihood matrix\n",
       "\n",
       "         Estimate    SE\n",
       "elpd_loo  -5863.4  52.4\n",
       "p_loo       613.9  28.2\n",
       "looic     11726.8 104.8\n",
       "------\n",
       "Monte Carlo SE of elpd_loo is NA.\n",
       "\n",
       "Pareto k diagnostic values:\n",
       "                         Count Pct.    Min. n_eff\n",
       "(-Inf, 0.5]   (good)     1289  77.0%   11260     \n",
       " (0.5, 0.7]   (ok)          0   0.0%   <NA>      \n",
       "   (0.7, 1]   (bad)       234  14.0%   11        \n",
       "   (1, Inf)   (very bad)  151   9.0%   4         \n",
       "See help('pareto-k-diagnostic') for details."
      ]
     },
     "metadata": {},
     "output_type": "display_data"
    }
   ],
   "source": [
    "loo_2 <- loo(model_2)\n",
    "loo_2"
   ]
  },
  {
   "cell_type": "code",
   "execution_count": 26,
   "id": "8582ed6f",
   "metadata": {},
   "outputs": [
    {
     "name": "stderr",
     "output_type": "stream",
     "text": [
      "\u001b[1m\u001b[22m`stat_bin()` using `bins = 30`. Pick better value with `binwidth`.\n"
     ]
    },
    {
     "data": {
      "image/png": "[encoded data removed]",
      "text/plain": [
       "plot without title"
      ]
     },
     "metadata": {
      "image/png": {
       "height": 420,
       "width": 420
      }
     },
     "output_type": "display_data"
    }
   ],
   "source": [
    "stan_hist(model_2, pars = pars)"
   ]
  },
  {
   "cell_type": "markdown",
   "id": "84cc4f66",
   "metadata": {},
   "source": [
    "### Investigating the problematic $k$ values\n",
    "In the $elpd_{loo}$ calculation above there were some problematic high $k$ values, and some extremely low effective sample sizes. The analysis below reveals that the parameters for which the effective sample size is very low ($<100$) are a subset of those for which the $k$ value is high ($>0.5$), and both occur for data points where exam results are imputed. The presence of these high $k$ values makes the $elpd_{loo}$ estimate unreliable, but it should not indicate a problem with the estimates of the parameters not corresponding to imputed data (e.g $\\beta_S$, which is what we're interested in). "
   ]
  },
  {
   "cell_type": "code",
   "execution_count": 27,
   "id": "b937f311",
   "metadata": {},
   "outputs": [],
   "source": [
    "low_n_effs <- which(psis_n_eff_values(loo_2)< 100)\n",
    "\n",
    "indices_1 <- which(is.na(df_m$Score_1_std))\n",
    "indices_2 <- which(is.na(df_m$Score_2_std))\n",
    "indices_3 <- which(is.na(df_m$Score_3_std))\n",
    "\n",
    "NAs = union(union(indices_1, indices_2),indices_3)"
   ]
  },
  {
   "cell_type": "code",
   "execution_count": 28,
   "id": "a17fec43",
   "metadata": {},
   "outputs": [
    {
     "data": {
      "text/html": [
       "385"
      ],
      "text/latex": [
       "385"
      ],
      "text/markdown": [
       "385"
      ],
      "text/plain": [
       "[1] 385"
      ]
     },
     "metadata": {},
     "output_type": "display_data"
    }
   ],
   "source": [
    "length(NAs)"
   ]
  },
  {
   "cell_type": "code",
   "execution_count": 29,
   "id": "fe311d36",
   "metadata": {},
   "outputs": [
    {
     "data": {
      "text/html": [
       "349"
      ],
      "text/latex": [
       "349"
      ],
      "text/markdown": [
       "349"
      ],
      "text/plain": [
       "[1] 349"
      ]
     },
     "metadata": {},
     "output_type": "display_data"
    }
   ],
   "source": [
    "length(low_n_effs)"
   ]
  },
  {
   "cell_type": "code",
   "execution_count": 30,
   "id": "d49f52cf",
   "metadata": {},
   "outputs": [
    {
     "data": {
      "text/html": [
       "349"
      ],
      "text/latex": [
       "349"
      ],
      "text/markdown": [
       "349"
      ],
      "text/plain": [
       "[1] 349"
      ]
     },
     "metadata": {},
     "output_type": "display_data"
    }
   ],
   "source": [
    "length(intersect(NAs, low_n_effs))"
   ]
  },
  {
   "cell_type": "code",
   "execution_count": 31,
   "id": "11d969e2",
   "metadata": {},
   "outputs": [
    {
     "data": {
      "text/html": [
       "385"
      ],
      "text/latex": [
       "385"
      ],
      "text/markdown": [
       "385"
      ],
      "text/plain": [
       "[1] 385"
      ]
     },
     "metadata": {},
     "output_type": "display_data"
    }
   ],
   "source": [
    "high_k <- which(pareto_k_values(loo_2)> 0.5)\n",
    "length(high_k)"
   ]
  },
  {
   "cell_type": "code",
   "execution_count": 32,
   "id": "f4e383e5",
   "metadata": {},
   "outputs": [
    {
     "data": {
      "text/html": [
       "385"
      ],
      "text/latex": [
       "385"
      ],
      "text/markdown": [
       "385"
      ],
      "text/plain": [
       "[1] 385"
      ]
     },
     "metadata": {},
     "output_type": "display_data"
    }
   ],
   "source": [
    "length(intersect(high_k, NAs))"
   ]
  },
  {
   "cell_type": "code",
   "execution_count": 33,
   "id": "33b118a6",
   "metadata": {},
   "outputs": [
    {
     "data": {
      "text/html": [
       "349"
      ],
      "text/latex": [
       "349"
      ],
      "text/markdown": [
       "349"
      ],
      "text/plain": [
       "[1] 349"
      ]
     },
     "metadata": {},
     "output_type": "display_data"
    }
   ],
   "source": [
    "length(intersect(high_k, low_n_effs))"
   ]
  },
  {
   "cell_type": "markdown",
   "id": "dd6dad82",
   "metadata": {},
   "source": [
    "### 5. Conclusions<a id='conc'></a>\n",
    "Combining the data into a single more sophisticated model provides stronger evidence for an effect of section numbering than the were obtained in the 1st notebook (dealing with Y2 data), and toned down the claims of the best model from the 2nd notebook (dealing with Y1 data). Our first model here (without imputation) is fairly confident of a small effect of section numbering, without breaching the mystical 5% significance level. The second model (with imputation) is more confident, with over 98% of the probability mass of the $\\beta_S$ estimate being below -0.01. \n",
    "\n",
    "It's worth noting that the effect sizes here are all quite small, with mean $\\beta_S$ estimate from the imputation model being around -0.15. This is 'plausibly small', and fits in with the classical power analyses from the 1st and 2nd notebooks which provided evidence against effect sizes larger than around $d= 0.2$ to $0.3$.\n",
    "\n",
    "For reference, the calculation from the first notebook indicates a standard deviation for exam scores of around 20 points. So. on the outcome scale, using the mean estimates the $\\beta_S=0.15$ and $\\delta^S=(0.56,0.44)$, a student in section 1 will, as a rough average, score an additional 1.7 points on an exam over a section 2 student, and 3 marks over a section 3 student, purely by virtue of having been placed in section 1. For a more detailed analysis, below is a plot on the outcome scale using the simulated draws from the posteriors of $\\beta_S$ and $\\delta^S$, along with a standard deviation for exam results calculated by pooling all the available exam data (on the assumption that the populations have the same standard deviation).   \n",
    "\n"
   ]
  },
  {
   "cell_type": "code",
   "execution_count": 34,
   "id": "dee566e5",
   "metadata": {},
   "outputs": [
    {
     "data": {
      "image/png": "[encoded data removed]",
      "text/plain": [
       "Plot with title \"\""
      ]
     },
     "metadata": {
      "image/png": {
       "height": 420,
       "width": 420
      }
     },
     "output_type": "display_data"
    },
    {
     "data": {
      "image/png": "[encoded data removed]",
      "text/plain": [
       "Plot with title \"\""
      ]
     },
     "metadata": {
      "image/png": {
       "height": 420,
       "width": 420
      }
     },
     "output_type": "display_data"
    }
   ],
   "source": [
    "draws <- extract(model_2, pars = c('bS', 'deltaS'), permuted = TRUE, inc_warmup = FALSE,\n",
    "  include = TRUE)\n",
    "\n",
    "s <- sd(c(df_base$Score_1, df_base$Score_2, df_base$Score_3), na.rm = TRUE)\n",
    "\n",
    "diff_S2 <- density(draws$bS * draws$deltaS[,1] * s) \n",
    "\n",
    "diff_S3 <- density(draws$bS * s) \n",
    "\n",
    "plot(diff_S2, ylab = \"density\", xlab = 'sampled score difference S1 and S2', main ='')\n",
    "\n",
    "plot(diff_S3, ylab = \"density\", xlab = 'sampled score difference S1 and S3', main ='')"
   ]
  },
  {
   "cell_type": "markdown",
   "id": "ba7c3710",
   "metadata": {},
   "source": [
    "This expands on the rough calculation from the previous paragraph. Our model is quite confident of a small effect of section numbering on student outcome, after accounting for academic selection. Is this enough to warrant a change in policy? Well, as discussed in the conclusions to the first notebook, we cannot answer this question without taking into account the cost of being wrong. It seems to me that students randomly assigned to section 1 probably getting, on average, roughly 3 extra marks on exams compared to students similarly assigned to section 3 is potentially a problem. We have not thoroughly investigated the causes of this difference, so it remains possible that it is 'fair' according to some mechanism we have not considered, and also of course the model allows there to be no difference, or even a difference flipped the other way, though it assigns a relatively low probability to this. \n",
    "\n",
    "The idea of 'fairness' here also deserves some attention. If the effect described by our model here is indeed real, then quite possibly it arises from some kind of psychological conditioning of the students. By which I mean, students in section 1 may end up working slightly harder, on average, than their peers in section 3, and that this difference in attitude and effort accounts for the difference in outcomes. If this were the case, describing the advantage as 'unfair' may seem a little strange, given that ultimately the difference arises from the students' own efforts and capabilities on the occasions of the exams. However, I would argue that setting one group of students up with a (small) psychological advantage over another by an essentially random mechanism is unfair. As an extreme example to illustrate the point, imagine assigning students randomly into two groups, and encouraging one group of students in their studies while telling the other group that their efforts are useless and that they can never be successful. Come exam day the first group would quite likely be better prepared for the exam and do better on it, but at the same time most people would likely agree that the situation was unfair on the second group. If in our case the students in lower numbered sections do derive some small but noticeable psychological advantage over students in higher numbered sections, then this seems to me to be wrong for a similar reason, though obviously to a lesser degree. We should work to ensure a level playing field for our students. This is not always possible, and there are many relevant variables that we are not able to control that may disadvantage some students over others. But since we can quite easily control this, it seems at least reasonable to think about doing so.       \n",
    "\n",
    "So, assuming the advantage of students with lower section numbers here is real and not 'fair' by some unknown mechanism, the cost of being wrong by doing nothing is that unfairness remains embedded in the system, systematically slightly disadvantaging students from higher numbered sections for years to come.       \n",
    "\n",
    "On the other hand, if the effect is much smaller than the model suspects, the cost of being wrong by making a change is the administrative work in changing the existing nomenclature. There is also the possibility of introducing some naming scheme that introduces a problem (either the same as discussed here or a new, unforeseen issue).  \n",
    "\n",
    "I am not an administrator, so I can't fully count the costs of changing existing naming systems, but at the very least I would be wary of using similar systems in the future. As always, more data could likely add clarity. Further study, etc. etc."
   ]
  }
 ],
 "metadata": {
  "kernelspec": {
   "display_name": "R",
   "language": "R",
   "name": "ir"
  },
  "language_info": {
   "codemirror_mode": "r",
   "file_extension": ".r",
   "mimetype": "text/x-r-source",
   "name": "R",
   "pygments_lexer": "r",
   "version": "4.2.2"
  }
 },
 "nbformat": 4,
 "nbformat_minor": 5
}
